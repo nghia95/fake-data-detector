{
 "cells": [
  {
   "cell_type": "code",
   "execution_count": 1,
   "metadata": {},
   "outputs": [],
   "source": [
    "import os\n",
    "import time\n",
    "import pandas as pd\n",
    "import numpy as np\n",
    "import seaborn as sns\n",
    "import matplotlib.pyplot as plt\n",
    "%matplotlib inline\n",
    "\n",
    "import string\n",
    "import nltk\n",
    "from nltk.corpus import wordnet, cmudict, stopwords\n",
    "from nltk.tokenize import word_tokenize\n",
    "from nltk.stem import WordNetLemmatizer\n",
    "#nltk.download('punkt')\n",
    "#nltk.download('punkt_tab')\n",
    "#nltk.download('stopwords')\n",
    "#nltk.download('wordnet')\n",
    "\n",
    "from textblob import TextBlob\n",
    "from gensim.models import LsiModel\n",
    "from gensim import corpora\n",
    "from gensim.models.coherencemodel import CoherenceModel\n",
    "from collections import Counter\n",
    "import textstat\n",
    "\n",
    "from sklearn.model_selection import train_test_split\n",
    "from sklearn.preprocessing import StandardScaler\n"
   ]
  },
  {
   "cell_type": "code",
   "execution_count": 2,
   "metadata": {},
   "outputs": [
    {
     "data": {
      "text/html": [
       "<div>\n",
       "<style scoped>\n",
       "    .dataframe tbody tr th:only-of-type {\n",
       "        vertical-align: middle;\n",
       "    }\n",
       "\n",
       "    .dataframe tbody tr th {\n",
       "        vertical-align: top;\n",
       "    }\n",
       "\n",
       "    .dataframe thead th {\n",
       "        text-align: right;\n",
       "    }\n",
       "</style>\n",
       "<table border=\"1\" class=\"dataframe\">\n",
       "  <thead>\n",
       "    <tr style=\"text-align: right;\">\n",
       "      <th></th>\n",
       "      <th>text</th>\n",
       "      <th>source</th>\n",
       "      <th>prompt_id</th>\n",
       "      <th>text_length</th>\n",
       "      <th>word_count</th>\n",
       "    </tr>\n",
       "  </thead>\n",
       "  <tbody>\n",
       "    <tr>\n",
       "      <th>0</th>\n",
       "      <td>The Philosophy and Ethics of Transhumanism\\n\\n...</td>\n",
       "      <td>GPT-3.5</td>\n",
       "      <td>1920</td>\n",
       "      <td>2558</td>\n",
       "      <td>394</td>\n",
       "    </tr>\n",
       "    <tr>\n",
       "      <th>1</th>\n",
       "      <td>Crime-tracking app Citizen is launching its ow...</td>\n",
       "      <td>Flan-T5-XXL</td>\n",
       "      <td>0</td>\n",
       "      <td>378</td>\n",
       "      <td>62</td>\n",
       "    </tr>\n",
       "    <tr>\n",
       "      <th>2</th>\n",
       "      <td>The court in Novorossiysk gave two of the danc...</td>\n",
       "      <td>GLM-130B</td>\n",
       "      <td>0</td>\n",
       "      <td>621</td>\n",
       "      <td>109</td>\n",
       "    </tr>\n",
       "    <tr>\n",
       "      <th>3</th>\n",
       "      <td>then drops the drumsticks, poses, then walks o...</td>\n",
       "      <td>GPT-J</td>\n",
       "      <td>0</td>\n",
       "      <td>513</td>\n",
       "      <td>90</td>\n",
       "    </tr>\n",
       "    <tr>\n",
       "      <th>4</th>\n",
       "      <td>On tally went to the beach. She found a sand d...</td>\n",
       "      <td>GPT-J</td>\n",
       "      <td>0</td>\n",
       "      <td>4984</td>\n",
       "      <td>846</td>\n",
       "    </tr>\n",
       "  </tbody>\n",
       "</table>\n",
       "</div>"
      ],
      "text/plain": [
       "                                                text       source  prompt_id  \\\n",
       "0  The Philosophy and Ethics of Transhumanism\\n\\n...      GPT-3.5       1920   \n",
       "1  Crime-tracking app Citizen is launching its ow...  Flan-T5-XXL          0   \n",
       "2  The court in Novorossiysk gave two of the danc...     GLM-130B          0   \n",
       "3  then drops the drumsticks, poses, then walks o...        GPT-J          0   \n",
       "4  On tally went to the beach. She found a sand d...        GPT-J          0   \n",
       "\n",
       "   text_length  word_count  \n",
       "0         2558         394  \n",
       "1          378          62  \n",
       "2          621         109  \n",
       "3          513          90  \n",
       "4         4984         846  "
      ]
     },
     "execution_count": 2,
     "metadata": {},
     "output_type": "execute_result"
    }
   ],
   "source": [
    "data = pd.read_csv(\"/home/eetil1818/code/nghia95/fake-data-detector/raw_data/1k_sampled_dataset.csv\")\n",
    "data.head()"
   ]
  },
  {
   "cell_type": "markdown",
   "metadata": {},
   "source": [
    "# Data Exploration"
   ]
  },
  {
   "cell_type": "code",
   "execution_count": 3,
   "metadata": {},
   "outputs": [
    {
     "data": {
      "text/html": [
       "<div>\n",
       "<style scoped>\n",
       "    .dataframe tbody tr th:only-of-type {\n",
       "        vertical-align: middle;\n",
       "    }\n",
       "\n",
       "    .dataframe tbody tr th {\n",
       "        vertical-align: top;\n",
       "    }\n",
       "\n",
       "    .dataframe thead th {\n",
       "        text-align: right;\n",
       "    }\n",
       "</style>\n",
       "<table border=\"1\" class=\"dataframe\">\n",
       "  <thead>\n",
       "    <tr style=\"text-align: right;\">\n",
       "      <th></th>\n",
       "      <th>text</th>\n",
       "      <th>source</th>\n",
       "      <th>text_length</th>\n",
       "      <th>word_count</th>\n",
       "    </tr>\n",
       "  </thead>\n",
       "  <tbody>\n",
       "    <tr>\n",
       "      <th>0</th>\n",
       "      <td>The Philosophy and Ethics of Transhumanism\\n\\n...</td>\n",
       "      <td>AI</td>\n",
       "      <td>2558</td>\n",
       "      <td>394</td>\n",
       "    </tr>\n",
       "    <tr>\n",
       "      <th>1</th>\n",
       "      <td>Crime-tracking app Citizen is launching its ow...</td>\n",
       "      <td>AI</td>\n",
       "      <td>378</td>\n",
       "      <td>62</td>\n",
       "    </tr>\n",
       "    <tr>\n",
       "      <th>2</th>\n",
       "      <td>The court in Novorossiysk gave two of the danc...</td>\n",
       "      <td>AI</td>\n",
       "      <td>621</td>\n",
       "      <td>109</td>\n",
       "    </tr>\n",
       "    <tr>\n",
       "      <th>3</th>\n",
       "      <td>then drops the drumsticks, poses, then walks o...</td>\n",
       "      <td>AI</td>\n",
       "      <td>513</td>\n",
       "      <td>90</td>\n",
       "    </tr>\n",
       "    <tr>\n",
       "      <th>4</th>\n",
       "      <td>On tally went to the beach. She found a sand d...</td>\n",
       "      <td>AI</td>\n",
       "      <td>4984</td>\n",
       "      <td>846</td>\n",
       "    </tr>\n",
       "  </tbody>\n",
       "</table>\n",
       "</div>"
      ],
      "text/plain": [
       "                                                text source  text_length  \\\n",
       "0  The Philosophy and Ethics of Transhumanism\\n\\n...     AI         2558   \n",
       "1  Crime-tracking app Citizen is launching its ow...     AI          378   \n",
       "2  The court in Novorossiysk gave two of the danc...     AI          621   \n",
       "3  then drops the drumsticks, poses, then walks o...     AI          513   \n",
       "4  On tally went to the beach. She found a sand d...     AI         4984   \n",
       "\n",
       "   word_count  \n",
       "0         394  \n",
       "1          62  \n",
       "2         109  \n",
       "3          90  \n",
       "4         846  "
      ]
     },
     "execution_count": 3,
     "metadata": {},
     "output_type": "execute_result"
    }
   ],
   "source": [
    "df = data.copy()\n",
    "df[\"source\"] = df[\"source\"].apply(lambda x: \"AI\" if x != \"Human\" else x)\n",
    "df.drop(columns=\"prompt_id\", inplace=True)\n",
    "df.head()"
   ]
  },
  {
   "cell_type": "code",
   "execution_count": 4,
   "metadata": {},
   "outputs": [
    {
     "data": {
      "text/plain": [
       "source\n",
       "Human    0.559\n",
       "AI       0.441\n",
       "Name: proportion, dtype: float64"
      ]
     },
     "execution_count": 4,
     "metadata": {},
     "output_type": "execute_result"
    }
   ],
   "source": [
    "df[\"source\"].value_counts(normalize=True)"
   ]
  },
  {
   "cell_type": "code",
   "execution_count": 5,
   "metadata": {},
   "outputs": [
    {
     "name": "stdout",
     "output_type": "stream",
     "text": [
      "<class 'pandas.core.frame.DataFrame'>\n",
      "RangeIndex: 1000 entries, 0 to 999\n",
      "Data columns (total 4 columns):\n",
      " #   Column       Non-Null Count  Dtype \n",
      "---  ------       --------------  ----- \n",
      " 0   text         1000 non-null   object\n",
      " 1   source       1000 non-null   object\n",
      " 2   text_length  1000 non-null   int64 \n",
      " 3   word_count   1000 non-null   int64 \n",
      "dtypes: int64(2), object(2)\n",
      "memory usage: 31.4+ KB\n"
     ]
    }
   ],
   "source": [
    "df.info()"
   ]
  },
  {
   "cell_type": "code",
   "execution_count": 6,
   "metadata": {},
   "outputs": [
    {
     "data": {
      "image/png": "[encoded data removed]",
      "text/plain": [
       "<Figure size 1000x500 with 2 Axes>"
      ]
     },
     "metadata": {},
     "output_type": "display_data"
    }
   ],
   "source": [
    "fig, axes = plt.subplots(1, 2, figsize=(10, 5))\n",
    "\n",
    "axes[0].hist(df[\"text_length\"], bins=20, edgecolor=\"black\")\n",
    "axes[0].set_title(\"Text Length Distribution\")\n",
    "axes[0].set_xlabel(\"Text Length\")\n",
    "axes[0].set_ylabel(\"Frequency\")\n",
    "\n",
    "axes[1].hist(df[\"word_count\"], bins=20, edgecolor=\"black\")\n",
    "axes[1].set_title(\"Word Count Distribution\")\n",
    "axes[1].set_xlabel(\"Word Count\")\n",
    "axes[1].set_ylabel(\"Frequency\")\n",
    "\n",
    "plt.show()\n"
   ]
  },
  {
   "cell_type": "code",
   "execution_count": 7,
   "metadata": {},
   "outputs": [
    {
     "data": {
      "text/html": [
       "<div>\n",
       "<style scoped>\n",
       "    .dataframe tbody tr th:only-of-type {\n",
       "        vertical-align: middle;\n",
       "    }\n",
       "\n",
       "    .dataframe tbody tr th {\n",
       "        vertical-align: top;\n",
       "    }\n",
       "\n",
       "    .dataframe thead th {\n",
       "        text-align: right;\n",
       "    }\n",
       "</style>\n",
       "<table border=\"1\" class=\"dataframe\">\n",
       "  <thead>\n",
       "    <tr style=\"text-align: right;\">\n",
       "      <th></th>\n",
       "      <th>text</th>\n",
       "      <th>source</th>\n",
       "      <th>text_length</th>\n",
       "      <th>word_count</th>\n",
       "      <th>contains_numbers</th>\n",
       "      <th>contains_special_chars</th>\n",
       "    </tr>\n",
       "  </thead>\n",
       "  <tbody>\n",
       "    <tr>\n",
       "      <th>0</th>\n",
       "      <td>The Philosophy and Ethics of Transhumanism\\n\\n...</td>\n",
       "      <td>AI</td>\n",
       "      <td>2558</td>\n",
       "      <td>394</td>\n",
       "      <td>False</td>\n",
       "      <td>True</td>\n",
       "    </tr>\n",
       "    <tr>\n",
       "      <th>1</th>\n",
       "      <td>Crime-tracking app Citizen is launching its ow...</td>\n",
       "      <td>AI</td>\n",
       "      <td>378</td>\n",
       "      <td>62</td>\n",
       "      <td>True</td>\n",
       "      <td>True</td>\n",
       "    </tr>\n",
       "    <tr>\n",
       "      <th>2</th>\n",
       "      <td>The court in Novorossiysk gave two of the danc...</td>\n",
       "      <td>AI</td>\n",
       "      <td>621</td>\n",
       "      <td>109</td>\n",
       "      <td>True</td>\n",
       "      <td>True</td>\n",
       "    </tr>\n",
       "    <tr>\n",
       "      <th>3</th>\n",
       "      <td>then drops the drumsticks, poses, then walks o...</td>\n",
       "      <td>AI</td>\n",
       "      <td>513</td>\n",
       "      <td>90</td>\n",
       "      <td>True</td>\n",
       "      <td>True</td>\n",
       "    </tr>\n",
       "    <tr>\n",
       "      <th>4</th>\n",
       "      <td>On tally went to the beach. She found a sand d...</td>\n",
       "      <td>AI</td>\n",
       "      <td>4984</td>\n",
       "      <td>846</td>\n",
       "      <td>False</td>\n",
       "      <td>True</td>\n",
       "    </tr>\n",
       "  </tbody>\n",
       "</table>\n",
       "</div>"
      ],
      "text/plain": [
       "                                                text source  text_length  \\\n",
       "0  The Philosophy and Ethics of Transhumanism\\n\\n...     AI         2558   \n",
       "1  Crime-tracking app Citizen is launching its ow...     AI          378   \n",
       "2  The court in Novorossiysk gave two of the danc...     AI          621   \n",
       "3  then drops the drumsticks, poses, then walks o...     AI          513   \n",
       "4  On tally went to the beach. She found a sand d...     AI         4984   \n",
       "\n",
       "   word_count  contains_numbers  contains_special_chars  \n",
       "0         394             False                    True  \n",
       "1          62              True                    True  \n",
       "2         109              True                    True  \n",
       "3          90              True                    True  \n",
       "4         846             False                    True  "
      ]
     },
     "execution_count": 7,
     "metadata": {},
     "output_type": "execute_result"
    }
   ],
   "source": [
    "# Check if text column contains numbers and special characters\n",
    "\n",
    "df[\"contains_numbers\"] = df[\"text\"].str.contains(r\"\\d\", regex=True)\n",
    "df[\"contains_special_chars\"] = df[\"text\"].str.contains(r\"[^\\w\\s]\", regex=True)\n",
    "\n",
    "df.head()"
   ]
  },
  {
   "cell_type": "code",
   "execution_count": 8,
   "metadata": {},
   "outputs": [
    {
     "data": {
      "image/png": "[encoded data removed]",
      "text/plain": [
       "<Figure size 1000x400 with 2 Axes>"
      ]
     },
     "metadata": {},
     "output_type": "display_data"
    }
   ],
   "source": [
    "fig, axes = plt.subplots(1, 2, figsize=(10, 4))\n",
    "\n",
    "sns.barplot(x=df[\"source\"], y=df[\"contains_numbers\"], ax=axes[0])\n",
    "axes[0].set_title(\"Text Containing Number Proportion\")\n",
    "\n",
    "sns.barplot(x=df[\"source\"], y=df[\"contains_special_chars\"], ax=axes[1])\n",
    "axes[1].set_title(\"Text Containing Special Chars Proportion\")\n",
    "\n",
    "plt.tight_layout();"
   ]
  },
  {
   "cell_type": "code",
   "execution_count": 9,
   "metadata": {},
   "outputs": [
    {
     "data": {
      "text/plain": [
       "contains_numbers\n",
       "True     634\n",
       "False    366\n",
       "Name: count, dtype: int64"
      ]
     },
     "execution_count": 9,
     "metadata": {},
     "output_type": "execute_result"
    }
   ],
   "source": [
    "df[\"contains_numbers\"].value_counts()"
   ]
  },
  {
   "cell_type": "code",
   "execution_count": 10,
   "metadata": {},
   "outputs": [
    {
     "data": {
      "text/plain": [
       "contains_special_chars\n",
       "True     999\n",
       "False      1\n",
       "Name: count, dtype: int64"
      ]
     },
     "execution_count": 10,
     "metadata": {},
     "output_type": "execute_result"
    }
   ],
   "source": [
    "df[\"contains_special_chars\"].value_counts()"
   ]
  },
  {
   "cell_type": "code",
   "execution_count": 11,
   "metadata": {},
   "outputs": [
    {
     "data": {
      "text/plain": [
       "'On tally went to the beach. She found a sand dollar along the shore. She didn\\'t know what to do with it. She asked people along the beach if they knew how she could get rid of her pain, but everyone had an idea except for one man who stood onshore and said that he knew nothing about such things. She was worried because every day her mother remained in bed longer than usual. The days were hot now so long as her mother remained indoors. Her friend\\'s father took her home just before noon when his shift ended at two o\\'clock. At nightfall while waiting for him to return from work, Anna fell asleep across doorsills where cooks walked up and down bringing food or going out looking for something else to eat. Her mother moaned all through their walk back to Mijas until they reached the house. This time nobody came and no-one opened the door. Silence reigned inside too. \"I\\'m getting cold,\" her mother kept repeating. \"You\\'ll have to keep me warm.\" In vain did she try to lift herself off the mattress; in vain did she call out to someone: somebody would appear only to tell her there was no doctor coming to see her today, tomorrow perhaps. Anna felt alone now. Alone without a soul around them. Nobody ate anything. There wasn\\'t even any bread left for themselves anymore after the last loaf disappeared into the mouths of those who lived inside. No water either since neither Chus nor Rita drank enough. And besides, Rita got so upset whenever anyone mentioned drinking anything that none dared ask her whether she wanted some tea or coffee or lemonade to ward off illness. Or why not? Lemonade might make you feel better anyway - Rita always put this thought forward. But soon afterwards she\\'d become angry again and shout angrily at whoever suggested taking her cup away. Why take my mierda (shit) away from me! What are you doing here anyway? I don\\'t want your fucking shit in this place!\" Mijas became like a town under siege. Not everybody stayed at home. Some of the men began working elsewhere, including Chus. Others died early morning deaths and others continued living. Only the women refused to move or leave their houses. As for the children, they played outside whatever the weather. They weren\\'t bothered by hunger, which hadn\\'t yet entered their little bodies. It wouldn\\'t be until later that they\\'d learn how much courage it takes to survive on very little. Even then they wouldn\\'t understand. For now boys like Oriol cared more about building sandcastles than trying to save a drowning cat lying motionless near the sea wall that separated the beach from the park. Girls and girls alike whiled away the hours playing hide and seek amongst rocks, among bushes, in cork trees, where once the previous summer they\\'d caught lizards skidding over dry leaves. Sometimes they climbed onto pieces of luggage that stuck up against walls or roof tiles, or perched on empty beer kegs emptied for draining purposes. That afternoon after school let out, the boy arrived at the apartment wearing shorts instead of trousers though it had come dark by then. He told Sirena that on his way back he stopped at Don Eduardo\\'s flat, next to the cathedral, and saw first Chloe passing in front of the window. Then the lady appeared at the balcony opening followed shortly by Olivier. He also related to Sirena that both of them spoke together, holding hands briefly before parting ways. By chance Sirena happened to overhear bits of conversation between them. First Olivier invited Chloe down, saying: \"Come on, my darling, we\\'re leaving right away.\" Seconds later she replied: \"Yes, yes, go ahead, we\\'ll follow you.\" Finally, and unexpectedly, Olivier said goodbye, walking slowly towards the exit, leaning heavily on the railing. His eyes focused squarely straight ahead but barely registering the few cars screeching past on Avenida de la Paz. No sooner had he closed the heavy metal gate behind him than he slumped backward on top of the thick stone archway\\'s parapet edge, clutching its iron bars tightly round his body, banging himself hard against these sturdy supports several times before sliding silently to the ground below. A moment earlier the woman sounded loudest, most urgent especially when Chloe answered almost immediately: Yes, yes...go ahead...follow us. Sirena couldn\\'t help wondering what exactly had been happening on the other side of the glass window. Had she seen him talking money to Chloe or simply handing over cash bills to the girl? Maybe Olivier had offered her a share of the winnings. Hadn\\'t Domingo said Chloe sometimes accompanied the couple on trips to casinos? Was the girl using this opportunity to rob them? If so, maybe that explains everything, Sirena concluded. Blondie must\\'ve killed Olivier in order to steal the loot. So when Chloe announced surprisingly calmly: \"Let\\'s go,\" the blonde took over half a carousel considered serious business. If indeed, another real estate matterrattensay viable policymakers of having taken republittense'"
      ]
     },
     "execution_count": 11,
     "metadata": {},
     "output_type": "execute_result"
    }
   ],
   "source": [
    "# checking one of the text that contains special chars\n",
    "\n",
    "df[df[\"contains_special_chars\"] == True][\"text\"].iloc[4]"
   ]
  },
  {
   "cell_type": "markdown",
   "metadata": {},
   "source": [
    "# Data Cleaning"
   ]
  },
  {
   "cell_type": "code",
   "execution_count": null,
   "metadata": {},
   "outputs": [],
   "source": [
    "symbols_to_keep = {\"$\", \"-\", \"%\"}\n",
    "\n",
    "def text_cleaning(text):\n",
    "    \"\"\"Clean text but preserve some symbols and numbers.\"\"\"\n",
    "    text = text.lower() # Turn to all lowercase\n",
    "    text = text.strip() # Remove whitespace\n",
    "    text = \" \".join(text.split()) # Remove multiple spaces\n",
    "\n",
    "    text_clean = []\n",
    "\n",
    "    for char in text:\n",
    "        if char not in string.punctuation or char in symbols_to_keep:\n",
    "            text_clean.append(char)  # Keep numbers and allowed symbols\n",
    "        else:\n",
    "            text_clean.append(\"\")  # Replace other punctuation with space/nothing\n",
    "\n",
    "    text_clean = \"\".join(text_clean)\n",
    "\n",
    "    tokenized = word_tokenize(text_clean)\n",
    "    lemmatizer = WordNetLemmatizer()\n",
    "    lemmatized = [lemmatizer.lemmatize(word) for word in tokenized]\n",
    "    cleaned_text = \" \".join(lemmatized)\n",
    "\n",
    "    return cleaned_text\n"
   ]
  },
  {
   "cell_type": "code",
   "execution_count": 13,
   "metadata": {},
   "outputs": [
    {
     "data": {
      "text/html": [
       "<div>\n",
       "<style scoped>\n",
       "    .dataframe tbody tr th:only-of-type {\n",
       "        vertical-align: middle;\n",
       "    }\n",
       "\n",
       "    .dataframe tbody tr th {\n",
       "        vertical-align: top;\n",
       "    }\n",
       "\n",
       "    .dataframe thead th {\n",
       "        text-align: right;\n",
       "    }\n",
       "</style>\n",
       "<table border=\"1\" class=\"dataframe\">\n",
       "  <thead>\n",
       "    <tr style=\"text-align: right;\">\n",
       "      <th></th>\n",
       "      <th>text</th>\n",
       "      <th>source</th>\n",
       "      <th>text_length</th>\n",
       "      <th>word_count</th>\n",
       "    </tr>\n",
       "  </thead>\n",
       "  <tbody>\n",
       "    <tr>\n",
       "      <th>0</th>\n",
       "      <td>The Philosophy and Ethics of Transhumanism\\n\\n...</td>\n",
       "      <td>AI</td>\n",
       "      <td>2558</td>\n",
       "      <td>394</td>\n",
       "    </tr>\n",
       "    <tr>\n",
       "      <th>1</th>\n",
       "      <td>Crime-tracking app Citizen is launching its ow...</td>\n",
       "      <td>AI</td>\n",
       "      <td>378</td>\n",
       "      <td>62</td>\n",
       "    </tr>\n",
       "    <tr>\n",
       "      <th>2</th>\n",
       "      <td>The court in Novorossiysk gave two of the danc...</td>\n",
       "      <td>AI</td>\n",
       "      <td>621</td>\n",
       "      <td>109</td>\n",
       "    </tr>\n",
       "    <tr>\n",
       "      <th>3</th>\n",
       "      <td>then drops the drumsticks, poses, then walks o...</td>\n",
       "      <td>AI</td>\n",
       "      <td>513</td>\n",
       "      <td>90</td>\n",
       "    </tr>\n",
       "    <tr>\n",
       "      <th>4</th>\n",
       "      <td>On tally went to the beach. She found a sand d...</td>\n",
       "      <td>AI</td>\n",
       "      <td>4984</td>\n",
       "      <td>846</td>\n",
       "    </tr>\n",
       "  </tbody>\n",
       "</table>\n",
       "</div>"
      ],
      "text/plain": [
       "                                                text source  text_length  \\\n",
       "0  The Philosophy and Ethics of Transhumanism\\n\\n...     AI         2558   \n",
       "1  Crime-tracking app Citizen is launching its ow...     AI          378   \n",
       "2  The court in Novorossiysk gave two of the danc...     AI          621   \n",
       "3  then drops the drumsticks, poses, then walks o...     AI          513   \n",
       "4  On tally went to the beach. She found a sand d...     AI         4984   \n",
       "\n",
       "   word_count  \n",
       "0         394  \n",
       "1          62  \n",
       "2         109  \n",
       "3          90  \n",
       "4         846  "
      ]
     },
     "execution_count": 13,
     "metadata": {},
     "output_type": "execute_result"
    }
   ],
   "source": [
    "df_clean = df.drop(columns=[\"contains_numbers\", \"contains_special_chars\"])\n",
    "df_clean.head()"
   ]
  },
  {
   "cell_type": "code",
   "execution_count": 84,
   "metadata": {},
   "outputs": [],
   "source": [
    "df_clean[\"clean_text\"] = df_clean[\"text\"].apply(text_cleaning)\n",
    "\n",
    "# Add new columns to label, calculate char and words in the cleaned_text\n",
    "df_clean[\"label\"] = df_clean[\"source\"].apply(lambda x: 1 if x == \"AI\" else 0) #AI=1, Human=0\n",
    "df_clean[\"clean_text_len\"] = df_clean[\"clean_text\"].str.len()\n",
    "df_clean[\"clean_word_count\"] = df_clean[\"clean_text\"].str.split().apply(len)"
   ]
  },
  {
   "cell_type": "code",
   "execution_count": 15,
   "metadata": {},
   "outputs": [
    {
     "data": {
      "text/html": [
       "<div>\n",
       "<style scoped>\n",
       "    .dataframe tbody tr th:only-of-type {\n",
       "        vertical-align: middle;\n",
       "    }\n",
       "\n",
       "    .dataframe tbody tr th {\n",
       "        vertical-align: top;\n",
       "    }\n",
       "\n",
       "    .dataframe thead th {\n",
       "        text-align: right;\n",
       "    }\n",
       "</style>\n",
       "<table border=\"1\" class=\"dataframe\">\n",
       "  <thead>\n",
       "    <tr style=\"text-align: right;\">\n",
       "      <th></th>\n",
       "      <th>text</th>\n",
       "      <th>source</th>\n",
       "      <th>text_length</th>\n",
       "      <th>word_count</th>\n",
       "      <th>clean_text</th>\n",
       "      <th>label</th>\n",
       "      <th>clean_text_len</th>\n",
       "      <th>clean_word_count</th>\n",
       "    </tr>\n",
       "  </thead>\n",
       "  <tbody>\n",
       "    <tr>\n",
       "      <th>0</th>\n",
       "      <td>The Philosophy and Ethics of Transhumanism\\n\\n...</td>\n",
       "      <td>AI</td>\n",
       "      <td>2558</td>\n",
       "      <td>394</td>\n",
       "      <td>the philosophy and ethic of transhumanism tran...</td>\n",
       "      <td>1</td>\n",
       "      <td>2462</td>\n",
       "      <td>394</td>\n",
       "    </tr>\n",
       "    <tr>\n",
       "      <th>1</th>\n",
       "      <td>Crime-tracking app Citizen is launching its ow...</td>\n",
       "      <td>AI</td>\n",
       "      <td>378</td>\n",
       "      <td>62</td>\n",
       "      <td>crime-tracking app citizen is launching it own...</td>\n",
       "      <td>1</td>\n",
       "      <td>363</td>\n",
       "      <td>62</td>\n",
       "    </tr>\n",
       "    <tr>\n",
       "      <th>2</th>\n",
       "      <td>The court in Novorossiysk gave two of the danc...</td>\n",
       "      <td>AI</td>\n",
       "      <td>621</td>\n",
       "      <td>109</td>\n",
       "      <td>the court in novorossiysk gave two of the danc...</td>\n",
       "      <td>1</td>\n",
       "      <td>594</td>\n",
       "      <td>109</td>\n",
       "    </tr>\n",
       "  </tbody>\n",
       "</table>\n",
       "</div>"
      ],
      "text/plain": [
       "                                                text source  text_length  \\\n",
       "0  The Philosophy and Ethics of Transhumanism\\n\\n...     AI         2558   \n",
       "1  Crime-tracking app Citizen is launching its ow...     AI          378   \n",
       "2  The court in Novorossiysk gave two of the danc...     AI          621   \n",
       "\n",
       "   word_count                                         clean_text  label  \\\n",
       "0         394  the philosophy and ethic of transhumanism tran...      1   \n",
       "1          62  crime-tracking app citizen is launching it own...      1   \n",
       "2         109  the court in novorossiysk gave two of the danc...      1   \n",
       "\n",
       "   clean_text_len  clean_word_count  \n",
       "0            2462               394  \n",
       "1             363                62  \n",
       "2             594               109  "
      ]
     },
     "execution_count": 15,
     "metadata": {},
     "output_type": "execute_result"
    }
   ],
   "source": [
    "df_clean.head(3)"
   ]
  },
  {
   "cell_type": "markdown",
   "metadata": {},
   "source": [
    "# Feature Extraction - Copying Romaric's features"
   ]
  },
  {
   "cell_type": "code",
   "execution_count": 16,
   "metadata": {},
   "outputs": [],
   "source": [
    "# Consonnant Density\n",
    "def cons_density(text):\n",
    "    consonant = sum(1 for char in text if char.isalpha() and char not in \"aeiouAEIOU\")\n",
    "    vowel = sum(1 for char in text if char.isalpha() and char in \"aeiouAEIOU\")\n",
    "    return round((consonant/(vowel + consonant)),3)\n"
   ]
  },
  {
   "cell_type": "code",
   "execution_count": 17,
   "metadata": {},
   "outputs": [],
   "source": [
    "# Stress Pattern\n",
    "#nltk.download(\"cmudict\")\n",
    "cmu_dict = cmudict.dict()\n",
    "\n",
    "def get_word_stress(word):\n",
    "    if word in cmu_dict:\n",
    "        return sum(int(char) for syllable in cmu_dict[word][0] for char in syllable if char.isdigit())\n",
    "    return 0\n",
    "\n",
    "def get_sentence_stress(sentence):\n",
    "    words = sentence.split()\n",
    "    stress_values = [get_word_stress(word) for word in words]\n",
    "    return sum(stress_values)"
   ]
  },
  {
   "cell_type": "code",
   "execution_count": 18,
   "metadata": {},
   "outputs": [],
   "source": [
    "# Repetition and Redundancy\n",
    "\n",
    "def redundance(text):\n",
    "    # give a redundance score, considering the lenght of each text, if a lemmatized words appears more than three times the mean, it is considered redundant.\n",
    "\n",
    "    tokens = word_tokenize(text)\n",
    "    stop_words = set(stopwords.words('english'))\n",
    "    clean_tokens = [w for w in tokens if w not in stop_words]\n",
    "\n",
    "    lemmatizer = WordNetLemmatizer()\n",
    "    verb_lemmas = {word: lemmatizer.lemmatize(word, pos='v') for word in clean_tokens}\n",
    "\n",
    "    final_lemmas = [lemmatizer.lemmatize(lemma, pos='n') if lemma == word else lemma\n",
    "                    for word, lemma in verb_lemmas.items()]\n",
    "\n",
    "    word_counts = Counter(final_lemmas)\n",
    "    mean_freq = sum(word_counts.values()) / len(word_counts)\n",
    "\n",
    "    score = sum(1 for word, count in word_counts.items() if count > 3 * mean_freq)\n",
    "\n",
    "    return score"
   ]
  },
  {
   "cell_type": "code",
   "execution_count": 19,
   "metadata": {},
   "outputs": [],
   "source": [
    "# Emotion and personality\n",
    "\n",
    "def sentiment_polarity(text):\n",
    "    sent_pol = TextBlob(text).sentiment.polarity\n",
    "    return abs(round(sent_pol,3))"
   ]
  },
  {
   "cell_type": "code",
   "execution_count": 20,
   "metadata": {},
   "outputs": [],
   "source": [
    "# Unusual word choice\n",
    "\n",
    "def word_choice(text):\n",
    "    common_ai_words =[\"commendable\",'transhumanist', 'meticulous', 'elevate','hello', 'tapestry' 'leverage',\n",
    "                  'journey', 'headache','resonate','testament','explore', 'binary','delve',\n",
    "                  'enrich', 'seamless','multifaceted', 'sorry','foster', 'convey', 'beacon',\n",
    "                  'interplay', 'oh', 'navigate','form','adhere','cannot', 'landscape','remember',\n",
    "                  'paramount', 'comprehensive', 'placeholder','grammar','real','summary','symphony',\n",
    "                  'furthermore','relationship','ultimately','profound','art','supercharge','evolve',\n",
    "                  'beyoud','reimagine','vibrant', 'robust','pivotal','certainly','quinoa','orchestrate','align',\n",
    "                  'diverse','recommend','annals','note','employ','bustling','indeed','digital','enigma', 'outfit',\n",
    "                  'indelible','refrain','culture','treat','emerge','meticulous','esteemed','weight','whimsical','bespoke',\n",
    "                  'highlight','antagonist','unlock','key','breakdown','tailor','misinformation','treasure','paradigm','captivate',\n",
    "                  'song','underscore','calculate','especially','climate','hedging','inclusive','exercise','ai','embrace',\n",
    "                  'level','nuance','career','dynamic','accent','ethos','cheap','firstly','online','goodbye'\n",
    "                  ]\n",
    "    word_count = 0\n",
    "    for word in text.split():\n",
    "        if word in common_ai_words:\n",
    "            word_count += 1\n",
    "        else: pass\n",
    "\n",
    "    return word_count"
   ]
  },
  {
   "cell_type": "code",
   "execution_count": 21,
   "metadata": {},
   "outputs": [],
   "source": [
    "# Context and coherence\n",
    "\n",
    "def coherence(text):\n",
    "    # uses gensim to measure coherence, use the lsi model(latent semantic indexing, coherence c_v because we provide the text and n_topic = 5)\n",
    "    tokens = word_tokenize(text)\n",
    "    dictionary = corpora.Dictionary([tokens])\n",
    "    corpus_gensim = [dictionary.doc2bow(tokens)]\n",
    "    lsa_model = LsiModel(corpus_gensim, id2word=dictionary)\n",
    "\n",
    "    coherence_model = CoherenceModel(\n",
    "        model=lsa_model,\n",
    "        texts=[tokens],\n",
    "        dictionary=dictionary,\n",
    "        coherence='c_v'\n",
    "    )\n",
    "    coherence_score = coherence_model.get_coherence()\n",
    "    return coherence_score"
   ]
  },
  {
   "cell_type": "code",
   "execution_count": 22,
   "metadata": {},
   "outputs": [],
   "source": [
    "# Readability\n",
    "\n",
    "def reading_ease(text):\n",
    "    reading_ease= textstat.flesch_reading_ease(text)\n",
    "    return reading_ease\n",
    "\n",
    "\n",
    "def gunning_fog(text):\n",
    "    gunning_fog = textstat.gunning_fog(text)\n",
    "    return gunning_fog"
   ]
  },
  {
   "cell_type": "code",
   "execution_count": 86,
   "metadata": {},
   "outputs": [
    {
     "data": {
      "text/html": [
       "<div>\n",
       "<style scoped>\n",
       "    .dataframe tbody tr th:only-of-type {\n",
       "        vertical-align: middle;\n",
       "    }\n",
       "\n",
       "    .dataframe tbody tr th {\n",
       "        vertical-align: top;\n",
       "    }\n",
       "\n",
       "    .dataframe thead th {\n",
       "        text-align: right;\n",
       "    }\n",
       "</style>\n",
       "<table border=\"1\" class=\"dataframe\">\n",
       "  <thead>\n",
       "    <tr style=\"text-align: right;\">\n",
       "      <th></th>\n",
       "      <th>clean_text</th>\n",
       "      <th>label</th>\n",
       "    </tr>\n",
       "  </thead>\n",
       "  <tbody>\n",
       "    <tr>\n",
       "      <th>521</th>\n",
       "      <td>the jewish state the struggle for israel ’ s s...</td>\n",
       "      <td>0</td>\n",
       "    </tr>\n",
       "    <tr>\n",
       "      <th>737</th>\n",
       "      <td>turn on her side and then lay down on the floo...</td>\n",
       "      <td>1</td>\n",
       "    </tr>\n",
       "    <tr>\n",
       "      <th>740</th>\n",
       "      <td>alphabetical order is not the optimal layout b...</td>\n",
       "      <td>1</td>\n",
       "    </tr>\n",
       "    <tr>\n",
       "      <th>660</th>\n",
       "      <td>we propose a two-layer cache mechanism to spee...</td>\n",
       "      <td>1</td>\n",
       "    </tr>\n",
       "    <tr>\n",
       "      <th>411</th>\n",
       "      <td>jane austen novel have stood the test of time ...</td>\n",
       "      <td>1</td>\n",
       "    </tr>\n",
       "  </tbody>\n",
       "</table>\n",
       "</div>"
      ],
      "text/plain": [
       "                                            clean_text  label\n",
       "521  the jewish state the struggle for israel ’ s s...      0\n",
       "737  turn on her side and then lay down on the floo...      1\n",
       "740  alphabetical order is not the optimal layout b...      1\n",
       "660  we propose a two-layer cache mechanism to spee...      1\n",
       "411  jane austen novel have stood the test of time ...      1"
      ]
     },
     "execution_count": 86,
     "metadata": {},
     "output_type": "execute_result"
    }
   ],
   "source": [
    "df_features = df_clean.copy()\n",
    "df_features.drop(columns=[\"text\", \"source\", \"text_length\", \"word_count\", \"clean_text_len\", \"clean_word_count\"], inplace=True)\n",
    "\n",
    "# Only use 500 rows for faster processing\n",
    "df_features500 = df_features.sample(500, random_state=42)\n",
    "df_features500.head()"
   ]
  },
  {
   "cell_type": "code",
   "execution_count": 88,
   "metadata": {},
   "outputs": [
    {
     "data": {
      "text/html": [
       "<div>\n",
       "<style scoped>\n",
       "    .dataframe tbody tr th:only-of-type {\n",
       "        vertical-align: middle;\n",
       "    }\n",
       "\n",
       "    .dataframe tbody tr th {\n",
       "        vertical-align: top;\n",
       "    }\n",
       "\n",
       "    .dataframe thead th {\n",
       "        text-align: right;\n",
       "    }\n",
       "</style>\n",
       "<table border=\"1\" class=\"dataframe\">\n",
       "  <thead>\n",
       "    <tr style=\"text-align: right;\">\n",
       "      <th></th>\n",
       "      <th>clean_text</th>\n",
       "      <th>label</th>\n",
       "      <th>cons_density</th>\n",
       "      <th>stress_value2</th>\n",
       "      <th>token_redundance</th>\n",
       "      <th>sentiment_score</th>\n",
       "      <th>unusual_word_count</th>\n",
       "      <th>coherence_score</th>\n",
       "    </tr>\n",
       "  </thead>\n",
       "  <tbody>\n",
       "    <tr>\n",
       "      <th>521</th>\n",
       "      <td>the jewish state the struggle for israel ’ s s...</td>\n",
       "      <td>0</td>\n",
       "      <td>0.609</td>\n",
       "      <td>3.272</td>\n",
       "      <td>0</td>\n",
       "      <td>0.076</td>\n",
       "      <td>10</td>\n",
       "      <td>0.251326</td>\n",
       "    </tr>\n",
       "    <tr>\n",
       "      <th>737</th>\n",
       "      <td>turn on her side and then lay down on the floo...</td>\n",
       "      <td>1</td>\n",
       "      <td>0.616</td>\n",
       "      <td>0.190</td>\n",
       "      <td>0</td>\n",
       "      <td>0.006</td>\n",
       "      <td>0</td>\n",
       "      <td>0.852354</td>\n",
       "    </tr>\n",
       "    <tr>\n",
       "      <th>740</th>\n",
       "      <td>alphabetical order is not the optimal layout b...</td>\n",
       "      <td>1</td>\n",
       "      <td>0.591</td>\n",
       "      <td>0.132</td>\n",
       "      <td>0</td>\n",
       "      <td>0.358</td>\n",
       "      <td>2</td>\n",
       "      <td>1.000000</td>\n",
       "    </tr>\n",
       "    <tr>\n",
       "      <th>660</th>\n",
       "      <td>we propose a two-layer cache mechanism to spee...</td>\n",
       "      <td>1</td>\n",
       "      <td>0.614</td>\n",
       "      <td>0.122</td>\n",
       "      <td>0</td>\n",
       "      <td>0.227</td>\n",
       "      <td>1</td>\n",
       "      <td>1.000000</td>\n",
       "    </tr>\n",
       "    <tr>\n",
       "      <th>411</th>\n",
       "      <td>jane austen novel have stood the test of time ...</td>\n",
       "      <td>1</td>\n",
       "      <td>0.596</td>\n",
       "      <td>1.468</td>\n",
       "      <td>0</td>\n",
       "      <td>0.154</td>\n",
       "      <td>13</td>\n",
       "      <td>0.187560</td>\n",
       "    </tr>\n",
       "  </tbody>\n",
       "</table>\n",
       "</div>"
      ],
      "text/plain": [
       "                                            clean_text  label  cons_density  \\\n",
       "521  the jewish state the struggle for israel ’ s s...      0         0.609   \n",
       "737  turn on her side and then lay down on the floo...      1         0.616   \n",
       "740  alphabetical order is not the optimal layout b...      1         0.591   \n",
       "660  we propose a two-layer cache mechanism to spee...      1         0.614   \n",
       "411  jane austen novel have stood the test of time ...      1         0.596   \n",
       "\n",
       "     stress_value2  token_redundance  sentiment_score  unusual_word_count  \\\n",
       "521          3.272                 0            0.076                  10   \n",
       "737          0.190                 0            0.006                   0   \n",
       "740          0.132                 0            0.358                   2   \n",
       "660          0.122                 0            0.227                   1   \n",
       "411          1.468                 0            0.154                  13   \n",
       "\n",
       "     coherence_score  \n",
       "521         0.251326  \n",
       "737         0.852354  \n",
       "740         1.000000  \n",
       "660         1.000000  \n",
       "411         0.187560  "
      ]
     },
     "execution_count": 88,
     "metadata": {},
     "output_type": "execute_result"
    }
   ],
   "source": [
    "df_features500[\"cons_density\"] = df_features500[\"clean_text\"].apply(cons_density)\n",
    "df_features500[\"stress_value2\"] = df_features500[\"clean_text\"].apply(get_sentence_stress)/len(df_features500[\"clean_text\"])\n",
    "df_features500[\"token_redundance\"] = df_features500[\"clean_text\"].apply(redundance)\n",
    "df_features500[\"sentiment_score\"] = df_features500[\"clean_text\"].apply(sentiment_polarity)\n",
    "df_features500[\"unusual_word_count\"] = df_features500[\"clean_text\"].apply(word_choice)\n",
    "df_features500[\"coherence_score\"] = df_features500[\"clean_text\"].apply(coherence)\n",
    "\n",
    "df_features500.head()"
   ]
  },
  {
   "cell_type": "markdown",
   "metadata": {},
   "source": [
    "# Preprocessing Pre-Trained Models:\n",
    "✅ DistilBERT (TF Hub) – Good trade-off between accuracy & memory.\n",
    "\n",
    "✅ ALBERT (TF Hub) – Lighter version than BERT.\n",
    "\n",
    "### Input requirements:\n",
    "\n",
    "input_word_ids → Tokenized words\n",
    "\n",
    "input_mask → Indicates which tokens are real vs. padding\n",
    "\n",
    "#input_type_ids → Used for sentence pairs in BERT"
   ]
  },
  {
   "cell_type": "code",
   "execution_count": 25,
   "metadata": {},
   "outputs": [],
   "source": [
    "#!pip install tensorflow==2.15 keras tensorflow-hub tensorflow-text"
   ]
  },
  {
   "cell_type": "code",
   "execution_count": 26,
   "metadata": {},
   "outputs": [
    {
     "name": "stderr",
     "output_type": "stream",
     "text": [
      "2025-02-14 16:44:44.488950: E external/local_xla/xla/stream_executor/cuda/cuda_dnn.cc:9261] Unable to register cuDNN factory: Attempting to register factory for plugin cuDNN when one has already been registered\n",
      "2025-02-14 16:44:44.489108: E external/local_xla/xla/stream_executor/cuda/cuda_fft.cc:607] Unable to register cuFFT factory: Attempting to register factory for plugin cuFFT when one has already been registered\n",
      "2025-02-14 16:44:44.947297: E external/local_xla/xla/stream_executor/cuda/cuda_blas.cc:1515] Unable to register cuBLAS factory: Attempting to register factory for plugin cuBLAS when one has already been registered\n",
      "2025-02-14 16:44:52.525451: W tensorflow/compiler/tf2tensorrt/utils/py_utils.cc:38] TF-TRT Warning: Could not find TensorRT\n"
     ]
    }
   ],
   "source": [
    "import tensorflow as tf\n",
    "import tensorflow_hub as hub\n",
    "import tensorflow_text"
   ]
  },
  {
   "cell_type": "code",
   "execution_count": 27,
   "metadata": {},
   "outputs": [],
   "source": [
    "# Load models & preprocessing from TensorFlow Hub\n",
    "\n",
    "distilbert_model = hub.load(\"https://tfhub.dev/tensorflow/small_bert/bert_en_uncased_L-4_H-512_A-8/2\")\n",
    "distilbert_preprocess = hub.load(\"https://tfhub.dev/tensorflow/bert_en_uncased_preprocess/3\") # Tokenize to meet input requirements\n",
    "\n",
    "albert_model = hub.load(\"https://tfhub.dev/google/albert_base/3\")\n",
    "albert_preprocess = hub.load(\"https://tfhub.dev/tensorflow/albert_en_preprocess/3\") # Tokenize to meet input requirements"
   ]
  },
  {
   "cell_type": "code",
   "execution_count": 41,
   "metadata": {},
   "outputs": [],
   "source": [
    "def get_embeddings(texts, model, preprocess_model, batch_size=32):\n",
    "    \"\"\"Generate embeddings after preprocessing\"\"\"\n",
    "    preprocessed_text = preprocess_model(texts)\n",
    "    inputs = {\n",
    "        \"input_word_ids\": preprocessed_text[\"input_word_ids\"],\n",
    "        \"input_mask\": preprocessed_text[\"input_mask\"],\n",
    "        \"input_type_ids\": preprocessed_text[\"input_type_ids\"],  # Needed even if all zeros\n",
    "    }\n",
    "\n",
    "    return np.array(model(inputs)[\"pooled_output\"])"
   ]
  },
  {
   "cell_type": "code",
   "execution_count": 89,
   "metadata": {},
   "outputs": [
    {
     "data": {
      "text/plain": [
       "((500, 512), (500, 512))"
      ]
     },
     "execution_count": 89,
     "metadata": {},
     "output_type": "execute_result"
    }
   ],
   "source": [
    "# Get embeddings on a sample of the 1k data\n",
    "\n",
    "texts = df_features500[\"clean_text\"].tolist()\n",
    "\n",
    "distilbert_embeddings = get_embeddings(texts, distilbert_model, distilbert_preprocess)\n",
    "albert_embeddings = get_embeddings(texts, distilbert_model, distilbert_preprocess)\n",
    "\n",
    "distilbert_embeddings.shape, albert_embeddings.shape"
   ]
  },
  {
   "cell_type": "code",
   "execution_count": 117,
   "metadata": {},
   "outputs": [
    {
     "data": {
      "text/plain": [
       "((500, 512), (500, 8))"
      ]
     },
     "execution_count": 117,
     "metadata": {},
     "output_type": "execute_result"
    }
   ],
   "source": [
    "distilbert_df.shape, df_features500.shape"
   ]
  },
  {
   "cell_type": "code",
   "execution_count": 118,
   "metadata": {},
   "outputs": [
    {
     "data": {
      "text/html": [
       "<div>\n",
       "<style scoped>\n",
       "    .dataframe tbody tr th:only-of-type {\n",
       "        vertical-align: middle;\n",
       "    }\n",
       "\n",
       "    .dataframe tbody tr th {\n",
       "        vertical-align: top;\n",
       "    }\n",
       "\n",
       "    .dataframe thead th {\n",
       "        text-align: right;\n",
       "    }\n",
       "</style>\n",
       "<table border=\"1\" class=\"dataframe\">\n",
       "  <thead>\n",
       "    <tr style=\"text-align: right;\">\n",
       "      <th></th>\n",
       "      <th>clean_text</th>\n",
       "      <th>label</th>\n",
       "      <th>cons_density</th>\n",
       "      <th>stress_value2</th>\n",
       "      <th>token_redundance</th>\n",
       "      <th>sentiment_score</th>\n",
       "      <th>unusual_word_count</th>\n",
       "      <th>coherence_score</th>\n",
       "      <th>0</th>\n",
       "      <th>1</th>\n",
       "      <th>...</th>\n",
       "      <th>502</th>\n",
       "      <th>503</th>\n",
       "      <th>504</th>\n",
       "      <th>505</th>\n",
       "      <th>506</th>\n",
       "      <th>507</th>\n",
       "      <th>508</th>\n",
       "      <th>509</th>\n",
       "      <th>510</th>\n",
       "      <th>511</th>\n",
       "    </tr>\n",
       "  </thead>\n",
       "  <tbody>\n",
       "    <tr>\n",
       "      <th>0</th>\n",
       "      <td>the jewish state the struggle for israel ’ s s...</td>\n",
       "      <td>0</td>\n",
       "      <td>0.609</td>\n",
       "      <td>3.272</td>\n",
       "      <td>0</td>\n",
       "      <td>0.076</td>\n",
       "      <td>10</td>\n",
       "      <td>0.251326</td>\n",
       "      <td>-0.22732</td>\n",
       "      <td>0.871502</td>\n",
       "      <td>...</td>\n",
       "      <td>0.159982</td>\n",
       "      <td>0.266400</td>\n",
       "      <td>0.581010</td>\n",
       "      <td>-0.936296</td>\n",
       "      <td>0.591772</td>\n",
       "      <td>0.991633</td>\n",
       "      <td>0.503393</td>\n",
       "      <td>0.026867</td>\n",
       "      <td>-0.507095</td>\n",
       "      <td>-0.507787</td>\n",
       "    </tr>\n",
       "    <tr>\n",
       "      <th>1</th>\n",
       "      <td>turn on her side and then lay down on the floo...</td>\n",
       "      <td>1</td>\n",
       "      <td>0.616</td>\n",
       "      <td>0.190</td>\n",
       "      <td>0</td>\n",
       "      <td>0.006</td>\n",
       "      <td>0</td>\n",
       "      <td>0.852354</td>\n",
       "      <td>0.85951</td>\n",
       "      <td>0.478003</td>\n",
       "      <td>...</td>\n",
       "      <td>0.041755</td>\n",
       "      <td>-0.097893</td>\n",
       "      <td>0.065251</td>\n",
       "      <td>-0.693617</td>\n",
       "      <td>0.401227</td>\n",
       "      <td>0.752702</td>\n",
       "      <td>-0.175724</td>\n",
       "      <td>0.230093</td>\n",
       "      <td>-0.278581</td>\n",
       "      <td>-0.147343</td>\n",
       "    </tr>\n",
       "  </tbody>\n",
       "</table>\n",
       "<p>2 rows × 520 columns</p>\n",
       "</div>"
      ],
      "text/plain": [
       "                                          clean_text  label  cons_density  \\\n",
       "0  the jewish state the struggle for israel ’ s s...      0         0.609   \n",
       "1  turn on her side and then lay down on the floo...      1         0.616   \n",
       "\n",
       "   stress_value2  token_redundance  sentiment_score  unusual_word_count  \\\n",
       "0          3.272                 0            0.076                  10   \n",
       "1          0.190                 0            0.006                   0   \n",
       "\n",
       "   coherence_score        0         1  ...       502       503       504  \\\n",
       "0         0.251326 -0.22732  0.871502  ...  0.159982  0.266400  0.581010   \n",
       "1         0.852354  0.85951  0.478003  ...  0.041755 -0.097893  0.065251   \n",
       "\n",
       "        505       506       507       508       509       510       511  \n",
       "0 -0.936296  0.591772  0.991633  0.503393  0.026867 -0.507095 -0.507787  \n",
       "1 -0.693617  0.401227  0.752702 -0.175724  0.230093 -0.278581 -0.147343  \n",
       "\n",
       "[2 rows x 520 columns]"
      ]
     },
     "execution_count": 118,
     "metadata": {},
     "output_type": "execute_result"
    }
   ],
   "source": [
    "# Merge BERT embeddings with features in a dataframe\n",
    "\n",
    "distilbert_df = pd.DataFrame(distilbert_embeddings).reset_index(drop=True)\n",
    "df_features500 = df_features500.reset_index(drop=True)\n",
    "distilbert_final_df = pd.concat([df_features500, distilbert_df], axis=1)\n",
    "\n",
    "distilbert_final_df.head(2)"
   ]
  },
  {
   "cell_type": "code",
   "execution_count": 119,
   "metadata": {},
   "outputs": [
    {
     "data": {
      "text/html": [
       "<div>\n",
       "<style scoped>\n",
       "    .dataframe tbody tr th:only-of-type {\n",
       "        vertical-align: middle;\n",
       "    }\n",
       "\n",
       "    .dataframe tbody tr th {\n",
       "        vertical-align: top;\n",
       "    }\n",
       "\n",
       "    .dataframe thead th {\n",
       "        text-align: right;\n",
       "    }\n",
       "</style>\n",
       "<table border=\"1\" class=\"dataframe\">\n",
       "  <thead>\n",
       "    <tr style=\"text-align: right;\">\n",
       "      <th></th>\n",
       "      <th>clean_text</th>\n",
       "      <th>label</th>\n",
       "      <th>cons_density</th>\n",
       "      <th>stress_value2</th>\n",
       "      <th>token_redundance</th>\n",
       "      <th>sentiment_score</th>\n",
       "      <th>unusual_word_count</th>\n",
       "      <th>coherence_score</th>\n",
       "      <th>0</th>\n",
       "      <th>1</th>\n",
       "      <th>...</th>\n",
       "      <th>502</th>\n",
       "      <th>503</th>\n",
       "      <th>504</th>\n",
       "      <th>505</th>\n",
       "      <th>506</th>\n",
       "      <th>507</th>\n",
       "      <th>508</th>\n",
       "      <th>509</th>\n",
       "      <th>510</th>\n",
       "      <th>511</th>\n",
       "    </tr>\n",
       "  </thead>\n",
       "  <tbody>\n",
       "    <tr>\n",
       "      <th>0</th>\n",
       "      <td>the jewish state the struggle for israel ’ s s...</td>\n",
       "      <td>0</td>\n",
       "      <td>0.609</td>\n",
       "      <td>3.272</td>\n",
       "      <td>0</td>\n",
       "      <td>0.076</td>\n",
       "      <td>10</td>\n",
       "      <td>0.251326</td>\n",
       "      <td>-0.22732</td>\n",
       "      <td>0.871502</td>\n",
       "      <td>...</td>\n",
       "      <td>0.159982</td>\n",
       "      <td>0.266400</td>\n",
       "      <td>0.581010</td>\n",
       "      <td>-0.936296</td>\n",
       "      <td>0.591772</td>\n",
       "      <td>0.991633</td>\n",
       "      <td>0.503393</td>\n",
       "      <td>0.026867</td>\n",
       "      <td>-0.507095</td>\n",
       "      <td>-0.507787</td>\n",
       "    </tr>\n",
       "    <tr>\n",
       "      <th>1</th>\n",
       "      <td>turn on her side and then lay down on the floo...</td>\n",
       "      <td>1</td>\n",
       "      <td>0.616</td>\n",
       "      <td>0.190</td>\n",
       "      <td>0</td>\n",
       "      <td>0.006</td>\n",
       "      <td>0</td>\n",
       "      <td>0.852354</td>\n",
       "      <td>0.85951</td>\n",
       "      <td>0.478003</td>\n",
       "      <td>...</td>\n",
       "      <td>0.041755</td>\n",
       "      <td>-0.097893</td>\n",
       "      <td>0.065251</td>\n",
       "      <td>-0.693617</td>\n",
       "      <td>0.401227</td>\n",
       "      <td>0.752702</td>\n",
       "      <td>-0.175724</td>\n",
       "      <td>0.230093</td>\n",
       "      <td>-0.278581</td>\n",
       "      <td>-0.147343</td>\n",
       "    </tr>\n",
       "  </tbody>\n",
       "</table>\n",
       "<p>2 rows × 520 columns</p>\n",
       "</div>"
      ],
      "text/plain": [
       "                                          clean_text  label  cons_density  \\\n",
       "0  the jewish state the struggle for israel ’ s s...      0         0.609   \n",
       "1  turn on her side and then lay down on the floo...      1         0.616   \n",
       "\n",
       "   stress_value2  token_redundance  sentiment_score  unusual_word_count  \\\n",
       "0          3.272                 0            0.076                  10   \n",
       "1          0.190                 0            0.006                   0   \n",
       "\n",
       "   coherence_score        0         1  ...       502       503       504  \\\n",
       "0         0.251326 -0.22732  0.871502  ...  0.159982  0.266400  0.581010   \n",
       "1         0.852354  0.85951  0.478003  ...  0.041755 -0.097893  0.065251   \n",
       "\n",
       "        505       506       507       508       509       510       511  \n",
       "0 -0.936296  0.591772  0.991633  0.503393  0.026867 -0.507095 -0.507787  \n",
       "1 -0.693617  0.401227  0.752702 -0.175724  0.230093 -0.278581 -0.147343  \n",
       "\n",
       "[2 rows x 520 columns]"
      ]
     },
     "execution_count": 119,
     "metadata": {},
     "output_type": "execute_result"
    }
   ],
   "source": [
    "# Merge ALBERT embeddings with features in a dataframe\n",
    "\n",
    "albert_df = pd.DataFrame(albert_embeddings).reset_index(drop=True)\n",
    "df_features500 = df_features500.reset_index(drop=True)\n",
    "albert_final_df = pd.concat([df_features500, albert_df], axis=1)\n",
    "\n",
    "albert_final_df.head(2)"
   ]
  },
  {
   "cell_type": "markdown",
   "metadata": {},
   "source": [
    "# Model Training & Evaluation"
   ]
  },
  {
   "cell_type": "code",
   "execution_count": 120,
   "metadata": {},
   "outputs": [],
   "source": [
    "# Split data for training\n",
    "\n",
    "# DISTILBERT\n",
    "X_distilbert = distilbert_final_df.drop(columns=[\"clean_text\", \"label\"])  # Keep only features\n",
    "y_distilbert = distilbert_final_df[\"label\"]  # Target column (AI vs. Human)\n",
    "\n",
    "X_train_distilbert, X_test_distilbert, y_train_distilbert, y_test_distilbert = train_test_split(\n",
    "  X_distilbert, y_distilbert, test_size=0.2, random_state=42)\n",
    "\n",
    "# ALBERT\n",
    "X_albert = albert_final_df.drop(columns=[\"clean_text\", \"label\"])\n",
    "y_albert = albert_final_df[\"label\"]\n",
    "\n",
    "X_train_albert, X_test_albert, y_train_albert, y_test_albert = train_test_split(\n",
    "  X_albert, y_albert, test_size=0.2, random_state=42)"
   ]
  },
  {
   "cell_type": "code",
   "execution_count": 123,
   "metadata": {},
   "outputs": [],
   "source": [
    "# Model training\n",
    "\n",
    "from tensorflow import keras\n",
    "from tensorflow.keras import layers, models, metrics\n",
    "\n",
    "def nn_model(input_shape):\n",
    "    \"\"\"Create a simple neural network model.\"\"\"\n",
    "    model = keras.Sequential([\n",
    "        layers.Input(shape=(input_shape,)),  # Input layer\n",
    "        layers.Dense(256, activation=\"relu\"),\n",
    "        layers.Dense(128, activation=\"relu\"),\n",
    "        layers.Dense(1, activation=\"sigmoid\")  # Binary classification (AI vs. Human)\n",
    "    ])\n",
    "\n",
    "    model.compile(\n",
    "        optimizer=\"adam\",\n",
    "        loss=\"binary_crossentropy\",\n",
    "        metrics=[\n",
    "            \"accuracy\",\n",
    "            metrics.Precision(name=\"precision\"), # Out of all texts predicted as AI, how many are actually AI?\n",
    "            metrics.Recall(name=\"recall\"), # Out of all AI texts, how many were correctly identified?\n",
    "            metrics.AUC(name=\"roc_auc\")  # How well the model separates AI vs. Human?\n",
    "        ])\n",
    "\n",
    "    return model\n"
   ]
  },
  {
   "cell_type": "code",
   "execution_count": 128,
   "metadata": {},
   "outputs": [],
   "source": [
    "# Ensure input features (X) are float32\n",
    "X_train_distilbert = np.array(X_train_distilbert, dtype=np.float32)\n",
    "X_test_distilbert = np.array(X_test_distilbert, dtype=np.float32)\n",
    "\n",
    "# Ensure labels (y) are float32 and reshaped correctly\n",
    "y_train_distilbert = np.array(y_train_distilbert, dtype=np.float32).reshape(-1, 1)\n",
    "y_test_distilbert = np.array(y_test_distilbert, dtype=np.float32).reshape(-1, 1)"
   ]
  },
  {
   "cell_type": "code",
   "execution_count": 161,
   "metadata": {},
   "outputs": [
    {
     "name": "stdout",
     "output_type": "stream",
     "text": [
      "4/4 [==============================] - 0s 23ms/step - loss: 0.7628 - accuracy: 0.7600 - precision: 0.8205 - recall: 0.6531 - roc_auc: 0.8776\n",
      "Test Loss: 0.7627778649330139\n",
      "Test Accuracy: 0.7599999904632568\n",
      "Test Precision: 0.8205128312110901\n",
      "Test Recall: 0.6530612111091614\n",
      "Test ROC AUC: 0.8775511384010315\n"
     ]
    }
   ],
   "source": [
    "# Train model on ALBERT embeddings\n",
    "\n",
    "model_distilbert = nn_model(X_train_distilbert.shape[1])\n",
    "\n",
    "history_distilbert = model_distilbert.fit(\n",
    "    X_train_distilbert, y_train_distilbert,\n",
    "    epochs=30, batch_size=32,\n",
    "    validation_data=(X_test_distilbert, y_test_distilbert),\n",
    "    verbose=0)\n",
    "\n",
    "distilbert_results = model_distilbert.evaluate(X_test_distilbert, y_test_distilbert)\n",
    "\n",
    "print(\"Test Loss:\", distilbert_results[0])\n",
    "print(\"Test Accuracy:\", distilbert_results[1])\n",
    "print(\"Test Precision:\", distilbert_results[2])\n",
    "print(\"Test Recall:\", distilbert_results[3])\n",
    "print(\"Test ROC AUC:\", distilbert_results[4])"
   ]
  },
  {
   "cell_type": "code",
   "execution_count": 162,
   "metadata": {},
   "outputs": [
    {
     "name": "stdout",
     "output_type": "stream",
     "text": [
      "4/4 [==============================] - 0s 11ms/step - loss: 0.6916 - accuracy: 0.8100 - precision: 0.8571 - recall: 0.7347 - roc_auc: 0.8882\n",
      "Test Loss: 0.6916400790214539\n",
      "Test Accuracy: 0.8100000023841858\n",
      "Test Precision: 0.8571428656578064\n",
      "Test Recall: 0.7346938848495483\n",
      "Test ROC AUC: 0.8881552219390869\n"
     ]
    }
   ],
   "source": [
    "# Train model on ALBERT embeddings\n",
    "\n",
    "model_albert = nn_model(X_train_albert.shape[1])\n",
    "\n",
    "history_albert = model_albert.fit(\n",
    "    X_train_albert, y_train_albert,\n",
    "    epochs=30, batch_size=32,\n",
    "    validation_data=(X_test_albert, y_test_albert),\n",
    "    verbose=0)\n",
    "\n",
    "albert_results = model_albert.evaluate(X_test_albert, y_test_albert)\n",
    "\n",
    "print(\"Test Loss:\", albert_results[0])\n",
    "print(\"Test Accuracy:\", albert_results[1])\n",
    "print(\"Test Precision:\", albert_results[2])\n",
    "print(\"Test Recall:\", albert_results[3])\n",
    "print(\"Test ROC AUC:\", albert_results[4])\n"
   ]
  },
  {
   "cell_type": "code",
   "execution_count": 163,
   "metadata": {},
   "outputs": [
    {
     "name": "stdout",
     "output_type": "stream",
     "text": [
      "4/4 [==============================] - 0s 4ms/step\n",
      "              precision    recall  f1-score   support\n",
      "\n",
      "         0.0       0.72      0.86      0.79        51\n",
      "         1.0       0.82      0.65      0.73        49\n",
      "\n",
      "    accuracy                           0.76       100\n",
      "   macro avg       0.77      0.76      0.76       100\n",
      "weighted avg       0.77      0.76      0.76       100\n",
      "\n"
     ]
    }
   ],
   "source": [
    "# BERT Test performance\n",
    "\n",
    "from sklearn.metrics import classification_report\n",
    "\n",
    "# Predict on test data\n",
    "y_pred_distilbert = model_distilbert.predict(X_test_distilbert).round()\n",
    "\n",
    "print(classification_report(y_test_distilbert, y_pred_distilbert))"
   ]
  },
  {
   "cell_type": "code",
   "execution_count": 164,
   "metadata": {},
   "outputs": [
    {
     "name": "stdout",
     "output_type": "stream",
     "text": [
      "4/4 [==============================] - 0s 5ms/step\n",
      "              precision    recall  f1-score   support\n",
      "\n",
      "           0       0.78      0.88      0.83        51\n",
      "           1       0.86      0.73      0.79        49\n",
      "\n",
      "    accuracy                           0.81       100\n",
      "   macro avg       0.82      0.81      0.81       100\n",
      "weighted avg       0.82      0.81      0.81       100\n",
      "\n"
     ]
    }
   ],
   "source": [
    "# ALBERT Test performance\n",
    "\n",
    "y_pred_albert = model_albert.predict(X_test_albert).round()\n",
    "\n",
    "print(classification_report(y_test_albert, y_pred_albert))"
   ]
  }
 ],
 "metadata": {
  "kernelspec": {
   "display_name": "fake-data-detector",
   "language": "python",
   "name": "python3"
  },
  "language_info": {
   "codemirror_mode": {
    "name": "ipython",
    "version": 3
   },
   "file_extension": ".py",
   "mimetype": "text/x-python",
   "name": "python",
   "nbconvert_exporter": "python",
   "pygments_lexer": "ipython3",
   "version": "3.10.6"
  }
 },
 "nbformat": 4,
 "nbformat_minor": 2
}
