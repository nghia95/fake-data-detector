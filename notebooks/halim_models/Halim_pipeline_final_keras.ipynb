{
 "cells": [
  {
   "cell_type": "code",
   "execution_count": 1,
   "metadata": {},
   "outputs": [
    {
     "name": "stderr",
     "output_type": "stream",
     "text": [
      "/Users/till/.pyenv/versions/3.10.6/envs/fake-data-detector/lib/python3.10/site-packages/tqdm/auto.py:21: TqdmWarning: IProgress not found. Please update jupyter and ipywidgets. See https://ipywidgets.readthedocs.io/en/stable/user_install.html\n",
      "  from .autonotebook import tqdm as notebook_tqdm\n"
     ]
    }
   ],
   "source": [
    "# Data handling\n",
    "import pandas as pd\n",
    "import numpy as np\n",
    "import re\n",
    "import string\n",
    "import matplotlib.pyplot as plt\n",
    "import seaborn as sns\n",
    "import joblib\n",
    "\n",
    "# Optimization\n",
    "import swifter\n",
    "from scipy.sparse import csr_matrix\n",
    "\n",
    "# ML\n",
    "from sklearn.pipeline import Pipeline, FeatureUnion\n",
    "from sklearn.base import BaseEstimator, TransformerMixin\n",
    "from sklearn.preprocessing import StandardScaler\n",
    "from sklearn.feature_extraction.text import TfidfVectorizer\n",
    "from sklearn.ensemble import RandomForestClassifier, GradientBoostingClassifier\n",
    "from sklearn.model_selection import train_test_split\n",
    "from sklearn.metrics import log_loss, accuracy_score, precision_score, recall_score, roc_auc_score, confusion_matrix\n",
    "from sklearn.base import clone\n",
    "\n",
    "# Export Model\n",
    "import tensorflow as tf\n",
    "from tensorflow.keras.models import Sequential\n",
    "from tensorflow.keras.layers import Input, Dense, Dropout, TextVectorization\n",
    "from scikeras.wrappers import KerasClassifier"
   ]
  },
  {
   "cell_type": "markdown",
   "metadata": {},
   "source": [
    "# Functions"
   ]
  },
  {
   "cell_type": "code",
   "execution_count": 2,
   "metadata": {},
   "outputs": [],
   "source": [
    "# Data Loading\n",
    "\n",
    "def load_data(filepath):\n",
    "    \"\"\"Loads data from a CSV file.\"\"\"\n",
    "    data = pd.read_csv(filepath, encoding=\"utf-8\")\n",
    "    df = data.copy()\n",
    "    df = df.drop(columns=[\"prompt_id\", \"text_length\", \"word_count\"])\n",
    "    df[\"source\"] = df[\"source\"].apply(lambda x: 1 if x != \"Human\" else 0)\n",
    "    return df"
   ]
  },
  {
   "cell_type": "code",
   "execution_count": 3,
   "metadata": {},
   "outputs": [],
   "source": [
    "# Text Cleaning\n",
    "\n",
    "class TextCleaner(BaseEstimator, TransformerMixin):\n",
    "    def text_cleaning(self, text):\n",
    "        if not isinstance(text, str):  # ✅ Convert non-string inputs\n",
    "            text = str(text)\n",
    "        # Remove punctuation\n",
    "        text = text.translate(str.maketrans('', '', string.punctuation))\n",
    "        # Remove numbers\n",
    "        text = re.sub(r'\\d+', '', text)\n",
    "        # Convert to lowercase\n",
    "        text = text.lower()\n",
    "        # Remove extra spaces\n",
    "        text = ' '.join(text.split())\n",
    "        return text.strip()\n",
    "\n",
    "    def fit(self, X, y=None):\n",
    "        return self\n",
    "\n",
    "    def transform(self, X):\n",
    "        \"\"\"Apply cleaning to text column.\"\"\"\n",
    "        if isinstance(X, pd.DataFrame):\n",
    "            return X.assign(text=X[\"text\"].apply(self.text_cleaning))  # Clean DataFrame column\n",
    "        return X.apply(self.text_cleaning)  # Clean Series"
   ]
  },
  {
   "cell_type": "code",
   "execution_count": 4,
   "metadata": {},
   "outputs": [],
   "source": [
    "# TF-IDF Vectorization\n",
    "\n",
    "class TFIDFVectorizer(BaseEstimator, TransformerMixin):\n",
    "    def __init__(self, max_features=10000, ngram_range=(1,2), stop_words=\"english\"):\n",
    "        \"\"\"\n",
    "        Custom TF-IDF vectorizer with optimizations.\n",
    "        - max_features: Limits vocabulary size to the most important words.\n",
    "        - ngram_range: (1,1) for unigrams, (1,2) for bigrams, etc.\n",
    "        \"\"\"\n",
    "        self.max_features = max_features\n",
    "        self.ngram_range = ngram_range\n",
    "        self.stop_words = stop_words\n",
    "        self.vectorizer = TfidfVectorizer(\n",
    "            max_features=max_features,\n",
    "            ngram_range=ngram_range,\n",
    "            stop_words=stop_words)\n",
    "\n",
    "\n",
    "    def fit(self, X, y=None):\n",
    "        \"\"\"Fit the vectorizer to the text data.\"\"\"\n",
    "        if isinstance(X, pd.DataFrame) and \"text\" in X.columns:\n",
    "            X = X[\"text\"]\n",
    "        self.vectorizer.fit(X)\n",
    "        return self\n",
    "\n",
    "\n",
    "    def transform(self, X):\n",
    "        \"\"\"Transforms text data into TF-IDF feature vectors.\"\"\"\n",
    "        if isinstance(X, pd.DataFrame) and \"text\" in X.columns:\n",
    "            X = X[\"text\"]\n",
    "        vec_result = self.vectorizer.transform(X)\n",
    "        return vec_result.toarray()  # Ensures Output is Numeric"
   ]
  },
  {
   "cell_type": "code",
   "execution_count": 5,
   "metadata": {},
   "outputs": [],
   "source": [
    "# Model Evaluation\n",
    "\n",
    "class EvaluationPipeline:\n",
    "    def __init__(self, model):\n",
    "        \"\"\"Initialize with a trained model.\"\"\"\n",
    "        self.model = model\n",
    "        self.train_acc_history = []\n",
    "\n",
    "    def track_accuracy(self, X_train, y_train):\n",
    "        \"\"\"Track training and validation accuracy over epochs.\"\"\"\n",
    "        # Ensure accuracy history is cleared before tracking\n",
    "        self.train_acc_history.clear()\n",
    "\n",
    "        classifier = self.model.named_steps.get(\"classifier\")\n",
    "        if hasattr(classifier, \"model_\") and hasattr(classifier.model_, \"history\"):\n",
    "            self.train_acc_history = classifier.model_.history.history.get(\"accuracy\", [])\n",
    "\n",
    "        print(f\"\\nTraining Accuracy: {self.train_acc_history[-1]:.4f}\" if self.train_acc_history else\n",
    "          \"\\nWarning: Accuracy history is empty. Ensure 'track_accuracy' is called before `evaluate`.\")\n",
    "\n",
    "\n",
    "    def evaluate(self, X_test, y_test):\n",
    "        \"\"\"Evaluate the trained model on test data.\"\"\"\n",
    "        y_pred_proba = self.model.predict(X_test)\n",
    "        y_pred = (y_pred_proba > 0.5).astype(int)  # Convert probability to class labels\n",
    "\n",
    "        results = {\n",
    "            \"loss\": log_loss(y_test, y_pred_proba),\n",
    "            \"accuracy\": accuracy_score(y_test, y_pred),\n",
    "            \"precision\": precision_score(y_test, y_pred),\n",
    "            \"recall\": recall_score(y_test, y_pred),\n",
    "            \"roc_auc\": roc_auc_score(y_test, y_pred_proba)}\n",
    "\n",
    "        # Print performance\n",
    "        print(\"Model Performance on Test Set:\")\n",
    "        print(f\"Loss: {results['loss']:.4f}\")\n",
    "        print(f\"Accuracy: {results['accuracy']:.4f}\")\n",
    "        print(f\"Precision: {results['precision']:.4f}\")\n",
    "        print(f\"Recall: {results['recall']:.4f}\")\n",
    "        print(f\"ROC-AUC: {results['roc_auc']:.4f}\")\n",
    "\n",
    "        # Convergence Plot\n",
    "        if self.train_acc_history:\n",
    "            plt.figure(figsize=(5, 4))\n",
    "            plt.plot(range(1, len(self.train_acc_history) +1), self.train_acc_history, label=\"Train Accuracy\")\n",
    "            plt.xticks(range(1, len(self.train_acc_history) +1))  # Ensure correct X-axis scaling\n",
    "            plt.xlabel(\"Epochs\")\n",
    "            plt.ylabel(\"Accuracy\")\n",
    "            plt.title(\"Training Accuracy Over Epochs\")\n",
    "            plt.legend()\n",
    "            plt.grid()\n",
    "            plt.show()\n",
    "        else:\n",
    "            print(\"\\nWarning: Accuracy history is empty. Ensure 'track_accuracy' is called before `evaluate`.\")\n",
    "\n",
    "        # Confusion Matrix Plot\n",
    "        cm = confusion_matrix(y_test, y_pred)\n",
    "        plt.figure(figsize=(5, 4))\n",
    "        sns.heatmap(cm, annot=True, fmt=\"d\", cmap=\"Blues\", xticklabels=[\"Human\", \"AI\"], yticklabels=[\"Human\", \"AI\"])\n",
    "        plt.xlabel(\"Predicted Label\")\n",
    "        plt.ylabel(\"Actual Label\")\n",
    "        plt.title(\"Confusion Matrix\")\n",
    "        plt.show()"
   ]
  },
  {
   "cell_type": "code",
   "execution_count": 6,
   "metadata": {},
   "outputs": [],
   "source": [
    "# Keras model\n",
    "\n",
    "def build_keras_model(input_dim):\n",
    "    model = Sequential([\n",
    "        Input(shape=(input_dim,)),  # Input dim = tfidf max feature\n",
    "        Dense(128, activation='relu'),\n",
    "        Dropout(0.3),\n",
    "        Dense(64, activation='relu'),\n",
    "        Dense(1, activation='sigmoid')  # Binary classification (AI vs. Human)\n",
    "    ])\n",
    "\n",
    "    model.compile(optimizer='adam', loss='binary_crossentropy', metrics=['accuracy'])\n",
    "    return model\n",
    "\n",
    "input_dim = 10000\n",
    "\n",
    "# Wrap the model in KerasClassifier (for compatibility with scikit-learn pipeline)\n",
    "keras_wrapper = KerasClassifier(\n",
    "    model=build_keras_model,\n",
    "    input_dim=input_dim,\n",
    "    epochs=10, batch_size=32, verbose=1)"
   ]
  },
  {
   "cell_type": "markdown",
   "metadata": {},
   "source": [
    "# Pipelines"
   ]
  },
  {
   "cell_type": "code",
   "execution_count": 7,
   "metadata": {},
   "outputs": [],
   "source": [
    "final_pipeline = Pipeline([\n",
    "    (\"text_cleaning\", TextCleaner()),\n",
    "    (\"tfidf\", TFIDFVectorizer(max_features=10000, stop_words=\"english\")),\n",
    "    (\"classifier\", keras_wrapper)\n",
    "     ])\n",
    "\n",
    "evaluator = EvaluationPipeline(model=final_pipeline)"
   ]
  },
  {
   "cell_type": "code",
   "execution_count": 8,
   "metadata": {},
   "outputs": [],
   "source": [
    "# Predict Text (UI)\n",
    "class TextClassificationModel:\n",
    "    def __init__(self, pipeline):\n",
    "        \"\"\"Wrap the pre-trained pipeline.\"\"\"\n",
    "        self.pipeline = pipeline\n",
    "\n",
    "    def predict(self, input_text: str):\n",
    "        \"\"\"Predict whether the input text is AI or Human.\"\"\"\n",
    "        # Convert input into DataFrame (expected by pipeline)\n",
    "        input_df = pd.DataFrame({\"text\": [input_text]})\n",
    "\n",
    "        try:\n",
    "            # Apply transformation separately if needed\n",
    "            input_df = self.pipeline[:-1].transform(input_df)  # Process text excluding classifier\n",
    "\n",
    "            # Make prediction using the classifier\n",
    "            y_pred_proba = self.pipeline.steps[-1][1].predict_proba(input_df)\n",
    "\n",
    "            # Ensure y_pred_proba is a 2D array (even for a single sample)\n",
    "            if y_pred_proba.ndim == 1:\n",
    "                y_pred_proba = y_pred_proba.reshape(1, -1)\n",
    "\n",
    "            # Extract probability for AI class (assumed to be at index 1)\n",
    "            ai_probability = y_pred_proba[0, 1]  # First row, second column\n",
    "\n",
    "            # Determine prediction and format probability\n",
    "            prediction = \"AI\" if ai_probability > 0.5 else \"Human\"\n",
    "            probability = f\"{ai_probability * 100:.2f}%\"\n",
    "\n",
    "            return {\"Prediction\": prediction, \"AI Probability\": probability}\n",
    "\n",
    "        except Exception as e:\n",
    "            # Handle potential errors (e.g., pipeline not fitted, invalid input)\n",
    "            return {\"Error\": str(e)}\n",
    "\n",
    "# Create model instance\n",
    "model = TextClassificationModel(final_pipeline)"
   ]
  },
  {
   "cell_type": "markdown",
   "metadata": {},
   "source": [
    "# Test Use"
   ]
  },
  {
   "cell_type": "code",
   "execution_count": 9,
   "metadata": {},
   "outputs": [
    {
     "data": {
      "text/html": [
       "<div>\n",
       "<style scoped>\n",
       "    .dataframe tbody tr th:only-of-type {\n",
       "        vertical-align: middle;\n",
       "    }\n",
       "\n",
       "    .dataframe tbody tr th {\n",
       "        vertical-align: top;\n",
       "    }\n",
       "\n",
       "    .dataframe thead th {\n",
       "        text-align: right;\n",
       "    }\n",
       "</style>\n",
       "<table border=\"1\" class=\"dataframe\">\n",
       "  <thead>\n",
       "    <tr style=\"text-align: right;\">\n",
       "      <th></th>\n",
       "      <th>text</th>\n",
       "      <th>source</th>\n",
       "    </tr>\n",
       "  </thead>\n",
       "  <tbody>\n",
       "    <tr>\n",
       "      <th>0</th>\n",
       "      <td>In 1466, perhaps 40,000 people died of the pla...</td>\n",
       "      <td>1</td>\n",
       "    </tr>\n",
       "    <tr>\n",
       "      <th>1</th>\n",
       "      <td>Amazon's yet-unnamed Lord of the Rings origina...</td>\n",
       "      <td>1</td>\n",
       "    </tr>\n",
       "    <tr>\n",
       "      <th>2</th>\n",
       "      <td>@Holt  \\n***Hi. I've just rewritten the essay....</td>\n",
       "      <td>0</td>\n",
       "    </tr>\n",
       "    <tr>\n",
       "      <th>3</th>\n",
       "      <td>Pleasantly surprised! Had a few options for ve...</td>\n",
       "      <td>1</td>\n",
       "    </tr>\n",
       "    <tr>\n",
       "      <th>4</th>\n",
       "      <td>Shakespeare’s Othello: A Tragic Hero Research ...</td>\n",
       "      <td>0</td>\n",
       "    </tr>\n",
       "  </tbody>\n",
       "</table>\n",
       "</div>"
      ],
      "text/plain": [
       "                                                text  source\n",
       "0  In 1466, perhaps 40,000 people died of the pla...       1\n",
       "1  Amazon's yet-unnamed Lord of the Rings origina...       1\n",
       "2  @Holt  \\n***Hi. I've just rewritten the essay....       0\n",
       "3  Pleasantly surprised! Had a few options for ve...       1\n",
       "4  Shakespeare’s Othello: A Tragic Hero Research ...       0"
      ]
     },
     "execution_count": 9,
     "metadata": {},
     "output_type": "execute_result"
    }
   ],
   "source": [
    "df = load_data(\"../../data/10k_sampled_dataset.csv\")\n",
    "\n",
    "df.head()"
   ]
  },
  {
   "cell_type": "code",
   "execution_count": 10,
   "metadata": {},
   "outputs": [
    {
     "data": {
      "text/plain": [
       "source\n",
       "0    0.5577\n",
       "1    0.4423\n",
       "Name: proportion, dtype: float64"
      ]
     },
     "execution_count": 10,
     "metadata": {},
     "output_type": "execute_result"
    }
   ],
   "source": [
    "df[\"source\"].value_counts(normalize=True)"
   ]
  },
  {
   "cell_type": "code",
   "execution_count": 11,
   "metadata": {},
   "outputs": [],
   "source": [
    "# Train and evaluate\n",
    "\n",
    "X = df[\"text\"]  # Raw text input\n",
    "y = df[\"source\"]  # Labels (0=Human, 1=AI)\n",
    "\n",
    "X_train, X_test, y_train, y_test = train_test_split(X, y, test_size=0.2, random_state=42)"
   ]
  },
  {
   "cell_type": "code",
   "execution_count": 12,
   "metadata": {},
   "outputs": [
    {
     "name": "stdout",
     "output_type": "stream",
     "text": [
      "Epoch 1/10\n",
      "\u001b[1m250/250\u001b[0m \u001b[32m━━━━━━━━━━━━━━━━━━━━\u001b[0m\u001b[37m\u001b[0m \u001b[1m1s\u001b[0m 3ms/step - accuracy: 0.7360 - loss: 0.4821\n",
      "Epoch 2/10\n",
      "\u001b[1m250/250\u001b[0m \u001b[32m━━━━━━━━━━━━━━━━━━━━\u001b[0m\u001b[37m\u001b[0m \u001b[1m1s\u001b[0m 3ms/step - accuracy: 0.9585 - loss: 0.1138\n",
      "Epoch 3/10\n",
      "\u001b[1m250/250\u001b[0m \u001b[32m━━━━━━━━━━━━━━━━━━━━\u001b[0m\u001b[37m\u001b[0m \u001b[1m1s\u001b[0m 3ms/step - accuracy: 0.9898 - loss: 0.0387\n",
      "Epoch 4/10\n",
      "\u001b[1m250/250\u001b[0m \u001b[32m━━━━━━━━━━━━━━━━━━━━\u001b[0m\u001b[37m\u001b[0m \u001b[1m1s\u001b[0m 3ms/step - accuracy: 0.9962 - loss: 0.0151\n",
      "Epoch 5/10\n",
      "\u001b[1m250/250\u001b[0m \u001b[32m━━━━━━━━━━━━━━━━━━━━\u001b[0m\u001b[37m\u001b[0m \u001b[1m1s\u001b[0m 3ms/step - accuracy: 0.9993 - loss: 0.0047\n",
      "Epoch 6/10\n",
      "\u001b[1m250/250\u001b[0m \u001b[32m━━━━━━━━━━━━━━━━━━━━\u001b[0m\u001b[37m\u001b[0m \u001b[1m1s\u001b[0m 3ms/step - accuracy: 0.9994 - loss: 0.0024\n",
      "Epoch 7/10\n",
      "\u001b[1m250/250\u001b[0m \u001b[32m━━━━━━━━━━━━━━━━━━━━\u001b[0m\u001b[37m\u001b[0m \u001b[1m1s\u001b[0m 3ms/step - accuracy: 1.0000 - loss: 9.7425e-04\n",
      "Epoch 8/10\n",
      "\u001b[1m250/250\u001b[0m \u001b[32m━━━━━━━━━━━━━━━━━━━━\u001b[0m\u001b[37m\u001b[0m \u001b[1m1s\u001b[0m 3ms/step - accuracy: 0.9994 - loss: 0.0013\n",
      "Epoch 9/10\n",
      "\u001b[1m250/250\u001b[0m \u001b[32m━━━━━━━━━━━━━━━━━━━━\u001b[0m\u001b[37m\u001b[0m \u001b[1m1s\u001b[0m 3ms/step - accuracy: 1.0000 - loss: 3.6267e-04\n",
      "Epoch 10/10\n",
      "\u001b[1m250/250\u001b[0m \u001b[32m━━━━━━━━━━━━━━━━━━━━\u001b[0m\u001b[37m\u001b[0m \u001b[1m1s\u001b[0m 3ms/step - accuracy: 1.0000 - loss: 2.8770e-04\n",
      "\n",
      "Training Accuracy: 1.0000\n",
      "\u001b[1m63/63\u001b[0m \u001b[32m━━━━━━━━━━━━━━━━━━━━\u001b[0m\u001b[37m\u001b[0m \u001b[1m0s\u001b[0m 838us/step\n",
      "Model Performance on Test Set:\n",
      "Loss: 3.6765\n",
      "Accuracy: 0.8980\n",
      "Precision: 0.8908\n",
      "Recall: 0.8767\n",
      "ROC-AUC: 0.8958\n"
     ]
    },
    {
     "data": {
      "image/png": "[encoded data removed]",
      "text/plain": [
       "<Figure size 500x400 with 1 Axes>"
      ]
     },
     "metadata": {},
     "output_type": "display_data"
    },
    {
     "data": {
      "image/png": "[encoded data removed]",
      "text/plain": [
       "<Figure size 500x400 with 2 Axes>"
      ]
     },
     "metadata": {},
     "output_type": "display_data"
    }
   ],
   "source": [
    "# Train Model\n",
    "final_pipeline.fit(X_train, y_train)\n",
    "\n",
    "# Track Accuracy History (Ensure This is Called Before Evaluation)\n",
    "evaluator.track_accuracy(X_train, y_train)\n",
    "\n",
    "# Evaluate Model\n",
    "results = evaluator.evaluate(X_test, y_test)\n",
    "results"
   ]
  },
  {
   "cell_type": "markdown",
   "metadata": {},
   "source": [
    "# Save Model"
   ]
  },
  {
   "cell_type": "code",
   "execution_count": 13,
   "metadata": {},
   "outputs": [
    {
     "name": "stdout",
     "output_type": "stream",
     "text": [
      "Model has been saved..\n",
      "Pipeline has been saved..\n"
     ]
    }
   ],
   "source": [
    "# Save model\n",
    "keras_model = final_pipeline.named_steps[\"classifier\"].model_\n",
    "keras_model.save(\"../export/final_keras_model01.keras\")\n",
    "print(\"Model has been saved..\")\n",
    "\n",
    "# Save Pipeline\n",
    "joblib.dump(final_pipeline, \"../export/final_pipeline01.pkl\")\n",
    "print(\"Pipeline has been saved..\")"
   ]
  },
  {
   "cell_type": "markdown",
   "metadata": {},
   "source": [
    "# Test Use"
   ]
  },
  {
   "cell_type": "code",
   "execution_count": 14,
   "metadata": {},
   "outputs": [
    {
     "name": "stdout",
     "output_type": "stream",
     "text": [
      "\u001b[1m1/1\u001b[0m \u001b[32m━━━━━━━━━━━━━━━━━━━━\u001b[0m\u001b[37m\u001b[0m \u001b[1m0s\u001b[0m 13ms/step\n"
     ]
    },
    {
     "data": {
      "text/plain": [
       "{'Prediction': 'AI', 'AI Probability': '94.68%'}"
      ]
     },
     "execution_count": 14,
     "metadata": {},
     "output_type": "execute_result"
    }
   ],
   "source": [
    "test01 = \"Melbourne, Australia, is renowned for its vibrant and sophisticated coffee culture, often considered one of the best in the world. The city’s laneways are dotted with cozy cafes, each offering meticulously crafted brews that reflect a deep passion for quality and artistry. From flat whites to single-origin pour-overs, Melbourne’s baristas are skilled artisans, dedicated to perfecting every cup. The coffee scene here is more than just a drink—it’s a lifestyle, a social ritual, and a celebration of community. Locals take pride in their coffee knowledge, favoring independent roasters and ethically sourced beans. Whether it’s a hidden gem in Degraves Street or a trendy spot in Fitzroy, Melbourne’s coffee culture is an immersive experience, blending innovation with tradition, and creating a haven for coffee lovers from around the globe.\"\n",
    "\n",
    "y_pred = model.predict(test01)\n",
    "y_pred"
   ]
  },
  {
   "cell_type": "code",
   "execution_count": 15,
   "metadata": {},
   "outputs": [
    {
     "name": "stdout",
     "output_type": "stream",
     "text": [
      "\u001b[1m1/1\u001b[0m \u001b[32m━━━━━━━━━━━━━━━━━━━━\u001b[0m\u001b[37m\u001b[0m \u001b[1m0s\u001b[0m 12ms/step\n"
     ]
    },
    {
     "data": {
      "text/plain": [
       "{'Prediction': 'AI', 'AI Probability': '96.25%'}"
      ]
     },
     "execution_count": 15,
     "metadata": {},
     "output_type": "execute_result"
    }
   ],
   "source": [
    "test02 = \"Cats are known to be bringing luck to the house, although there's been misconception that black cats brings bad luck. Can you distinguish between people who own cats and who owns dogs? Many people believe that cat owners are more introverted and dog owners are the exact opposite.\"\n",
    "\n",
    "y_pred = model.predict(test02)\n",
    "y_pred"
   ]
  },
  {
   "cell_type": "code",
   "execution_count": 16,
   "metadata": {},
   "outputs": [
    {
     "name": "stdout",
     "output_type": "stream",
     "text": [
      "\u001b[1m1/1\u001b[0m \u001b[32m━━━━━━━━━━━━━━━━━━━━\u001b[0m\u001b[37m\u001b[0m \u001b[1m0s\u001b[0m 13ms/step\n"
     ]
    },
    {
     "data": {
      "text/plain": [
       "{'Prediction': 'AI', 'AI Probability': '99.94%'}"
      ]
     },
     "execution_count": 16,
     "metadata": {},
     "output_type": "execute_result"
    }
   ],
   "source": [
    "test03 = \"Bali is extremely hot today. I can't wait for winter.\"\n",
    "\n",
    "y_pred = model.predict(test03)\n",
    "y_pred"
   ]
  }
 ],
 "metadata": {
  "kernelspec": {
   "display_name": "fake-data-detector",
   "language": "python",
   "name": "python3"
  },
  "language_info": {
   "codemirror_mode": {
    "name": "ipython",
    "version": 3
   },
   "file_extension": ".py",
   "mimetype": "text/x-python",
   "name": "python",
   "nbconvert_exporter": "python",
   "pygments_lexer": "ipython3",
   "version": "3.10.6"
  }
 },
 "nbformat": 4,
 "nbformat_minor": 2
}
