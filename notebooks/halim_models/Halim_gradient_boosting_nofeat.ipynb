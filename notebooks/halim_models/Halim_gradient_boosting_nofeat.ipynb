{
 "cells": [
  {
   "cell_type": "code",
   "execution_count": 1,
   "metadata": {},
   "outputs": [],
   "source": [
    "import os\n",
    "\n",
    "import pandas as pd\n",
    "import numpy as np\n",
    "import seaborn as sns\n",
    "import matplotlib.pyplot as plt\n",
    "%matplotlib inline\n",
    "\n",
    "import re\n",
    "import string\n",
    "import nltk\n",
    "from nltk.corpus import wordnet, cmudict, stopwords\n",
    "from nltk.tokenize import word_tokenize\n",
    "from nltk.stem import WordNetLemmatizer\n",
    "#nltk.download('punkt')\n",
    "#nltk.download('punkt_tab')\n",
    "#nltk.download('stopwords')\n",
    "#nltk.download('wordnet')\n",
    "#nltk.download('averaged_perceptron_tagger_eng')\n",
    "\n",
    "from textblob import TextBlob\n",
    "from gensim.models import LsiModel\n",
    "from gensim import corpora\n",
    "from gensim.models.coherencemodel import CoherenceModel\n",
    "from collections import Counter\n",
    "import textstat\n",
    "\n",
    "from sklearn.model_selection import train_test_split\n",
    "from sklearn.preprocessing import StandardScaler\n",
    "from sklearn.metrics import confusion_matrix, classification_report, accuracy_score, roc_auc_score, precision_score, recall_score, log_loss\n",
    "from sklearn.feature_extraction.text import TfidfVectorizer\n",
    "from sklearn.ensemble import GradientBoostingClassifier\n",
    "\n",
    "from scipy.sparse import hstack"
   ]
  },
  {
   "cell_type": "code",
   "execution_count": 2,
   "metadata": {},
   "outputs": [
    {
     "data": {
      "text/html": [
       "<div>\n",
       "<style scoped>\n",
       "    .dataframe tbody tr th:only-of-type {\n",
       "        vertical-align: middle;\n",
       "    }\n",
       "\n",
       "    .dataframe tbody tr th {\n",
       "        vertical-align: top;\n",
       "    }\n",
       "\n",
       "    .dataframe thead th {\n",
       "        text-align: right;\n",
       "    }\n",
       "</style>\n",
       "<table border=\"1\" class=\"dataframe\">\n",
       "  <thead>\n",
       "    <tr style=\"text-align: right;\">\n",
       "      <th></th>\n",
       "      <th>text</th>\n",
       "      <th>source</th>\n",
       "      <th>prompt_id</th>\n",
       "      <th>text_length</th>\n",
       "      <th>word_count</th>\n",
       "    </tr>\n",
       "  </thead>\n",
       "  <tbody>\n",
       "    <tr>\n",
       "      <th>0</th>\n",
       "      <td>In 1466, perhaps 40,000 people died of the pla...</td>\n",
       "      <td>Flan-T5-XXL</td>\n",
       "      <td>0</td>\n",
       "      <td>336</td>\n",
       "      <td>63</td>\n",
       "    </tr>\n",
       "    <tr>\n",
       "      <th>1</th>\n",
       "      <td>Amazon's yet-unnamed Lord of the Rings origina...</td>\n",
       "      <td>GLM-130B</td>\n",
       "      <td>0</td>\n",
       "      <td>2251</td>\n",
       "      <td>393</td>\n",
       "    </tr>\n",
       "    <tr>\n",
       "      <th>2</th>\n",
       "      <td>@Holt  \\n***Hi. I've just rewritten the essay....</td>\n",
       "      <td>Human</td>\n",
       "      <td>0</td>\n",
       "      <td>1994</td>\n",
       "      <td>337</td>\n",
       "    </tr>\n",
       "    <tr>\n",
       "      <th>3</th>\n",
       "      <td>Pleasantly surprised! Had a few options for ve...</td>\n",
       "      <td>GLM-130B</td>\n",
       "      <td>0</td>\n",
       "      <td>4182</td>\n",
       "      <td>797</td>\n",
       "    </tr>\n",
       "    <tr>\n",
       "      <th>4</th>\n",
       "      <td>Shakespeare’s Othello: A Tragic Hero Research ...</td>\n",
       "      <td>Human</td>\n",
       "      <td>0</td>\n",
       "      <td>12845</td>\n",
       "      <td>2143</td>\n",
       "    </tr>\n",
       "  </tbody>\n",
       "</table>\n",
       "</div>"
      ],
      "text/plain": [
       "                                                text       source  prompt_id  \\\n",
       "0  In 1466, perhaps 40,000 people died of the pla...  Flan-T5-XXL          0   \n",
       "1  Amazon's yet-unnamed Lord of the Rings origina...     GLM-130B          0   \n",
       "2  @Holt  \\n***Hi. I've just rewritten the essay....        Human          0   \n",
       "3  Pleasantly surprised! Had a few options for ve...     GLM-130B          0   \n",
       "4  Shakespeare’s Othello: A Tragic Hero Research ...        Human          0   \n",
       "\n",
       "   text_length  word_count  \n",
       "0          336          63  \n",
       "1         2251         393  \n",
       "2         1994         337  \n",
       "3         4182         797  \n",
       "4        12845        2143  "
      ]
     },
     "execution_count": 2,
     "metadata": {},
     "output_type": "execute_result"
    }
   ],
   "source": [
    "data = pd.read_csv(\"../../data/10k_sampled_dataset.csv\", encoding=\"utf-8\")\n",
    "data.head()"
   ]
  },
  {
   "cell_type": "markdown",
   "metadata": {},
   "source": [
    "# Data Exploration"
   ]
  },
  {
   "cell_type": "code",
   "execution_count": 3,
   "metadata": {},
   "outputs": [
    {
     "data": {
      "text/html": [
       "<div>\n",
       "<style scoped>\n",
       "    .dataframe tbody tr th:only-of-type {\n",
       "        vertical-align: middle;\n",
       "    }\n",
       "\n",
       "    .dataframe tbody tr th {\n",
       "        vertical-align: top;\n",
       "    }\n",
       "\n",
       "    .dataframe thead th {\n",
       "        text-align: right;\n",
       "    }\n",
       "</style>\n",
       "<table border=\"1\" class=\"dataframe\">\n",
       "  <thead>\n",
       "    <tr style=\"text-align: right;\">\n",
       "      <th></th>\n",
       "      <th>text</th>\n",
       "      <th>source</th>\n",
       "      <th>text_length</th>\n",
       "      <th>word_count</th>\n",
       "    </tr>\n",
       "  </thead>\n",
       "  <tbody>\n",
       "    <tr>\n",
       "      <th>0</th>\n",
       "      <td>In 1466, perhaps 40,000 people died of the pla...</td>\n",
       "      <td>AI</td>\n",
       "      <td>336</td>\n",
       "      <td>63</td>\n",
       "    </tr>\n",
       "    <tr>\n",
       "      <th>1</th>\n",
       "      <td>Amazon's yet-unnamed Lord of the Rings origina...</td>\n",
       "      <td>AI</td>\n",
       "      <td>2251</td>\n",
       "      <td>393</td>\n",
       "    </tr>\n",
       "    <tr>\n",
       "      <th>2</th>\n",
       "      <td>@Holt  \\n***Hi. I've just rewritten the essay....</td>\n",
       "      <td>Human</td>\n",
       "      <td>1994</td>\n",
       "      <td>337</td>\n",
       "    </tr>\n",
       "  </tbody>\n",
       "</table>\n",
       "</div>"
      ],
      "text/plain": [
       "                                                text source  text_length  \\\n",
       "0  In 1466, perhaps 40,000 people died of the pla...     AI          336   \n",
       "1  Amazon's yet-unnamed Lord of the Rings origina...     AI         2251   \n",
       "2  @Holt  \\n***Hi. I've just rewritten the essay....  Human         1994   \n",
       "\n",
       "   word_count  \n",
       "0          63  \n",
       "1         393  \n",
       "2         337  "
      ]
     },
     "execution_count": 3,
     "metadata": {},
     "output_type": "execute_result"
    }
   ],
   "source": [
    "df = data.copy()\n",
    "df[\"source\"] = df[\"source\"].apply(lambda x: \"AI\" if x != \"Human\" else x)\n",
    "df.drop(columns=\"prompt_id\", inplace=True)\n",
    "df.head(3)"
   ]
  },
  {
   "cell_type": "code",
   "execution_count": 4,
   "metadata": {},
   "outputs": [
    {
     "data": {
      "text/plain": [
       "source\n",
       "Human    0.5577\n",
       "AI       0.4423\n",
       "Name: proportion, dtype: float64"
      ]
     },
     "execution_count": 4,
     "metadata": {},
     "output_type": "execute_result"
    }
   ],
   "source": [
    "df[\"source\"].value_counts(normalize=True)"
   ]
  },
  {
   "cell_type": "code",
   "execution_count": 5,
   "metadata": {},
   "outputs": [
    {
     "name": "stdout",
     "output_type": "stream",
     "text": [
      "<class 'pandas.core.frame.DataFrame'>\n",
      "RangeIndex: 10000 entries, 0 to 9999\n",
      "Data columns (total 4 columns):\n",
      " #   Column       Non-Null Count  Dtype \n",
      "---  ------       --------------  ----- \n",
      " 0   text         10000 non-null  object\n",
      " 1   source       10000 non-null  object\n",
      " 2   text_length  10000 non-null  int64 \n",
      " 3   word_count   10000 non-null  int64 \n",
      "dtypes: int64(2), object(2)\n",
      "memory usage: 312.6+ KB\n"
     ]
    }
   ],
   "source": [
    "df.info()"
   ]
  },
  {
   "cell_type": "code",
   "execution_count": 6,
   "metadata": {},
   "outputs": [
    {
     "data": {
      "image/png": "[encoded data removed]",
      "text/plain": [
       "<Figure size 1000x500 with 2 Axes>"
      ]
     },
     "metadata": {},
     "output_type": "display_data"
    }
   ],
   "source": [
    "fig, axes = plt.subplots(1, 2, figsize=(10, 5))\n",
    "\n",
    "axes[0].hist(df[\"text_length\"], bins=20, edgecolor=\"black\")\n",
    "axes[0].set_title(\"Text Length Distribution\")\n",
    "axes[0].set_xlabel(\"Text Length\")\n",
    "axes[0].set_ylabel(\"Frequency\")\n",
    "\n",
    "axes[1].hist(df[\"word_count\"], bins=20, edgecolor=\"black\")\n",
    "axes[1].set_title(\"Word Count Distribution\")\n",
    "axes[1].set_xlabel(\"Word Count\")\n",
    "axes[1].set_ylabel(\"Frequency\")\n",
    "\n",
    "plt.show()\n"
   ]
  },
  {
   "cell_type": "code",
   "execution_count": 7,
   "metadata": {},
   "outputs": [
    {
     "data": {
      "text/html": [
       "<div>\n",
       "<style scoped>\n",
       "    .dataframe tbody tr th:only-of-type {\n",
       "        vertical-align: middle;\n",
       "    }\n",
       "\n",
       "    .dataframe tbody tr th {\n",
       "        vertical-align: top;\n",
       "    }\n",
       "\n",
       "    .dataframe thead th {\n",
       "        text-align: right;\n",
       "    }\n",
       "</style>\n",
       "<table border=\"1\" class=\"dataframe\">\n",
       "  <thead>\n",
       "    <tr style=\"text-align: right;\">\n",
       "      <th></th>\n",
       "      <th>text</th>\n",
       "      <th>source</th>\n",
       "      <th>text_length</th>\n",
       "      <th>word_count</th>\n",
       "      <th>contains_numbers</th>\n",
       "      <th>contains_special_chars</th>\n",
       "    </tr>\n",
       "  </thead>\n",
       "  <tbody>\n",
       "    <tr>\n",
       "      <th>0</th>\n",
       "      <td>In 1466, perhaps 40,000 people died of the pla...</td>\n",
       "      <td>AI</td>\n",
       "      <td>336</td>\n",
       "      <td>63</td>\n",
       "      <td>True</td>\n",
       "      <td>True</td>\n",
       "    </tr>\n",
       "    <tr>\n",
       "      <th>1</th>\n",
       "      <td>Amazon's yet-unnamed Lord of the Rings origina...</td>\n",
       "      <td>AI</td>\n",
       "      <td>2251</td>\n",
       "      <td>393</td>\n",
       "      <td>True</td>\n",
       "      <td>True</td>\n",
       "    </tr>\n",
       "    <tr>\n",
       "      <th>2</th>\n",
       "      <td>@Holt  \\n***Hi. I've just rewritten the essay....</td>\n",
       "      <td>Human</td>\n",
       "      <td>1994</td>\n",
       "      <td>337</td>\n",
       "      <td>True</td>\n",
       "      <td>True</td>\n",
       "    </tr>\n",
       "    <tr>\n",
       "      <th>3</th>\n",
       "      <td>Pleasantly surprised! Had a few options for ve...</td>\n",
       "      <td>AI</td>\n",
       "      <td>4182</td>\n",
       "      <td>797</td>\n",
       "      <td>True</td>\n",
       "      <td>True</td>\n",
       "    </tr>\n",
       "    <tr>\n",
       "      <th>4</th>\n",
       "      <td>Shakespeare’s Othello: A Tragic Hero Research ...</td>\n",
       "      <td>Human</td>\n",
       "      <td>12845</td>\n",
       "      <td>2143</td>\n",
       "      <td>True</td>\n",
       "      <td>True</td>\n",
       "    </tr>\n",
       "  </tbody>\n",
       "</table>\n",
       "</div>"
      ],
      "text/plain": [
       "                                                text source  text_length  \\\n",
       "0  In 1466, perhaps 40,000 people died of the pla...     AI          336   \n",
       "1  Amazon's yet-unnamed Lord of the Rings origina...     AI         2251   \n",
       "2  @Holt  \\n***Hi. I've just rewritten the essay....  Human         1994   \n",
       "3  Pleasantly surprised! Had a few options for ve...     AI         4182   \n",
       "4  Shakespeare’s Othello: A Tragic Hero Research ...  Human        12845   \n",
       "\n",
       "   word_count  contains_numbers  contains_special_chars  \n",
       "0          63              True                    True  \n",
       "1         393              True                    True  \n",
       "2         337              True                    True  \n",
       "3         797              True                    True  \n",
       "4        2143              True                    True  "
      ]
     },
     "execution_count": 7,
     "metadata": {},
     "output_type": "execute_result"
    }
   ],
   "source": [
    "# Check if text column contains numbers and special characters\n",
    "\n",
    "df[\"contains_numbers\"] = df[\"text\"].str.contains(r\"\\d\", regex=True)\n",
    "df[\"contains_special_chars\"] = df[\"text\"].str.contains(r\"[^\\w\\s]\", regex=True)\n",
    "\n",
    "df.head()"
   ]
  },
  {
   "cell_type": "code",
   "execution_count": 8,
   "metadata": {},
   "outputs": [
    {
     "data": {
      "image/png": "[encoded data removed]",
      "text/plain": [
       "<Figure size 1000x400 with 2 Axes>"
      ]
     },
     "metadata": {},
     "output_type": "display_data"
    }
   ],
   "source": [
    "fig, axes = plt.subplots(1, 2, figsize=(10, 4))\n",
    "\n",
    "sns.barplot(x=df[\"source\"], y=df[\"contains_numbers\"], ax=axes[0])\n",
    "axes[0].set_title(\"Text Containing Number Proportion\")\n",
    "\n",
    "sns.barplot(x=df[\"source\"], y=df[\"contains_special_chars\"], ax=axes[1])\n",
    "axes[1].set_title(\"Text Containing Special Chars Proportion\")\n",
    "\n",
    "plt.tight_layout();"
   ]
  },
  {
   "cell_type": "code",
   "execution_count": 9,
   "metadata": {},
   "outputs": [
    {
     "data": {
      "text/plain": [
       "contains_numbers\n",
       "True     6262\n",
       "False    3738\n",
       "Name: count, dtype: int64"
      ]
     },
     "execution_count": 9,
     "metadata": {},
     "output_type": "execute_result"
    }
   ],
   "source": [
    "df[\"contains_numbers\"].value_counts()"
   ]
  },
  {
   "cell_type": "code",
   "execution_count": 10,
   "metadata": {},
   "outputs": [
    {
     "data": {
      "text/plain": [
       "contains_special_chars\n",
       "True     9999\n",
       "False       1\n",
       "Name: count, dtype: int64"
      ]
     },
     "execution_count": 10,
     "metadata": {},
     "output_type": "execute_result"
    }
   ],
   "source": [
    "df[\"contains_special_chars\"].value_counts()"
   ]
  },
  {
   "cell_type": "markdown",
   "metadata": {},
   "source": [
    "# Data Cleaning"
   ]
  },
  {
   "cell_type": "code",
   "execution_count": 11,
   "metadata": {},
   "outputs": [],
   "source": [
    "# Mapping POS tags to WordNet POS tags for better lemmatization\n",
    "\n",
    "def get_wordnet_pos(text):\n",
    "    \"\"\"Convert NLTK POS tag to a format suitable for WordNet Lemmatizer.\"\"\"\n",
    "    tag_dict = {\"J\": wordnet.ADJ, \"N\": wordnet.NOUN, \"V\": wordnet.VERB, \"R\": wordnet.ADV}\n",
    "    tag = nltk.pos_tag([text])[0][1][0].upper() if text else \"N\" # Default to NOUN\n",
    "    return tag_dict.get(tag, wordnet.NOUN)  # Default to NOUN if no match\n",
    "\n",
    "def text_cleaning(text):\n",
    "    \"\"\"Clean text but preserve some symbols and numbers.\"\"\"\n",
    "    if not isinstance(text, str):  # Handle non-string input\n",
    "        return \"\"\n",
    "\n",
    "    text = text.lower() # Turn to all lowercase\n",
    "    text = text.strip() # Remove whitespace\n",
    "    text = re.sub(r'[^\\x00-\\x7F]+', '', text) # Remove non-ASCII characters\n",
    "\n",
    "    symbols_to_keep = {\"$\", \"-\", \"%\"} # Keep these symbols\n",
    "    text_clean = \"\".join(char if char not in string.punctuation or char in symbols_to_keep else \"\" for char in text)\n",
    "\n",
    "    tokenized = word_tokenize(text_clean)\n",
    "    tagged_words = nltk.pos_tag(tokenized)\n",
    "    lemmatizer = WordNetLemmatizer()\n",
    "    lemmatized = [lemmatizer.lemmatize(word, get_wordnet_pos(word)) for word, _ in tagged_words]\n",
    "    cleaned_text = \" \".join(lemmatized)\n",
    "\n",
    "    return cleaned_text"
   ]
  },
  {
   "cell_type": "code",
   "execution_count": 12,
   "metadata": {},
   "outputs": [
    {
     "data": {
      "text/plain": [
       "'shakespeare othello a tragic hero research paper although his name be associate with athens aristotle be a native of thrace where he be born in 384 bc his father nicomathus who die while aristotle be young be physician at the court of macedon and the son fortune be always tie to those of the macedonian ruler frost 1942 1962 in 3687 when he be about seventeen aristotle come to athens to study with plato of the academy he stayed there for twenty year unfortunately little be know about the personal relationship between the two great thinker of their time the one bring to a close a long productive career the other in his formative year it be suggest that aristotle have broken off with plato and be ready to leave the academy before the latter death in 3487 frost 19421962 a a pupil of plato aristotle and his master stand among the world very great of philosopher frost 1942 1962 in 3487 philip of macedon attack stagira nearly forty his master dead and his ancestral home destroyed aristotle left athens and the academy he be away for thirteen year he probably taught for three year at assos in asia minor where he live under the protection of the ruler hermias there he married hermias niece pythia who bore him a daughter by another woman of stagira he have a son nicomachus for another three year he live at mytilene on the island of lisbos at the invitation of king philip aristotle come to the macedonian court a tutor to the thirteen-year-old heir to the throne alexander the great from this association which last about eight year aristotle gain the friendship and protection of the most powerful ruler of his time when alexander the great die aristotle flee to chalcis where he die the follow year at the age of about 62 kaplan 1958 william shakespeare be a strong adherent of aristotle in his writing shakespeare be the son of john shakespeare of stratford upon- avon a substantial citizen of that small but busy market town in the heart of the rich agricultural county of warwick john shakespeare kept a shop and dealt in wool and other produce gradually acquire property a a youth he learn the trade of glove and leather worker john married mary arden daughter of his father landlord the third of their eight child be william baptize on april 26 and be probably born three day before john sent his son to free grammar school the grammar school provide basic education in latin learn and literature and a little knowledge of greek there be little documentation for shakespeare boyhood the most important record be a marriage license issue november 27 1582 to permit william shakespeare to marry anne hathaway eight year his senior 1592 the first reference to shakespeare a an actor and playwright be available document indicate that in 1598 he be a principal comedian and in 1603 he be a principal tragedian shakespeare literary activity seem to have be almost entirely devote to the theater in an anthology by francis mere many playwright be mention but shakespeare be the only name whose play be list from his act and playwrighting shakespeare seem to have make considerable money he put it to work make a lot of investment in stratford real estate on april 25 1616 he be bury within the chancel of the church at stratford wright 1967 thirty-seven play a well a some poem be held to constitute the shakespeare canon the date of composition of most of his work be highly uncertain there be no real proof for example that othello be not a early a romeo and juliet but intelligent guess lead u to believe that othello come later bryant 1964 othello be one of shakespeare outstanding tragedy thesis statement what be a tragedy a tragedy be the imitation of an action that be serious and also have magnitude complete in itself in language with pleasurable accessory each kind brought separately in the part of the work in a dramatic not in narrative form with incident arouse pity and fear wherewith to accomplish it catharsis of such emotion kaplan 1942 othello be one of the darkest and most passionate of the play of william shakespeare it tell about the nature of love friendship and betrayal set in venice and the exotic island of cyprus the play narrates the tale of othello the moor and desdemona who dare to love him against the backdrop of war and the quest for power then iago and his wife emilia enter their life jealousy and the mad power of the imagination together form an alliance of conflict passion and cunning lie that destroy every one ad everything in their wakestudying othello the moor of venice the story of the play in a nutshell go thus othello a noble moor in the military service of venice who marries desdemona daughter of a senator iago his ancient or standard bearer a man of mean mind and thwart ambition make othello think that desdemona have be unfaithful the moor smother his wife and then confront with proof of iago perfidy kill himself groliers encyclopedia 1961 a tragic event be one in which an individual suffers greatly a othello do believe the infidelity of desdemona aware of his plight and learn from it he struggle against his suffer and it cause for aristotle tragedy be true because of it unity of plot the plot of tragedy must proceed accord to the law of probability the event of the plot must be related a cause to effect this be true of othello tragedy be therefore truer than history wherein thing frequently happen by chance the truth of tragedy be that it imitates the true form of thing rather than their accidental appearance for aristotle the true nature of thing be the necessary or probable consequence of a give combination of people and circumstance one of the most difficult concept introduce in aristotle poetics be catharsis catharsis be most often define a the purge of the emotion of pity and fear that occurs when we watch a tragedy like othello what be actually involve in this purge be not clear but what be experienced in such an excess of tragic suffer be something common the spectator recognizes himselfherself and hisher finiteness in the face of the power of fate what happens for example to the character othello have exemplary significance to see that this be how it be be a kind of self-knowledge for the spectator who emerges with new insight from the illusion in which heshe like everyone else life othello have perhaps the simplest plot of any of shakespeare play there be no real sub-plots only very brief comic interlude and what happens from act 2 to act 5 take place in a period of some thirty six hour in othello event happen in a shorter space of time than be usual with shakespeare the classical greek writer aristotle recommend that the play should have what he call unity of time place and action he argue that the action of a play should not take longer than twenty four hour exclude the first act which serf a a prologue othello come closer than most shakesperean play the effect on the audience be to make the tragedy more intense this brings the reader to an explanation of the term hamartia the greek word that describes what many people refer to a the tragic flaw of the hero of greek tragedy be hamartia hamartia have a complex meaning which include sin error and miss the mark the mistake of the hero play a significant role in the plot o the tragedy the logic of the hero fall into misfortune be determine by the nature of hisher particular kind of hamartia in othello hamartia be evident in the unreasonable jealousy of the character othello othello belief in desdemonas adultery be literally illogical since there be no occasion when it could have transpire desdemona and cassio travel to cyprus on different ship from that moment on there be no time when the two be together this fact do not only make othello jealousy hard for the viewer to believe in it show it to be more insane the villain iago make him believe what be clearly impossible yet othello madden by his jealousy can not see it sometimes the viewer would think that he be stupid to be swayed by the evil of iago but iago be a villain and truly act the part the reversal of the situation in the plot of a tragedy be the peripeteia accord to aristotle the change of fortune for the hero should be an event that occurs contrary to the audience expectation and that be therefore surprising but that nevertheless seem a necessary outcome of the precede action in the last three act the plot move almost with no interruption towards it tragic conclusion at the start of act 3 othello be happily in love with desdemona yet his happiness be about to be ruin see cassio with desdemona iago hint at an adulterous relationship between them although he know he have no hard evidence when othello demand that iago prove desdemonas guilt iago speaks to bianca cassios mistress in such a way that othello think he be speak about desdemona othello then asks iago to kill cassio while othello be to kill desdemona fully convince of desdemonas unfaithfulness othello verbally abuse his wife in front of others who be shock at the change in the noble and powerful personage at this point it be important to describe the nature of desdemonas love for othello from begin to end she be faithful and true to her husband revive after othello attempt to finally kill her she declares herself guiltless but say a she dy that othello be innocent of her death her relationship with cassio and emilia be that of friendship alone and it be emilia herself who defend desdemonas innocence find out that her evil husband iago be behind the tragedy anagnorisis accord to aristotle be the recognition by the tragic hero of some truth about hisher identity or action that accompany the reversal of the situation in the plot the peripateia when othello see the truth in emilia statement he try to kill iago but iago kill emilia and flees othello condemns himself and commits suicide after othello kill desdemona emilia discover what he have do tell him he be wrong in his suspicion of desdemona emilia and the wound cassio be able to persuade othello of the truth before they be kill despite his flaw and faulty decision mostly due to the machination of iago othello be almost fanatically loyal to the state he serf when he be sure he have be betrayed he make a move speech bidding farewell to his occupation in his final speech othello speaks of be great loyalty to the venetian state which he have disgrace by murder his wife and of his terrible mistake before stab himself a iago be take away to be torture what a waste of life that of our hero othello and those of the two virtuous woman desdemona and emilia despite the color of his skin othello be a very good soldier to make it to the top a a commander he have great beauty of speech which have an inspire effect on his men and nobility of character this point be make clear by desdemona i saw othello visage in his mind they could have live happily ever after and emilia we can say that be such a moral person she do not deserve the devil iago a her husband the practical and formal concern that occupy aristotle in the poetics need to be understood in relation to a large concern with the psychological and social purpose of literature criticism accord to aristotle should not be the application of unexamined aesthetic principle but should pay careful attention to the overall function of any feature of a work of art in it context within the work and should never lose sight of the function of the work of art in it social context forster 1955 it be hop that this analysis of othello might help the reader to review and clarify his understand of the term concept category and interrelationship that aristotle introduces source bryant jr the tragedy of romeo and juliet 1964 forster em aspect of the novel new york harcourt bracejovanovich 1955 gadamer h truth and method new york weinsheimer and marshall 1995 kaplan jd ed the pocket aristotle simon and schuster 1958 study othello the moor of venice 2008 web wright lb lamar va reader shakespeare simon schuster 1967 groliers encyclopedia vol xv grolier incorporate 1961'"
      ]
     },
     "execution_count": 12,
     "metadata": {},
     "output_type": "execute_result"
    }
   ],
   "source": [
    "# Testing text cleaning function\n",
    "\n",
    "text_cleaning(df[\"text\"].iloc[4])"
   ]
  },
  {
   "cell_type": "code",
   "execution_count": 13,
   "metadata": {},
   "outputs": [
    {
     "data": {
      "text/html": [
       "<div>\n",
       "<style scoped>\n",
       "    .dataframe tbody tr th:only-of-type {\n",
       "        vertical-align: middle;\n",
       "    }\n",
       "\n",
       "    .dataframe tbody tr th {\n",
       "        vertical-align: top;\n",
       "    }\n",
       "\n",
       "    .dataframe thead th {\n",
       "        text-align: right;\n",
       "    }\n",
       "</style>\n",
       "<table border=\"1\" class=\"dataframe\">\n",
       "  <thead>\n",
       "    <tr style=\"text-align: right;\">\n",
       "      <th></th>\n",
       "      <th>text</th>\n",
       "      <th>source</th>\n",
       "      <th>text_length</th>\n",
       "      <th>word_count</th>\n",
       "    </tr>\n",
       "  </thead>\n",
       "  <tbody>\n",
       "    <tr>\n",
       "      <th>0</th>\n",
       "      <td>In 1466, perhaps 40,000 people died of the pla...</td>\n",
       "      <td>AI</td>\n",
       "      <td>336</td>\n",
       "      <td>63</td>\n",
       "    </tr>\n",
       "    <tr>\n",
       "      <th>1</th>\n",
       "      <td>Amazon's yet-unnamed Lord of the Rings origina...</td>\n",
       "      <td>AI</td>\n",
       "      <td>2251</td>\n",
       "      <td>393</td>\n",
       "    </tr>\n",
       "    <tr>\n",
       "      <th>2</th>\n",
       "      <td>@Holt  \\n***Hi. I've just rewritten the essay....</td>\n",
       "      <td>Human</td>\n",
       "      <td>1994</td>\n",
       "      <td>337</td>\n",
       "    </tr>\n",
       "    <tr>\n",
       "      <th>3</th>\n",
       "      <td>Pleasantly surprised! Had a few options for ve...</td>\n",
       "      <td>AI</td>\n",
       "      <td>4182</td>\n",
       "      <td>797</td>\n",
       "    </tr>\n",
       "    <tr>\n",
       "      <th>4</th>\n",
       "      <td>Shakespeare’s Othello: A Tragic Hero Research ...</td>\n",
       "      <td>Human</td>\n",
       "      <td>12845</td>\n",
       "      <td>2143</td>\n",
       "    </tr>\n",
       "  </tbody>\n",
       "</table>\n",
       "</div>"
      ],
      "text/plain": [
       "                                                text source  text_length  \\\n",
       "0  In 1466, perhaps 40,000 people died of the pla...     AI          336   \n",
       "1  Amazon's yet-unnamed Lord of the Rings origina...     AI         2251   \n",
       "2  @Holt  \\n***Hi. I've just rewritten the essay....  Human         1994   \n",
       "3  Pleasantly surprised! Had a few options for ve...     AI         4182   \n",
       "4  Shakespeare’s Othello: A Tragic Hero Research ...  Human        12845   \n",
       "\n",
       "   word_count  \n",
       "0          63  \n",
       "1         393  \n",
       "2         337  \n",
       "3         797  \n",
       "4        2143  "
      ]
     },
     "execution_count": 13,
     "metadata": {},
     "output_type": "execute_result"
    }
   ],
   "source": [
    "df_clean = df.drop(columns=[\"contains_numbers\", \"contains_special_chars\"])\n",
    "df_clean.head()"
   ]
  },
  {
   "cell_type": "code",
   "execution_count": 14,
   "metadata": {},
   "outputs": [],
   "source": [
    "df_clean[\"clean_text\"] = df_clean[\"text\"].apply(text_cleaning)\n",
    "\n",
    "# Add new columns to label, calculate char and words in the cleaned_text\n",
    "df_clean[\"label\"] = df_clean[\"source\"].apply(lambda x: 1 if x == \"AI\" else 0) #AI=1, Human=0"
   ]
  },
  {
   "cell_type": "code",
   "execution_count": 15,
   "metadata": {},
   "outputs": [
    {
     "data": {
      "text/html": [
       "<div>\n",
       "<style scoped>\n",
       "    .dataframe tbody tr th:only-of-type {\n",
       "        vertical-align: middle;\n",
       "    }\n",
       "\n",
       "    .dataframe tbody tr th {\n",
       "        vertical-align: top;\n",
       "    }\n",
       "\n",
       "    .dataframe thead th {\n",
       "        text-align: right;\n",
       "    }\n",
       "</style>\n",
       "<table border=\"1\" class=\"dataframe\">\n",
       "  <thead>\n",
       "    <tr style=\"text-align: right;\">\n",
       "      <th></th>\n",
       "      <th>clean_text</th>\n",
       "      <th>label</th>\n",
       "    </tr>\n",
       "  </thead>\n",
       "  <tbody>\n",
       "    <tr>\n",
       "      <th>0</th>\n",
       "      <td>in 1466 perhaps 40000 people die of the plague...</td>\n",
       "      <td>1</td>\n",
       "    </tr>\n",
       "    <tr>\n",
       "      <th>1</th>\n",
       "      <td>amazon yet-unnamed lord of the ring original s...</td>\n",
       "      <td>1</td>\n",
       "    </tr>\n",
       "  </tbody>\n",
       "</table>\n",
       "</div>"
      ],
      "text/plain": [
       "                                          clean_text  label\n",
       "0  in 1466 perhaps 40000 people die of the plague...      1\n",
       "1  amazon yet-unnamed lord of the ring original s...      1"
      ]
     },
     "execution_count": 15,
     "metadata": {},
     "output_type": "execute_result"
    }
   ],
   "source": [
    "df_clean = df_clean[[\"clean_text\", \"label\"]]\n",
    "df_clean.head(2)"
   ]
  },
  {
   "cell_type": "markdown",
   "metadata": {},
   "source": [
    "# Preprocessing"
   ]
  },
  {
   "cell_type": "code",
   "execution_count": 16,
   "metadata": {},
   "outputs": [
    {
     "data": {
      "text/plain": [
       "(10000, 10000)"
      ]
     },
     "execution_count": 16,
     "metadata": {},
     "output_type": "execute_result"
    }
   ],
   "source": [
    "# Text vectorization using TF-IDF\n",
    "\n",
    "X_text = df_clean[\"clean_text\"]\n",
    "\n",
    "vectorizer = TfidfVectorizer(max_features=10000, stop_words='english')\n",
    "\n",
    "X_vec = vectorizer.fit_transform(X_text)\n",
    "\n",
    "X_vec.shape"
   ]
  },
  {
   "cell_type": "markdown",
   "metadata": {},
   "source": [
    "# Model Training & Evaluation"
   ]
  },
  {
   "cell_type": "code",
   "execution_count": 17,
   "metadata": {},
   "outputs": [],
   "source": [
    "# Exclude warnings from printing out\n",
    "\n",
    "import warnings\n",
    "from sklearn.exceptions import ConvergenceWarning\n",
    "\n",
    "warnings.filterwarnings(\"ignore\", category=ConvergenceWarning)"
   ]
  },
  {
   "cell_type": "code",
   "execution_count": 18,
   "metadata": {},
   "outputs": [
    {
     "name": "stdout",
     "output_type": "stream",
     "text": [
      "Training set shape: (7200, 10000) (7200,)\n",
      "Validation set shape: (800, 10000) (800,)\n",
      "Test set shape: (2000, 10000) (2000,)\n"
     ]
    }
   ],
   "source": [
    "# Train, test, split\n",
    "X = X_vec\n",
    "y = df_clean[\"label\"]\n",
    "\n",
    "X_train, X_test, y_train, y_test = train_test_split(X, y, test_size=0.2, random_state=42)\n",
    "\n",
    "# Split for validation data\n",
    "\n",
    "X_train, X_val, y_train, y_val = train_test_split(X_train, y_train, test_size=0.1, random_state=42)\n",
    "\n",
    "print(\"Training set shape:\", X_train.shape, y_train.shape)\n",
    "print(\"Validation set shape:\", X_val.shape, y_val.shape)\n",
    "print(\"Test set shape:\", X_test.shape, y_test.shape)"
   ]
  },
  {
   "cell_type": "code",
   "execution_count": 19,
   "metadata": {},
   "outputs": [],
   "source": [
    "# Evaluate model\n",
    "\n",
    "def evaluate_model(model_name, y_true, y_pred, y_prob):\n",
    "    loss = log_loss(y_true, y_prob)\n",
    "    acc = accuracy_score(y_true, y_pred)\n",
    "    prec = precision_score(y_true, y_pred)\n",
    "    rec = recall_score(y_true, y_pred)\n",
    "    auc = roc_auc_score(y_true, y_prob)\n",
    "\n",
    "    print(f\"{model_name}\")\n",
    "    print(f\"Loss: {loss:.4f}\")\n",
    "    print(f\"Accuracy: {acc:.4f}\")\n",
    "    print(f\"Precision: {prec:.4f}\")\n",
    "    print(f\"Recall: {rec:.4f}\")\n",
    "    print(f\"ROC-AUC: {auc:.4f}\")"
   ]
  },
  {
   "cell_type": "code",
   "execution_count": 20,
   "metadata": {},
   "outputs": [],
   "source": [
    "# Confusion Matrix\n",
    "\n",
    "def conf_matrix(model_name, y_true, y_pred):\n",
    "    cm = confusion_matrix(y_true, y_pred)\n",
    "    plt.figure(figsize=(5,4))\n",
    "    sns.heatmap(cm, annot=True, fmt='d', cmap='Blues', xticklabels=['Human (0)', 'AI (1)'], yticklabels=['Human (0)', 'AI (1)'])\n",
    "    plt.xlabel(\"Predicted\")\n",
    "    plt.ylabel(\"Actual\")\n",
    "    plt.title(f\"{model_name} - Confusion Matrix\");"
   ]
  },
  {
   "cell_type": "markdown",
   "metadata": {},
   "source": [
    "### GRADIENT BOOSTING"
   ]
  },
  {
   "cell_type": "code",
   "execution_count": 21,
   "metadata": {},
   "outputs": [
    {
     "name": "stdout",
     "output_type": "stream",
     "text": [
      "Epoch 1/200 - Train Acc: 0.5583, Val Acc: 0.5513\n",
      "Epoch 2/200 - Train Acc: 0.5589, Val Acc: 0.5513\n",
      "Epoch 3/200 - Train Acc: 0.8254, Val Acc: 0.8275\n",
      "Epoch 4/200 - Train Acc: 0.8254, Val Acc: 0.8275\n",
      "Epoch 5/200 - Train Acc: 0.8251, Val Acc: 0.8287\n",
      "Epoch 6/200 - Train Acc: 0.8322, Val Acc: 0.8387\n",
      "Epoch 7/200 - Train Acc: 0.8310, Val Acc: 0.8337\n",
      "Epoch 8/200 - Train Acc: 0.8319, Val Acc: 0.8375\n",
      "Epoch 9/200 - Train Acc: 0.8325, Val Acc: 0.8400\n",
      "Epoch 10/200 - Train Acc: 0.8350, Val Acc: 0.8425\n",
      "Epoch 11/200 - Train Acc: 0.8350, Val Acc: 0.8425\n",
      "Epoch 12/200 - Train Acc: 0.8376, Val Acc: 0.8438\n",
      "Epoch 13/200 - Train Acc: 0.8385, Val Acc: 0.8438\n",
      "Epoch 14/200 - Train Acc: 0.8393, Val Acc: 0.8400\n",
      "Epoch 15/200 - Train Acc: 0.8451, Val Acc: 0.8512\n",
      "Epoch 16/200 - Train Acc: 0.8492, Val Acc: 0.8550\n",
      "Epoch 17/200 - Train Acc: 0.8483, Val Acc: 0.8525\n",
      "Epoch 18/200 - Train Acc: 0.8533, Val Acc: 0.8562\n",
      "Epoch 19/200 - Train Acc: 0.8550, Val Acc: 0.8575\n",
      "Epoch 20/200 - Train Acc: 0.8575, Val Acc: 0.8612\n",
      "Epoch 21/200 - Train Acc: 0.8574, Val Acc: 0.8550\n",
      "Epoch 22/200 - Train Acc: 0.8603, Val Acc: 0.8612\n",
      "Epoch 23/200 - Train Acc: 0.8615, Val Acc: 0.8612\n",
      "Epoch 24/200 - Train Acc: 0.8635, Val Acc: 0.8638\n",
      "Epoch 25/200 - Train Acc: 0.8650, Val Acc: 0.8638\n",
      "Epoch 26/200 - Train Acc: 0.8662, Val Acc: 0.8688\n",
      "Epoch 27/200 - Train Acc: 0.8681, Val Acc: 0.8675\n",
      "Epoch 28/200 - Train Acc: 0.8685, Val Acc: 0.8688\n",
      "Epoch 29/200 - Train Acc: 0.8708, Val Acc: 0.8750\n",
      "Epoch 30/200 - Train Acc: 0.8714, Val Acc: 0.8775\n",
      "Epoch 31/200 - Train Acc: 0.8724, Val Acc: 0.8800\n",
      "Epoch 32/200 - Train Acc: 0.8721, Val Acc: 0.8762\n",
      "Epoch 33/200 - Train Acc: 0.8733, Val Acc: 0.8775\n",
      "Epoch 34/200 - Train Acc: 0.8767, Val Acc: 0.8800\n",
      "Epoch 35/200 - Train Acc: 0.8772, Val Acc: 0.8788\n",
      "Epoch 36/200 - Train Acc: 0.8790, Val Acc: 0.8800\n",
      "Epoch 37/200 - Train Acc: 0.8801, Val Acc: 0.8812\n",
      "Epoch 38/200 - Train Acc: 0.8804, Val Acc: 0.8825\n",
      "Epoch 39/200 - Train Acc: 0.8818, Val Acc: 0.8888\n",
      "Epoch 40/200 - Train Acc: 0.8831, Val Acc: 0.8900\n",
      "Epoch 41/200 - Train Acc: 0.8835, Val Acc: 0.8888\n",
      "Epoch 42/200 - Train Acc: 0.8847, Val Acc: 0.8888\n",
      "Epoch 43/200 - Train Acc: 0.8853, Val Acc: 0.8900\n",
      "Epoch 44/200 - Train Acc: 0.8868, Val Acc: 0.8912\n",
      "Epoch 45/200 - Train Acc: 0.8865, Val Acc: 0.8912\n",
      "Epoch 46/200 - Train Acc: 0.8878, Val Acc: 0.8938\n",
      "Epoch 47/200 - Train Acc: 0.8888, Val Acc: 0.8950\n",
      "Epoch 48/200 - Train Acc: 0.8899, Val Acc: 0.8950\n",
      "Epoch 49/200 - Train Acc: 0.8907, Val Acc: 0.8938\n",
      "Epoch 50/200 - Train Acc: 0.8925, Val Acc: 0.8938\n",
      "Epoch 51/200 - Train Acc: 0.8940, Val Acc: 0.8912\n",
      "Epoch 52/200 - Train Acc: 0.8943, Val Acc: 0.8950\n",
      "Epoch 53/200 - Train Acc: 0.8954, Val Acc: 0.8950\n",
      "Epoch 54/200 - Train Acc: 0.8961, Val Acc: 0.8962\n",
      "Epoch 55/200 - Train Acc: 0.8967, Val Acc: 0.8988\n",
      "Epoch 56/200 - Train Acc: 0.8976, Val Acc: 0.8962\n",
      "Epoch 57/200 - Train Acc: 0.8982, Val Acc: 0.8938\n",
      "Epoch 58/200 - Train Acc: 0.8990, Val Acc: 0.8975\n",
      "Epoch 59/200 - Train Acc: 0.8997, Val Acc: 0.8962\n",
      "Epoch 60/200 - Train Acc: 0.9003, Val Acc: 0.8988\n",
      "Epoch 61/200 - Train Acc: 0.9004, Val Acc: 0.8988\n",
      "Epoch 62/200 - Train Acc: 0.9014, Val Acc: 0.8988\n",
      "Epoch 63/200 - Train Acc: 0.9021, Val Acc: 0.8988\n",
      "Epoch 64/200 - Train Acc: 0.9019, Val Acc: 0.8988\n",
      "Epoch 65/200 - Train Acc: 0.9026, Val Acc: 0.8975\n",
      "Epoch 66/200 - Train Acc: 0.9028, Val Acc: 0.8975\n",
      "Epoch 67/200 - Train Acc: 0.9029, Val Acc: 0.8975\n",
      "Epoch 68/200 - Train Acc: 0.9031, Val Acc: 0.8975\n",
      "Epoch 69/200 - Train Acc: 0.9042, Val Acc: 0.8988\n",
      "Epoch 70/200 - Train Acc: 0.9051, Val Acc: 0.8988\n",
      "Epoch 71/200 - Train Acc: 0.9060, Val Acc: 0.9000\n",
      "Epoch 72/200 - Train Acc: 0.9058, Val Acc: 0.8988\n",
      "Epoch 73/200 - Train Acc: 0.9067, Val Acc: 0.8988\n",
      "Epoch 74/200 - Train Acc: 0.9074, Val Acc: 0.9000\n",
      "Epoch 75/200 - Train Acc: 0.9076, Val Acc: 0.9000\n",
      "Epoch 76/200 - Train Acc: 0.9076, Val Acc: 0.9025\n",
      "Epoch 77/200 - Train Acc: 0.9087, Val Acc: 0.9025\n",
      "Epoch 78/200 - Train Acc: 0.9094, Val Acc: 0.9025\n",
      "Epoch 79/200 - Train Acc: 0.9096, Val Acc: 0.9025\n",
      "Epoch 80/200 - Train Acc: 0.9101, Val Acc: 0.9038\n",
      "Epoch 81/200 - Train Acc: 0.9096, Val Acc: 0.9012\n",
      "Epoch 82/200 - Train Acc: 0.9099, Val Acc: 0.9012\n",
      "Epoch 83/200 - Train Acc: 0.9099, Val Acc: 0.9012\n",
      "Epoch 84/200 - Train Acc: 0.9107, Val Acc: 0.9025\n",
      "Epoch 85/200 - Train Acc: 0.9111, Val Acc: 0.9025\n",
      "Epoch 86/200 - Train Acc: 0.9114, Val Acc: 0.9025\n",
      "Epoch 87/200 - Train Acc: 0.9124, Val Acc: 0.9025\n",
      "Epoch 88/200 - Train Acc: 0.9125, Val Acc: 0.9038\n",
      "Epoch 89/200 - Train Acc: 0.9121, Val Acc: 0.9062\n",
      "Epoch 90/200 - Train Acc: 0.9126, Val Acc: 0.9050\n",
      "Epoch 91/200 - Train Acc: 0.9133, Val Acc: 0.9050\n",
      "Epoch 92/200 - Train Acc: 0.9139, Val Acc: 0.9050\n",
      "Epoch 93/200 - Train Acc: 0.9140, Val Acc: 0.9050\n",
      "Epoch 94/200 - Train Acc: 0.9142, Val Acc: 0.9038\n",
      "Epoch 95/200 - Train Acc: 0.9142, Val Acc: 0.9038\n",
      "Epoch 96/200 - Train Acc: 0.9143, Val Acc: 0.9062\n",
      "Epoch 97/200 - Train Acc: 0.9154, Val Acc: 0.9062\n",
      "Epoch 98/200 - Train Acc: 0.9154, Val Acc: 0.9062\n",
      "Epoch 99/200 - Train Acc: 0.9156, Val Acc: 0.9062\n",
      "Epoch 100/200 - Train Acc: 0.9153, Val Acc: 0.9062\n",
      "Epoch 101/200 - Train Acc: 0.9156, Val Acc: 0.9062\n",
      "Epoch 102/200 - Train Acc: 0.9161, Val Acc: 0.9062\n",
      "Epoch 103/200 - Train Acc: 0.9167, Val Acc: 0.9075\n",
      "Epoch 104/200 - Train Acc: 0.9178, Val Acc: 0.9087\n",
      "Epoch 105/200 - Train Acc: 0.9183, Val Acc: 0.9075\n",
      "Epoch 106/200 - Train Acc: 0.9190, Val Acc: 0.9075\n",
      "Epoch 107/200 - Train Acc: 0.9193, Val Acc: 0.9075\n",
      "Epoch 108/200 - Train Acc: 0.9196, Val Acc: 0.9075\n",
      "Epoch 109/200 - Train Acc: 0.9194, Val Acc: 0.9075\n",
      "Epoch 110/200 - Train Acc: 0.9196, Val Acc: 0.9087\n",
      "Epoch 111/200 - Train Acc: 0.9204, Val Acc: 0.9075\n",
      "Epoch 112/200 - Train Acc: 0.9206, Val Acc: 0.9062\n",
      "Epoch 113/200 - Train Acc: 0.9208, Val Acc: 0.9062\n",
      "Epoch 114/200 - Train Acc: 0.9210, Val Acc: 0.9062\n",
      "Epoch 115/200 - Train Acc: 0.9211, Val Acc: 0.9062\n",
      "Epoch 116/200 - Train Acc: 0.9219, Val Acc: 0.9075\n",
      "Epoch 117/200 - Train Acc: 0.9226, Val Acc: 0.9075\n",
      "Epoch 118/200 - Train Acc: 0.9229, Val Acc: 0.9100\n",
      "Epoch 119/200 - Train Acc: 0.9231, Val Acc: 0.9100\n",
      "Epoch 120/200 - Train Acc: 0.9233, Val Acc: 0.9100\n",
      "Epoch 121/200 - Train Acc: 0.9237, Val Acc: 0.9100\n",
      "Epoch 122/200 - Train Acc: 0.9242, Val Acc: 0.9100\n",
      "Epoch 123/200 - Train Acc: 0.9244, Val Acc: 0.9100\n",
      "Epoch 124/200 - Train Acc: 0.9247, Val Acc: 0.9100\n",
      "Epoch 125/200 - Train Acc: 0.9247, Val Acc: 0.9100\n",
      "Epoch 126/200 - Train Acc: 0.9244, Val Acc: 0.9100\n",
      "Epoch 127/200 - Train Acc: 0.9244, Val Acc: 0.9087\n",
      "Epoch 128/200 - Train Acc: 0.9247, Val Acc: 0.9087\n",
      "Epoch 129/200 - Train Acc: 0.9250, Val Acc: 0.9075\n",
      "Epoch 130/200 - Train Acc: 0.9247, Val Acc: 0.9087\n",
      "Epoch 131/200 - Train Acc: 0.9251, Val Acc: 0.9087\n",
      "Epoch 132/200 - Train Acc: 0.9254, Val Acc: 0.9087\n",
      "Epoch 133/200 - Train Acc: 0.9256, Val Acc: 0.9087\n",
      "Epoch 134/200 - Train Acc: 0.9257, Val Acc: 0.9087\n",
      "Epoch 135/200 - Train Acc: 0.9263, Val Acc: 0.9062\n",
      "Epoch 136/200 - Train Acc: 0.9263, Val Acc: 0.9062\n",
      "Epoch 137/200 - Train Acc: 0.9269, Val Acc: 0.9062\n",
      "Epoch 138/200 - Train Acc: 0.9275, Val Acc: 0.9075\n",
      "Epoch 139/200 - Train Acc: 0.9278, Val Acc: 0.9075\n",
      "Epoch 140/200 - Train Acc: 0.9282, Val Acc: 0.9087\n",
      "Epoch 141/200 - Train Acc: 0.9282, Val Acc: 0.9087\n",
      "Epoch 142/200 - Train Acc: 0.9286, Val Acc: 0.9075\n",
      "Epoch 143/200 - Train Acc: 0.9293, Val Acc: 0.9075\n",
      "Epoch 144/200 - Train Acc: 0.9290, Val Acc: 0.9075\n",
      "Epoch 145/200 - Train Acc: 0.9297, Val Acc: 0.9100\n",
      "Epoch 146/200 - Train Acc: 0.9294, Val Acc: 0.9100\n",
      "Epoch 147/200 - Train Acc: 0.9300, Val Acc: 0.9100\n",
      "Epoch 148/200 - Train Acc: 0.9301, Val Acc: 0.9100\n",
      "Epoch 149/200 - Train Acc: 0.9300, Val Acc: 0.9100\n",
      "Epoch 150/200 - Train Acc: 0.9301, Val Acc: 0.9087\n",
      "Epoch 151/200 - Train Acc: 0.9304, Val Acc: 0.9075\n",
      "Epoch 152/200 - Train Acc: 0.9301, Val Acc: 0.9062\n",
      "Epoch 153/200 - Train Acc: 0.9304, Val Acc: 0.9062\n",
      "Epoch 154/200 - Train Acc: 0.9304, Val Acc: 0.9075\n",
      "Epoch 155/200 - Train Acc: 0.9301, Val Acc: 0.9087\n",
      "Epoch 156/200 - Train Acc: 0.9306, Val Acc: 0.9087\n",
      "Epoch 157/200 - Train Acc: 0.9306, Val Acc: 0.9100\n",
      "Epoch 158/200 - Train Acc: 0.9311, Val Acc: 0.9100\n",
      "Epoch 159/200 - Train Acc: 0.9314, Val Acc: 0.9100\n",
      "Epoch 160/200 - Train Acc: 0.9314, Val Acc: 0.9075\n",
      "Epoch 161/200 - Train Acc: 0.9319, Val Acc: 0.9062\n",
      "Epoch 162/200 - Train Acc: 0.9319, Val Acc: 0.9050\n",
      "Epoch 163/200 - Train Acc: 0.9325, Val Acc: 0.9062\n",
      "Epoch 164/200 - Train Acc: 0.9335, Val Acc: 0.9087\n",
      "Epoch 165/200 - Train Acc: 0.9342, Val Acc: 0.9113\n",
      "Epoch 166/200 - Train Acc: 0.9344, Val Acc: 0.9125\n",
      "Epoch 167/200 - Train Acc: 0.9346, Val Acc: 0.9125\n",
      "Epoch 168/200 - Train Acc: 0.9349, Val Acc: 0.9113\n",
      "Epoch 169/200 - Train Acc: 0.9354, Val Acc: 0.9113\n",
      "Epoch 170/200 - Train Acc: 0.9358, Val Acc: 0.9100\n",
      "Epoch 171/200 - Train Acc: 0.9360, Val Acc: 0.9087\n",
      "Epoch 172/200 - Train Acc: 0.9363, Val Acc: 0.9087\n",
      "Epoch 173/200 - Train Acc: 0.9365, Val Acc: 0.9075\n",
      "Epoch 174/200 - Train Acc: 0.9367, Val Acc: 0.9075\n",
      "Epoch 175/200 - Train Acc: 0.9368, Val Acc: 0.9075\n",
      "Epoch 176/200 - Train Acc: 0.9369, Val Acc: 0.9087\n",
      "Epoch 177/200 - Train Acc: 0.9368, Val Acc: 0.9100\n",
      "Epoch 178/200 - Train Acc: 0.9374, Val Acc: 0.9100\n",
      "Epoch 179/200 - Train Acc: 0.9378, Val Acc: 0.9100\n",
      "Epoch 180/200 - Train Acc: 0.9378, Val Acc: 0.9087\n",
      "Epoch 181/200 - Train Acc: 0.9382, Val Acc: 0.9087\n",
      "Epoch 182/200 - Train Acc: 0.9386, Val Acc: 0.9087\n",
      "Epoch 183/200 - Train Acc: 0.9385, Val Acc: 0.9100\n",
      "Epoch 184/200 - Train Acc: 0.9386, Val Acc: 0.9113\n",
      "Epoch 185/200 - Train Acc: 0.9386, Val Acc: 0.9113\n",
      "Epoch 186/200 - Train Acc: 0.9393, Val Acc: 0.9113\n",
      "Epoch 187/200 - Train Acc: 0.9394, Val Acc: 0.9125\n",
      "Epoch 188/200 - Train Acc: 0.9397, Val Acc: 0.9125\n",
      "Epoch 189/200 - Train Acc: 0.9397, Val Acc: 0.9125\n",
      "Epoch 190/200 - Train Acc: 0.9401, Val Acc: 0.9125\n",
      "Epoch 191/200 - Train Acc: 0.9403, Val Acc: 0.9125\n",
      "Epoch 192/200 - Train Acc: 0.9410, Val Acc: 0.9137\n",
      "Epoch 193/200 - Train Acc: 0.9411, Val Acc: 0.9125\n",
      "Epoch 194/200 - Train Acc: 0.9417, Val Acc: 0.9113\n",
      "Epoch 195/200 - Train Acc: 0.9415, Val Acc: 0.9113\n",
      "Epoch 196/200 - Train Acc: 0.9421, Val Acc: 0.9113\n",
      "Epoch 197/200 - Train Acc: 0.9421, Val Acc: 0.9113\n",
      "Epoch 198/200 - Train Acc: 0.9417, Val Acc: 0.9113\n",
      "Epoch 199/200 - Train Acc: 0.9419, Val Acc: 0.9137\n",
      "Epoch 200/200 - Train Acc: 0.9425, Val Acc: 0.9150\n",
      "\n",
      "Best Validation Accuracy: 0.9150 at epoch 200\n"
     ]
    }
   ],
   "source": [
    "epochs = 200\n",
    "\n",
    "grad_boost = GradientBoostingClassifier(\n",
    "    max_depth=3,\n",
    "    n_estimators=epochs,\n",
    "    learning_rate=0.1)\n",
    "\n",
    "grad_boost.fit(X_train, y_train)\n",
    "\n",
    "train_acc_history = []\n",
    "val_acc_history = []\n",
    "\n",
    "best_val_acc = 0.0\n",
    "best_epoch = 0\n",
    "\n",
    "train_stages = grad_boost.staged_predict(X_train)\n",
    "val_stages = grad_boost.staged_predict(X_val)\n",
    "\n",
    "for epoch, (train_pred, val_pred) in enumerate(zip(train_stages, val_stages), start=1):\n",
    "    # Calculate accuracies\n",
    "    train_acc = accuracy_score(y_train, train_pred)\n",
    "    val_acc = accuracy_score(y_val, val_pred)\n",
    "\n",
    "    train_acc_history.append(train_acc)\n",
    "    val_acc_history.append(val_acc)\n",
    "\n",
    "    # Track the best validation accuracy\n",
    "    if val_acc > best_val_acc:\n",
    "        best_val_acc = val_acc\n",
    "        best_epoch = epoch\n",
    "\n",
    "    print(f\"Epoch {epoch}/{epochs} - Train Acc: {train_acc:.4f}, Val Acc: {val_acc:.4f}\")\n",
    "\n",
    "print(f\"\\nBest Validation Accuracy: {best_val_acc:.4f} at epoch {best_epoch}\")"
   ]
  },
  {
   "cell_type": "code",
   "execution_count": 22,
   "metadata": {},
   "outputs": [
    {
     "data": {
      "image/png": "[encoded data removed]",
      "text/plain": [
       "<Figure size 500x400 with 1 Axes>"
      ]
     },
     "metadata": {},
     "output_type": "display_data"
    }
   ],
   "source": [
    "plt.figure(figsize=(5, 4))\n",
    "plt.plot(range(1, epochs+1), train_acc_history, label=\"Training Accuracy\")\n",
    "plt.plot(range(1, epochs+1), val_acc_history, label=\"Validation Accuracy\")\n",
    "plt.xlabel(\"Epoch\")\n",
    "plt.ylabel(\"Accuracy\")\n",
    "plt.title(\"Learning Curve per Epoch - Gradient Boosting\")\n",
    "plt.legend()\n",
    "plt.grid(True);"
   ]
  },
  {
   "cell_type": "code",
   "execution_count": 23,
   "metadata": {},
   "outputs": [
    {
     "name": "stdout",
     "output_type": "stream",
     "text": [
      "\n",
      "Validation Set Evaluation - Gradient Boosting\n",
      "Loss: 0.2443\n",
      "Accuracy: 0.9150\n",
      "Precision: 0.8779\n",
      "Recall: 0.9415\n",
      "ROC-AUC: 0.9658\n"
     ]
    }
   ],
   "source": [
    "# Gradient Boosting evaluation\n",
    "\n",
    "grad_y_val_pred = grad_boost.predict(X_val)\n",
    "grad_y_val_prob = grad_boost.predict_proba(X_val)[:, 1]\n",
    "\n",
    "grad_loss = log_loss(y_val, grad_y_val_prob)\n",
    "grad_acc = accuracy_score(y_val, grad_y_val_pred)\n",
    "grad_prec = precision_score(y_val, grad_y_val_pred)\n",
    "grad_rec = recall_score(y_val, grad_y_val_pred)\n",
    "grad_auc = roc_auc_score(y_val, grad_y_val_prob)\n",
    "\n",
    "print(\"\\nValidation Set Evaluation - Gradient Boosting\")\n",
    "print(f\"Loss: {grad_loss:.4f}\")\n",
    "print(f\"Accuracy: {grad_acc:.4f}\")\n",
    "print(f\"Precision: {grad_prec:.4f}\")\n",
    "print(f\"Recall: {grad_rec:.4f}\")\n",
    "print(f\"ROC-AUC: {grad_auc:.4f}\")"
   ]
  },
  {
   "cell_type": "code",
   "execution_count": 24,
   "metadata": {},
   "outputs": [],
   "source": [
    "# Saving score result to Halim_model_results.ipynb\n",
    "\n",
    "save_result = [{\n",
    "    \"Model\": \"Gradient Boost (Halim's cleaning) No Feature\",\n",
    "    \"Loss\": f\"{grad_loss:.4f}\",\n",
    "    \"Accuracy\": f\"{grad_acc:.4f}\"\n",
    "    }]\n",
    "\n",
    "df_result = pd.DataFrame(save_result)\n",
    "csv_file = \"10k_model_results.csv\"\n",
    "df_result.to_csv(csv_file, mode=\"a\", index=False, header=not os.path.exists(csv_file))"
   ]
  },
  {
   "cell_type": "code",
   "execution_count": 25,
   "metadata": {},
   "outputs": [
    {
     "data": {
      "image/png": "[encoded data removed]",
      "text/plain": [
       "<Figure size 500x400 with 2 Axes>"
      ]
     },
     "metadata": {},
     "output_type": "display_data"
    }
   ],
   "source": [
    "conf_matrix(\"Gradient Boost\", y_val, grad_y_val_pred)"
   ]
  },
  {
   "cell_type": "markdown",
   "metadata": {},
   "source": [
    "# Prediction"
   ]
  },
  {
   "cell_type": "code",
   "execution_count": 26,
   "metadata": {},
   "outputs": [],
   "source": [
    "def preprocess_input(sentence, vectorizer):\n",
    "    \"\"\"Preprocess the raw input text\"\"\"\n",
    "\n",
    "    # Ensure input is a string\n",
    "    if not isinstance(sentence, str):\n",
    "        raise ValueError(\"Input sentence must be a string\")\n",
    "\n",
    "    cleaned_text = text_cleaning(sentence) # Clean the text\n",
    "    text_vectorized = vectorizer.transform([cleaned_text]) # Vectorize clean text\n",
    "\n",
    "    return text_vectorized"
   ]
  },
  {
   "cell_type": "code",
   "execution_count": 27,
   "metadata": {},
   "outputs": [],
   "source": [
    "def predict_text(model, sentence, vectorizer):\n",
    "    preproc_input = preprocess_input(sentence, vectorizer)\n",
    "    prediction_prob = model.predict_proba(preproc_input)[:, 1][0] # Extracts probability of AI clas\n",
    "    prediction = \"AI\" if prediction_prob > 0.5 else \"Human\"\n",
    "    return prediction, round(prediction_prob, 2)"
   ]
  },
  {
   "cell_type": "code",
   "execution_count": 28,
   "metadata": {},
   "outputs": [
    {
     "data": {
      "text/html": [
       "<div>\n",
       "<style scoped>\n",
       "    .dataframe tbody tr th:only-of-type {\n",
       "        vertical-align: middle;\n",
       "    }\n",
       "\n",
       "    .dataframe tbody tr th {\n",
       "        vertical-align: top;\n",
       "    }\n",
       "\n",
       "    .dataframe thead th {\n",
       "        text-align: right;\n",
       "    }\n",
       "</style>\n",
       "<table border=\"1\" class=\"dataframe\">\n",
       "  <thead>\n",
       "    <tr style=\"text-align: right;\">\n",
       "      <th></th>\n",
       "      <th>text</th>\n",
       "      <th>source</th>\n",
       "      <th>text_length</th>\n",
       "      <th>word_count</th>\n",
       "      <th>contains_numbers</th>\n",
       "      <th>contains_special_chars</th>\n",
       "    </tr>\n",
       "  </thead>\n",
       "  <tbody>\n",
       "    <tr>\n",
       "      <th>9995</th>\n",
       "      <td>The Meaning of Civilization According to Willi...</td>\n",
       "      <td>Human</td>\n",
       "      <td>11346</td>\n",
       "      <td>1793</td>\n",
       "      <td>True</td>\n",
       "      <td>True</td>\n",
       "    </tr>\n",
       "    <tr>\n",
       "      <th>9996</th>\n",
       "      <td>Alicia was outside watering flowers. Alicia ac...</td>\n",
       "      <td>AI</td>\n",
       "      <td>191</td>\n",
       "      <td>34</td>\n",
       "      <td>False</td>\n",
       "      <td>True</td>\n",
       "    </tr>\n",
       "    <tr>\n",
       "      <th>9997</th>\n",
       "      <td>Sandy was decided to take a hike in the mounta...</td>\n",
       "      <td>AI</td>\n",
       "      <td>181</td>\n",
       "      <td>35</td>\n",
       "      <td>False</td>\n",
       "      <td>True</td>\n",
       "    </tr>\n",
       "    <tr>\n",
       "      <th>9998</th>\n",
       "      <td>Tommy wanted to buy a new computer. After some...</td>\n",
       "      <td>AI</td>\n",
       "      <td>478</td>\n",
       "      <td>87</td>\n",
       "      <td>True</td>\n",
       "      <td>True</td>\n",
       "    </tr>\n",
       "    <tr>\n",
       "      <th>9999</th>\n",
       "      <td>We investigate the problem of cost-optimal pla...</td>\n",
       "      <td>AI</td>\n",
       "      <td>4299</td>\n",
       "      <td>661</td>\n",
       "      <td>True</td>\n",
       "      <td>True</td>\n",
       "    </tr>\n",
       "  </tbody>\n",
       "</table>\n",
       "</div>"
      ],
      "text/plain": [
       "                                                   text source  text_length  \\\n",
       "9995  The Meaning of Civilization According to Willi...  Human        11346   \n",
       "9996  Alicia was outside watering flowers. Alicia ac...     AI          191   \n",
       "9997  Sandy was decided to take a hike in the mounta...     AI          181   \n",
       "9998  Tommy wanted to buy a new computer. After some...     AI          478   \n",
       "9999  We investigate the problem of cost-optimal pla...     AI         4299   \n",
       "\n",
       "      word_count  contains_numbers  contains_special_chars  \n",
       "9995        1793              True                    True  \n",
       "9996          34             False                    True  \n",
       "9997          35             False                    True  \n",
       "9998          87              True                    True  \n",
       "9999         661              True                    True  "
      ]
     },
     "execution_count": 28,
     "metadata": {},
     "output_type": "execute_result"
    }
   ],
   "source": [
    "df.tail()"
   ]
  },
  {
   "cell_type": "code",
   "execution_count": 29,
   "metadata": {},
   "outputs": [
    {
     "name": "stdout",
     "output_type": "stream",
     "text": [
      "Justice in the Old and New Testament Essay\n",
      "\n",
      "The Old and New Testaments are significantly different in many aspects, likely as a consequence of the time difference between their time of writing. Both consider it essential, but they assign it, and the qualities associated with it, different roles. The Old Testament gives righteousness a clear definition and makes it a critical attribute of God, ruler, and individual. By comparison, the New Testament depicts it as coming from God and only possible through following His will. As such, it is prudent to compare the two definitions in detail to understand the overt and underlying differences between the two halves of the Christian canon better.\n",
      "\n",
      "Justice in the Old Testament should be considered in terms of the meaning attributed to the term there rather than its current definition. Haacker claims that “it is about restoration, redistribution, and providing the right. […] The one who is stronger gives; the weaker receives.” Yahweh is supposed to be the ultimate representation of justice and righteousness, who cannot be questioned, and any misfortune, however long-lasting, is the result of his warranted wrath (Mic 7:9). As representatives of God and rulers, monarchs are supposed to deliver God’s justice to the people through their governance. In turn, individuals are supposed to follow the path of righteousness as best they can to maintain Yahweh’s favor.\n",
      "\n",
      "The New Testament was written in times of the Roman Empire, after the development of classical Western philosophy and ethics. According to Haacker, this development has led to the sometimes-confusing usage of the abstract Greek word ‘righteousness’ alongside its more clearly defined Hebrew equivalent. However, the distinction is mostly meaningless, as God is always trusted to make the right choice, and righteousness comes from him alone.\n",
      "\n",
      "His commandments and decision are law, yet following that law is not enough for righteousness, and one has to follow God’s will directly to achieve it (Rom 2:1–29). As such, the New Testament makes no distinction between rulers and individuals, as they are all the same before God.\n",
      "\n",
      "Both the Old and the New Testaments consider justice and righteousness to be of the utmost importance. However, the first half of the Bible considers it to be well-defined and achievable through following a specific set of rules. These laws do not necessarily correspond to modern definitions of justice, being explicitly biased against the stronger party. The New Testament, on the other hand, considers justice to be divine and, thus, incomprehensible to any person. It is possible to debate righteousness of an act according to the Old Testament, even if the topic is complicated, but the New Testament terms, calling someone just is merely an indication of approval (Haacker). As such, while the word has similar positive connotations, the specific meaning is entirely different.\n",
      "\n",
      "When debating the meaning of justice in the Bible, it is easy to make one or both of two mistakes. One is assuming that it is defined the same way as in the law, while the other is thinking that the definition is consistent in both parts. The Old Testament makes justice a critical trait that God possesses and that humans can achieve by following specific principles. Meanwhile, the New Testament claims that justice is following God’s will, which others cannot determine from the side. As such, to avoid misunderstanding references to justice and righteousness when discussing theology and the Bible, in particular, one should be careful to make sure which term is being discussed.\n",
      "\n",
      "Work Cited\n",
      "\n",
      "Haacker, Klaus B. “Justice, Justification, and Righteousness.” Oxford Reference, 2015. Web.\n",
      "\n",
      "Prediction: Human (3.0%)\n",
      "Actual: Human\n"
     ]
    }
   ],
   "source": [
    "model = grad_boost\n",
    "sentence = df[\"text\"][995]\n",
    "\n",
    "prediction, probability = predict_text(model, sentence, vectorizer)\n",
    "\n",
    "print(f\"{sentence}\")\n",
    "print(f\"Prediction: {prediction} ({probability * 100:.1f}%)\")\n",
    "print(f\"Actual: {df['source'][995]}\")"
   ]
  },
  {
   "cell_type": "code",
   "execution_count": 30,
   "metadata": {},
   "outputs": [
    {
     "name": "stdout",
     "output_type": "stream",
     "text": [
      "              precision    recall  f1-score   support\n",
      "\n",
      "           0       0.94      0.88      0.91      1116\n",
      "           1       0.86      0.93      0.89       884\n",
      "\n",
      "    accuracy                           0.90      2000\n",
      "   macro avg       0.90      0.90      0.90      2000\n",
      "weighted avg       0.90      0.90      0.90      2000\n",
      "\n"
     ]
    }
   ],
   "source": [
    "gb_predict = grad_boost.predict(X_test)\n",
    "\n",
    "print(classification_report(y_test, gb_predict))"
   ]
  }
 ],
 "metadata": {
  "kernelspec": {
   "display_name": "fake-data-detector",
   "language": "python",
   "name": "python3"
  },
  "language_info": {
   "codemirror_mode": {
    "name": "ipython",
    "version": 3
   },
   "file_extension": ".py",
   "mimetype": "text/x-python",
   "name": "python",
   "nbconvert_exporter": "python",
   "pygments_lexer": "ipython3",
   "version": "3.10.6"
  }
 },
 "nbformat": 4,
 "nbformat_minor": 2
}
