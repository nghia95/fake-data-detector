{
 "cells": [
  {
   "cell_type": "code",
   "execution_count": 2,
   "metadata": {},
   "outputs": [
    {
     "name": "stderr",
     "output_type": "stream",
     "text": [
      "/Users/till/.pyenv/versions/3.10.6/envs/fake-data-detector/lib/python3.10/site-packages/tqdm/auto.py:21: TqdmWarning: IProgress not found. Please update jupyter and ipywidgets. See https://ipywidgets.readthedocs.io/en/stable/user_install.html\n",
      "  from .autonotebook import tqdm as notebook_tqdm\n"
     ]
    }
   ],
   "source": [
    "# Data handling\n",
    "import pandas as pd\n",
    "import numpy as np\n",
    "import re\n",
    "import string\n",
    "import matplotlib.pyplot as plt\n",
    "import seaborn as sns\n",
    "import joblib\n",
    "\n",
    "# Optimisation\n",
    "import swifter\n",
    "from scipy.sparse import csr_matrix\n",
    "\n",
    "# ML\n",
    "from sklearn.pipeline import Pipeline, FeatureUnion\n",
    "from sklearn.base import BaseEstimator, TransformerMixin\n",
    "from sklearn.preprocessing import StandardScaler\n",
    "from sklearn.feature_extraction.text import TfidfVectorizer\n",
    "from sklearn.ensemble import RandomForestClassifier, GradientBoostingClassifier\n",
    "from sklearn.model_selection import train_test_split\n",
    "from sklearn.metrics import log_loss, accuracy_score, precision_score, recall_score, roc_auc_score, confusion_matrix"
   ]
  },
  {
   "cell_type": "markdown",
   "metadata": {},
   "source": [
    "# Functions"
   ]
  },
  {
   "cell_type": "code",
   "execution_count": 3,
   "metadata": {},
   "outputs": [],
   "source": [
    "# Data Loading\n",
    "\n",
    "def load_data(filepath):\n",
    "    \"\"\"Loads data from a CSV file.\"\"\"\n",
    "    data = pd.read_csv(filepath, encoding=\"utf-8\")\n",
    "    df = data.copy()\n",
    "    df = df.drop(columns=[\"prompt_id\", \"text_length\", \"word_count\"])\n",
    "    df[\"source\"] = df[\"source\"].apply(lambda x: 1 if x != \"Human\" else 0)\n",
    "    return df"
   ]
  },
  {
   "cell_type": "code",
   "execution_count": 4,
   "metadata": {},
   "outputs": [],
   "source": [
    "# Text Cleaning\n",
    "\n",
    "class TextCleaner(BaseEstimator, TransformerMixin):\n",
    "    def text_cleaning(self, text, *args):\n",
    "        # Remove punctuation\n",
    "        text = text.translate(str.maketrans('', '', string.punctuation))\n",
    "        # Remove numbers (optional)\n",
    "        text = re.sub(r'\\d+', '', text)\n",
    "        # Convert to lowercase\n",
    "        text = text.lower()\n",
    "        # Remove extra spaces\n",
    "        text = ' '.join(text.split())\n",
    "        return text\n",
    "\n",
    "    def fit(self, X, y=None):\n",
    "        return self\n",
    "\n",
    "    def transform(self, X):\n",
    "        \"\"\"Apply cleaning to text column.\"\"\"\n",
    "        if isinstance(X, pd.DataFrame):\n",
    "            return X.assign(text=X[\"text\"].apply(self.text_cleaning))  # Clean DataFrame column\n",
    "        return X.apply(self.text_cleaning)  # Clean Series"
   ]
  },
  {
   "cell_type": "code",
   "execution_count": 5,
   "metadata": {},
   "outputs": [],
   "source": [
    "# TF-IDF Vectorization\n",
    "\n",
    "class TFIDFVectorizer(BaseEstimator, TransformerMixin):\n",
    "    def __init__(self, max_features=10000, ngram_range=(1,2), stop_words=\"english\"):\n",
    "        \"\"\"\n",
    "        Custom TF-IDF vectorizer with optimizations.\n",
    "        - max_features: Limits vocabulary size to the most important words.\n",
    "        - ngram_range: (1,1) for unigrams, (1,2) for bigrams, etc.\n",
    "        \"\"\"\n",
    "        self.max_features = max_features\n",
    "        self.ngram_range = ngram_range\n",
    "        self.stop_words = stop_words\n",
    "        self.vectorizer = TfidfVectorizer(\n",
    "            max_features=max_features,\n",
    "            ngram_range=ngram_range,\n",
    "            stop_words=stop_words)\n",
    "\n",
    "\n",
    "    def fit(self, X, y=None):\n",
    "        \"\"\"Fit the vectorizer to the text data.\"\"\"\n",
    "        if isinstance(X, pd.DataFrame) and \"text\" in X.columns:\n",
    "            X = X[\"text\"]\n",
    "        self.vectorizer.fit(X)\n",
    "        return self\n",
    "\n",
    "\n",
    "    def transform(self, X):\n",
    "        \"\"\"Transforms text data into TF-IDF feature vectors.\"\"\"\n",
    "        if isinstance(X, pd.DataFrame) and \"text\" in X.columns:\n",
    "            X = X[\"text\"]\n",
    "        vec_result = self.vectorizer.transform(X)\n",
    "        return vec_result.toarray()  # Ensures Output is Numeric"
   ]
  },
  {
   "cell_type": "code",
   "execution_count": 6,
   "metadata": {},
   "outputs": [],
   "source": [
    "# Model Training\n",
    "\n",
    "class GradientBoostingClassifierWrapper(BaseEstimator, TransformerMixin):\n",
    "    def __init__(self, n_estimators=200, learning_rate=0.1, max_depth=3, early_stopping_rounds=10):\n",
    "        \"\"\"\n",
    "        Custom wrapper for Gradient Boosting Classifier.\n",
    "        - n_estimators: Similar to epochs\n",
    "        - learning_rate: Shrinks contribution of each tree.\n",
    "        - max_depth: Maximum depth of individual estimators.\n",
    "        - early_stopping_rounds: Stops training when validation loss doesn't improve.\n",
    "        \"\"\"\n",
    "        self.model = GradientBoostingClassifier(\n",
    "            n_estimators = n_estimators,\n",
    "            learning_rate = learning_rate,\n",
    "            max_depth = max_depth,\n",
    "            validation_fraction = 0.1,  # 10% of training data for validation\n",
    "            n_iter_no_change = early_stopping_rounds)\n",
    "\n",
    "\n",
    "    def fit(self, X, y):\n",
    "        \"\"\"Train Gradient Boosting model.\"\"\"\n",
    "        self.model.fit(X, y)\n",
    "        return self\n",
    "\n",
    "\n",
    "    def predict(self, X):\n",
    "        \"\"\"Predict with the trained Gradient Boosting model.\"\"\"\n",
    "        return self.model.predict(X)\n",
    "\n",
    "\n",
    "    def predict_proba(self, X):\n",
    "        \"\"\"Predict class probabilities.\"\"\"\n",
    "        return self.model.predict_proba(X)"
   ]
  },
  {
   "cell_type": "code",
   "execution_count": 7,
   "metadata": {},
   "outputs": [],
   "source": [
    "# Model Evaluation\n",
    "\n",
    "class EvaluationPipeline:\n",
    "    def __init__(self, model):\n",
    "        \"\"\"Initialize with a trained model.\"\"\"\n",
    "        self.model = model\n",
    "        self.train_acc_history = []\n",
    "        self.val_acc_history = []\n",
    "\n",
    "    def track_accuracy(self, X_train, y_train, X_val, y_val):\n",
    "        \"\"\"Track training and validation accuracy over epochs.\"\"\"\n",
    "        X_train_transformed = self.model.named_steps[\"tfidf\"].transform(\n",
    "            self.model.named_steps[\"text_cleaning\"].transform(X_train))\n",
    "        X_val_transformed = self.model.named_steps[\"tfidf\"].transform(\n",
    "            self.model.named_steps[\"text_cleaning\"].transform(X_val))\n",
    "\n",
    "        # Ensure accuracy history is cleared before tracking\n",
    "        self.train_acc_history.clear()\n",
    "        self.val_acc_history.clear()\n",
    "\n",
    "        # Track staged predictions\n",
    "        train_stages = self.model.named_steps[\"classifier\"].model.staged_predict(X_train_transformed)\n",
    "        val_stages = self.model.named_steps[\"classifier\"].model.staged_predict(X_val_transformed)\n",
    "\n",
    "        # Initialize best validation accuracy tracking\n",
    "        best_val_acc = 0.0\n",
    "        best_epoch = 0\n",
    "\n",
    "        for epoch, (train_pred, val_pred) in enumerate(zip(train_stages, val_stages), start=1):\n",
    "            train_acc = accuracy_score(y_train, train_pred)\n",
    "            val_acc = accuracy_score(y_val, val_pred)\n",
    "\n",
    "            self.train_acc_history.append(train_acc)\n",
    "            self.val_acc_history.append(val_acc)\n",
    "\n",
    "            # Track the best validation accuracy\n",
    "            if val_acc > best_val_acc:\n",
    "                best_val_acc = val_acc\n",
    "                best_epoch = epoch\n",
    "\n",
    "        print(f\"\\nBest Validation Accuracy: {best_val_acc:.4f} at epoch {best_epoch}\")\n",
    "\n",
    "\n",
    "    def evaluate(self, X_test, y_test):\n",
    "        \"\"\"Evaluate the trained model on test data.\"\"\"\n",
    "        y_pred = self.model.predict(X_test)\n",
    "        y_pred_proba = self.model.predict_proba(X_test)[:, 1]\n",
    "\n",
    "        results = {\n",
    "            \"loss\": log_loss(y_test, y_pred_proba),\n",
    "            \"accuracy\": accuracy_score(y_test, y_pred),\n",
    "            \"precision\": precision_score(y_test, y_pred),\n",
    "            \"recall\": recall_score(y_test, y_pred),\n",
    "            \"roc_auc\": roc_auc_score(y_test, y_pred_proba)}\n",
    "\n",
    "        # Print performance\n",
    "        print(\"Model Performance on Test Set:\")\n",
    "        print(f\"Loss: {results['loss']:.4f}\")\n",
    "        print(f\"Accuracy: {results['accuracy']:.4f}\")\n",
    "        print(f\"Precision: {results['precision']:.4f}\")\n",
    "        print(f\"Recall: {results['recall']:.4f}\")\n",
    "        print(f\"ROC-AUC: {results['roc_auc']:.4f}\")\n",
    "\n",
    "        # Convergence Plot\n",
    "        if self.train_acc_history and self.val_acc_history:\n",
    "            plt.figure(figsize=(5, 4))\n",
    "            plt.plot(range(1, len(self.train_acc_history) + 1), self.train_acc_history, label=\"Train Accuracy\")\n",
    "            plt.plot(range(1, len(self.val_acc_history) + 1), self.val_acc_history, label=\"Validation Accuracy\")\n",
    "            plt.xlabel(\"Epochs\")\n",
    "            plt.ylabel(\"Accuracy\")\n",
    "            plt.title(\"Training vs. Validation Accuracy Over Epochs\")\n",
    "            plt.legend()\n",
    "            plt.grid()\n",
    "            plt.show()\n",
    "        else:\n",
    "            print(\"\\nWarning: Accuracy history is empty. Ensure `track_accuracy` is called before `evaluate`.\")\n",
    "\n",
    "        # Confusion Matrix Plot\n",
    "        cm = confusion_matrix(y_test, y_pred)\n",
    "        plt.figure(figsize=(5, 4))\n",
    "        sns.heatmap(cm, annot=True, fmt=\"d\", cmap=\"Blues\", xticklabels=[\"Human\", \"AI\"], yticklabels=[\"Human\", \"AI\"])\n",
    "        plt.xlabel(\"Predicted Label\")\n",
    "        plt.ylabel(\"Actual Label\")\n",
    "        plt.title(\"Confusion Matrix\")\n",
    "        plt.show()"
   ]
  },
  {
   "cell_type": "markdown",
   "metadata": {},
   "source": [
    "# Pipelines"
   ]
  },
  {
   "cell_type": "code",
   "execution_count": 8,
   "metadata": {},
   "outputs": [],
   "source": [
    "text_cleaning_pipeline = Pipeline([('clean_text', TextCleaner())])\n",
    "\n",
    "tfidf_pipeline = Pipeline([\n",
    "    (\"tfidf\", TFIDFVectorizer(\n",
    "        max_features=10000,\n",
    "        stop_words=\"english\"))])\n",
    "\n",
    "final_pipeline = Pipeline([\n",
    "    (\"text_cleaning\", text_cleaning_pipeline),\n",
    "    (\"tfidf\", tfidf_pipeline),\n",
    "    (\"classifier\", GradientBoostingClassifierWrapper(n_estimators=300, learning_rate=0.2, max_depth=3, early_stopping_rounds=20))])\n",
    "\n",
    "evaluator = EvaluationPipeline(model=final_pipeline)\n",
    "\n",
    "# UI prediction\n",
    "ui_pred_pipe = Pipeline([\n",
    "    (\"text_cleaning\", text_cleaning_pipeline),\n",
    "    (\"tfidf\", tfidf_pipeline),\n",
    "    (\"classifier\", final_pipeline.named_steps[\"classifier\"])]) # Use trained classifier"
   ]
  },
  {
   "cell_type": "code",
   "execution_count": 9,
   "metadata": {},
   "outputs": [],
   "source": [
    "# Predict Text (UI)\n",
    "\n",
    "class TextClassificationModel:\n",
    "    def __init__(self, pipeline):\n",
    "        \"\"\"Wrap the pre-trained pipeline.\"\"\"\n",
    "        self.pipeline = pipeline\n",
    "\n",
    "    def predict_text(self, input_text):\n",
    "        \"\"\"Predict a single text input (for UI usage).\"\"\"\n",
    "        if self.pipeline is None:\n",
    "            raise ValueError(\"Model has not been initialized properly.\")\n",
    "\n",
    "        # Ensure input is in a DataFrame with 'text' column\n",
    "        df = pd.DataFrame({\"text\": [input_text]})\n",
    "\n",
    "        # Apply preprocessing + prediction\n",
    "        y_pred = self.pipeline.predict(df)[0]\n",
    "        y_pred_proba = self.pipeline.predict_proba(df)[:, 1][0]  # Probability of AI class (1)\n",
    "\n",
    "        # Format probability as percentage\n",
    "        probability = f\"{y_pred_proba * 100:.2f}%\"\n",
    "\n",
    "        return {\"Prediction\": \"AI\" if y_pred == 1 else \"Human\", \"AI Probability\": probability}\n",
    "\n",
    "model = TextClassificationModel(ui_pred_pipe)"
   ]
  },
  {
   "cell_type": "markdown",
   "metadata": {},
   "source": [
    "# Test Use"
   ]
  },
  {
   "cell_type": "code",
   "execution_count": 10,
   "metadata": {},
   "outputs": [
    {
     "data": {
      "text/html": [
       "<div>\n",
       "<style scoped>\n",
       "    .dataframe tbody tr th:only-of-type {\n",
       "        vertical-align: middle;\n",
       "    }\n",
       "\n",
       "    .dataframe tbody tr th {\n",
       "        vertical-align: top;\n",
       "    }\n",
       "\n",
       "    .dataframe thead th {\n",
       "        text-align: right;\n",
       "    }\n",
       "</style>\n",
       "<table border=\"1\" class=\"dataframe\">\n",
       "  <thead>\n",
       "    <tr style=\"text-align: right;\">\n",
       "      <th></th>\n",
       "      <th>text</th>\n",
       "      <th>source</th>\n",
       "    </tr>\n",
       "  </thead>\n",
       "  <tbody>\n",
       "    <tr>\n",
       "      <th>0</th>\n",
       "      <td>In 1466, perhaps 40,000 people died of the pla...</td>\n",
       "      <td>1</td>\n",
       "    </tr>\n",
       "    <tr>\n",
       "      <th>1</th>\n",
       "      <td>Amazon's yet-unnamed Lord of the Rings origina...</td>\n",
       "      <td>1</td>\n",
       "    </tr>\n",
       "    <tr>\n",
       "      <th>2</th>\n",
       "      <td>@Holt  \\n***Hi. I've just rewritten the essay....</td>\n",
       "      <td>0</td>\n",
       "    </tr>\n",
       "    <tr>\n",
       "      <th>3</th>\n",
       "      <td>Pleasantly surprised! Had a few options for ve...</td>\n",
       "      <td>1</td>\n",
       "    </tr>\n",
       "    <tr>\n",
       "      <th>4</th>\n",
       "      <td>Shakespeare’s Othello: A Tragic Hero Research ...</td>\n",
       "      <td>0</td>\n",
       "    </tr>\n",
       "  </tbody>\n",
       "</table>\n",
       "</div>"
      ],
      "text/plain": [
       "                                                text  source\n",
       "0  In 1466, perhaps 40,000 people died of the pla...       1\n",
       "1  Amazon's yet-unnamed Lord of the Rings origina...       1\n",
       "2  @Holt  \\n***Hi. I've just rewritten the essay....       0\n",
       "3  Pleasantly surprised! Had a few options for ve...       1\n",
       "4  Shakespeare’s Othello: A Tragic Hero Research ...       0"
      ]
     },
     "execution_count": 10,
     "metadata": {},
     "output_type": "execute_result"
    }
   ],
   "source": [
    "df = load_data(\"../../data/10k_sampled_dataset.csv\")\n",
    "\n",
    "df.head()"
   ]
  },
  {
   "cell_type": "code",
   "execution_count": 11,
   "metadata": {},
   "outputs": [
    {
     "data": {
      "text/plain": [
       "source\n",
       "0    0.5577\n",
       "1    0.4423\n",
       "Name: proportion, dtype: float64"
      ]
     },
     "execution_count": 11,
     "metadata": {},
     "output_type": "execute_result"
    }
   ],
   "source": [
    "df[\"source\"].value_counts(normalize=True)"
   ]
  },
  {
   "cell_type": "code",
   "execution_count": 12,
   "metadata": {},
   "outputs": [
    {
     "name": "stdout",
     "output_type": "stream",
     "text": [
      "Model Performance on Test Set:\n",
      "Loss: 0.2332\n",
      "Accuracy: 0.9055\n",
      "Precision: 0.8677\n",
      "Recall: 0.9276\n",
      "ROC-AUC: 0.9642\n",
      "\n",
      "Warning: Accuracy history is empty. Ensure `track_accuracy` is called before `evaluate`.\n"
     ]
    },
    {
     "data": {
      "image/png": "[encoded data removed]",
      "text/plain": [
       "<Figure size 500x400 with 2 Axes>"
      ]
     },
     "metadata": {},
     "output_type": "display_data"
    }
   ],
   "source": [
    "# Train and evaluate\n",
    "\n",
    "X = df[\"text\"]  # Raw text input\n",
    "y = df[\"source\"]  # Labels (0=Human, 1=AI)\n",
    "\n",
    "X_train, X_test, y_train, y_test = train_test_split(X, y, test_size=0.2, random_state=42)\n",
    "\n",
    "# Train Model\n",
    "final_pipeline.fit(X_train, y_train)\n",
    "\n",
    "# Track Accuracy History (before evaluation)\n",
    "#evaluator.track_accuracy(X_train, y_train)\n",
    "\n",
    "# Evaluate Model\n",
    "results = evaluator.evaluate(X_test, y_test)\n",
    "results"
   ]
  },
  {
   "cell_type": "code",
   "execution_count": 13,
   "metadata": {},
   "outputs": [
    {
     "data": {
      "text/plain": [
       "{'Prediction': 'AI', 'AI Probability': '86.94%'}"
      ]
     },
     "execution_count": 13,
     "metadata": {},
     "output_type": "execute_result"
    }
   ],
   "source": [
    "test01 = \"Melbourne, Australia, is renowned for its vibrant and sophisticated coffee culture, often considered one of the best in the world. The city’s laneways are dotted with cozy cafes, each offering meticulously crafted brews that reflect a deep passion for quality and artistry. From flat whites to single-origin pour-overs, Melbourne’s baristas are skilled artisans, dedicated to perfecting every cup. The coffee scene here is more than just a drink—it’s a lifestyle, a social ritual, and a celebration of community. Locals take pride in their coffee knowledge, favoring independent roasters and ethically sourced beans. Whether it’s a hidden gem in Degraves Street or a trendy spot in Fitzroy, Melbourne’s coffee culture is an immersive experience, blending innovation with tradition, and creating a haven for coffee lovers from around the globe.\"\n",
    "\n",
    "y_pred = model.predict_text(test01)\n",
    "y_pred"
   ]
  },
  {
   "cell_type": "code",
   "execution_count": 14,
   "metadata": {},
   "outputs": [
    {
     "data": {
      "text/plain": [
       "{'Prediction': 'AI', 'AI Probability': '77.49%'}"
      ]
     },
     "execution_count": 14,
     "metadata": {},
     "output_type": "execute_result"
    }
   ],
   "source": [
    "test02 = \"Cats are known to be bringing luck to the house, although there's been misconception that black cats brings bad luck. Can you distinguish between people who own cats and who owns dogs? Many people believe that cat owners are more introverted and dog owners are the exact opposite.\"\n",
    "\n",
    "y_pred = model.predict_text(test02)\n",
    "y_pred"
   ]
  },
  {
   "cell_type": "code",
   "execution_count": 15,
   "metadata": {},
   "outputs": [
    {
     "data": {
      "text/plain": [
       "{'Prediction': 'AI', 'AI Probability': '65.74%'}"
      ]
     },
     "execution_count": 15,
     "metadata": {},
     "output_type": "execute_result"
    }
   ],
   "source": [
    "test03 = \"Bali is extremely hot today. I can't wait for winter.\"\n",
    "\n",
    "y_pred = model.predict_text(test03)\n",
    "y_pred"
   ]
  },
  {
   "cell_type": "code",
   "execution_count": 16,
   "metadata": {},
   "outputs": [],
   "source": [
    "# # Save Model\n",
    "\n",
    "# joblib.dump(final_pipeline, \"../export/gradient_boost_model.pkl\")"
   ]
  }
 ],
 "metadata": {
  "kernelspec": {
   "display_name": "fake-data-detector",
   "language": "python",
   "name": "python3"
  },
  "language_info": {
   "codemirror_mode": {
    "name": "ipython",
    "version": 3
   },
   "file_extension": ".py",
   "mimetype": "text/x-python",
   "name": "python",
   "nbconvert_exporter": "python",
   "pygments_lexer": "ipython3",
   "version": "3.10.6"
  }
 },
 "nbformat": 4,
 "nbformat_minor": 2
}
