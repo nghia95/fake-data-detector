{
 "cells": [
  {
   "cell_type": "code",
   "execution_count": 1,
   "metadata": {},
   "outputs": [
    {
     "name": "stderr",
     "output_type": "stream",
     "text": [
      "/Users/till/.pyenv/versions/3.10.6/envs/fake-data-detector/lib/python3.10/site-packages/tqdm/auto.py:21: TqdmWarning: IProgress not found. Please update jupyter and ipywidgets. See https://ipywidgets.readthedocs.io/en/stable/user_install.html\n",
      "  from .autonotebook import tqdm as notebook_tqdm\n"
     ]
    }
   ],
   "source": [
    "# Data handling\n",
    "import pandas as pd\n",
    "import numpy as np\n",
    "import re\n",
    "import string\n",
    "import matplotlib.pyplot as plt\n",
    "import seaborn as sns\n",
    "import joblib\n",
    "\n",
    "# Optimization\n",
    "import swifter\n",
    "from scipy.sparse import csr_matrix\n",
    "\n",
    "# ML\n",
    "from sklearn.pipeline import Pipeline, FeatureUnion\n",
    "from sklearn.base import BaseEstimator, TransformerMixin\n",
    "from sklearn.preprocessing import StandardScaler\n",
    "from sklearn.feature_extraction.text import TfidfVectorizer\n",
    "from sklearn.ensemble import RandomForestClassifier, GradientBoostingClassifier\n",
    "from sklearn.model_selection import train_test_split\n",
    "from sklearn.metrics import log_loss, accuracy_score, precision_score, recall_score, roc_auc_score, confusion_matrix\n",
    "from sklearn.base import clone\n",
    "\n",
    "# Export Model\n",
    "import tensorflow as tf\n",
    "from tensorflow.keras.models import Sequential\n",
    "from tensorflow.keras.layers import Input, Dense, Dropout, LeakyReLU\n",
    "from tensorflow.keras.optimizers import Adam\n",
    "from tensorflow.keras.callbacks import EarlyStopping\n",
    "from scikeras.wrappers import KerasClassifier\n",
    "from tensorflow.keras.regularizers import l2"
   ]
  },
  {
   "cell_type": "markdown",
   "metadata": {},
   "source": [
    "# Functions"
   ]
  },
  {
   "cell_type": "code",
   "execution_count": 2,
   "metadata": {},
   "outputs": [],
   "source": [
    "# Data Loading\n",
    "\n",
    "def load_data(filepath):\n",
    "    \"\"\"Loads data from a CSV file.\"\"\"\n",
    "    data = pd.read_csv(filepath, encoding=\"utf-8\")\n",
    "    df = data.copy()\n",
    "    df = df.drop(columns=[\"prompt_id\", \"text_length\", \"word_count\"])\n",
    "    df[\"source\"] = df[\"source\"].apply(lambda x: 1 if x != \"Human\" else 0)\n",
    "    return df"
   ]
  },
  {
   "cell_type": "code",
   "execution_count": 3,
   "metadata": {},
   "outputs": [],
   "source": [
    "# Text Cleaning\n",
    "\n",
    "class TextCleaner(BaseEstimator, TransformerMixin):\n",
    "    def text_cleaning(self, text):\n",
    "        if not isinstance(text, str):  # ✅ Convert non-string inputs\n",
    "            text = str(text)\n",
    "        # Remove punctuation\n",
    "        text = text.translate(str.maketrans('', '', string.punctuation))\n",
    "        # Remove numbers\n",
    "        text = re.sub(r'\\d+', '', text)\n",
    "        # Convert to lowercase\n",
    "        text = text.lower()\n",
    "        # Remove extra spaces\n",
    "        text = ' '.join(text.split())\n",
    "        return text.strip()\n",
    "\n",
    "    def fit(self, X, y=None):\n",
    "        return self\n",
    "\n",
    "    def transform(self, X):\n",
    "        \"\"\"Apply cleaning to text column.\"\"\"\n",
    "        if isinstance(X, pd.DataFrame):\n",
    "            return X.assign(text=X[\"text\"].apply(self.text_cleaning))  # Clean DataFrame column\n",
    "        return X.apply(self.text_cleaning)  # Clean Series"
   ]
  },
  {
   "cell_type": "code",
   "execution_count": 4,
   "metadata": {},
   "outputs": [],
   "source": [
    "# TF-IDF Vectorization\n",
    "\n",
    "class TFIDFVectorizer(BaseEstimator, TransformerMixin):\n",
    "    def __init__(self, max_features=10000, ngram_range=(1,2), stop_words=\"english\"):\n",
    "        \"\"\"\n",
    "        Custom TF-IDF vectorizer with optimizations.\n",
    "        - max_features: Limits vocabulary size to the most important words.\n",
    "        - ngram_range: (1,1) for unigrams, (1,2) for bigrams, etc.\n",
    "        \"\"\"\n",
    "        self.max_features = max_features\n",
    "        self.ngram_range = ngram_range\n",
    "        self.stop_words = stop_words\n",
    "        self.vectorizer = TfidfVectorizer(\n",
    "            max_features=max_features,\n",
    "            ngram_range=ngram_range,\n",
    "            stop_words=stop_words)\n",
    "\n",
    "\n",
    "    def fit(self, X, y=None):\n",
    "        \"\"\"Fit the vectorizer to the text data.\"\"\"\n",
    "        if isinstance(X, pd.DataFrame) and \"text\" in X.columns:\n",
    "            X = X[\"text\"]\n",
    "        self.vectorizer.fit(X)\n",
    "        return self\n",
    "\n",
    "\n",
    "    def transform(self, X):\n",
    "        \"\"\"Transforms text data into TF-IDF feature vectors.\"\"\"\n",
    "        if isinstance(X, pd.DataFrame) and \"text\" in X.columns:\n",
    "            X = X[\"text\"]\n",
    "        vec_result = self.vectorizer.transform(X)\n",
    "        return vec_result.toarray()  # Ensures Output is Numeric"
   ]
  },
  {
   "cell_type": "code",
   "execution_count": 5,
   "metadata": {},
   "outputs": [],
   "source": [
    "# Model Evaluation\n",
    "\n",
    "class EvaluationPipeline:\n",
    "    def __init__(self, model):\n",
    "        \"\"\"Initialize with a trained model.\"\"\"\n",
    "        self.model = model\n",
    "        self.train_acc_history = []\n",
    "\n",
    "    def track_accuracy(self, X_train, y_train):\n",
    "        \"\"\"Track training and validation accuracy over epochs.\"\"\"\n",
    "        # Ensure accuracy history is cleared before tracking\n",
    "        self.train_acc_history.clear()\n",
    "\n",
    "        classifier = self.model.named_steps.get(\"classifier\")\n",
    "        if hasattr(classifier, \"model_\") and hasattr(classifier.model_, \"history\"):\n",
    "            self.train_acc_history = classifier.model_.history.history.get(\"accuracy\", [])\n",
    "\n",
    "        print(f\"\\nTraining Accuracy: {self.train_acc_history[-1]:.4f}\" if self.train_acc_history else\n",
    "          \"\\nWarning: Accuracy history is empty. Ensure 'track_accuracy' is called before `evaluate`.\")\n",
    "\n",
    "\n",
    "    def evaluate(self, X_test, y_test):\n",
    "        \"\"\"Evaluate the trained model on test data.\"\"\"\n",
    "        y_pred_proba = self.model.predict(X_test)\n",
    "        y_pred = (y_pred_proba > 0.5).astype(int)  # Convert probability to class labels\n",
    "\n",
    "        results = {\n",
    "            \"loss\": log_loss(y_test, y_pred_proba),\n",
    "            \"accuracy\": accuracy_score(y_test, y_pred),\n",
    "            \"precision\": precision_score(y_test, y_pred),\n",
    "            \"recall\": recall_score(y_test, y_pred)}\n",
    "\n",
    "        # Print performance\n",
    "        print(\"Model Performance on Test Set:\")\n",
    "        print(f\"Loss: {results['loss']:.4f}\")\n",
    "        print(f\"Accuracy: {results['accuracy']:.4f}\")\n",
    "        print(f\"Precision: {results['precision']:.4f}\")\n",
    "        print(f\"Recall: {results['recall']:.4f}\")\n",
    "\n",
    "        # Confusion Matrix Plot\n",
    "        cm = confusion_matrix(y_test, y_pred)\n",
    "        plt.figure(figsize=(5, 4))\n",
    "        sns.heatmap(cm, annot=True, fmt=\"d\", cmap=\"Blues\", xticklabels=[\"Human\", \"AI\"], yticklabels=[\"Human\", \"AI\"])\n",
    "        plt.xlabel(\"Predicted Label\")\n",
    "        plt.ylabel(\"Actual Label\")\n",
    "        plt.title(\"Confusion Matrix\")\n",
    "        plt.show()"
   ]
  },
  {
   "cell_type": "code",
   "execution_count": 6,
   "metadata": {},
   "outputs": [],
   "source": [
    "# Keras model\n",
    "\n",
    "def build_keras_model(input_dim, l2_reg=0.01, dropout1=0.5, dropout2=0.5, dropout3=0.4, learning_rate=0.0001):\n",
    "    model = Sequential([\n",
    "        Input(shape=(input_dim,)),  # Input dim = tfidf max feature\n",
    "        Dense(512, kernel_regularizer=l2(l2_reg)),\n",
    "        LeakyReLU(negative_slope=0.02), Dropout(0.5),\n",
    "        Dense(256),\n",
    "        LeakyReLU(negative_slope=0.01),Dropout(0.5),\n",
    "        Dense(128),\n",
    "        LeakyReLU(negative_slope=0.01), Dropout(0.4),\n",
    "        Dense(64),\n",
    "        LeakyReLU(negative_slope=0.01),\n",
    "        Dense(1, activation=\"sigmoid\")\n",
    "    ])\n",
    "\n",
    "    model.compile(\n",
    "        optimizer=Adam(learning_rate=learning_rate),\n",
    "        loss=\"binary_crossentropy\",\n",
    "        metrics=[\"accuracy\",\n",
    "                 tf.keras.metrics.Recall(name=\"recall\"),\n",
    "                 tf.keras.metrics.Precision(name=\"precision\"),\n",
    "                 ])\n",
    "    return model\n",
    "\n",
    "\n",
    "input_dim = 10000\n",
    "\n",
    "es = EarlyStopping(monitor=\"loss\", patience=30, restore_best_weights=True)\n",
    "\n",
    "keras_wrapper = KerasClassifier(\n",
    "    model=build_keras_model,\n",
    "    input_dim=input_dim,\n",
    "    l2_reg=0.01,\n",
    "    dropout1=0.5,\n",
    "    dropout2=0.5,\n",
    "    dropout3=0.4,\n",
    "    learning_rate=0.0001,\n",
    "    epochs=100,\n",
    "    batch_size=32,\n",
    "    callbacks=[es],\n",
    "    verbose=1)"
   ]
  },
  {
   "cell_type": "markdown",
   "metadata": {},
   "source": [
    "# Pipelines"
   ]
  },
  {
   "cell_type": "code",
   "execution_count": 7,
   "metadata": {},
   "outputs": [],
   "source": [
    "final_pipeline = Pipeline([\n",
    "    (\"text_cleaning\", TextCleaner()),\n",
    "    (\"tfidf\", TFIDFVectorizer(max_features=10000, stop_words=\"english\")),\n",
    "    (\"classifier\", keras_wrapper)\n",
    "     ])\n",
    "\n",
    "evaluator = EvaluationPipeline(model=final_pipeline)"
   ]
  },
  {
   "cell_type": "code",
   "execution_count": 8,
   "metadata": {},
   "outputs": [],
   "source": [
    "# Predict Text (UI)\n",
    "class TextClassificationModel:\n",
    "    def __init__(self, pipeline):\n",
    "        \"\"\"Wrap the pre-trained pipeline.\"\"\"\n",
    "        self.pipeline = pipeline\n",
    "\n",
    "    def predict(self, input_text: str):\n",
    "        \"\"\"Predict whether the input text is AI or Human.\"\"\"\n",
    "        # Convert input into DataFrame (expected by pipeline)\n",
    "        input_df = pd.DataFrame({\"text\": [input_text]})\n",
    "\n",
    "        try:\n",
    "            # Apply transformation separately if needed\n",
    "            input_df = self.pipeline[:-1].transform(input_df)  # Process text excluding classifier\n",
    "\n",
    "            # Make prediction using the classifier\n",
    "            y_pred_proba = self.pipeline.steps[-1][1].predict_proba(input_df)\n",
    "\n",
    "            # Ensure y_pred_proba is a 2D array (even for a single sample)\n",
    "            if y_pred_proba.ndim == 1:\n",
    "                y_pred_proba = y_pred_proba.reshape(1, -1)\n",
    "\n",
    "            # Extract probability for AI class (assumed to be at index 1)\n",
    "            ai_probability = y_pred_proba[0, 1]  # First row, second column\n",
    "\n",
    "            # Determine prediction and format probability\n",
    "            prediction = \"AI\" if ai_probability > 0.5 else \"Human\"\n",
    "            probability = f\"{ai_probability * 100:.2f}%\"\n",
    "\n",
    "            return {\"Prediction\": prediction, \"AI Probability\": probability}\n",
    "\n",
    "        except Exception as e:\n",
    "            # Handle potential errors (e.g., pipeline not fitted, invalid input)\n",
    "            return {\"Error\": str(e)}\n",
    "\n",
    "# Create model instance\n",
    "model = TextClassificationModel(final_pipeline)"
   ]
  },
  {
   "cell_type": "markdown",
   "metadata": {},
   "source": [
    "# Test Use"
   ]
  },
  {
   "cell_type": "code",
   "execution_count": 9,
   "metadata": {},
   "outputs": [
    {
     "data": {
      "text/html": [
       "<div>\n",
       "<style scoped>\n",
       "    .dataframe tbody tr th:only-of-type {\n",
       "        vertical-align: middle;\n",
       "    }\n",
       "\n",
       "    .dataframe tbody tr th {\n",
       "        vertical-align: top;\n",
       "    }\n",
       "\n",
       "    .dataframe thead th {\n",
       "        text-align: right;\n",
       "    }\n",
       "</style>\n",
       "<table border=\"1\" class=\"dataframe\">\n",
       "  <thead>\n",
       "    <tr style=\"text-align: right;\">\n",
       "      <th></th>\n",
       "      <th>text</th>\n",
       "      <th>source</th>\n",
       "    </tr>\n",
       "  </thead>\n",
       "  <tbody>\n",
       "    <tr>\n",
       "      <th>0</th>\n",
       "      <td>In 1466, perhaps 40,000 people died of the pla...</td>\n",
       "      <td>1</td>\n",
       "    </tr>\n",
       "    <tr>\n",
       "      <th>1</th>\n",
       "      <td>Amazon's yet-unnamed Lord of the Rings origina...</td>\n",
       "      <td>1</td>\n",
       "    </tr>\n",
       "    <tr>\n",
       "      <th>2</th>\n",
       "      <td>@Holt  \\n***Hi. I've just rewritten the essay....</td>\n",
       "      <td>0</td>\n",
       "    </tr>\n",
       "    <tr>\n",
       "      <th>3</th>\n",
       "      <td>Pleasantly surprised! Had a few options for ve...</td>\n",
       "      <td>1</td>\n",
       "    </tr>\n",
       "    <tr>\n",
       "      <th>4</th>\n",
       "      <td>Shakespeare’s Othello: A Tragic Hero Research ...</td>\n",
       "      <td>0</td>\n",
       "    </tr>\n",
       "  </tbody>\n",
       "</table>\n",
       "</div>"
      ],
      "text/plain": [
       "                                                text  source\n",
       "0  In 1466, perhaps 40,000 people died of the pla...       1\n",
       "1  Amazon's yet-unnamed Lord of the Rings origina...       1\n",
       "2  @Holt  \\n***Hi. I've just rewritten the essay....       0\n",
       "3  Pleasantly surprised! Had a few options for ve...       1\n",
       "4  Shakespeare’s Othello: A Tragic Hero Research ...       0"
      ]
     },
     "execution_count": 9,
     "metadata": {},
     "output_type": "execute_result"
    }
   ],
   "source": [
    "df = load_data(\"../../data/10k_sampled_dataset.csv\")\n",
    "\n",
    "df.head()"
   ]
  },
  {
   "cell_type": "code",
   "execution_count": 10,
   "metadata": {},
   "outputs": [
    {
     "data": {
      "text/plain": [
       "source\n",
       "0    0.5577\n",
       "1    0.4423\n",
       "Name: proportion, dtype: float64"
      ]
     },
     "execution_count": 10,
     "metadata": {},
     "output_type": "execute_result"
    }
   ],
   "source": [
    "df[\"source\"].value_counts(normalize=True)"
   ]
  },
  {
   "cell_type": "code",
   "execution_count": 11,
   "metadata": {},
   "outputs": [],
   "source": [
    "# Train and evaluate\n",
    "\n",
    "X = df[\"text\"]  # Raw text input\n",
    "y = df[\"source\"]  # Labels (0=Human, 1=AI)\n",
    "\n",
    "X_train, X_test, y_train, y_test = train_test_split(X, y, test_size=0.2, random_state=42)"
   ]
  },
  {
   "cell_type": "code",
   "execution_count": 12,
   "metadata": {},
   "outputs": [
    {
     "name": "stdout",
     "output_type": "stream",
     "text": [
      "Epoch 1/100\n",
      "\u001b[1m250/250\u001b[0m \u001b[32m━━━━━━━━━━━━━━━━━━━━\u001b[0m\u001b[37m\u001b[0m \u001b[1m5s\u001b[0m 17ms/step - accuracy: 0.5637 - loss: 5.9319 - precision: 0.3015 - recall: 0.0035\n",
      "Epoch 2/100\n",
      "\u001b[1m250/250\u001b[0m \u001b[32m━━━━━━━━━━━━━━━━━━━━\u001b[0m\u001b[37m\u001b[0m \u001b[1m4s\u001b[0m 16ms/step - accuracy: 0.7613 - loss: 0.6252 - precision: 0.9029 - recall: 0.5316\n",
      "Epoch 3/100\n",
      "\u001b[1m250/250\u001b[0m \u001b[32m━━━━━━━━━━━━━━━━━━━━\u001b[0m\u001b[37m\u001b[0m \u001b[1m4s\u001b[0m 16ms/step - accuracy: 0.9326 - loss: 0.3173 - precision: 0.9012 - recall: 0.9533\n",
      "Epoch 4/100\n",
      "\u001b[1m250/250\u001b[0m \u001b[32m━━━━━━━━━━━━━━━━━━━━\u001b[0m\u001b[37m\u001b[0m \u001b[1m4s\u001b[0m 16ms/step - accuracy: 0.9631 - loss: 0.2526 - precision: 0.9417 - recall: 0.9769\n",
      "Epoch 5/100\n",
      "\u001b[1m250/250\u001b[0m \u001b[32m━━━━━━━━━━━━━━━━━━━━\u001b[0m\u001b[37m\u001b[0m \u001b[1m4s\u001b[0m 16ms/step - accuracy: 0.9707 - loss: 0.2214 - precision: 0.9554 - recall: 0.9794\n",
      "Epoch 6/100\n",
      "\u001b[1m250/250\u001b[0m \u001b[32m━━━━━━━━━━━━━━━━━━━━\u001b[0m\u001b[37m\u001b[0m \u001b[1m4s\u001b[0m 16ms/step - accuracy: 0.9786 - loss: 0.2021 - precision: 0.9673 - recall: 0.9840\n",
      "Epoch 7/100\n",
      "\u001b[1m250/250\u001b[0m \u001b[32m━━━━━━━━━━━━━━━━━━━━\u001b[0m\u001b[37m\u001b[0m \u001b[1m4s\u001b[0m 16ms/step - accuracy: 0.9861 - loss: 0.1800 - precision: 0.9775 - recall: 0.9914\n",
      "Epoch 8/100\n",
      "\u001b[1m250/250\u001b[0m \u001b[32m━━━━━━━━━━━━━━━━━━━━\u001b[0m\u001b[37m\u001b[0m \u001b[1m4s\u001b[0m 16ms/step - accuracy: 0.9847 - loss: 0.1725 - precision: 0.9767 - recall: 0.9883\n",
      "Epoch 9/100\n",
      "\u001b[1m250/250\u001b[0m \u001b[32m━━━━━━━━━━━━━━━━━━━━\u001b[0m\u001b[37m\u001b[0m \u001b[1m4s\u001b[0m 16ms/step - accuracy: 0.9867 - loss: 0.1677 - precision: 0.9795 - recall: 0.9907\n",
      "Epoch 10/100\n",
      "\u001b[1m250/250\u001b[0m \u001b[32m━━━━━━━━━━━━━━━━━━━━\u001b[0m\u001b[37m\u001b[0m \u001b[1m4s\u001b[0m 16ms/step - accuracy: 0.9883 - loss: 0.1590 - precision: 0.9842 - recall: 0.9897\n",
      "Epoch 11/100\n",
      "\u001b[1m250/250\u001b[0m \u001b[32m━━━━━━━━━━━━━━━━━━━━\u001b[0m\u001b[37m\u001b[0m \u001b[1m4s\u001b[0m 16ms/step - accuracy: 0.9924 - loss: 0.1551 - precision: 0.9890 - recall: 0.9940\n",
      "Epoch 12/100\n",
      "\u001b[1m250/250\u001b[0m \u001b[32m━━━━━━━━━━━━━━━━━━━━\u001b[0m\u001b[37m\u001b[0m \u001b[1m4s\u001b[0m 16ms/step - accuracy: 0.9920 - loss: 0.1487 - precision: 0.9888 - recall: 0.9931\n",
      "Epoch 13/100\n",
      "\u001b[1m250/250\u001b[0m \u001b[32m━━━━━━━━━━━━━━━━━━━━\u001b[0m\u001b[37m\u001b[0m \u001b[1m4s\u001b[0m 16ms/step - accuracy: 0.9933 - loss: 0.1434 - precision: 0.9907 - recall: 0.9939\n",
      "Epoch 14/100\n",
      "\u001b[1m250/250\u001b[0m \u001b[32m━━━━━━━━━━━━━━━━━━━━\u001b[0m\u001b[37m\u001b[0m \u001b[1m4s\u001b[0m 16ms/step - accuracy: 0.9906 - loss: 0.1443 - precision: 0.9893 - recall: 0.9900\n",
      "Epoch 15/100\n",
      "\u001b[1m250/250\u001b[0m \u001b[32m━━━━━━━━━━━━━━━━━━━━\u001b[0m\u001b[37m\u001b[0m \u001b[1m4s\u001b[0m 16ms/step - accuracy: 0.9934 - loss: 0.1341 - precision: 0.9932 - recall: 0.9921\n",
      "Epoch 16/100\n",
      "\u001b[1m250/250\u001b[0m \u001b[32m━━━━━━━━━━━━━━━━━━━━\u001b[0m\u001b[37m\u001b[0m \u001b[1m4s\u001b[0m 16ms/step - accuracy: 0.9952 - loss: 0.1319 - precision: 0.9931 - recall: 0.9960\n",
      "Epoch 17/100\n",
      "\u001b[1m250/250\u001b[0m \u001b[32m━━━━━━━━━━━━━━━━━━━━\u001b[0m\u001b[37m\u001b[0m \u001b[1m4s\u001b[0m 17ms/step - accuracy: 0.9927 - loss: 0.1322 - precision: 0.9903 - recall: 0.9930\n",
      "Epoch 18/100\n",
      "\u001b[1m250/250\u001b[0m \u001b[32m━━━━━━━━━━━━━━━━━━━━\u001b[0m\u001b[37m\u001b[0m \u001b[1m4s\u001b[0m 16ms/step - accuracy: 0.9944 - loss: 0.1262 - precision: 0.9935 - recall: 0.9939\n",
      "Epoch 19/100\n",
      "\u001b[1m250/250\u001b[0m \u001b[32m━━━━━━━━━━━━━━━━━━━━\u001b[0m\u001b[37m\u001b[0m \u001b[1m4s\u001b[0m 16ms/step - accuracy: 0.9955 - loss: 0.1238 - precision: 0.9944 - recall: 0.9953\n",
      "Epoch 20/100\n",
      "\u001b[1m250/250\u001b[0m \u001b[32m━━━━━━━━━━━━━━━━━━━━\u001b[0m\u001b[37m\u001b[0m \u001b[1m4s\u001b[0m 16ms/step - accuracy: 0.9959 - loss: 0.1173 - precision: 0.9949 - recall: 0.9957\n",
      "Epoch 21/100\n",
      "\u001b[1m250/250\u001b[0m \u001b[32m━━━━━━━━━━━━━━━━━━━━\u001b[0m\u001b[37m\u001b[0m \u001b[1m4s\u001b[0m 16ms/step - accuracy: 0.9947 - loss: 0.1131 - precision: 0.9924 - recall: 0.9960\n",
      "Epoch 22/100\n",
      "\u001b[1m250/250\u001b[0m \u001b[32m━━━━━━━━━━━━━━━━━━━━\u001b[0m\u001b[37m\u001b[0m \u001b[1m4s\u001b[0m 16ms/step - accuracy: 0.9941 - loss: 0.1169 - precision: 0.9914 - recall: 0.9953\n",
      "Epoch 23/100\n",
      "\u001b[1m250/250\u001b[0m \u001b[32m━━━━━━━━━━━━━━━━━━━━\u001b[0m\u001b[37m\u001b[0m \u001b[1m4s\u001b[0m 16ms/step - accuracy: 0.9937 - loss: 0.1139 - precision: 0.9912 - recall: 0.9949\n",
      "Epoch 24/100\n",
      "\u001b[1m250/250\u001b[0m \u001b[32m━━━━━━━━━━━━━━━━━━━━\u001b[0m\u001b[37m\u001b[0m \u001b[1m4s\u001b[0m 16ms/step - accuracy: 0.9945 - loss: 0.1159 - precision: 0.9915 - recall: 0.9961\n",
      "Epoch 25/100\n",
      "\u001b[1m250/250\u001b[0m \u001b[32m━━━━━━━━━━━━━━━━━━━━\u001b[0m\u001b[37m\u001b[0m \u001b[1m4s\u001b[0m 16ms/step - accuracy: 0.9960 - loss: 0.1110 - precision: 0.9948 - recall: 0.9962\n",
      "Epoch 26/100\n",
      "\u001b[1m250/250\u001b[0m \u001b[32m━━━━━━━━━━━━━━━━━━━━\u001b[0m\u001b[37m\u001b[0m \u001b[1m4s\u001b[0m 16ms/step - accuracy: 0.9963 - loss: 0.1031 - precision: 0.9967 - recall: 0.9950\n",
      "Epoch 27/100\n",
      "\u001b[1m250/250\u001b[0m \u001b[32m━━━━━━━━━━━━━━━━━━━━\u001b[0m\u001b[37m\u001b[0m \u001b[1m4s\u001b[0m 16ms/step - accuracy: 0.9962 - loss: 0.1022 - precision: 0.9952 - recall: 0.9964\n",
      "Epoch 28/100\n",
      "\u001b[1m250/250\u001b[0m \u001b[32m━━━━━━━━━━━━━━━━━━━━\u001b[0m\u001b[37m\u001b[0m \u001b[1m4s\u001b[0m 16ms/step - accuracy: 0.9968 - loss: 0.1012 - precision: 0.9972 - recall: 0.9955\n",
      "Epoch 29/100\n",
      "\u001b[1m250/250\u001b[0m \u001b[32m━━━━━━━━━━━━━━━━━━━━\u001b[0m\u001b[37m\u001b[0m \u001b[1m4s\u001b[0m 18ms/step - accuracy: 0.9966 - loss: 0.1067 - precision: 0.9951 - recall: 0.9971\n",
      "Epoch 30/100\n",
      "\u001b[1m250/250\u001b[0m \u001b[32m━━━━━━━━━━━━━━━━━━━━\u001b[0m\u001b[37m\u001b[0m \u001b[1m4s\u001b[0m 17ms/step - accuracy: 0.9943 - loss: 0.1063 - precision: 0.9926 - recall: 0.9944\n",
      "Epoch 31/100\n",
      "\u001b[1m250/250\u001b[0m \u001b[32m━━━━━━━━━━━━━━━━━━━━\u001b[0m\u001b[37m\u001b[0m \u001b[1m4s\u001b[0m 16ms/step - accuracy: 0.9962 - loss: 0.1022 - precision: 0.9947 - recall: 0.9967\n",
      "Epoch 32/100\n",
      "\u001b[1m250/250\u001b[0m \u001b[32m━━━━━━━━━━━━━━━━━━━━\u001b[0m\u001b[37m\u001b[0m \u001b[1m4s\u001b[0m 16ms/step - accuracy: 0.9937 - loss: 0.1077 - precision: 0.9925 - recall: 0.9934\n",
      "Epoch 33/100\n",
      "\u001b[1m250/250\u001b[0m \u001b[32m━━━━━━━━━━━━━━━━━━━━\u001b[0m\u001b[37m\u001b[0m \u001b[1m4s\u001b[0m 16ms/step - accuracy: 0.9963 - loss: 0.1043 - precision: 0.9953 - recall: 0.9965\n",
      "Epoch 34/100\n",
      "\u001b[1m250/250\u001b[0m \u001b[32m━━━━━━━━━━━━━━━━━━━━\u001b[0m\u001b[37m\u001b[0m \u001b[1m4s\u001b[0m 16ms/step - accuracy: 0.9943 - loss: 0.1090 - precision: 0.9951 - recall: 0.9921\n",
      "Epoch 35/100\n",
      "\u001b[1m250/250\u001b[0m \u001b[32m━━━━━━━━━━━━━━━━━━━━\u001b[0m\u001b[37m\u001b[0m \u001b[1m4s\u001b[0m 17ms/step - accuracy: 0.9969 - loss: 0.1009 - precision: 0.9964 - recall: 0.9965\n",
      "Epoch 36/100\n",
      "\u001b[1m250/250\u001b[0m \u001b[32m━━━━━━━━━━━━━━━━━━━━\u001b[0m\u001b[37m\u001b[0m \u001b[1m4s\u001b[0m 18ms/step - accuracy: 0.9972 - loss: 0.1001 - precision: 0.9954 - recall: 0.9984\n",
      "Epoch 37/100\n",
      "\u001b[1m250/250\u001b[0m \u001b[32m━━━━━━━━━━━━━━━━━━━━\u001b[0m\u001b[37m\u001b[0m \u001b[1m4s\u001b[0m 15ms/step - accuracy: 0.9977 - loss: 0.0916 - precision: 0.9980 - recall: 0.9967\n",
      "Epoch 38/100\n",
      "\u001b[1m250/250\u001b[0m \u001b[32m━━━━━━━━━━━━━━━━━━━━\u001b[0m\u001b[37m\u001b[0m \u001b[1m4s\u001b[0m 16ms/step - accuracy: 0.9950 - loss: 0.0923 - precision: 0.9952 - recall: 0.9935\n",
      "Epoch 39/100\n",
      "\u001b[1m250/250\u001b[0m \u001b[32m━━━━━━━━━━━━━━━━━━━━\u001b[0m\u001b[37m\u001b[0m \u001b[1m4s\u001b[0m 16ms/step - accuracy: 0.9968 - loss: 0.0885 - precision: 0.9969 - recall: 0.9959\n",
      "Epoch 40/100\n",
      "\u001b[1m250/250\u001b[0m \u001b[32m━━━━━━━━━━━━━━━━━━━━\u001b[0m\u001b[37m\u001b[0m \u001b[1m4s\u001b[0m 18ms/step - accuracy: 0.9945 - loss: 0.0956 - precision: 0.9958 - recall: 0.9918\n",
      "Epoch 41/100\n",
      "\u001b[1m250/250\u001b[0m \u001b[32m━━━━━━━━━━━━━━━━━━━━\u001b[0m\u001b[37m\u001b[0m \u001b[1m4s\u001b[0m 16ms/step - accuracy: 0.9950 - loss: 0.0918 - precision: 0.9942 - recall: 0.9943\n",
      "Epoch 42/100\n",
      "\u001b[1m250/250\u001b[0m \u001b[32m━━━━━━━━━━━━━━━━━━━━\u001b[0m\u001b[37m\u001b[0m \u001b[1m4s\u001b[0m 16ms/step - accuracy: 0.9961 - loss: 0.0901 - precision: 0.9939 - recall: 0.9970\n",
      "Epoch 43/100\n",
      "\u001b[1m250/250\u001b[0m \u001b[32m━━━━━━━━━━━━━━━━━━━━\u001b[0m\u001b[37m\u001b[0m \u001b[1m4s\u001b[0m 15ms/step - accuracy: 0.9965 - loss: 0.0893 - precision: 0.9954 - recall: 0.9967\n",
      "Epoch 44/100\n",
      "\u001b[1m250/250\u001b[0m \u001b[32m━━━━━━━━━━━━━━━━━━━━\u001b[0m\u001b[37m\u001b[0m \u001b[1m4s\u001b[0m 15ms/step - accuracy: 0.9965 - loss: 0.0894 - precision: 0.9962 - recall: 0.9959\n",
      "Epoch 45/100\n",
      "\u001b[1m250/250\u001b[0m \u001b[32m━━━━━━━━━━━━━━━━━━━━\u001b[0m\u001b[37m\u001b[0m \u001b[1m4s\u001b[0m 15ms/step - accuracy: 0.9953 - loss: 0.0914 - precision: 0.9969 - recall: 0.9927\n",
      "Epoch 46/100\n",
      "\u001b[1m250/250\u001b[0m \u001b[32m━━━━━━━━━━━━━━━━━━━━\u001b[0m\u001b[37m\u001b[0m \u001b[1m4s\u001b[0m 15ms/step - accuracy: 0.9965 - loss: 0.0922 - precision: 0.9949 - recall: 0.9973\n",
      "Epoch 47/100\n",
      "\u001b[1m250/250\u001b[0m \u001b[32m━━━━━━━━━━━━━━━━━━━━\u001b[0m\u001b[37m\u001b[0m \u001b[1m4s\u001b[0m 15ms/step - accuracy: 0.9941 - loss: 0.0953 - precision: 0.9927 - recall: 0.9939\n",
      "Epoch 48/100\n",
      "\u001b[1m250/250\u001b[0m \u001b[32m━━━━━━━━━━━━━━━━━━━━\u001b[0m\u001b[37m\u001b[0m \u001b[1m4s\u001b[0m 15ms/step - accuracy: 0.9965 - loss: 0.0931 - precision: 0.9960 - recall: 0.9961\n",
      "Epoch 49/100\n",
      "\u001b[1m250/250\u001b[0m \u001b[32m━━━━━━━━━━━━━━━━━━━━\u001b[0m\u001b[37m\u001b[0m \u001b[1m4s\u001b[0m 15ms/step - accuracy: 0.9949 - loss: 0.0932 - precision: 0.9939 - recall: 0.9947\n",
      "Epoch 50/100\n",
      "\u001b[1m250/250\u001b[0m \u001b[32m━━━━━━━━━━━━━━━━━━━━\u001b[0m\u001b[37m\u001b[0m \u001b[1m4s\u001b[0m 15ms/step - accuracy: 0.9955 - loss: 0.0884 - precision: 0.9947 - recall: 0.9954\n",
      "Epoch 51/100\n",
      "\u001b[1m250/250\u001b[0m \u001b[32m━━━━━━━━━━━━━━━━━━━━\u001b[0m\u001b[37m\u001b[0m \u001b[1m4s\u001b[0m 15ms/step - accuracy: 0.9978 - loss: 0.0841 - precision: 0.9975 - recall: 0.9976\n",
      "Epoch 52/100\n",
      "\u001b[1m250/250\u001b[0m \u001b[32m━━━━━━━━━━━━━━━━━━━━\u001b[0m\u001b[37m\u001b[0m \u001b[1m4s\u001b[0m 15ms/step - accuracy: 0.9955 - loss: 0.0863 - precision: 0.9937 - recall: 0.9962\n",
      "Epoch 53/100\n",
      "\u001b[1m250/250\u001b[0m \u001b[32m━━━━━━━━━━━━━━━━━━━━\u001b[0m\u001b[37m\u001b[0m \u001b[1m4s\u001b[0m 15ms/step - accuracy: 0.9973 - loss: 0.0813 - precision: 0.9975 - recall: 0.9963\n",
      "Epoch 54/100\n",
      "\u001b[1m250/250\u001b[0m \u001b[32m━━━━━━━━━━━━━━━━━━━━\u001b[0m\u001b[37m\u001b[0m \u001b[1m4s\u001b[0m 15ms/step - accuracy: 0.9967 - loss: 0.0864 - precision: 0.9956 - recall: 0.9968\n",
      "Epoch 55/100\n",
      "\u001b[1m250/250\u001b[0m \u001b[32m━━━━━━━━━━━━━━━━━━━━\u001b[0m\u001b[37m\u001b[0m \u001b[1m4s\u001b[0m 15ms/step - accuracy: 0.9965 - loss: 0.0866 - precision: 0.9953 - recall: 0.9969\n",
      "Epoch 56/100\n",
      "\u001b[1m250/250\u001b[0m \u001b[32m━━━━━━━━━━━━━━━━━━━━\u001b[0m\u001b[37m\u001b[0m \u001b[1m4s\u001b[0m 15ms/step - accuracy: 0.9943 - loss: 0.0960 - precision: 0.9916 - recall: 0.9955\n",
      "Epoch 57/100\n",
      "\u001b[1m250/250\u001b[0m \u001b[32m━━━━━━━━━━━━━━━━━━━━\u001b[0m\u001b[37m\u001b[0m \u001b[1m4s\u001b[0m 15ms/step - accuracy: 0.9952 - loss: 0.0953 - precision: 0.9931 - recall: 0.9959\n",
      "Epoch 58/100\n",
      "\u001b[1m250/250\u001b[0m \u001b[32m━━━━━━━━━━━━━━━━━━━━\u001b[0m\u001b[37m\u001b[0m \u001b[1m4s\u001b[0m 15ms/step - accuracy: 0.9967 - loss: 0.0862 - precision: 0.9964 - recall: 0.9962\n",
      "Epoch 59/100\n",
      "\u001b[1m250/250\u001b[0m \u001b[32m━━━━━━━━━━━━━━━━━━━━\u001b[0m\u001b[37m\u001b[0m \u001b[1m4s\u001b[0m 15ms/step - accuracy: 0.9935 - loss: 0.0955 - precision: 0.9913 - recall: 0.9941\n",
      "Epoch 60/100\n",
      "\u001b[1m250/250\u001b[0m \u001b[32m━━━━━━━━━━━━━━━━━━━━\u001b[0m\u001b[37m\u001b[0m \u001b[1m4s\u001b[0m 15ms/step - accuracy: 0.9929 - loss: 0.1024 - precision: 0.9935 - recall: 0.9907\n",
      "Epoch 61/100\n",
      "\u001b[1m250/250\u001b[0m \u001b[32m━━━━━━━━━━━━━━━━━━━━\u001b[0m\u001b[37m\u001b[0m \u001b[1m4s\u001b[0m 15ms/step - accuracy: 0.9951 - loss: 0.0963 - precision: 0.9945 - recall: 0.9942\n",
      "Epoch 62/100\n",
      "\u001b[1m250/250\u001b[0m \u001b[32m━━━━━━━━━━━━━━━━━━━━\u001b[0m\u001b[37m\u001b[0m \u001b[1m4s\u001b[0m 15ms/step - accuracy: 0.9956 - loss: 0.0893 - precision: 0.9947 - recall: 0.9954\n",
      "Epoch 63/100\n",
      "\u001b[1m250/250\u001b[0m \u001b[32m━━━━━━━━━━━━━━━━━━━━\u001b[0m\u001b[37m\u001b[0m \u001b[1m4s\u001b[0m 15ms/step - accuracy: 0.9940 - loss: 0.0954 - precision: 0.9922 - recall: 0.9944\n",
      "Epoch 64/100\n",
      "\u001b[1m250/250\u001b[0m \u001b[32m━━━━━━━━━━━━━━━━━━━━\u001b[0m\u001b[37m\u001b[0m \u001b[1m4s\u001b[0m 15ms/step - accuracy: 0.9983 - loss: 0.0804 - precision: 0.9975 - recall: 0.9985\n",
      "Epoch 65/100\n",
      "\u001b[1m250/250\u001b[0m \u001b[32m━━━━━━━━━━━━━━━━━━━━\u001b[0m\u001b[37m\u001b[0m \u001b[1m4s\u001b[0m 15ms/step - accuracy: 0.9963 - loss: 0.0847 - precision: 0.9950 - recall: 0.9967\n",
      "Epoch 66/100\n",
      "\u001b[1m250/250\u001b[0m \u001b[32m━━━━━━━━━━━━━━━━━━━━\u001b[0m\u001b[37m\u001b[0m \u001b[1m4s\u001b[0m 15ms/step - accuracy: 0.9966 - loss: 0.0855 - precision: 0.9955 - recall: 0.9969\n",
      "Epoch 67/100\n",
      "\u001b[1m250/250\u001b[0m \u001b[32m━━━━━━━━━━━━━━━━━━━━\u001b[0m\u001b[37m\u001b[0m \u001b[1m4s\u001b[0m 15ms/step - accuracy: 0.9949 - loss: 0.0873 - precision: 0.9942 - recall: 0.9943\n",
      "Epoch 68/100\n",
      "\u001b[1m250/250\u001b[0m \u001b[32m━━━━━━━━━━━━━━━━━━━━\u001b[0m\u001b[37m\u001b[0m \u001b[1m4s\u001b[0m 15ms/step - accuracy: 0.9938 - loss: 0.0873 - precision: 0.9920 - recall: 0.9940\n",
      "Epoch 69/100\n",
      "\u001b[1m250/250\u001b[0m \u001b[32m━━━━━━━━━━━━━━━━━━━━\u001b[0m\u001b[37m\u001b[0m \u001b[1m4s\u001b[0m 15ms/step - accuracy: 0.9955 - loss: 0.0855 - precision: 0.9923 - recall: 0.9976\n",
      "Epoch 70/100\n",
      "\u001b[1m250/250\u001b[0m \u001b[32m━━━━━━━━━━━━━━━━━━━━\u001b[0m\u001b[37m\u001b[0m \u001b[1m4s\u001b[0m 16ms/step - accuracy: 0.9948 - loss: 0.0854 - precision: 0.9945 - recall: 0.9940\n",
      "Epoch 71/100\n",
      "\u001b[1m250/250\u001b[0m \u001b[32m━━━━━━━━━━━━━━━━━━━━\u001b[0m\u001b[37m\u001b[0m \u001b[1m4s\u001b[0m 16ms/step - accuracy: 0.9945 - loss: 0.0852 - precision: 0.9935 - recall: 0.9943\n",
      "Epoch 72/100\n",
      "\u001b[1m250/250\u001b[0m \u001b[32m━━━━━━━━━━━━━━━━━━━━\u001b[0m\u001b[37m\u001b[0m \u001b[1m4s\u001b[0m 15ms/step - accuracy: 0.9941 - loss: 0.0868 - precision: 0.9933 - recall: 0.9934\n",
      "Epoch 73/100\n",
      "\u001b[1m250/250\u001b[0m \u001b[32m━━━━━━━━━━━━━━━━━━━━\u001b[0m\u001b[37m\u001b[0m \u001b[1m4s\u001b[0m 15ms/step - accuracy: 0.9956 - loss: 0.0869 - precision: 0.9942 - recall: 0.9960\n",
      "Epoch 74/100\n",
      "\u001b[1m250/250\u001b[0m \u001b[32m━━━━━━━━━━━━━━━━━━━━\u001b[0m\u001b[37m\u001b[0m \u001b[1m4s\u001b[0m 15ms/step - accuracy: 0.9964 - loss: 0.0822 - precision: 0.9972 - recall: 0.9948\n",
      "Epoch 75/100\n",
      "\u001b[1m250/250\u001b[0m \u001b[32m━━━━━━━━━━━━━━━━━━━━\u001b[0m\u001b[37m\u001b[0m \u001b[1m4s\u001b[0m 15ms/step - accuracy: 0.9958 - loss: 0.0829 - precision: 0.9945 - recall: 0.9960\n",
      "Epoch 76/100\n",
      "\u001b[1m250/250\u001b[0m \u001b[32m━━━━━━━━━━━━━━━━━━━━\u001b[0m\u001b[37m\u001b[0m \u001b[1m4s\u001b[0m 15ms/step - accuracy: 0.9923 - loss: 0.0909 - precision: 0.9918 - recall: 0.9908\n",
      "Epoch 77/100\n",
      "\u001b[1m250/250\u001b[0m \u001b[32m━━━━━━━━━━━━━━━━━━━━\u001b[0m\u001b[37m\u001b[0m \u001b[1m4s\u001b[0m 15ms/step - accuracy: 0.9946 - loss: 0.0871 - precision: 0.9950 - recall: 0.9930\n",
      "Epoch 78/100\n",
      "\u001b[1m250/250\u001b[0m \u001b[32m━━━━━━━━━━━━━━━━━━━━\u001b[0m\u001b[37m\u001b[0m \u001b[1m4s\u001b[0m 15ms/step - accuracy: 0.9957 - loss: 0.0817 - precision: 0.9943 - recall: 0.9961\n",
      "Epoch 79/100\n",
      "\u001b[1m250/250\u001b[0m \u001b[32m━━━━━━━━━━━━━━━━━━━━\u001b[0m\u001b[37m\u001b[0m \u001b[1m4s\u001b[0m 15ms/step - accuracy: 0.9940 - loss: 0.0924 - precision: 0.9924 - recall: 0.9938\n",
      "Epoch 80/100\n",
      "\u001b[1m250/250\u001b[0m \u001b[32m━━━━━━━━━━━━━━━━━━━━\u001b[0m\u001b[37m\u001b[0m \u001b[1m4s\u001b[0m 15ms/step - accuracy: 0.9927 - loss: 0.0952 - precision: 0.9911 - recall: 0.9924\n",
      "Epoch 81/100\n",
      "\u001b[1m250/250\u001b[0m \u001b[32m━━━━━━━━━━━━━━━━━━━━\u001b[0m\u001b[37m\u001b[0m \u001b[1m4s\u001b[0m 15ms/step - accuracy: 0.9962 - loss: 0.0794 - precision: 0.9951 - recall: 0.9963\n",
      "Epoch 82/100\n",
      "\u001b[1m250/250\u001b[0m \u001b[32m━━━━━━━━━━━━━━━━━━━━\u001b[0m\u001b[37m\u001b[0m \u001b[1m4s\u001b[0m 15ms/step - accuracy: 0.9967 - loss: 0.0768 - precision: 0.9968 - recall: 0.9959\n",
      "Epoch 83/100\n",
      "\u001b[1m250/250\u001b[0m \u001b[32m━━━━━━━━━━━━━━━━━━━━\u001b[0m\u001b[37m\u001b[0m \u001b[1m4s\u001b[0m 15ms/step - accuracy: 0.9911 - loss: 0.0961 - precision: 0.9911 - recall: 0.9887\n",
      "Epoch 84/100\n",
      "\u001b[1m250/250\u001b[0m \u001b[32m━━━━━━━━━━━━━━━━━━━━\u001b[0m\u001b[37m\u001b[0m \u001b[1m4s\u001b[0m 15ms/step - accuracy: 0.9939 - loss: 0.0905 - precision: 0.9934 - recall: 0.9927\n",
      "Epoch 85/100\n",
      "\u001b[1m250/250\u001b[0m \u001b[32m━━━━━━━━━━━━━━━━━━━━\u001b[0m\u001b[37m\u001b[0m \u001b[1m4s\u001b[0m 15ms/step - accuracy: 0.9940 - loss: 0.0950 - precision: 0.9923 - recall: 0.9940\n",
      "Epoch 86/100\n",
      "\u001b[1m250/250\u001b[0m \u001b[32m━━━━━━━━━━━━━━━━━━━━\u001b[0m\u001b[37m\u001b[0m \u001b[1m4s\u001b[0m 15ms/step - accuracy: 0.9941 - loss: 0.0951 - precision: 0.9920 - recall: 0.9948\n",
      "Epoch 87/100\n",
      "\u001b[1m250/250\u001b[0m \u001b[32m━━━━━━━━━━━━━━━━━━━━\u001b[0m\u001b[37m\u001b[0m \u001b[1m4s\u001b[0m 15ms/step - accuracy: 0.9942 - loss: 0.0913 - precision: 0.9945 - recall: 0.9925\n",
      "Epoch 88/100\n",
      "\u001b[1m250/250\u001b[0m \u001b[32m━━━━━━━━━━━━━━━━━━━━\u001b[0m\u001b[37m\u001b[0m \u001b[1m4s\u001b[0m 15ms/step - accuracy: 0.9953 - loss: 0.0880 - precision: 0.9941 - recall: 0.9955\n",
      "Epoch 89/100\n",
      "\u001b[1m250/250\u001b[0m \u001b[32m━━━━━━━━━━━━━━━━━━━━\u001b[0m\u001b[37m\u001b[0m \u001b[1m4s\u001b[0m 15ms/step - accuracy: 0.9967 - loss: 0.0831 - precision: 0.9964 - recall: 0.9962\n",
      "Epoch 90/100\n",
      "\u001b[1m250/250\u001b[0m \u001b[32m━━━━━━━━━━━━━━━━━━━━\u001b[0m\u001b[37m\u001b[0m \u001b[1m4s\u001b[0m 15ms/step - accuracy: 0.9964 - loss: 0.0842 - precision: 0.9957 - recall: 0.9961\n",
      "Epoch 91/100\n",
      "\u001b[1m250/250\u001b[0m \u001b[32m━━━━━━━━━━━━━━━━━━━━\u001b[0m\u001b[37m\u001b[0m \u001b[1m4s\u001b[0m 15ms/step - accuracy: 0.9954 - loss: 0.0829 - precision: 0.9968 - recall: 0.9926\n",
      "Epoch 92/100\n",
      "\u001b[1m250/250\u001b[0m \u001b[32m━━━━━━━━━━━━━━━━━━━━\u001b[0m\u001b[37m\u001b[0m \u001b[1m4s\u001b[0m 15ms/step - accuracy: 0.9956 - loss: 0.0805 - precision: 0.9949 - recall: 0.9953\n",
      "Epoch 93/100\n",
      "\u001b[1m250/250\u001b[0m \u001b[32m━━━━━━━━━━━━━━━━━━━━\u001b[0m\u001b[37m\u001b[0m \u001b[1m4s\u001b[0m 15ms/step - accuracy: 0.9972 - loss: 0.0784 - precision: 0.9961 - recall: 0.9976\n",
      "Epoch 94/100\n",
      "\u001b[1m250/250\u001b[0m \u001b[32m━━━━━━━━━━━━━━━━━━━━\u001b[0m\u001b[37m\u001b[0m \u001b[1m4s\u001b[0m 15ms/step - accuracy: 0.9954 - loss: 0.0768 - precision: 0.9945 - recall: 0.9950\n",
      "Epoch 95/100\n",
      "\u001b[1m250/250\u001b[0m \u001b[32m━━━━━━━━━━━━━━━━━━━━\u001b[0m\u001b[37m\u001b[0m \u001b[1m4s\u001b[0m 15ms/step - accuracy: 0.9952 - loss: 0.0798 - precision: 0.9948 - recall: 0.9942\n",
      "Epoch 96/100\n",
      "\u001b[1m250/250\u001b[0m \u001b[32m━━━━━━━━━━━━━━━━━━━━\u001b[0m\u001b[37m\u001b[0m \u001b[1m4s\u001b[0m 15ms/step - accuracy: 0.9930 - loss: 0.0918 - precision: 0.9908 - recall: 0.9932\n",
      "Epoch 97/100\n",
      "\u001b[1m250/250\u001b[0m \u001b[32m━━━━━━━━━━━━━━━━━━━━\u001b[0m\u001b[37m\u001b[0m \u001b[1m4s\u001b[0m 15ms/step - accuracy: 0.9952 - loss: 0.0878 - precision: 0.9945 - recall: 0.9945\n",
      "Epoch 98/100\n",
      "\u001b[1m250/250\u001b[0m \u001b[32m━━━━━━━━━━━━━━━━━━━━\u001b[0m\u001b[37m\u001b[0m \u001b[1m4s\u001b[0m 15ms/step - accuracy: 0.9953 - loss: 0.0858 - precision: 0.9934 - recall: 0.9958\n",
      "Epoch 99/100\n",
      "\u001b[1m250/250\u001b[0m \u001b[32m━━━━━━━━━━━━━━━━━━━━\u001b[0m\u001b[37m\u001b[0m \u001b[1m4s\u001b[0m 15ms/step - accuracy: 0.9964 - loss: 0.0821 - precision: 0.9962 - recall: 0.9956\n",
      "Epoch 100/100\n",
      "\u001b[1m250/250\u001b[0m \u001b[32m━━━━━━━━━━━━━━━━━━━━\u001b[0m\u001b[37m\u001b[0m \u001b[1m4s\u001b[0m 15ms/step - accuracy: 0.9938 - loss: 0.0905 - precision: 0.9932 - recall: 0.9926\n",
      "\n",
      "Training Accuracy: 0.9921\n",
      "\u001b[1m63/63\u001b[0m \u001b[32m━━━━━━━━━━━━━━━━━━━━\u001b[0m\u001b[37m\u001b[0m \u001b[1m0s\u001b[0m 3ms/step\n",
      "Model Performance on Test Set:\n",
      "Loss: 3.0096\n",
      "Accuracy: 0.9165\n",
      "Precision: 0.8927\n",
      "Recall: 0.9219\n"
     ]
    },
    {
     "data": {
      "image/png": "[encoded data removed]",
      "text/plain": [
       "<Figure size 500x400 with 2 Axes>"
      ]
     },
     "metadata": {},
     "output_type": "display_data"
    }
   ],
   "source": [
    "# Train Model\n",
    "final_pipeline.fit(X_train, y_train)\n",
    "\n",
    "# Track Accuracy History (Ensure This is Called Before Evaluation)\n",
    "evaluator.track_accuracy(X_train, y_train)\n",
    "\n",
    "# Evaluate Model\n",
    "results = evaluator.evaluate(X_test, y_test)\n",
    "results"
   ]
  },
  {
   "cell_type": "markdown",
   "metadata": {},
   "source": [
    "# Save Model"
   ]
  },
  {
   "cell_type": "code",
   "execution_count": 19,
   "metadata": {},
   "outputs": [
    {
     "name": "stdout",
     "output_type": "stream",
     "text": [
      "Model has been saved..\n",
      "Pipeline has been saved..\n"
     ]
    }
   ],
   "source": [
    "# Save model\n",
    "keras_model = final_pipeline.named_steps[\"classifier\"].model_\n",
    "keras_model.save(\"../export/final_keras_model02.keras\")\n",
    "print(\"Model has been saved..\")\n",
    "\n",
    "# Save Pipeline\n",
    "joblib.dump(final_pipeline, \"../export/final_pipeline02.pkl\")\n",
    "print(\"Pipeline has been saved..\")"
   ]
  },
  {
   "cell_type": "markdown",
   "metadata": {},
   "source": [
    "# Test Use"
   ]
  },
  {
   "cell_type": "code",
   "execution_count": 14,
   "metadata": {},
   "outputs": [
    {
     "name": "stdout",
     "output_type": "stream",
     "text": [
      "\u001b[1m1/1\u001b[0m \u001b[32m━━━━━━━━━━━━━━━━━━━━\u001b[0m\u001b[37m\u001b[0m \u001b[1m0s\u001b[0m 13ms/step\n"
     ]
    },
    {
     "data": {
      "text/plain": [
       "{'Prediction': 'AI', 'AI Probability': '99.80%'}"
      ]
     },
     "execution_count": 14,
     "metadata": {},
     "output_type": "execute_result"
    }
   ],
   "source": [
    "test01 = \"Melbourne, Australia, is renowned for its vibrant and sophisticated coffee culture, often considered one of the best in the world. The city’s laneways are dotted with cozy cafes, each offering meticulously crafted brews that reflect a deep passion for quality and artistry. From flat whites to single-origin pour-overs, Melbourne’s baristas are skilled artisans, dedicated to perfecting every cup. The coffee scene here is more than just a drink—it’s a lifestyle, a social ritual, and a celebration of community. Locals take pride in their coffee knowledge, favoring independent roasters and ethically sourced beans. Whether it’s a hidden gem in Degraves Street or a trendy spot in Fitzroy, Melbourne’s coffee culture is an immersive experience, blending innovation with tradition, and creating a haven for coffee lovers from around the globe.\"\n",
    "\n",
    "y_pred = model.predict(test01)\n",
    "y_pred"
   ]
  },
  {
   "cell_type": "code",
   "execution_count": 15,
   "metadata": {},
   "outputs": [
    {
     "name": "stdout",
     "output_type": "stream",
     "text": [
      "\u001b[1m1/1\u001b[0m \u001b[32m━━━━━━━━━━━━━━━━━━━━\u001b[0m\u001b[37m\u001b[0m \u001b[1m0s\u001b[0m 12ms/step\n"
     ]
    },
    {
     "data": {
      "text/plain": [
       "{'Prediction': 'Human', 'AI Probability': '48.96%'}"
      ]
     },
     "execution_count": 15,
     "metadata": {},
     "output_type": "execute_result"
    }
   ],
   "source": [
    "test02 = \"Cats are known to be bringing luck to the house, although there's been misconception that black cats brings bad luck. Can you distinguish between people who own cats and who owns dogs? Many people believe that cat owners are more introverted and dog owners are the exact opposite.\"\n",
    "\n",
    "y_pred = model.predict(test02)\n",
    "y_pred"
   ]
  },
  {
   "cell_type": "code",
   "execution_count": 18,
   "metadata": {},
   "outputs": [
    {
     "name": "stdout",
     "output_type": "stream",
     "text": [
      "\u001b[1m1/1\u001b[0m \u001b[32m━━━━━━━━━━━━━━━━━━━━\u001b[0m\u001b[37m\u001b[0m \u001b[1m0s\u001b[0m 16ms/step\n"
     ]
    },
    {
     "data": {
      "text/plain": [
       "{'Prediction': 'AI', 'AI Probability': '99.86%'}"
      ]
     },
     "execution_count": 18,
     "metadata": {},
     "output_type": "execute_result"
    }
   ],
   "source": [
    "test03 = \"Bali is experiencing an over-tourism. This may sound good, but in reality it has a negative impact for the locals.\"\n",
    "\n",
    "y_pred = model.predict(test03)\n",
    "y_pred"
   ]
  }
 ],
 "metadata": {
  "kernelspec": {
   "display_name": "fake-data-detector",
   "language": "python",
   "name": "python3"
  },
  "language_info": {
   "codemirror_mode": {
    "name": "ipython",
    "version": 3
   },
   "file_extension": ".py",
   "mimetype": "text/x-python",
   "name": "python",
   "nbconvert_exporter": "python",
   "pygments_lexer": "ipython3",
   "version": "3.10.6"
  }
 },
 "nbformat": 4,
 "nbformat_minor": 2
}
