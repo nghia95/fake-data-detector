{
 "cells": [
  {
   "cell_type": "code",
   "execution_count": 2,
   "metadata": {},
   "outputs": [],
   "source": [
    "import os\n",
    "\n",
    "import pandas as pd\n",
    "import numpy as np\n",
    "import seaborn as sns\n",
    "import matplotlib.pyplot as plt\n",
    "%matplotlib inline\n",
    "\n",
    "import re\n",
    "import string\n",
    "import nltk\n",
    "from nltk.corpus import wordnet, cmudict, stopwords\n",
    "from nltk.tokenize import word_tokenize\n",
    "from nltk.stem import WordNetLemmatizer\n",
    "#nltk.download('punkt')\n",
    "#nltk.download('punkt_tab')\n",
    "#nltk.download('stopwords')\n",
    "#nltk.download('wordnet')\n",
    "#nltk.download('averaged_perceptron_tagger_eng')\n",
    "\n",
    "from textblob import TextBlob\n",
    "from gensim.models import LsiModel\n",
    "from gensim import corpora\n",
    "from gensim.models.coherencemodel import CoherenceModel\n",
    "from collections import Counter\n",
    "import textstat\n",
    "\n",
    "from sklearn.model_selection import train_test_split\n",
    "from sklearn.preprocessing import StandardScaler\n",
    "from sklearn.metrics import confusion_matrix, classification_report, accuracy_score, roc_auc_score, precision_score, recall_score, log_loss\n",
    "from sklearn.feature_extraction.text import TfidfVectorizer\n",
    "from sklearn.ensemble import GradientBoostingClassifier\n",
    "\n",
    "from scipy.sparse import hstack"
   ]
  },
  {
   "cell_type": "code",
   "execution_count": 3,
   "metadata": {},
   "outputs": [
    {
     "data": {
      "text/html": [
       "<div>\n",
       "<style scoped>\n",
       "    .dataframe tbody tr th:only-of-type {\n",
       "        vertical-align: middle;\n",
       "    }\n",
       "\n",
       "    .dataframe tbody tr th {\n",
       "        vertical-align: top;\n",
       "    }\n",
       "\n",
       "    .dataframe thead th {\n",
       "        text-align: right;\n",
       "    }\n",
       "</style>\n",
       "<table border=\"1\" class=\"dataframe\">\n",
       "  <thead>\n",
       "    <tr style=\"text-align: right;\">\n",
       "      <th></th>\n",
       "      <th>text</th>\n",
       "      <th>source</th>\n",
       "      <th>prompt_id</th>\n",
       "      <th>text_length</th>\n",
       "      <th>word_count</th>\n",
       "    </tr>\n",
       "  </thead>\n",
       "  <tbody>\n",
       "    <tr>\n",
       "      <th>0</th>\n",
       "      <td>In 1466, perhaps 40,000 people died of the pla...</td>\n",
       "      <td>Flan-T5-XXL</td>\n",
       "      <td>0</td>\n",
       "      <td>336</td>\n",
       "      <td>63</td>\n",
       "    </tr>\n",
       "    <tr>\n",
       "      <th>1</th>\n",
       "      <td>Amazon's yet-unnamed Lord of the Rings origina...</td>\n",
       "      <td>GLM-130B</td>\n",
       "      <td>0</td>\n",
       "      <td>2251</td>\n",
       "      <td>393</td>\n",
       "    </tr>\n",
       "    <tr>\n",
       "      <th>2</th>\n",
       "      <td>@Holt  \\n***Hi. I've just rewritten the essay....</td>\n",
       "      <td>Human</td>\n",
       "      <td>0</td>\n",
       "      <td>1994</td>\n",
       "      <td>337</td>\n",
       "    </tr>\n",
       "    <tr>\n",
       "      <th>3</th>\n",
       "      <td>Pleasantly surprised! Had a few options for ve...</td>\n",
       "      <td>GLM-130B</td>\n",
       "      <td>0</td>\n",
       "      <td>4182</td>\n",
       "      <td>797</td>\n",
       "    </tr>\n",
       "    <tr>\n",
       "      <th>4</th>\n",
       "      <td>Shakespeare’s Othello: A Tragic Hero Research ...</td>\n",
       "      <td>Human</td>\n",
       "      <td>0</td>\n",
       "      <td>12845</td>\n",
       "      <td>2143</td>\n",
       "    </tr>\n",
       "  </tbody>\n",
       "</table>\n",
       "</div>"
      ],
      "text/plain": [
       "                                                text       source  prompt_id  \\\n",
       "0  In 1466, perhaps 40,000 people died of the pla...  Flan-T5-XXL          0   \n",
       "1  Amazon's yet-unnamed Lord of the Rings origina...     GLM-130B          0   \n",
       "2  @Holt  \\n***Hi. I've just rewritten the essay....        Human          0   \n",
       "3  Pleasantly surprised! Had a few options for ve...     GLM-130B          0   \n",
       "4  Shakespeare’s Othello: A Tragic Hero Research ...        Human          0   \n",
       "\n",
       "   text_length  word_count  \n",
       "0          336          63  \n",
       "1         2251         393  \n",
       "2         1994         337  \n",
       "3         4182         797  \n",
       "4        12845        2143  "
      ]
     },
     "execution_count": 3,
     "metadata": {},
     "output_type": "execute_result"
    }
   ],
   "source": [
    "data = pd.read_csv(\"../../data/10k_sampled_dataset.csv\", encoding=\"utf-8\")\n",
    "data.head()"
   ]
  },
  {
   "cell_type": "markdown",
   "metadata": {},
   "source": [
    "# Data Exploration"
   ]
  },
  {
   "cell_type": "code",
   "execution_count": 4,
   "metadata": {},
   "outputs": [
    {
     "data": {
      "text/html": [
       "<div>\n",
       "<style scoped>\n",
       "    .dataframe tbody tr th:only-of-type {\n",
       "        vertical-align: middle;\n",
       "    }\n",
       "\n",
       "    .dataframe tbody tr th {\n",
       "        vertical-align: top;\n",
       "    }\n",
       "\n",
       "    .dataframe thead th {\n",
       "        text-align: right;\n",
       "    }\n",
       "</style>\n",
       "<table border=\"1\" class=\"dataframe\">\n",
       "  <thead>\n",
       "    <tr style=\"text-align: right;\">\n",
       "      <th></th>\n",
       "      <th>text</th>\n",
       "      <th>source</th>\n",
       "      <th>text_length</th>\n",
       "      <th>word_count</th>\n",
       "    </tr>\n",
       "  </thead>\n",
       "  <tbody>\n",
       "    <tr>\n",
       "      <th>0</th>\n",
       "      <td>In 1466, perhaps 40,000 people died of the pla...</td>\n",
       "      <td>AI</td>\n",
       "      <td>336</td>\n",
       "      <td>63</td>\n",
       "    </tr>\n",
       "    <tr>\n",
       "      <th>1</th>\n",
       "      <td>Amazon's yet-unnamed Lord of the Rings origina...</td>\n",
       "      <td>AI</td>\n",
       "      <td>2251</td>\n",
       "      <td>393</td>\n",
       "    </tr>\n",
       "    <tr>\n",
       "      <th>2</th>\n",
       "      <td>@Holt  \\n***Hi. I've just rewritten the essay....</td>\n",
       "      <td>Human</td>\n",
       "      <td>1994</td>\n",
       "      <td>337</td>\n",
       "    </tr>\n",
       "  </tbody>\n",
       "</table>\n",
       "</div>"
      ],
      "text/plain": [
       "                                                text source  text_length  \\\n",
       "0  In 1466, perhaps 40,000 people died of the pla...     AI          336   \n",
       "1  Amazon's yet-unnamed Lord of the Rings origina...     AI         2251   \n",
       "2  @Holt  \\n***Hi. I've just rewritten the essay....  Human         1994   \n",
       "\n",
       "   word_count  \n",
       "0          63  \n",
       "1         393  \n",
       "2         337  "
      ]
     },
     "execution_count": 4,
     "metadata": {},
     "output_type": "execute_result"
    }
   ],
   "source": [
    "df = data.copy()\n",
    "df[\"source\"] = df[\"source\"].apply(lambda x: \"AI\" if x != \"Human\" else x)\n",
    "df.drop(columns=\"prompt_id\", inplace=True)\n",
    "df.head(3)"
   ]
  },
  {
   "cell_type": "code",
   "execution_count": 5,
   "metadata": {},
   "outputs": [
    {
     "data": {
      "text/plain": [
       "source\n",
       "Human    0.5577\n",
       "AI       0.4423\n",
       "Name: proportion, dtype: float64"
      ]
     },
     "execution_count": 5,
     "metadata": {},
     "output_type": "execute_result"
    }
   ],
   "source": [
    "df[\"source\"].value_counts(normalize=True)"
   ]
  },
  {
   "cell_type": "code",
   "execution_count": 6,
   "metadata": {},
   "outputs": [
    {
     "name": "stdout",
     "output_type": "stream",
     "text": [
      "<class 'pandas.core.frame.DataFrame'>\n",
      "RangeIndex: 10000 entries, 0 to 9999\n",
      "Data columns (total 4 columns):\n",
      " #   Column       Non-Null Count  Dtype \n",
      "---  ------       --------------  ----- \n",
      " 0   text         10000 non-null  object\n",
      " 1   source       10000 non-null  object\n",
      " 2   text_length  10000 non-null  int64 \n",
      " 3   word_count   10000 non-null  int64 \n",
      "dtypes: int64(2), object(2)\n",
      "memory usage: 312.6+ KB\n"
     ]
    }
   ],
   "source": [
    "df.info()"
   ]
  },
  {
   "cell_type": "code",
   "execution_count": 7,
   "metadata": {},
   "outputs": [
    {
     "data": {
      "image/png": "[encoded data removed]",
      "text/plain": [
       "<Figure size 1000x500 with 2 Axes>"
      ]
     },
     "metadata": {},
     "output_type": "display_data"
    }
   ],
   "source": [
    "fig, axes = plt.subplots(1, 2, figsize=(10, 5))\n",
    "\n",
    "axes[0].hist(df[\"text_length\"], bins=20, edgecolor=\"black\")\n",
    "axes[0].set_title(\"Text Length Distribution\")\n",
    "axes[0].set_xlabel(\"Text Length\")\n",
    "axes[0].set_ylabel(\"Frequency\")\n",
    "\n",
    "axes[1].hist(df[\"word_count\"], bins=20, edgecolor=\"black\")\n",
    "axes[1].set_title(\"Word Count Distribution\")\n",
    "axes[1].set_xlabel(\"Word Count\")\n",
    "axes[1].set_ylabel(\"Frequency\")\n",
    "\n",
    "plt.show()\n"
   ]
  },
  {
   "cell_type": "code",
   "execution_count": 8,
   "metadata": {},
   "outputs": [
    {
     "data": {
      "text/html": [
       "<div>\n",
       "<style scoped>\n",
       "    .dataframe tbody tr th:only-of-type {\n",
       "        vertical-align: middle;\n",
       "    }\n",
       "\n",
       "    .dataframe tbody tr th {\n",
       "        vertical-align: top;\n",
       "    }\n",
       "\n",
       "    .dataframe thead th {\n",
       "        text-align: right;\n",
       "    }\n",
       "</style>\n",
       "<table border=\"1\" class=\"dataframe\">\n",
       "  <thead>\n",
       "    <tr style=\"text-align: right;\">\n",
       "      <th></th>\n",
       "      <th>text</th>\n",
       "      <th>source</th>\n",
       "      <th>text_length</th>\n",
       "      <th>word_count</th>\n",
       "      <th>contains_numbers</th>\n",
       "      <th>contains_special_chars</th>\n",
       "    </tr>\n",
       "  </thead>\n",
       "  <tbody>\n",
       "    <tr>\n",
       "      <th>0</th>\n",
       "      <td>In 1466, perhaps 40,000 people died of the pla...</td>\n",
       "      <td>AI</td>\n",
       "      <td>336</td>\n",
       "      <td>63</td>\n",
       "      <td>True</td>\n",
       "      <td>True</td>\n",
       "    </tr>\n",
       "    <tr>\n",
       "      <th>1</th>\n",
       "      <td>Amazon's yet-unnamed Lord of the Rings origina...</td>\n",
       "      <td>AI</td>\n",
       "      <td>2251</td>\n",
       "      <td>393</td>\n",
       "      <td>True</td>\n",
       "      <td>True</td>\n",
       "    </tr>\n",
       "    <tr>\n",
       "      <th>2</th>\n",
       "      <td>@Holt  \\n***Hi. I've just rewritten the essay....</td>\n",
       "      <td>Human</td>\n",
       "      <td>1994</td>\n",
       "      <td>337</td>\n",
       "      <td>True</td>\n",
       "      <td>True</td>\n",
       "    </tr>\n",
       "    <tr>\n",
       "      <th>3</th>\n",
       "      <td>Pleasantly surprised! Had a few options for ve...</td>\n",
       "      <td>AI</td>\n",
       "      <td>4182</td>\n",
       "      <td>797</td>\n",
       "      <td>True</td>\n",
       "      <td>True</td>\n",
       "    </tr>\n",
       "    <tr>\n",
       "      <th>4</th>\n",
       "      <td>Shakespeare’s Othello: A Tragic Hero Research ...</td>\n",
       "      <td>Human</td>\n",
       "      <td>12845</td>\n",
       "      <td>2143</td>\n",
       "      <td>True</td>\n",
       "      <td>True</td>\n",
       "    </tr>\n",
       "  </tbody>\n",
       "</table>\n",
       "</div>"
      ],
      "text/plain": [
       "                                                text source  text_length  \\\n",
       "0  In 1466, perhaps 40,000 people died of the pla...     AI          336   \n",
       "1  Amazon's yet-unnamed Lord of the Rings origina...     AI         2251   \n",
       "2  @Holt  \\n***Hi. I've just rewritten the essay....  Human         1994   \n",
       "3  Pleasantly surprised! Had a few options for ve...     AI         4182   \n",
       "4  Shakespeare’s Othello: A Tragic Hero Research ...  Human        12845   \n",
       "\n",
       "   word_count  contains_numbers  contains_special_chars  \n",
       "0          63              True                    True  \n",
       "1         393              True                    True  \n",
       "2         337              True                    True  \n",
       "3         797              True                    True  \n",
       "4        2143              True                    True  "
      ]
     },
     "execution_count": 8,
     "metadata": {},
     "output_type": "execute_result"
    }
   ],
   "source": [
    "# Check if text column contains numbers and special characters\n",
    "\n",
    "df[\"contains_numbers\"] = df[\"text\"].str.contains(r\"\\d\", regex=True)\n",
    "df[\"contains_special_chars\"] = df[\"text\"].str.contains(r\"[^\\w\\s]\", regex=True)\n",
    "\n",
    "df.head()"
   ]
  },
  {
   "cell_type": "code",
   "execution_count": 9,
   "metadata": {},
   "outputs": [
    {
     "data": {
      "image/png": "[encoded data removed]",
      "text/plain": [
       "<Figure size 1000x400 with 2 Axes>"
      ]
     },
     "metadata": {},
     "output_type": "display_data"
    }
   ],
   "source": [
    "fig, axes = plt.subplots(1, 2, figsize=(10, 4))\n",
    "\n",
    "sns.barplot(x=df[\"source\"], y=df[\"contains_numbers\"], ax=axes[0])\n",
    "axes[0].set_title(\"Text Containing Number Proportion\")\n",
    "\n",
    "sns.barplot(x=df[\"source\"], y=df[\"contains_special_chars\"], ax=axes[1])\n",
    "axes[1].set_title(\"Text Containing Special Chars Proportion\")\n",
    "\n",
    "plt.tight_layout();"
   ]
  },
  {
   "cell_type": "code",
   "execution_count": 10,
   "metadata": {},
   "outputs": [
    {
     "data": {
      "text/plain": [
       "contains_numbers\n",
       "True     6262\n",
       "False    3738\n",
       "Name: count, dtype: int64"
      ]
     },
     "execution_count": 10,
     "metadata": {},
     "output_type": "execute_result"
    }
   ],
   "source": [
    "df[\"contains_numbers\"].value_counts()"
   ]
  },
  {
   "cell_type": "code",
   "execution_count": 11,
   "metadata": {},
   "outputs": [
    {
     "data": {
      "text/plain": [
       "contains_special_chars\n",
       "True     9999\n",
       "False       1\n",
       "Name: count, dtype: int64"
      ]
     },
     "execution_count": 11,
     "metadata": {},
     "output_type": "execute_result"
    }
   ],
   "source": [
    "df[\"contains_special_chars\"].value_counts()"
   ]
  },
  {
   "cell_type": "markdown",
   "metadata": {},
   "source": [
    "# Data Cleaning"
   ]
  },
  {
   "cell_type": "code",
   "execution_count": 12,
   "metadata": {},
   "outputs": [],
   "source": [
    "# Mapping POS tags to WordNet POS tags for better lemmatization\n",
    "\n",
    "def get_wordnet_pos(text):\n",
    "    \"\"\"Convert NLTK POS tag to a format suitable for WordNet Lemmatizer.\"\"\"\n",
    "    tag_dict = {\"J\": wordnet.ADJ, \"N\": wordnet.NOUN, \"V\": wordnet.VERB, \"R\": wordnet.ADV}\n",
    "    tag = nltk.pos_tag([text])[0][1][0].upper() if text else \"N\" # Default to NOUN\n",
    "    return tag_dict.get(tag, wordnet.NOUN)  # Default to NOUN if no match\n",
    "\n",
    "def text_cleaning(text):\n",
    "    \"\"\"Clean text but preserve some symbols and numbers.\"\"\"\n",
    "    if not isinstance(text, str):  # Handle non-string input\n",
    "        return \"\"\n",
    "\n",
    "    text = text.lower() # Turn to all lowercase\n",
    "    text = text.strip() # Remove whitespace\n",
    "    text = re.sub(r'[^\\x00-\\x7F]+', '', text) # Remove non-ASCII characters\n",
    "\n",
    "    symbols_to_keep = {\"$\", \"-\", \"%\"} # Keep these symbols\n",
    "    text_clean = \"\".join(char if char not in string.punctuation or char in symbols_to_keep else \"\" for char in text)\n",
    "\n",
    "    tokenized = word_tokenize(text_clean)\n",
    "    tagged_words = nltk.pos_tag(tokenized)\n",
    "    lemmatizer = WordNetLemmatizer()\n",
    "    lemmatized = [lemmatizer.lemmatize(word, get_wordnet_pos(word)) for word, _ in tagged_words]\n",
    "    cleaned_text = \" \".join(lemmatized)\n",
    "\n",
    "    return cleaned_text"
   ]
  },
  {
   "cell_type": "code",
   "execution_count": 13,
   "metadata": {},
   "outputs": [
    {
     "data": {
      "text/plain": [
       "'shakespeare othello a tragic hero research paper although his name be associate with athens aristotle be a native of thrace where he be born in 384 bc his father nicomathus who die while aristotle be young be physician at the court of macedon and the son fortune be always tie to those of the macedonian ruler frost 1942 1962 in 3687 when he be about seventeen aristotle come to athens to study with plato of the academy he stayed there for twenty year unfortunately little be know about the personal relationship between the two great thinker of their time the one bring to a close a long productive career the other in his formative year it be suggest that aristotle have broken off with plato and be ready to leave the academy before the latter death in 3487 frost 19421962 a a pupil of plato aristotle and his master stand among the world very great of philosopher frost 1942 1962 in 3487 philip of macedon attack stagira nearly forty his master dead and his ancestral home destroyed aristotle left athens and the academy he be away for thirteen year he probably taught for three year at assos in asia minor where he live under the protection of the ruler hermias there he married hermias niece pythia who bore him a daughter by another woman of stagira he have a son nicomachus for another three year he live at mytilene on the island of lisbos at the invitation of king philip aristotle come to the macedonian court a tutor to the thirteen-year-old heir to the throne alexander the great from this association which last about eight year aristotle gain the friendship and protection of the most powerful ruler of his time when alexander the great die aristotle flee to chalcis where he die the follow year at the age of about 62 kaplan 1958 william shakespeare be a strong adherent of aristotle in his writing shakespeare be the son of john shakespeare of stratford upon- avon a substantial citizen of that small but busy market town in the heart of the rich agricultural county of warwick john shakespeare kept a shop and dealt in wool and other produce gradually acquire property a a youth he learn the trade of glove and leather worker john married mary arden daughter of his father landlord the third of their eight child be william baptize on april 26 and be probably born three day before john sent his son to free grammar school the grammar school provide basic education in latin learn and literature and a little knowledge of greek there be little documentation for shakespeare boyhood the most important record be a marriage license issue november 27 1582 to permit william shakespeare to marry anne hathaway eight year his senior 1592 the first reference to shakespeare a an actor and playwright be available document indicate that in 1598 he be a principal comedian and in 1603 he be a principal tragedian shakespeare literary activity seem to have be almost entirely devote to the theater in an anthology by francis mere many playwright be mention but shakespeare be the only name whose play be list from his act and playwrighting shakespeare seem to have make considerable money he put it to work make a lot of investment in stratford real estate on april 25 1616 he be bury within the chancel of the church at stratford wright 1967 thirty-seven play a well a some poem be held to constitute the shakespeare canon the date of composition of most of his work be highly uncertain there be no real proof for example that othello be not a early a romeo and juliet but intelligent guess lead u to believe that othello come later bryant 1964 othello be one of shakespeare outstanding tragedy thesis statement what be a tragedy a tragedy be the imitation of an action that be serious and also have magnitude complete in itself in language with pleasurable accessory each kind brought separately in the part of the work in a dramatic not in narrative form with incident arouse pity and fear wherewith to accomplish it catharsis of such emotion kaplan 1942 othello be one of the darkest and most passionate of the play of william shakespeare it tell about the nature of love friendship and betrayal set in venice and the exotic island of cyprus the play narrates the tale of othello the moor and desdemona who dare to love him against the backdrop of war and the quest for power then iago and his wife emilia enter their life jealousy and the mad power of the imagination together form an alliance of conflict passion and cunning lie that destroy every one ad everything in their wakestudying othello the moor of venice the story of the play in a nutshell go thus othello a noble moor in the military service of venice who marries desdemona daughter of a senator iago his ancient or standard bearer a man of mean mind and thwart ambition make othello think that desdemona have be unfaithful the moor smother his wife and then confront with proof of iago perfidy kill himself groliers encyclopedia 1961 a tragic event be one in which an individual suffers greatly a othello do believe the infidelity of desdemona aware of his plight and learn from it he struggle against his suffer and it cause for aristotle tragedy be true because of it unity of plot the plot of tragedy must proceed accord to the law of probability the event of the plot must be related a cause to effect this be true of othello tragedy be therefore truer than history wherein thing frequently happen by chance the truth of tragedy be that it imitates the true form of thing rather than their accidental appearance for aristotle the true nature of thing be the necessary or probable consequence of a give combination of people and circumstance one of the most difficult concept introduce in aristotle poetics be catharsis catharsis be most often define a the purge of the emotion of pity and fear that occurs when we watch a tragedy like othello what be actually involve in this purge be not clear but what be experienced in such an excess of tragic suffer be something common the spectator recognizes himselfherself and hisher finiteness in the face of the power of fate what happens for example to the character othello have exemplary significance to see that this be how it be be a kind of self-knowledge for the spectator who emerges with new insight from the illusion in which heshe like everyone else life othello have perhaps the simplest plot of any of shakespeare play there be no real sub-plots only very brief comic interlude and what happens from act 2 to act 5 take place in a period of some thirty six hour in othello event happen in a shorter space of time than be usual with shakespeare the classical greek writer aristotle recommend that the play should have what he call unity of time place and action he argue that the action of a play should not take longer than twenty four hour exclude the first act which serf a a prologue othello come closer than most shakesperean play the effect on the audience be to make the tragedy more intense this brings the reader to an explanation of the term hamartia the greek word that describes what many people refer to a the tragic flaw of the hero of greek tragedy be hamartia hamartia have a complex meaning which include sin error and miss the mark the mistake of the hero play a significant role in the plot o the tragedy the logic of the hero fall into misfortune be determine by the nature of hisher particular kind of hamartia in othello hamartia be evident in the unreasonable jealousy of the character othello othello belief in desdemonas adultery be literally illogical since there be no occasion when it could have transpire desdemona and cassio travel to cyprus on different ship from that moment on there be no time when the two be together this fact do not only make othello jealousy hard for the viewer to believe in it show it to be more insane the villain iago make him believe what be clearly impossible yet othello madden by his jealousy can not see it sometimes the viewer would think that he be stupid to be swayed by the evil of iago but iago be a villain and truly act the part the reversal of the situation in the plot of a tragedy be the peripeteia accord to aristotle the change of fortune for the hero should be an event that occurs contrary to the audience expectation and that be therefore surprising but that nevertheless seem a necessary outcome of the precede action in the last three act the plot move almost with no interruption towards it tragic conclusion at the start of act 3 othello be happily in love with desdemona yet his happiness be about to be ruin see cassio with desdemona iago hint at an adulterous relationship between them although he know he have no hard evidence when othello demand that iago prove desdemonas guilt iago speaks to bianca cassios mistress in such a way that othello think he be speak about desdemona othello then asks iago to kill cassio while othello be to kill desdemona fully convince of desdemonas unfaithfulness othello verbally abuse his wife in front of others who be shock at the change in the noble and powerful personage at this point it be important to describe the nature of desdemonas love for othello from begin to end she be faithful and true to her husband revive after othello attempt to finally kill her she declares herself guiltless but say a she dy that othello be innocent of her death her relationship with cassio and emilia be that of friendship alone and it be emilia herself who defend desdemonas innocence find out that her evil husband iago be behind the tragedy anagnorisis accord to aristotle be the recognition by the tragic hero of some truth about hisher identity or action that accompany the reversal of the situation in the plot the peripateia when othello see the truth in emilia statement he try to kill iago but iago kill emilia and flees othello condemns himself and commits suicide after othello kill desdemona emilia discover what he have do tell him he be wrong in his suspicion of desdemona emilia and the wound cassio be able to persuade othello of the truth before they be kill despite his flaw and faulty decision mostly due to the machination of iago othello be almost fanatically loyal to the state he serf when he be sure he have be betrayed he make a move speech bidding farewell to his occupation in his final speech othello speaks of be great loyalty to the venetian state which he have disgrace by murder his wife and of his terrible mistake before stab himself a iago be take away to be torture what a waste of life that of our hero othello and those of the two virtuous woman desdemona and emilia despite the color of his skin othello be a very good soldier to make it to the top a a commander he have great beauty of speech which have an inspire effect on his men and nobility of character this point be make clear by desdemona i saw othello visage in his mind they could have live happily ever after and emilia we can say that be such a moral person she do not deserve the devil iago a her husband the practical and formal concern that occupy aristotle in the poetics need to be understood in relation to a large concern with the psychological and social purpose of literature criticism accord to aristotle should not be the application of unexamined aesthetic principle but should pay careful attention to the overall function of any feature of a work of art in it context within the work and should never lose sight of the function of the work of art in it social context forster 1955 it be hop that this analysis of othello might help the reader to review and clarify his understand of the term concept category and interrelationship that aristotle introduces source bryant jr the tragedy of romeo and juliet 1964 forster em aspect of the novel new york harcourt bracejovanovich 1955 gadamer h truth and method new york weinsheimer and marshall 1995 kaplan jd ed the pocket aristotle simon and schuster 1958 study othello the moor of venice 2008 web wright lb lamar va reader shakespeare simon schuster 1967 groliers encyclopedia vol xv grolier incorporate 1961'"
      ]
     },
     "execution_count": 13,
     "metadata": {},
     "output_type": "execute_result"
    }
   ],
   "source": [
    "# Testing text cleaning function\n",
    "\n",
    "text_cleaning(df[\"text\"].iloc[4])"
   ]
  },
  {
   "cell_type": "code",
   "execution_count": 14,
   "metadata": {},
   "outputs": [
    {
     "data": {
      "text/html": [
       "<div>\n",
       "<style scoped>\n",
       "    .dataframe tbody tr th:only-of-type {\n",
       "        vertical-align: middle;\n",
       "    }\n",
       "\n",
       "    .dataframe tbody tr th {\n",
       "        vertical-align: top;\n",
       "    }\n",
       "\n",
       "    .dataframe thead th {\n",
       "        text-align: right;\n",
       "    }\n",
       "</style>\n",
       "<table border=\"1\" class=\"dataframe\">\n",
       "  <thead>\n",
       "    <tr style=\"text-align: right;\">\n",
       "      <th></th>\n",
       "      <th>text</th>\n",
       "      <th>source</th>\n",
       "      <th>text_length</th>\n",
       "      <th>word_count</th>\n",
       "    </tr>\n",
       "  </thead>\n",
       "  <tbody>\n",
       "    <tr>\n",
       "      <th>0</th>\n",
       "      <td>In 1466, perhaps 40,000 people died of the pla...</td>\n",
       "      <td>AI</td>\n",
       "      <td>336</td>\n",
       "      <td>63</td>\n",
       "    </tr>\n",
       "    <tr>\n",
       "      <th>1</th>\n",
       "      <td>Amazon's yet-unnamed Lord of the Rings origina...</td>\n",
       "      <td>AI</td>\n",
       "      <td>2251</td>\n",
       "      <td>393</td>\n",
       "    </tr>\n",
       "    <tr>\n",
       "      <th>2</th>\n",
       "      <td>@Holt  \\n***Hi. I've just rewritten the essay....</td>\n",
       "      <td>Human</td>\n",
       "      <td>1994</td>\n",
       "      <td>337</td>\n",
       "    </tr>\n",
       "    <tr>\n",
       "      <th>3</th>\n",
       "      <td>Pleasantly surprised! Had a few options for ve...</td>\n",
       "      <td>AI</td>\n",
       "      <td>4182</td>\n",
       "      <td>797</td>\n",
       "    </tr>\n",
       "    <tr>\n",
       "      <th>4</th>\n",
       "      <td>Shakespeare’s Othello: A Tragic Hero Research ...</td>\n",
       "      <td>Human</td>\n",
       "      <td>12845</td>\n",
       "      <td>2143</td>\n",
       "    </tr>\n",
       "  </tbody>\n",
       "</table>\n",
       "</div>"
      ],
      "text/plain": [
       "                                                text source  text_length  \\\n",
       "0  In 1466, perhaps 40,000 people died of the pla...     AI          336   \n",
       "1  Amazon's yet-unnamed Lord of the Rings origina...     AI         2251   \n",
       "2  @Holt  \\n***Hi. I've just rewritten the essay....  Human         1994   \n",
       "3  Pleasantly surprised! Had a few options for ve...     AI         4182   \n",
       "4  Shakespeare’s Othello: A Tragic Hero Research ...  Human        12845   \n",
       "\n",
       "   word_count  \n",
       "0          63  \n",
       "1         393  \n",
       "2         337  \n",
       "3         797  \n",
       "4        2143  "
      ]
     },
     "execution_count": 14,
     "metadata": {},
     "output_type": "execute_result"
    }
   ],
   "source": [
    "df_clean = df.drop(columns=[\"contains_numbers\", \"contains_special_chars\"])\n",
    "df_clean.head()"
   ]
  },
  {
   "cell_type": "code",
   "execution_count": 15,
   "metadata": {},
   "outputs": [],
   "source": [
    "df_clean[\"clean_text\"] = df_clean[\"text\"].apply(text_cleaning)\n",
    "\n",
    "# Add new columns to label, calculate char and words in the cleaned_text\n",
    "df_clean[\"label\"] = df_clean[\"source\"].apply(lambda x: 1 if x == \"AI\" else 0) #AI=1, Human=0"
   ]
  },
  {
   "cell_type": "code",
   "execution_count": 16,
   "metadata": {},
   "outputs": [
    {
     "data": {
      "text/html": [
       "<div>\n",
       "<style scoped>\n",
       "    .dataframe tbody tr th:only-of-type {\n",
       "        vertical-align: middle;\n",
       "    }\n",
       "\n",
       "    .dataframe tbody tr th {\n",
       "        vertical-align: top;\n",
       "    }\n",
       "\n",
       "    .dataframe thead th {\n",
       "        text-align: right;\n",
       "    }\n",
       "</style>\n",
       "<table border=\"1\" class=\"dataframe\">\n",
       "  <thead>\n",
       "    <tr style=\"text-align: right;\">\n",
       "      <th></th>\n",
       "      <th>clean_text</th>\n",
       "      <th>label</th>\n",
       "    </tr>\n",
       "  </thead>\n",
       "  <tbody>\n",
       "    <tr>\n",
       "      <th>0</th>\n",
       "      <td>in 1466 perhaps 40000 people die of the plague...</td>\n",
       "      <td>1</td>\n",
       "    </tr>\n",
       "    <tr>\n",
       "      <th>1</th>\n",
       "      <td>amazon yet-unnamed lord of the ring original s...</td>\n",
       "      <td>1</td>\n",
       "    </tr>\n",
       "  </tbody>\n",
       "</table>\n",
       "</div>"
      ],
      "text/plain": [
       "                                          clean_text  label\n",
       "0  in 1466 perhaps 40000 people die of the plague...      1\n",
       "1  amazon yet-unnamed lord of the ring original s...      1"
      ]
     },
     "execution_count": 16,
     "metadata": {},
     "output_type": "execute_result"
    }
   ],
   "source": [
    "df_clean = df_clean[[\"clean_text\", \"label\"]]\n",
    "df_clean.head(2)"
   ]
  },
  {
   "cell_type": "markdown",
   "metadata": {},
   "source": [
    "# Feature Extraction - Copying Romaric's features"
   ]
  },
  {
   "cell_type": "code",
   "execution_count": 17,
   "metadata": {},
   "outputs": [],
   "source": [
    "# Consonnant Density\n",
    "def cons_density(text):\n",
    "    if not isinstance(text, str) or not text.strip():  # Handle NaN or empty strings\n",
    "        return 0.0\n",
    "    consonant = sum(1 for char in text if char.isalpha() and char not in \"aeiouAEIOU\")\n",
    "    vowel = sum(1 for char in text if char.isalpha() and char in \"aeiouAEIOU\")\n",
    "    return round((consonant/(vowel + consonant)),3)"
   ]
  },
  {
   "cell_type": "code",
   "execution_count": 18,
   "metadata": {},
   "outputs": [],
   "source": [
    "# Stress Pattern\n",
    "\n",
    "#nltk.download(\"cmudict\")\n",
    "cmu_dict = cmudict.dict()\n",
    "\n",
    "def get_word_stress(word):\n",
    "    if word in cmu_dict:\n",
    "        return sum(int(char) for syllable in cmu_dict[word][0] for char in syllable if char.isdigit())\n",
    "    return 0\n",
    "\n",
    "def get_sentence_stress(sentence):\n",
    "    if not isinstance(sentence, str) or not sentence.strip():\n",
    "        return 0  # Return 0 for empty input\n",
    "    words = sentence.split()\n",
    "    stress_values = [get_word_stress(word) for word in words]\n",
    "    return sum(stress_values)"
   ]
  },
  {
   "cell_type": "code",
   "execution_count": 19,
   "metadata": {},
   "outputs": [],
   "source": [
    "# Repetition and Redundancy\n",
    "\n",
    "def redundance(text):\n",
    "    # give a redundance score, considering the lenght of each text, if a lemmatized words appears more than three times the mean, it is considered redundant.\n",
    "    if not isinstance(text, str) or not text.strip():\n",
    "        return 0  # Handle empty or None inputs safely\n",
    "\n",
    "    tokens = word_tokenize(text)\n",
    "    stop_words = set(stopwords.words('english'))\n",
    "    clean_tokens = [w for w in tokens if w not in stop_words]\n",
    "\n",
    "    lemmatizer = WordNetLemmatizer()\n",
    "    final_lemmas = [lemmatizer.lemmatize(lemmatizer.lemmatize(word, 'v'), 'n') for word in clean_tokens]\n",
    "\n",
    "    word_counts = Counter(final_lemmas)\n",
    "    if len(word_counts) == 0:\n",
    "        return 0  # Prevent division by zero if no tokens remain\n",
    "\n",
    "    mean_freq = sum(word_counts.values()) / len(word_counts)\n",
    "\n",
    "    score = sum(1 for word, count in word_counts.items() if count > 3 * mean_freq)\n",
    "\n",
    "    return score"
   ]
  },
  {
   "cell_type": "code",
   "execution_count": 20,
   "metadata": {},
   "outputs": [],
   "source": [
    "# Emotion and personality with smoothing\n",
    "\n",
    "def sentiment_polarity(text):\n",
    "    \"\"\"Returns the absolute sentiment polarity (0 to 1), with adjustments for better balance.\"\"\"\n",
    "    if not isinstance(text, str) or not text.strip():\n",
    "        return 0.0  # Handle empty or None inputs safely\n",
    "\n",
    "    sent_pol = TextBlob(text).sentiment.polarity\n",
    "    abs_pol = abs(round(sent_pol, 3))\n",
    "\n",
    "    # Smoothing\n",
    "    if abs_pol < 0.1:  # Treat weak sentiment as neutral\n",
    "        return 0.0\n",
    "    if abs_pol > 0.8:  # Cap very strong sentiment to avoid over-amplification\n",
    "        return 0.8\n",
    "\n",
    "    return abs_pol"
   ]
  },
  {
   "cell_type": "code",
   "execution_count": 21,
   "metadata": {},
   "outputs": [],
   "source": [
    "# Unusual word choice\n",
    "\n",
    "def word_choice(text):\n",
    "    \"\"\"Counts occurrences of AI-associated words in the text.\"\"\"\n",
    "    if not isinstance(text, str) or not text.strip():\n",
    "        return 0  # Handle empty or None inputs safely\n",
    "\n",
    "    common_ai_words =[\"commendable\",'transhumanist', 'meticulous', 'elevate','hello', 'tapestry' 'leverage',\n",
    "                  'journey', 'headache','resonate','testament','explore', 'binary','delve',\n",
    "                  'enrich', 'seamless','multifaceted', 'sorry','foster', 'convey', 'beacon',\n",
    "                  'interplay', 'oh', 'navigate','form','adhere','cannot', 'landscape','remember',\n",
    "                  'paramount', 'comprehensive', 'placeholder','grammar','real','summary','symphony',\n",
    "                  'furthermore','relationship','ultimately','profound','art','supercharge','evolve',\n",
    "                  'beyoud','reimagine','vibrant', 'robust','pivotal','certainly','quinoa','orchestrate','align',\n",
    "                  'diverse','recommend','annals','note','employ','bustling','indeed','digital','enigma', 'outfit',\n",
    "                  'indelible','refrain','culture','treat','emerge','meticulous','esteemed','weight','whimsical','bespoke',\n",
    "                  'highlight','antagonist','unlock','key','breakdown','tailor','misinformation','treasure','paradigm','captivate',\n",
    "                  'song','underscore','calculate','especially','climate','hedging','inclusive','exercise','ai','embrace',\n",
    "                  'level','nuance','career','dynamic','accent','ethos','cheap','firstly','online','goodbye'\n",
    "                  ]\n",
    "    word_count = 0\n",
    "    for word in text.split():\n",
    "        if word in common_ai_words:\n",
    "            word_count += 1\n",
    "        else: pass\n",
    "\n",
    "    return word_count"
   ]
  },
  {
   "cell_type": "code",
   "execution_count": 22,
   "metadata": {},
   "outputs": [],
   "source": [
    "def coherence(text):\n",
    "    # uses gensim to measure coherence, use the lsi model(latent semantic indexing, coherence c_v because we provide the text)\n",
    "    if not isinstance(text, str) or not text.strip():\n",
    "        return 0.0  # Handle empty or None inputs safely\n",
    "\n",
    "    tokens = word_tokenize(text)\n",
    "    if not tokens:\n",
    "        coherence_score = 0\n",
    "    else:\n",
    "        dictionary = corpora.Dictionary([tokens])\n",
    "        corpus_gensim = [dictionary.doc2bow(tokens)]\n",
    "        lsa_model = LsiModel(corpus_gensim, id2word=dictionary, num_topics=5)\n",
    "\n",
    "        coherence_model = CoherenceModel(\n",
    "            model=lsa_model,\n",
    "            texts=[tokens],\n",
    "            dictionary=dictionary,\n",
    "            coherence='c_v'\n",
    "        )\n",
    "        coherence_score = coherence_model.get_coherence()\n",
    "    return coherence_score"
   ]
  },
  {
   "cell_type": "code",
   "execution_count": 23,
   "metadata": {},
   "outputs": [],
   "source": [
    "# Readability\n",
    "\n",
    "def reading_ease(text):\n",
    "    \"\"\"Returns Flesch Reading Ease score (higher = easier to read).\"\"\"\n",
    "    if not isinstance(text, str) or not text.strip():\n",
    "        return 0.0  # Handle empty or None input safely\n",
    "    return textstat.flesch_reading_ease(text)\n",
    "\n",
    "\n",
    "def gunning_fog(text):\n",
    "    \"\"\"Returns Gunning Fog Index (higher = more difficult to read).\"\"\"\n",
    "    if not isinstance(text, str) or not text.strip():\n",
    "        return 0.0  # Handle empty or None input safely\n",
    "    return textstat.gunning_fog(text)"
   ]
  },
  {
   "cell_type": "code",
   "execution_count": 24,
   "metadata": {},
   "outputs": [
    {
     "data": {
      "text/html": [
       "<div>\n",
       "<style scoped>\n",
       "    .dataframe tbody tr th:only-of-type {\n",
       "        vertical-align: middle;\n",
       "    }\n",
       "\n",
       "    .dataframe tbody tr th {\n",
       "        vertical-align: top;\n",
       "    }\n",
       "\n",
       "    .dataframe thead th {\n",
       "        text-align: right;\n",
       "    }\n",
       "</style>\n",
       "<table border=\"1\" class=\"dataframe\">\n",
       "  <thead>\n",
       "    <tr style=\"text-align: right;\">\n",
       "      <th></th>\n",
       "      <th>clean_text</th>\n",
       "      <th>label</th>\n",
       "    </tr>\n",
       "  </thead>\n",
       "  <tbody>\n",
       "    <tr>\n",
       "      <th>0</th>\n",
       "      <td>in 1466 perhaps 40000 people die of the plague...</td>\n",
       "      <td>1</td>\n",
       "    </tr>\n",
       "    <tr>\n",
       "      <th>1</th>\n",
       "      <td>amazon yet-unnamed lord of the ring original s...</td>\n",
       "      <td>1</td>\n",
       "    </tr>\n",
       "  </tbody>\n",
       "</table>\n",
       "</div>"
      ],
      "text/plain": [
       "                                          clean_text  label\n",
       "0  in 1466 perhaps 40000 people die of the plague...      1\n",
       "1  amazon yet-unnamed lord of the ring original s...      1"
      ]
     },
     "execution_count": 24,
     "metadata": {},
     "output_type": "execute_result"
    }
   ],
   "source": [
    "df_features = df_clean.copy()\n",
    "df_features.head(2)"
   ]
  },
  {
   "cell_type": "code",
   "execution_count": 25,
   "metadata": {},
   "outputs": [
    {
     "data": {
      "text/plain": [
       "label\n",
       "0    0.5577\n",
       "1    0.4423\n",
       "Name: proportion, dtype: float64"
      ]
     },
     "execution_count": 25,
     "metadata": {},
     "output_type": "execute_result"
    }
   ],
   "source": [
    "df_features[\"label\"].value_counts(normalize=True)"
   ]
  },
  {
   "cell_type": "code",
   "execution_count": 26,
   "metadata": {},
   "outputs": [
    {
     "name": "stderr",
     "output_type": "stream",
     "text": [
      "/Users/till/.pyenv/versions/3.10.6/envs/fake-data-detector/lib/python3.10/site-packages/tqdm/auto.py:21: TqdmWarning: IProgress not found. Please update jupyter and ipywidgets. See https://ipywidgets.readthedocs.io/en/stable/user_install.html\n",
      "  from .autonotebook import tqdm as notebook_tqdm\n"
     ]
    }
   ],
   "source": [
    "import swifter\n",
    "import time\n",
    "\n",
    "def extract_features(df):\n",
    "\n",
    "    # Fill missing values (if any)\n",
    "    df[\"clean_text\"].fillna(\"\", inplace=True)\n",
    "\n",
    "    return df.assign(\n",
    "        cons_density = df[\"clean_text\"].swifter.apply(cons_density),\n",
    "        stress_value = df[\"clean_text\"].swifter.apply(lambda x: get_sentence_stress(x) / len(x) if isinstance(x, str) and x else 0),\n",
    "        token_redundance = df[\"clean_text\"].swifter.apply(redundance),\n",
    "        sentiment_score = df[\"clean_text\"].swifter.apply(sentiment_polarity),\n",
    "        unusual_word_count = df[\"clean_text\"].swifter.apply(word_choice),\n",
    "        coherence_score = df[\"clean_text\"].swifter.apply(coherence),\n",
    "        reading_ease = df[\"clean_text\"].apply(textstat.flesch_reading_ease),\n",
    "        readability_score = df[\"clean_text\"].apply(textstat.gunning_fog)\n",
    "    )"
   ]
  },
  {
   "cell_type": "code",
   "execution_count": 27,
   "metadata": {},
   "outputs": [
    {
     "name": "stderr",
     "output_type": "stream",
     "text": [
      "Pandas Apply: 100%|██████████| 10000/10000 [00:02<00:00, 3595.00it/s]\n",
      "Pandas Apply: 100%|██████████| 10000/10000 [00:04<00:00, 2499.78it/s]\n",
      "Pandas Apply: 100%|██████████| 10000/10000 [00:21<00:00, 456.48it/s]\n",
      "Pandas Apply: 100%|██████████| 10000/10000 [00:11<00:00, 865.44it/s]\n",
      "Pandas Apply: 100%|██████████| 10000/10000 [00:04<00:00, 2399.48it/s]\n",
      "Pandas Apply:  14%|█▍        | 1445/10000 [1:20:37<3:35:40,  1.51s/it]   Traceback (most recent call last):\n",
      "  File \"<string>\", line 1, in <module>\n",
      "  File \"/Users/till/.pyenv/versions/3.10.6/lib/python3.10/multiprocessing/spawn.py\", line 116, in spawn_main\n",
      "Pandas Apply:  14%|█▍        | 1445/10000 [1:20:38<7:57:23,  3.35s/it]    exitcode = _main(fd, parent_sentinel)\n",
      "  File \"/Users/till/.pyenv/versions/3.10.6/lib/python3.10/multiprocessing/spawn.py\", line 126, in _main\n",
      "    self = reduction.pickle.load(from_parent)\n",
      "  File \"/Users/till/.pyenv/versions/3.10.6/envs/fake-data-detector/lib/python3.10/site-packages/gensim/__init__.py\", line 11, in <module>\n",
      "    from gensim import parsing, corpora, matutils, interfaces, models, similarities, utils  # noqa:F401\n",
      "  File \"/Users/till/.pyenv/versions/3.10.6/envs/fake-data-detector/lib/python3.10/site-packages/gensim/parsing/__init__.py\", line 4, in <module>\n",
      "    from .preprocessing import (  # noqa:F401\n",
      "  File \"/Users/till/.pyenv/versions/3.10.6/envs/fake-data-detector/lib/python3.10/site-packages/gensim/parsing/preprocessing.py\", line 26, in <module>\n",
      "    from gensim import utils\n",
      "  File \"/Users/till/.pyenv/versions/3.10.6/envs/fake-data-detector/lib/python3.10/site-packages/gensim/utils.py\", line 35, in <module>\n",
      "\n",
      "    import scipy.sparse\n",
      "  File \"/Users/till/.pyenv/versions/3.10.6/envs/fake-data-detector/lib/python3.10/site-packages/scipy/sparse/__init__.py\", line 308, in <module>\n",
      "Traceback (most recent call last):\n",
      "  File \"<string>\", line 1, in <module>\n",
      "    from . import csgraph\n",
      "  File \"/Users/till/.pyenv/versions/3.10.6/envs/fake-data-detector/lib/python3.10/site-packages/scipy/sparse/csgraph/__init__.py\", line 186, in <module>\n",
      "  File \"/Users/till/.pyenv/versions/3.10.6/lib/python3.10/multiprocessing/spawn.py\", line 116, in spawn_main\n",
      "    exitcode = _main(fd, parent_sentinel)\n",
      "  File \"/Users/till/.pyenv/versions/3.10.6/lib/python3.10/multiprocessing/spawn.py\", line 126, in _main\n",
      "Traceback (most recent call last):\n",
      "  File \"<string>\", line 1, in <module>\n",
      "    self = reduction.pickle.load(from_parent)\n",
      "  File \"/Users/till/.pyenv/versions/3.10.6/envs/fake-data-detector/lib/python3.10/site-packages/gensim/__init__.py\", line 11, in <module>\n",
      "  File \"/Users/till/.pyenv/versions/3.10.6/lib/python3.10/multiprocessing/spawn.py\", line 116, in spawn_main\n",
      "    from gensim import parsing, corpora, matutils, interfaces, models, similarities, utils  # noqa:F401\n",
      "  File \"/Users/till/.pyenv/versions/3.10.6/envs/fake-data-detector/lib/python3.10/site-packages/gensim/parsing/__init__.py\", line 4, in <module>\n",
      "    from ._shortest_path import (\n",
      "  File \"_shortest_path.pyx\", line 18, in init scipy.sparse.csgraph._shortest_path\n",
      "    from .preprocessing import (  # noqa:F401\n",
      "  File \"/Users/till/.pyenv/versions/3.10.6/envs/fake-data-detector/lib/python3.10/site-packages/gensim/parsing/preprocessing.py\", line 26, in <module>\n",
      "  File \"/Users/till/.pyenv/versions/3.10.6/envs/fake-data-detector/lib/python3.10/site-packages/scipy/sparse/csgraph/_validation.py\", line 4, in <module>\n",
      "    from scipy.sparse.csgraph._tools import (\n",
      "  File \"<frozen importlib._bootstrap>\", line 404, in parent\n",
      "KeyboardInterrupt\n",
      "Traceback (most recent call last):\n",
      "  File \"<string>\", line 1, in <module>\n",
      "  File \"/Users/till/.pyenv/versions/3.10.6/lib/python3.10/multiprocessing/spawn.py\", line 116, in spawn_main\n",
      "    exitcode = _main(fd, parent_sentinel)\n",
      "  File \"/Users/till/.pyenv/versions/3.10.6/lib/python3.10/multiprocessing/spawn.py\", line 126, in _main\n",
      "    self = reduction.pickle.load(from_parent)\n",
      "  File \"/Users/till/.pyenv/versions/3.10.6/envs/fake-data-detector/lib/python3.10/site-packages/gensim/__init__.py\", line 11, in <module>\n",
      "    from gensim import parsing, corpora, matutils, interfaces, models, similarities, utils  # noqa:F401\n",
      "  File \"/Users/till/.pyenv/versions/3.10.6/envs/fake-data-detector/lib/python3.10/site-packages/gensim/parsing/__init__.py\", line 4, in <module>\n",
      "    from .preprocessing import (  # noqa:F401\n",
      "  File \"/Users/till/.pyenv/versions/3.10.6/envs/fake-data-detector/lib/python3.10/site-packages/gensim/parsing/preprocessing.py\", line 26, in <module>\n",
      "    from gensim import utils\n",
      "  File \"/Users/till/.pyenv/versions/3.10.6/envs/fake-data-detector/lib/python3.10/site-packages/gensim/utils.py\", line 35, in <module>\n",
      "    import scipy.sparse\n",
      "  File \"/Users/till/.pyenv/versions/3.10.6/envs/fake-data-detector/lib/python3.10/site-packages/scipy/__init__.py\", line 67, in <module>\n",
      "Traceback (most recent call last):\n",
      "  File \"<string>\", line 1, in <module>\n",
      "  File \"/Users/till/.pyenv/versions/3.10.6/lib/python3.10/multiprocessing/spawn.py\", line 116, in spawn_main\n",
      "    exitcode = _main(fd, parent_sentinel)\n",
      "  File \"/Users/till/.pyenv/versions/3.10.6/lib/python3.10/multiprocessing/spawn.py\", line 126, in _main\n",
      "    self = reduction.pickle.load(from_parent)\n",
      "  File \"/Users/till/.pyenv/versions/3.10.6/envs/fake-data-detector/lib/python3.10/site-packages/gensim/__init__.py\", line 11, in <module>\n",
      "    from scipy._lib import _pep440\n",
      "  File \"/Users/till/.pyenv/versions/3.10.6/envs/fake-data-detector/lib/python3.10/site-packages/scipy/_lib/_pep440.py\", line 45, in <module>\n",
      "    class Infinity:\n",
      "KeyboardInterrupt\n",
      "    from gensim import parsing, corpora, matutils, interfaces, models, similarities, utils  # noqa:F401\n",
      "  File \"/Users/till/.pyenv/versions/3.10.6/envs/fake-data-detector/lib/python3.10/site-packages/gensim/parsing/__init__.py\", line 4, in <module>\n",
      "    Traceback (most recent call last):\n",
      "  File \"<string>\", line 1, in <module>\n",
      "  File \"/Users/till/.pyenv/versions/3.10.6/lib/python3.10/multiprocessing/spawn.py\", line 116, in spawn_main\n",
      "Traceback (most recent call last):\n",
      "  File \"<string>\", line 1, in <module>\n",
      "  File \"/Users/till/.pyenv/versions/3.10.6/lib/python3.10/multiprocessing/spawn.py\", line 116, in spawn_main\n",
      "    exitcode = _main(fd, parent_sentinel)\n",
      "  File \"/Users/till/.pyenv/versions/3.10.6/lib/python3.10/multiprocessing/spawn.py\", line 126, in _main\n",
      "from .preprocessing import (  # noqa:F401    self = reduction.pickle.load(from_parent)\n",
      "  File \"/Users/till/.pyenv/versions/3.10.6/envs/fake-data-detector/lib/python3.10/site-packages/gensim/__init__.py\", line 11, in <module>\n",
      "    exitcode = _main(fd, parent_sentinel)\n",
      "    from gensim import parsing, corpora, matutils, interfaces, models, similarities, utils  # noqa:F401  File \"/Users/till/.pyenv/versions/3.10.6/lib/python3.10/multiprocessing/spawn.py\", line 126, in _main\n",
      "\n",
      "  File \"/Users/till/.pyenv/versions/3.10.6/envs/fake-data-detector/lib/python3.10/site-packages/gensim/parsing/__init__.py\", line 4, in <module>\n",
      "    from .preprocessing import (  # noqa:F401\n",
      "  File \"/Users/till/.pyenv/versions/3.10.6/envs/fake-data-detector/lib/python3.10/site-packages/gensim/parsing/preprocessing.py\", line 26, in <module>\n",
      "    from gensim import utils\n",
      "  File \"/Users/till/.pyenv/versions/3.10.6/envs/fake-data-detector/lib/python3.10/site-packages/gensim/utils.py\", line 35, in <module>\n",
      "    self = reduction.pickle.load(from_parent)\n",
      "  File \"/Users/till/.pyenv/versions/3.10.6/envs/fake-data-detector/lib/python3.10/site-packages/gensim/__init__.py\", line 11, in <module>\n",
      "    import scipy.sparse\n",
      "  File \"/Users/till/.pyenv/versions/3.10.6/envs/fake-data-detector/lib/python3.10/site-packages/scipy/sparse/__init__.py\", line 308, in <module>\n",
      "    from gensim import parsing, corpora, matutils, interfaces, models, similarities, utils  # noqa:F401\n",
      "  File \"/Users/till/.pyenv/versions/3.10.6/envs/fake-data-detector/lib/python3.10/site-packages/gensim/parsing/__init__.py\", line 4, in <module>\n",
      "    from .preprocessing import (  # noqa:F401\n",
      "      File \"/Users/till/.pyenv/versions/3.10.6/envs/fake-data-detector/lib/python3.10/site-packages/gensim/parsing/preprocessing.py\", line 26, in <module>\n",
      "from . import csgraph\n",
      "  File \"/Users/till/.pyenv/versions/3.10.6/envs/fake-data-detector/lib/python3.10/site-packages/scipy/sparse/csgraph/__init__.py\", line 185, in <module>\n",
      "    from gensim import utils\n",
      "  File \"/Users/till/.pyenv/versions/3.10.6/envs/fake-data-detector/lib/python3.10/site-packages/gensim/utils.py\", line 34, in <module>\n",
      "    from ._laplacian import laplacian\n",
      "  File \"/Users/till/.pyenv/versions/3.10.6/envs/fake-data-detector/lib/python3.10/site-packages/scipy/sparse/csgraph/_laplacian.py\", line 7, in <module>\n",
      "    import numpy as np\n",
      "  File \"/Users/till/.pyenv/versions/3.10.6/envs/fake-data-detector/lib/python3.10/site-packages/numpy/__init__.py\", line 157, in <module>\n",
      "    from scipy.sparse.linalg import LinearOperator\n",
      "  File \"/Users/till/.pyenv/versions/3.10.6/envs/fake-data-detector/lib/python3.10/site-packages/scipy/sparse/linalg/__init__.py\", line 129, in <module>\n",
      "    from ._isolve import *\n",
      "  File \"/Users/till/.pyenv/versions/3.10.6/envs/fake-data-detector/lib/python3.10/site-packages/scipy/sparse/linalg/_isolve/__init__.py\", line 4, in <module>\n",
      "    from . import random\n",
      "  File \"/Users/till/.pyenv/versions/3.10.6/envs/fake-data-detector/lib/python3.10/site-packages/numpy/random/__init__.py\", line 180, in <module>\n",
      "    from . import _pickle\n",
      "  File \"/Users/till/.pyenv/versions/3.10.6/envs/fake-data-detector/lib/python3.10/site-packages/numpy/random/_pickle.py\", line 1, in <module>\n",
      "    from .mtrand import RandomState\n",
      "  File \"numpy/random/mtrand.pyx\", line 1, in init numpy.random.mtrand\n",
      "  File \"<frozen importlib._bootstrap>\", line 404, in parent\n",
      "KeyboardInterrupt\n",
      "\n",
      "  File \"/Users/till/.pyenv/versions/3.10.6/envs/fake-data-detector/lib/python3.10/site-packages/gensim/parsing/preprocessing.py\", line 26, in <module>\n",
      "Traceback (most recent call last):\n",
      "  File \"<string>\", line 1, in <module>\n",
      "  File \"/Users/till/.pyenv/versions/3.10.6/lib/python3.10/multiprocessing/spawn.py\", line 116, in spawn_main\n",
      "    exitcode = _main(fd, parent_sentinel)\n",
      "  File \"/Users/till/.pyenv/versions/3.10.6/lib/python3.10/multiprocessing/spawn.py\", line 126, in _main\n",
      "    self = reduction.pickle.load(from_parent)\n",
      "  File \"/Users/till/.pyenv/versions/3.10.6/envs/fake-data-detector/lib/python3.10/site-packages/gensim/__init__.py\", line 11, in <module>\n",
      "    from gensim import parsing, corpora, matutils, interfaces, models, similarities, utils  # noqa:F401\n",
      "  File \"/Users/till/.pyenv/versions/3.10.6/envs/fake-data-detector/lib/python3.10/site-packages/gensim/parsing/__init__.py\", line 4, in <module>\n",
      "    from .preprocessing import (  # noqa:F401\n",
      "  File \"/Users/till/.pyenv/versions/3.10.6/envs/fake-data-detector/lib/python3.10/site-packages/gensim/parsing/preprocessing.py\", line 26, in <module>\n",
      "    from gensim import utils\n",
      "  File \"/Users/till/.pyenv/versions/3.10.6/envs/fake-data-detector/lib/python3.10/site-packages/gensim/utils.py\", line 34, in <module>\n",
      "    import numpy as np\n",
      "  File \"/Users/till/.pyenv/versions/3.10.6/envs/fake-data-detector/lib/python3.10/site-packages/numpy/__init__.py\", line 157, in <module>\n",
      "    from . import random\n",
      "  File \"/Users/till/.pyenv/versions/3.10.6/envs/fake-data-detector/lib/python3.10/site-packages/numpy/random/__init__.py\", line 180, in <module>\n",
      "    from . import _pickle\n",
      "  File \"/Users/till/.pyenv/versions/3.10.6/envs/fake-data-detector/lib/python3.10/site-packages/numpy/random/_pickle.py\", line 2, in <module>\n",
      "    from ._philox import Philox\n",
      "  File \"_philox.pyx\", line 1, in init numpy.random._philox\n",
      "  File \"<frozen importlib._bootstrap>\", line 224, in _lock_unlock_module\n",
      "  File \"<frozen importlib._bootstrap>\", line 110, in acquire\n",
      "KeyboardInterrupt\n",
      "    exitcode = _main(fd, parent_sentinel)\n",
      "  File \"/Users/till/.pyenv/versions/3.10.6/lib/python3.10/multiprocessing/spawn.py\", line 126, in _main\n",
      "    from gensim import utils    \n",
      "self = reduction.pickle.load(from_parent)  File \"/Users/till/.pyenv/versions/3.10.6/envs/fake-data-detector/lib/python3.10/site-packages/gensim/utils.py\", line 36, in <module>\n",
      "\n",
      "  File \"/Users/till/.pyenv/versions/3.10.6/envs/fake-data-detector/lib/python3.10/site-packages/gensim/__init__.py\", line 11, in <module>\n",
      "    from gensim import parsing, corpora, matutils, interfaces, models, similarities, utils  # noqa:F401\n",
      "  File \"/Users/till/.pyenv/versions/3.10.6/envs/fake-data-detector/lib/python3.10/site-packages/gensim/parsing/__init__.py\", line 4, in <module>\n",
      "    from smart_open import open\n",
      "  File \"/Users/till/.pyenv/versions/3.10.6/envs/fake-data-detector/lib/python3.10/site-packages/smart_open/__init__.py\", line 33, in <module>\n",
      "    from .preprocessing import (  # noqa:F401\n",
      "  File \"/Users/till/.pyenv/versions/3.10.6/envs/fake-data-detector/lib/python3.10/site-packages/gensim/parsing/preprocessing.py\", line 26, in <module>\n",
      "    from gensim import utils\n",
      "  File \"/Users/till/.pyenv/versions/3.10.6/envs/fake-data-detector/lib/python3.10/site-packages/gensim/utils.py\", line 35, in <module>\n",
      "    from smart_open import version  # noqa: E402\n",
      "  File \"<frozen importlib._bootstrap>\", line 1027, in _find_and_load\n",
      "  File \"<frozen importlib._bootstrap>\", line 1006, in _find_and_load_unlocked\n",
      "  File \"<frozen importlib._bootstrap>\", line 688, in _load_unlocked\n",
      "  File \"<frozen importlib._bootstrap_external>\", line 879, in exec_module\n",
      "  File \"<frozen importlib._bootstrap_external>\", line 975, in get_code\n",
      "  File \"<frozen importlib._bootstrap_external>\", line 1074, in get_data\n",
      "KeyboardInterrupt\n",
      "    from .iterative import *\n",
      "  File \"/Users/till/.pyenv/versions/3.10.6/envs/fake-data-detector/lib/python3.10/site-packages/scipy/sparse/linalg/_isolve/iterative.py\", line 5, in <module>\n",
      "    from scipy.linalg import get_lapack_funcs\n",
      "  File \"/Users/till/.pyenv/versions/3.10.6/envs/fake-data-detector/lib/python3.10/site-packages/scipy/linalg/__init__.py\", line 207, in <module>\n",
      "    from ._decomp_lu import *\n",
      "  File \"/Users/till/.pyenv/versions/3.10.6/envs/fake-data-detector/lib/python3.10/site-packages/scipy/linalg/_decomp_lu.py\", line 12, in <module>\n",
      "    from ._decomp_lu_cython import lu_dispatcher\n",
      "  File \"<frozen importlib._bootstrap>\", line 1027, in _find_and_load\n",
      "Traceback (most recent call last):\n",
      "  File \"<string>\", line 1, in <module>\n",
      "  File \"<frozen importlib._bootstrap>\", line 1002, in _find_and_load_unlocked\n",
      "  File \"<frozen importlib._bootstrap>\", line 945, in _find_spec\n",
      "  File \"/Users/till/.pyenv/versions/3.10.6/lib/python3.10/multiprocessing/spawn.py\", line 116, in spawn_main\n",
      "  File \"<frozen importlib._bootstrap_external>\", line 1439, in find_spec\n",
      "  File \"<frozen importlib._bootstrap_external>\", line 1411, in _get_spec\n",
      "  File \"<frozen importlib._bootstrap_external>\", line 1575, in find_spec\n",
      "  File \"<frozen importlib._bootstrap>\", line 246, in _verbose_message\n",
      "KeyboardInterrupt\n",
      "    exitcode = _main(fd, parent_sentinel)\n",
      "  File \"/Users/till/.pyenv/versions/3.10.6/lib/python3.10/multiprocessing/spawn.py\", line 126, in _main\n",
      "    self = reduction.pickle.load(from_parent)\n",
      "  File \"/Users/till/.pyenv/versions/3.10.6/envs/fake-data-detector/lib/python3.10/site-packages/gensim/__init__.py\", line 11, in <module>\n",
      "    from gensim import parsing, corpora, matutils, interfaces, models, similarities, utils  # noqa:F401\n",
      "  File \"/Users/till/.pyenv/versions/3.10.6/envs/fake-data-detector/lib/python3.10/site-packages/gensim/parsing/__init__.py\", line 4, in <module>\n",
      "    from .preprocessing import (  # noqa:F401\n",
      "  File \"/Users/till/.pyenv/versions/3.10.6/envs/fake-data-detector/lib/python3.10/site-packages/gensim/parsing/preprocessing.py\", line 26, in <module>\n",
      "    from gensim import utils\n",
      "  File \"/Users/till/.pyenv/versions/3.10.6/envs/fake-data-detector/lib/python3.10/site-packages/gensim/utils.py\", line 35, in <module>\n",
      "    import scipy.sparse\n",
      "  File \"/Users/till/.pyenv/versions/3.10.6/envs/fake-data-detector/lib/python3.10/site-packages/scipy/__init__.py\", line 67, in <module>\n",
      "    from gensim import utils    \n",
      "from scipy._lib import _pep440  File \"/Users/till/.pyenv/versions/3.10.6/envs/fake-data-detector/lib/python3.10/site-packages/gensim/utils.py\", line 35, in <module>\n",
      "\n",
      "  File \"/Users/till/.pyenv/versions/3.10.6/envs/fake-data-detector/lib/python3.10/site-packages/scipy/_lib/__init__.py\", line 12, in <module>\n",
      "        from scipy._lib._testutils import PytestTester\n",
      "  File \"/Users/till/.pyenv/versions/3.10.6/envs/fake-data-detector/lib/python3.10/site-packages/scipy/_lib/_testutils.py\", line 22, in <module>\n",
      "import scipy.sparse    _v = sysconfig.get_config_var('HOST_GNU_TYPE') or ''\n",
      "  File \"/Users/till/.pyenv/versions/3.10.6/lib/python3.10/sysconfig.py\", line 667, in get_config_var\n",
      "    return get_config_vars().get(name)\n",
      "  File \"/Users/till/.pyenv/versions/3.10.6/lib/python3.10/sysconfig.py\", line 615, in get_config_vars\n",
      "    _init_posix(_CONFIG_VARS)\n",
      "  File \"/Users/till/.pyenv/versions/3.10.6/lib/python3.10/sysconfig.py\", line 477, in _init_posix\n",
      "    _temp = __import__(name, globals(), locals(), ['build_time_vars'], 0)\n",
      "  File \"<frozen importlib._bootstrap>\", line 1027, in _find_and_load\n",
      "  File \"<frozen importlib._bootstrap>\", line 1006, in _find_and_load_unlocked\n",
      "  File \"<frozen importlib._bootstrap>\", line 688, in _load_unlocked\n",
      "  File \"<frozen importlib._bootstrap_external>\", line 879, in exec_module\n",
      "  File \"<frozen importlib._bootstrap_external>\", line 1012, in get_code\n",
      "  File \"<frozen importlib._bootstrap_external>\", line 672, in _compile_bytecode\n",
      "KeyboardInterrupt\n",
      "\n",
      "  File \"/Users/till/.pyenv/versions/3.10.6/envs/fake-data-detector/lib/python3.10/site-packages/scipy/sparse/__init__.py\", line 294, in <module>\n",
      "    from ._base import *\n",
      "  File \"/Users/till/.pyenv/versions/3.10.6/envs/fake-data-detector/lib/python3.10/site-packages/scipy/sparse/_base.py\", line 5, in <module>\n",
      "    from scipy._lib._util import VisibleDeprecationWarning\n",
      "  File \"/Users/till/.pyenv/versions/3.10.6/envs/fake-data-detector/lib/python3.10/site-packages/scipy/_lib/_util.py\", line 18, in <module>\n",
      "    from scipy._lib._array_api import array_namespace\n",
      "  File \"/Users/till/.pyenv/versions/3.10.6/envs/fake-data-detector/lib/python3.10/site-packages/scipy/_lib/_array_api.py\", line 17, in <module>\n",
      "    from scipy._lib.array_api_compat import (\n",
      "  File \"/Users/till/.pyenv/versions/3.10.6/envs/fake-data-detector/lib/python3.10/site-packages/scipy/_lib/array_api_compat/numpy/__init__.py\", line 7, in <module>\n",
      "    from ._aliases import *\n",
      "  File \"/Users/till/.pyenv/versions/3.10.6/envs/fake-data-detector/lib/python3.10/site-packages/scipy/_lib/array_api_compat/numpy/_aliases.py\", line 5, in <module>\n",
      "    from ..common import _aliases\n",
      "  File \"/Users/till/.pyenv/versions/3.10.6/envs/fake-data-detector/lib/python3.10/site-packages/scipy/_lib/array_api_compat/common/_aliases.py\", line 148, in <module>\n",
      "    class UniqueAllResult(NamedTuple):\n",
      "  File \"/Users/till/.pyenv/versions/3.10.6/lib/python3.10/typing.py\", line 2279, in __new__\n",
      "    nm_tpl = _make_nmtuple(typename, types.items(),\n",
      "  File \"/Users/till/.pyenv/versions/3.10.6/lib/python3.10/typing.py\", line 2251, in _make_nmtuple\n",
      "    nm_tpl = collections.namedtuple(name, fields,\n",
      "  File \"/Users/till/.pyenv/versions/3.10.6/lib/python3.10/collections/__init__.py\", line 414, in namedtuple\n",
      "    import scipy.sparse    __new__ = eval(code, namespace)\n",
      "  File \"<string>\", line 1, in <module>\n",
      "KeyboardInterrupt\n",
      "\n",
      "  File \"/Users/till/.pyenv/versions/3.10.6/envs/fake-data-detector/lib/python3.10/site-packages/scipy/sparse/__init__.py\", line 308, in <module>\n",
      "    from . import csgraph\n",
      "  File \"/Users/till/.pyenv/versions/3.10.6/envs/fake-data-detector/lib/python3.10/site-packages/scipy/sparse/csgraph/__init__.py\", line 185, in <module>\n",
      "    from ._laplacian import laplacian\n",
      "  File \"/Users/till/.pyenv/versions/3.10.6/envs/fake-data-detector/lib/python3.10/site-packages/scipy/sparse/csgraph/_laplacian.py\", line 7, in <module>\n",
      "    from scipy.sparse.linalg import LinearOperator\n",
      "  File \"/Users/till/.pyenv/versions/3.10.6/envs/fake-data-detector/lib/python3.10/site-packages/scipy/sparse/linalg/__init__.py\", line 132, in <module>\n",
      "    from ._eigen import *\n",
      "  File \"/Users/till/.pyenv/versions/3.10.6/envs/fake-data-detector/lib/python3.10/site-packages/scipy/sparse/linalg/_eigen/__init__.py\", line 11, in <module>\n",
      "    from ._svds import svds\n",
      "  File \"/Users/till/.pyenv/versions/3.10.6/envs/fake-data-detector/lib/python3.10/site-packages/scipy/sparse/linalg/_eigen/_svds.py\", line 9, in <module>\n",
      "    from scipy.sparse.linalg._svdp import _svdp\n",
      "  File \"/Users/till/.pyenv/versions/3.10.6/envs/fake-data-detector/lib/python3.10/site-packages/scipy/sparse/linalg/_svdp.py\", line 25, in <module>\n",
      "    from ._propack import _dpropack  # type: ignore[attr-defined]\n",
      "KeyboardInterrupt\n"
     ]
    },
    {
     "ename": "KeyboardInterrupt",
     "evalue": "",
     "output_type": "error",
     "traceback": [
      "\u001b[0;31m---------------------------------------------------------------------------\u001b[0m",
      "\u001b[0;31mAttributeError\u001b[0m                            Traceback (most recent call last)",
      "File \u001b[0;32m~/.pyenv/versions/3.10.6/envs/fake-data-detector/lib/python3.10/site-packages/swifter/swifter.py:314\u001b[0m, in \u001b[0;36mSeriesAccessor.apply\u001b[0;34m(self, func, convert_dtype, args, **kwds)\u001b[0m\n\u001b[1;32m    312\u001b[0m     sample_df \u001b[38;5;241m=\u001b[39m sample\u001b[38;5;241m.\u001b[39mapply(func, convert_dtype\u001b[38;5;241m=\u001b[39mconvert_dtype, args\u001b[38;5;241m=\u001b[39margs, \u001b[38;5;241m*\u001b[39m\u001b[38;5;241m*\u001b[39mkwds)\n\u001b[1;32m    313\u001b[0m     \u001b[38;5;28mself\u001b[39m\u001b[38;5;241m.\u001b[39m_validate_apply(\n\u001b[0;32m--> 314\u001b[0m         np\u001b[38;5;241m.\u001b[39marray_equal(sample_df, tmp_df) \u001b[38;5;241m&\u001b[39m (\u001b[38;5;28mhasattr\u001b[39m(tmp_df, \u001b[38;5;124m\"\u001b[39m\u001b[38;5;124mshape\u001b[39m\u001b[38;5;124m\"\u001b[39m)) \u001b[38;5;241m&\u001b[39m (sample_df\u001b[38;5;241m.\u001b[39mshape \u001b[38;5;241m==\u001b[39m \u001b[43mtmp_df\u001b[49m\u001b[38;5;241;43m.\u001b[39;49m\u001b[43mshape\u001b[49m),\n\u001b[1;32m    315\u001b[0m         error_message\u001b[38;5;241m=\u001b[39m(\u001b[38;5;124m\"\u001b[39m\u001b[38;5;124mVectorized function sample doesn\u001b[39m\u001b[38;5;124m'\u001b[39m\u001b[38;5;124mt match pandas apply sample.\u001b[39m\u001b[38;5;124m\"\u001b[39m),\n\u001b[1;32m    316\u001b[0m     )\n\u001b[1;32m    317\u001b[0m \u001b[38;5;28;01mreturn\u001b[39;00m func(\u001b[38;5;28mself\u001b[39m\u001b[38;5;241m.\u001b[39m_obj, \u001b[38;5;241m*\u001b[39margs, \u001b[38;5;241m*\u001b[39m\u001b[38;5;241m*\u001b[39mkwds)\n",
      "\u001b[0;31mAttributeError\u001b[0m: 'float' object has no attribute 'shape'",
      "\nDuring handling of the above exception, another exception occurred:\n",
      "\u001b[0;31mKeyboardInterrupt\u001b[0m                         Traceback (most recent call last)",
      "Cell \u001b[0;32mIn[27], line 1\u001b[0m\n\u001b[0;32m----> 1\u001b[0m df_features \u001b[38;5;241m=\u001b[39m \u001b[43mextract_features\u001b[49m\u001b[43m(\u001b[49m\u001b[43mdf_features\u001b[49m\u001b[43m)\u001b[49m\n\u001b[1;32m      3\u001b[0m df_features\u001b[38;5;241m.\u001b[39mhead(\u001b[38;5;241m2\u001b[39m)\n",
      "Cell \u001b[0;32mIn[26], line 15\u001b[0m, in \u001b[0;36mextract_features\u001b[0;34m(df)\u001b[0m\n\u001b[1;32m      4\u001b[0m \u001b[38;5;28;01mdef\u001b[39;00m\u001b[38;5;250m \u001b[39m\u001b[38;5;21mextract_features\u001b[39m(df):\n\u001b[1;32m      5\u001b[0m \n\u001b[1;32m      6\u001b[0m     \u001b[38;5;66;03m# Fill missing values (if any)\u001b[39;00m\n\u001b[1;32m      7\u001b[0m     df[\u001b[38;5;124m\"\u001b[39m\u001b[38;5;124mclean_text\u001b[39m\u001b[38;5;124m\"\u001b[39m]\u001b[38;5;241m.\u001b[39mfillna(\u001b[38;5;124m\"\u001b[39m\u001b[38;5;124m\"\u001b[39m, inplace\u001b[38;5;241m=\u001b[39m\u001b[38;5;28;01mTrue\u001b[39;00m)\n\u001b[1;32m      9\u001b[0m     \u001b[38;5;28;01mreturn\u001b[39;00m df\u001b[38;5;241m.\u001b[39massign(\n\u001b[1;32m     10\u001b[0m         cons_density \u001b[38;5;241m=\u001b[39m df[\u001b[38;5;124m\"\u001b[39m\u001b[38;5;124mclean_text\u001b[39m\u001b[38;5;124m\"\u001b[39m]\u001b[38;5;241m.\u001b[39mswifter\u001b[38;5;241m.\u001b[39mapply(cons_density),\n\u001b[1;32m     11\u001b[0m         stress_value \u001b[38;5;241m=\u001b[39m df[\u001b[38;5;124m\"\u001b[39m\u001b[38;5;124mclean_text\u001b[39m\u001b[38;5;124m\"\u001b[39m]\u001b[38;5;241m.\u001b[39mswifter\u001b[38;5;241m.\u001b[39mapply(\u001b[38;5;28;01mlambda\u001b[39;00m x: get_sentence_stress(x) \u001b[38;5;241m/\u001b[39m \u001b[38;5;28mlen\u001b[39m(x) \u001b[38;5;28;01mif\u001b[39;00m \u001b[38;5;28misinstance\u001b[39m(x, \u001b[38;5;28mstr\u001b[39m) \u001b[38;5;129;01mand\u001b[39;00m x \u001b[38;5;28;01melse\u001b[39;00m \u001b[38;5;241m0\u001b[39m),\n\u001b[1;32m     12\u001b[0m         token_redundance \u001b[38;5;241m=\u001b[39m df[\u001b[38;5;124m\"\u001b[39m\u001b[38;5;124mclean_text\u001b[39m\u001b[38;5;124m\"\u001b[39m]\u001b[38;5;241m.\u001b[39mswifter\u001b[38;5;241m.\u001b[39mapply(redundance),\n\u001b[1;32m     13\u001b[0m         sentiment_score \u001b[38;5;241m=\u001b[39m df[\u001b[38;5;124m\"\u001b[39m\u001b[38;5;124mclean_text\u001b[39m\u001b[38;5;124m\"\u001b[39m]\u001b[38;5;241m.\u001b[39mswifter\u001b[38;5;241m.\u001b[39mapply(sentiment_polarity),\n\u001b[1;32m     14\u001b[0m         unusual_word_count \u001b[38;5;241m=\u001b[39m df[\u001b[38;5;124m\"\u001b[39m\u001b[38;5;124mclean_text\u001b[39m\u001b[38;5;124m\"\u001b[39m]\u001b[38;5;241m.\u001b[39mswifter\u001b[38;5;241m.\u001b[39mapply(word_choice),\n\u001b[0;32m---> 15\u001b[0m         coherence_score \u001b[38;5;241m=\u001b[39m \u001b[43mdf\u001b[49m\u001b[43m[\u001b[49m\u001b[38;5;124;43m\"\u001b[39;49m\u001b[38;5;124;43mclean_text\u001b[39;49m\u001b[38;5;124;43m\"\u001b[39;49m\u001b[43m]\u001b[49m\u001b[38;5;241;43m.\u001b[39;49m\u001b[43mswifter\u001b[49m\u001b[38;5;241;43m.\u001b[39;49m\u001b[43mapply\u001b[49m\u001b[43m(\u001b[49m\u001b[43mcoherence\u001b[49m\u001b[43m)\u001b[49m,\n\u001b[1;32m     16\u001b[0m         reading_ease \u001b[38;5;241m=\u001b[39m df[\u001b[38;5;124m\"\u001b[39m\u001b[38;5;124mclean_text\u001b[39m\u001b[38;5;124m\"\u001b[39m]\u001b[38;5;241m.\u001b[39mapply(textstat\u001b[38;5;241m.\u001b[39mflesch_reading_ease),\n\u001b[1;32m     17\u001b[0m         readability_score \u001b[38;5;241m=\u001b[39m df[\u001b[38;5;124m\"\u001b[39m\u001b[38;5;124mclean_text\u001b[39m\u001b[38;5;124m\"\u001b[39m]\u001b[38;5;241m.\u001b[39mapply(textstat\u001b[38;5;241m.\u001b[39mgunning_fog)\n\u001b[1;32m     18\u001b[0m     )\n",
      "File \u001b[0;32m~/.pyenv/versions/3.10.6/envs/fake-data-detector/lib/python3.10/site-packages/swifter/swifter.py:329\u001b[0m, in \u001b[0;36mSeriesAccessor.apply\u001b[0;34m(self, func, convert_dtype, args, **kwds)\u001b[0m\n\u001b[1;32m    327\u001b[0m     \u001b[38;5;28;01mreturn\u001b[39;00m \u001b[38;5;28mself\u001b[39m\u001b[38;5;241m.\u001b[39m_parallel_apply(func, convert_dtype, \u001b[38;5;241m*\u001b[39margs, \u001b[38;5;241m*\u001b[39m\u001b[38;5;241m*\u001b[39mkwds)\n\u001b[1;32m    328\u001b[0m \u001b[38;5;28;01melse\u001b[39;00m:  \u001b[38;5;66;03m# use pandas\u001b[39;00m\n\u001b[0;32m--> 329\u001b[0m     \u001b[38;5;28;01mreturn\u001b[39;00m \u001b[38;5;28;43mself\u001b[39;49m\u001b[38;5;241;43m.\u001b[39;49m\u001b[43m_pandas_apply\u001b[49m\u001b[43m(\u001b[49m\u001b[38;5;28;43mself\u001b[39;49m\u001b[38;5;241;43m.\u001b[39;49m\u001b[43m_obj\u001b[49m\u001b[43m,\u001b[49m\u001b[43m \u001b[49m\u001b[43mfunc\u001b[49m\u001b[43m,\u001b[49m\u001b[43m \u001b[49m\u001b[43mconvert_dtype\u001b[49m\u001b[43m,\u001b[49m\u001b[43m \u001b[49m\u001b[38;5;241;43m*\u001b[39;49m\u001b[43margs\u001b[49m\u001b[43m,\u001b[49m\u001b[43m \u001b[49m\u001b[38;5;241;43m*\u001b[39;49m\u001b[38;5;241;43m*\u001b[39;49m\u001b[43mkwds\u001b[49m\u001b[43m)\u001b[49m\n",
      "File \u001b[0;32m~/.pyenv/versions/3.10.6/envs/fake-data-detector/lib/python3.10/site-packages/swifter/swifter.py:235\u001b[0m, in \u001b[0;36mSeriesAccessor._pandas_apply\u001b[0;34m(self, df, func, convert_dtype, *args, **kwds)\u001b[0m\n\u001b[1;32m    233\u001b[0m \u001b[38;5;28;01mif\u001b[39;00m \u001b[38;5;28mself\u001b[39m\u001b[38;5;241m.\u001b[39m_progress_bar:\n\u001b[1;32m    234\u001b[0m     tqdm\u001b[38;5;241m.\u001b[39mpandas(desc\u001b[38;5;241m=\u001b[39m\u001b[38;5;28mself\u001b[39m\u001b[38;5;241m.\u001b[39m_progress_bar_desc \u001b[38;5;129;01mor\u001b[39;00m \u001b[38;5;124m\"\u001b[39m\u001b[38;5;124mPandas Apply\u001b[39m\u001b[38;5;124m\"\u001b[39m)\n\u001b[0;32m--> 235\u001b[0m     \u001b[38;5;28;01mreturn\u001b[39;00m \u001b[43mdf\u001b[49m\u001b[38;5;241;43m.\u001b[39;49m\u001b[43mprogress_apply\u001b[49m\u001b[43m(\u001b[49m\u001b[43mfunc\u001b[49m\u001b[43m,\u001b[49m\u001b[43m \u001b[49m\u001b[43mconvert_dtype\u001b[49m\u001b[38;5;241;43m=\u001b[39;49m\u001b[43mconvert_dtype\u001b[49m\u001b[43m,\u001b[49m\u001b[43m \u001b[49m\u001b[43margs\u001b[49m\u001b[38;5;241;43m=\u001b[39;49m\u001b[43margs\u001b[49m\u001b[43m,\u001b[49m\u001b[43m \u001b[49m\u001b[38;5;241;43m*\u001b[39;49m\u001b[38;5;241;43m*\u001b[39;49m\u001b[43mkwds\u001b[49m\u001b[43m)\u001b[49m\n\u001b[1;32m    236\u001b[0m \u001b[38;5;28;01melse\u001b[39;00m:\n\u001b[1;32m    237\u001b[0m     \u001b[38;5;28;01mreturn\u001b[39;00m df\u001b[38;5;241m.\u001b[39mapply(func, convert_dtype\u001b[38;5;241m=\u001b[39mconvert_dtype, args\u001b[38;5;241m=\u001b[39margs, \u001b[38;5;241m*\u001b[39m\u001b[38;5;241m*\u001b[39mkwds)\n",
      "File \u001b[0;32m~/.pyenv/versions/3.10.6/envs/fake-data-detector/lib/python3.10/site-packages/tqdm/std.py:917\u001b[0m, in \u001b[0;36mtqdm.pandas.<locals>.inner_generator.<locals>.inner\u001b[0;34m(df, func, *args, **kwargs)\u001b[0m\n\u001b[1;32m    914\u001b[0m \u001b[38;5;66;03m# Apply the provided function (in **kwargs)\u001b[39;00m\n\u001b[1;32m    915\u001b[0m \u001b[38;5;66;03m# on the df using our wrapper (which provides bar updating)\u001b[39;00m\n\u001b[1;32m    916\u001b[0m \u001b[38;5;28;01mtry\u001b[39;00m:\n\u001b[0;32m--> 917\u001b[0m     \u001b[38;5;28;01mreturn\u001b[39;00m \u001b[38;5;28;43mgetattr\u001b[39;49m\u001b[43m(\u001b[49m\u001b[43mdf\u001b[49m\u001b[43m,\u001b[49m\u001b[43m \u001b[49m\u001b[43mdf_function\u001b[49m\u001b[43m)\u001b[49m\u001b[43m(\u001b[49m\u001b[43mwrapper\u001b[49m\u001b[43m,\u001b[49m\u001b[43m \u001b[49m\u001b[38;5;241;43m*\u001b[39;49m\u001b[38;5;241;43m*\u001b[39;49m\u001b[43mkwargs\u001b[49m\u001b[43m)\u001b[49m\n\u001b[1;32m    918\u001b[0m \u001b[38;5;28;01mfinally\u001b[39;00m:\n\u001b[1;32m    919\u001b[0m     t\u001b[38;5;241m.\u001b[39mclose()\n",
      "File \u001b[0;32m~/.pyenv/versions/3.10.6/envs/fake-data-detector/lib/python3.10/site-packages/pandas/core/series.py:4924\u001b[0m, in \u001b[0;36mSeries.apply\u001b[0;34m(self, func, convert_dtype, args, by_row, **kwargs)\u001b[0m\n\u001b[1;32m   4789\u001b[0m \u001b[38;5;28;01mdef\u001b[39;00m\u001b[38;5;250m \u001b[39m\u001b[38;5;21mapply\u001b[39m(\n\u001b[1;32m   4790\u001b[0m     \u001b[38;5;28mself\u001b[39m,\n\u001b[1;32m   4791\u001b[0m     func: AggFuncType,\n\u001b[0;32m   (...)\u001b[0m\n\u001b[1;32m   4796\u001b[0m     \u001b[38;5;241m*\u001b[39m\u001b[38;5;241m*\u001b[39mkwargs,\n\u001b[1;32m   4797\u001b[0m ) \u001b[38;5;241m-\u001b[39m\u001b[38;5;241m>\u001b[39m DataFrame \u001b[38;5;241m|\u001b[39m Series:\n\u001b[1;32m   4798\u001b[0m \u001b[38;5;250m    \u001b[39m\u001b[38;5;124;03m\"\"\"\u001b[39;00m\n\u001b[1;32m   4799\u001b[0m \u001b[38;5;124;03m    Invoke function on values of Series.\u001b[39;00m\n\u001b[1;32m   4800\u001b[0m \n\u001b[0;32m   (...)\u001b[0m\n\u001b[1;32m   4915\u001b[0m \u001b[38;5;124;03m    dtype: float64\u001b[39;00m\n\u001b[1;32m   4916\u001b[0m \u001b[38;5;124;03m    \"\"\"\u001b[39;00m\n\u001b[1;32m   4917\u001b[0m     \u001b[38;5;28;01mreturn\u001b[39;00m \u001b[43mSeriesApply\u001b[49m\u001b[43m(\u001b[49m\n\u001b[1;32m   4918\u001b[0m \u001b[43m        \u001b[49m\u001b[38;5;28;43mself\u001b[39;49m\u001b[43m,\u001b[49m\n\u001b[1;32m   4919\u001b[0m \u001b[43m        \u001b[49m\u001b[43mfunc\u001b[49m\u001b[43m,\u001b[49m\n\u001b[1;32m   4920\u001b[0m \u001b[43m        \u001b[49m\u001b[43mconvert_dtype\u001b[49m\u001b[38;5;241;43m=\u001b[39;49m\u001b[43mconvert_dtype\u001b[49m\u001b[43m,\u001b[49m\n\u001b[1;32m   4921\u001b[0m \u001b[43m        \u001b[49m\u001b[43mby_row\u001b[49m\u001b[38;5;241;43m=\u001b[39;49m\u001b[43mby_row\u001b[49m\u001b[43m,\u001b[49m\n\u001b[1;32m   4922\u001b[0m \u001b[43m        \u001b[49m\u001b[43margs\u001b[49m\u001b[38;5;241;43m=\u001b[39;49m\u001b[43margs\u001b[49m\u001b[43m,\u001b[49m\n\u001b[1;32m   4923\u001b[0m \u001b[43m        \u001b[49m\u001b[43mkwargs\u001b[49m\u001b[38;5;241;43m=\u001b[39;49m\u001b[43mkwargs\u001b[49m\u001b[43m,\u001b[49m\n\u001b[0;32m-> 4924\u001b[0m \u001b[43m    \u001b[49m\u001b[43m)\u001b[49m\u001b[38;5;241;43m.\u001b[39;49m\u001b[43mapply\u001b[49m\u001b[43m(\u001b[49m\u001b[43m)\u001b[49m\n",
      "File \u001b[0;32m~/.pyenv/versions/3.10.6/envs/fake-data-detector/lib/python3.10/site-packages/pandas/core/apply.py:1427\u001b[0m, in \u001b[0;36mSeriesApply.apply\u001b[0;34m(self)\u001b[0m\n\u001b[1;32m   1424\u001b[0m     \u001b[38;5;28;01mreturn\u001b[39;00m \u001b[38;5;28mself\u001b[39m\u001b[38;5;241m.\u001b[39mapply_compat()\n\u001b[1;32m   1426\u001b[0m \u001b[38;5;66;03m# self.func is Callable\u001b[39;00m\n\u001b[0;32m-> 1427\u001b[0m \u001b[38;5;28;01mreturn\u001b[39;00m \u001b[38;5;28;43mself\u001b[39;49m\u001b[38;5;241;43m.\u001b[39;49m\u001b[43mapply_standard\u001b[49m\u001b[43m(\u001b[49m\u001b[43m)\u001b[49m\n",
      "File \u001b[0;32m~/.pyenv/versions/3.10.6/envs/fake-data-detector/lib/python3.10/site-packages/pandas/core/apply.py:1507\u001b[0m, in \u001b[0;36mSeriesApply.apply_standard\u001b[0;34m(self)\u001b[0m\n\u001b[1;32m   1501\u001b[0m \u001b[38;5;66;03m# row-wise access\u001b[39;00m\n\u001b[1;32m   1502\u001b[0m \u001b[38;5;66;03m# apply doesn't have a `na_action` keyword and for backward compat reasons\u001b[39;00m\n\u001b[1;32m   1503\u001b[0m \u001b[38;5;66;03m# we need to give `na_action=\"ignore\"` for categorical data.\u001b[39;00m\n\u001b[1;32m   1504\u001b[0m \u001b[38;5;66;03m# TODO: remove the `na_action=\"ignore\"` when that default has been changed in\u001b[39;00m\n\u001b[1;32m   1505\u001b[0m \u001b[38;5;66;03m#  Categorical (GH51645).\u001b[39;00m\n\u001b[1;32m   1506\u001b[0m action \u001b[38;5;241m=\u001b[39m \u001b[38;5;124m\"\u001b[39m\u001b[38;5;124mignore\u001b[39m\u001b[38;5;124m\"\u001b[39m \u001b[38;5;28;01mif\u001b[39;00m \u001b[38;5;28misinstance\u001b[39m(obj\u001b[38;5;241m.\u001b[39mdtype, CategoricalDtype) \u001b[38;5;28;01melse\u001b[39;00m \u001b[38;5;28;01mNone\u001b[39;00m\n\u001b[0;32m-> 1507\u001b[0m mapped \u001b[38;5;241m=\u001b[39m \u001b[43mobj\u001b[49m\u001b[38;5;241;43m.\u001b[39;49m\u001b[43m_map_values\u001b[49m\u001b[43m(\u001b[49m\n\u001b[1;32m   1508\u001b[0m \u001b[43m    \u001b[49m\u001b[43mmapper\u001b[49m\u001b[38;5;241;43m=\u001b[39;49m\u001b[43mcurried\u001b[49m\u001b[43m,\u001b[49m\u001b[43m \u001b[49m\u001b[43mna_action\u001b[49m\u001b[38;5;241;43m=\u001b[39;49m\u001b[43maction\u001b[49m\u001b[43m,\u001b[49m\u001b[43m \u001b[49m\u001b[43mconvert\u001b[49m\u001b[38;5;241;43m=\u001b[39;49m\u001b[38;5;28;43mself\u001b[39;49m\u001b[38;5;241;43m.\u001b[39;49m\u001b[43mconvert_dtype\u001b[49m\n\u001b[1;32m   1509\u001b[0m \u001b[43m\u001b[49m\u001b[43m)\u001b[49m\n\u001b[1;32m   1511\u001b[0m \u001b[38;5;28;01mif\u001b[39;00m \u001b[38;5;28mlen\u001b[39m(mapped) \u001b[38;5;129;01mand\u001b[39;00m \u001b[38;5;28misinstance\u001b[39m(mapped[\u001b[38;5;241m0\u001b[39m], ABCSeries):\n\u001b[1;32m   1512\u001b[0m     \u001b[38;5;66;03m# GH#43986 Need to do list(mapped) in order to get treated as nested\u001b[39;00m\n\u001b[1;32m   1513\u001b[0m     \u001b[38;5;66;03m#  See also GH#25959 regarding EA support\u001b[39;00m\n\u001b[1;32m   1514\u001b[0m     \u001b[38;5;28;01mreturn\u001b[39;00m obj\u001b[38;5;241m.\u001b[39m_constructor_expanddim(\u001b[38;5;28mlist\u001b[39m(mapped), index\u001b[38;5;241m=\u001b[39mobj\u001b[38;5;241m.\u001b[39mindex)\n",
      "File \u001b[0;32m~/.pyenv/versions/3.10.6/envs/fake-data-detector/lib/python3.10/site-packages/pandas/core/base.py:921\u001b[0m, in \u001b[0;36mIndexOpsMixin._map_values\u001b[0;34m(self, mapper, na_action, convert)\u001b[0m\n\u001b[1;32m    918\u001b[0m \u001b[38;5;28;01mif\u001b[39;00m \u001b[38;5;28misinstance\u001b[39m(arr, ExtensionArray):\n\u001b[1;32m    919\u001b[0m     \u001b[38;5;28;01mreturn\u001b[39;00m arr\u001b[38;5;241m.\u001b[39mmap(mapper, na_action\u001b[38;5;241m=\u001b[39mna_action)\n\u001b[0;32m--> 921\u001b[0m \u001b[38;5;28;01mreturn\u001b[39;00m \u001b[43malgorithms\u001b[49m\u001b[38;5;241;43m.\u001b[39;49m\u001b[43mmap_array\u001b[49m\u001b[43m(\u001b[49m\u001b[43marr\u001b[49m\u001b[43m,\u001b[49m\u001b[43m \u001b[49m\u001b[43mmapper\u001b[49m\u001b[43m,\u001b[49m\u001b[43m \u001b[49m\u001b[43mna_action\u001b[49m\u001b[38;5;241;43m=\u001b[39;49m\u001b[43mna_action\u001b[49m\u001b[43m,\u001b[49m\u001b[43m \u001b[49m\u001b[43mconvert\u001b[49m\u001b[38;5;241;43m=\u001b[39;49m\u001b[43mconvert\u001b[49m\u001b[43m)\u001b[49m\n",
      "File \u001b[0;32m~/.pyenv/versions/3.10.6/envs/fake-data-detector/lib/python3.10/site-packages/pandas/core/algorithms.py:1743\u001b[0m, in \u001b[0;36mmap_array\u001b[0;34m(arr, mapper, na_action, convert)\u001b[0m\n\u001b[1;32m   1741\u001b[0m values \u001b[38;5;241m=\u001b[39m arr\u001b[38;5;241m.\u001b[39mastype(\u001b[38;5;28mobject\u001b[39m, copy\u001b[38;5;241m=\u001b[39m\u001b[38;5;28;01mFalse\u001b[39;00m)\n\u001b[1;32m   1742\u001b[0m \u001b[38;5;28;01mif\u001b[39;00m na_action \u001b[38;5;129;01mis\u001b[39;00m \u001b[38;5;28;01mNone\u001b[39;00m:\n\u001b[0;32m-> 1743\u001b[0m     \u001b[38;5;28;01mreturn\u001b[39;00m \u001b[43mlib\u001b[49m\u001b[38;5;241;43m.\u001b[39;49m\u001b[43mmap_infer\u001b[49m\u001b[43m(\u001b[49m\u001b[43mvalues\u001b[49m\u001b[43m,\u001b[49m\u001b[43m \u001b[49m\u001b[43mmapper\u001b[49m\u001b[43m,\u001b[49m\u001b[43m \u001b[49m\u001b[43mconvert\u001b[49m\u001b[38;5;241;43m=\u001b[39;49m\u001b[43mconvert\u001b[49m\u001b[43m)\u001b[49m\n\u001b[1;32m   1744\u001b[0m \u001b[38;5;28;01melse\u001b[39;00m:\n\u001b[1;32m   1745\u001b[0m     \u001b[38;5;28;01mreturn\u001b[39;00m lib\u001b[38;5;241m.\u001b[39mmap_infer_mask(\n\u001b[1;32m   1746\u001b[0m         values, mapper, mask\u001b[38;5;241m=\u001b[39misna(values)\u001b[38;5;241m.\u001b[39mview(np\u001b[38;5;241m.\u001b[39muint8), convert\u001b[38;5;241m=\u001b[39mconvert\n\u001b[1;32m   1747\u001b[0m     )\n",
      "File \u001b[0;32mlib.pyx:2972\u001b[0m, in \u001b[0;36mpandas._libs.lib.map_infer\u001b[0;34m()\u001b[0m\n",
      "File \u001b[0;32m~/.pyenv/versions/3.10.6/envs/fake-data-detector/lib/python3.10/site-packages/tqdm/std.py:912\u001b[0m, in \u001b[0;36mtqdm.pandas.<locals>.inner_generator.<locals>.inner.<locals>.wrapper\u001b[0;34m(*args, **kwargs)\u001b[0m\n\u001b[1;32m    906\u001b[0m \u001b[38;5;28;01mdef\u001b[39;00m\u001b[38;5;250m \u001b[39m\u001b[38;5;21mwrapper\u001b[39m(\u001b[38;5;241m*\u001b[39margs, \u001b[38;5;241m*\u001b[39m\u001b[38;5;241m*\u001b[39mkwargs):\n\u001b[1;32m    907\u001b[0m     \u001b[38;5;66;03m# update tbar correctly\u001b[39;00m\n\u001b[1;32m    908\u001b[0m     \u001b[38;5;66;03m# it seems `pandas apply` calls `func` twice\u001b[39;00m\n\u001b[1;32m    909\u001b[0m     \u001b[38;5;66;03m# on the first column/row to decide whether it can\u001b[39;00m\n\u001b[1;32m    910\u001b[0m     \u001b[38;5;66;03m# take a fast or slow code path; so stop when t.total==t.n\u001b[39;00m\n\u001b[1;32m    911\u001b[0m     t\u001b[38;5;241m.\u001b[39mupdate(n\u001b[38;5;241m=\u001b[39m\u001b[38;5;241m1\u001b[39m \u001b[38;5;28;01mif\u001b[39;00m \u001b[38;5;129;01mnot\u001b[39;00m t\u001b[38;5;241m.\u001b[39mtotal \u001b[38;5;129;01mor\u001b[39;00m t\u001b[38;5;241m.\u001b[39mn \u001b[38;5;241m<\u001b[39m t\u001b[38;5;241m.\u001b[39mtotal \u001b[38;5;28;01melse\u001b[39;00m \u001b[38;5;241m0\u001b[39m)\n\u001b[0;32m--> 912\u001b[0m     \u001b[38;5;28;01mreturn\u001b[39;00m \u001b[43mfunc\u001b[49m\u001b[43m(\u001b[49m\u001b[38;5;241;43m*\u001b[39;49m\u001b[43margs\u001b[49m\u001b[43m,\u001b[49m\u001b[43m \u001b[49m\u001b[38;5;241;43m*\u001b[39;49m\u001b[38;5;241;43m*\u001b[39;49m\u001b[43mkwargs\u001b[49m\u001b[43m)\u001b[49m\n",
      "Cell \u001b[0;32mIn[22], line 20\u001b[0m, in \u001b[0;36mcoherence\u001b[0;34m(text)\u001b[0m\n\u001b[1;32m     12\u001b[0m     lsa_model \u001b[38;5;241m=\u001b[39m LsiModel(corpus_gensim, id2word\u001b[38;5;241m=\u001b[39mdictionary, num_topics\u001b[38;5;241m=\u001b[39m\u001b[38;5;241m5\u001b[39m)\n\u001b[1;32m     14\u001b[0m     coherence_model \u001b[38;5;241m=\u001b[39m CoherenceModel(\n\u001b[1;32m     15\u001b[0m         model\u001b[38;5;241m=\u001b[39mlsa_model,\n\u001b[1;32m     16\u001b[0m         texts\u001b[38;5;241m=\u001b[39m[tokens],\n\u001b[1;32m     17\u001b[0m         dictionary\u001b[38;5;241m=\u001b[39mdictionary,\n\u001b[1;32m     18\u001b[0m         coherence\u001b[38;5;241m=\u001b[39m\u001b[38;5;124m'\u001b[39m\u001b[38;5;124mc_v\u001b[39m\u001b[38;5;124m'\u001b[39m\n\u001b[1;32m     19\u001b[0m     )\n\u001b[0;32m---> 20\u001b[0m     coherence_score \u001b[38;5;241m=\u001b[39m \u001b[43mcoherence_model\u001b[49m\u001b[38;5;241;43m.\u001b[39;49m\u001b[43mget_coherence\u001b[49m\u001b[43m(\u001b[49m\u001b[43m)\u001b[49m\n\u001b[1;32m     21\u001b[0m \u001b[38;5;28;01mreturn\u001b[39;00m coherence_score\n",
      "File \u001b[0;32m~/.pyenv/versions/3.10.6/envs/fake-data-detector/lib/python3.10/site-packages/gensim/models/coherencemodel.py:614\u001b[0m, in \u001b[0;36mCoherenceModel.get_coherence\u001b[0;34m(self)\u001b[0m\n\u001b[1;32m    605\u001b[0m \u001b[38;5;28;01mdef\u001b[39;00m\u001b[38;5;250m \u001b[39m\u001b[38;5;21mget_coherence\u001b[39m(\u001b[38;5;28mself\u001b[39m):\n\u001b[1;32m    606\u001b[0m \u001b[38;5;250m    \u001b[39m\u001b[38;5;124;03m\"\"\"Get coherence value based on pipeline parameters.\u001b[39;00m\n\u001b[1;32m    607\u001b[0m \n\u001b[1;32m    608\u001b[0m \u001b[38;5;124;03m    Returns\u001b[39;00m\n\u001b[0;32m   (...)\u001b[0m\n\u001b[1;32m    612\u001b[0m \n\u001b[1;32m    613\u001b[0m \u001b[38;5;124;03m    \"\"\"\u001b[39;00m\n\u001b[0;32m--> 614\u001b[0m     confirmed_measures \u001b[38;5;241m=\u001b[39m \u001b[38;5;28;43mself\u001b[39;49m\u001b[38;5;241;43m.\u001b[39;49m\u001b[43mget_coherence_per_topic\u001b[49m\u001b[43m(\u001b[49m\u001b[43m)\u001b[49m\n\u001b[1;32m    615\u001b[0m     \u001b[38;5;28;01mreturn\u001b[39;00m \u001b[38;5;28mself\u001b[39m\u001b[38;5;241m.\u001b[39maggregate_measures(confirmed_measures)\n",
      "File \u001b[0;32m~/.pyenv/versions/3.10.6/envs/fake-data-detector/lib/python3.10/site-packages/gensim/models/coherencemodel.py:574\u001b[0m, in \u001b[0;36mCoherenceModel.get_coherence_per_topic\u001b[0;34m(self, segmented_topics, with_std, with_support)\u001b[0m\n\u001b[1;32m    572\u001b[0m     segmented_topics \u001b[38;5;241m=\u001b[39m measure\u001b[38;5;241m.\u001b[39mseg(\u001b[38;5;28mself\u001b[39m\u001b[38;5;241m.\u001b[39mtopics)\n\u001b[1;32m    573\u001b[0m \u001b[38;5;28;01mif\u001b[39;00m \u001b[38;5;28mself\u001b[39m\u001b[38;5;241m.\u001b[39m_accumulator \u001b[38;5;129;01mis\u001b[39;00m \u001b[38;5;28;01mNone\u001b[39;00m:\n\u001b[0;32m--> 574\u001b[0m     \u001b[38;5;28;43mself\u001b[39;49m\u001b[38;5;241;43m.\u001b[39;49m\u001b[43mestimate_probabilities\u001b[49m\u001b[43m(\u001b[49m\u001b[43msegmented_topics\u001b[49m\u001b[43m)\u001b[49m\n\u001b[1;32m    576\u001b[0m kwargs \u001b[38;5;241m=\u001b[39m \u001b[38;5;28mdict\u001b[39m(with_std\u001b[38;5;241m=\u001b[39mwith_std, with_support\u001b[38;5;241m=\u001b[39mwith_support)\n\u001b[1;32m    577\u001b[0m \u001b[38;5;28;01mif\u001b[39;00m \u001b[38;5;28mself\u001b[39m\u001b[38;5;241m.\u001b[39mcoherence \u001b[38;5;129;01min\u001b[39;00m BOOLEAN_DOCUMENT_BASED \u001b[38;5;129;01mor\u001b[39;00m \u001b[38;5;28mself\u001b[39m\u001b[38;5;241m.\u001b[39mcoherence \u001b[38;5;241m==\u001b[39m \u001b[38;5;124m'\u001b[39m\u001b[38;5;124mc_w2v\u001b[39m\u001b[38;5;124m'\u001b[39m:\n",
      "File \u001b[0;32m~/.pyenv/versions/3.10.6/envs/fake-data-detector/lib/python3.10/site-packages/gensim/models/coherencemodel.py:546\u001b[0m, in \u001b[0;36mCoherenceModel.estimate_probabilities\u001b[0;34m(self, segmented_topics)\u001b[0m\n\u001b[1;32m    543\u001b[0m     \u001b[38;5;28;01mif\u001b[39;00m \u001b[38;5;28mself\u001b[39m\u001b[38;5;241m.\u001b[39mcoherence \u001b[38;5;241m==\u001b[39m \u001b[38;5;124m'\u001b[39m\u001b[38;5;124mc_w2v\u001b[39m\u001b[38;5;124m'\u001b[39m:\n\u001b[1;32m    544\u001b[0m         kwargs[\u001b[38;5;124m'\u001b[39m\u001b[38;5;124mmodel\u001b[39m\u001b[38;5;124m'\u001b[39m] \u001b[38;5;241m=\u001b[39m \u001b[38;5;28mself\u001b[39m\u001b[38;5;241m.\u001b[39mkeyed_vectors\n\u001b[0;32m--> 546\u001b[0m     \u001b[38;5;28mself\u001b[39m\u001b[38;5;241m.\u001b[39m_accumulator \u001b[38;5;241m=\u001b[39m \u001b[38;5;28;43mself\u001b[39;49m\u001b[38;5;241;43m.\u001b[39;49m\u001b[43mmeasure\u001b[49m\u001b[38;5;241;43m.\u001b[39;49m\u001b[43mprob\u001b[49m\u001b[43m(\u001b[49m\u001b[38;5;241;43m*\u001b[39;49m\u001b[38;5;241;43m*\u001b[39;49m\u001b[43mkwargs\u001b[49m\u001b[43m)\u001b[49m\n\u001b[1;32m    548\u001b[0m \u001b[38;5;28;01mreturn\u001b[39;00m \u001b[38;5;28mself\u001b[39m\u001b[38;5;241m.\u001b[39m_accumulator\n",
      "File \u001b[0;32m~/.pyenv/versions/3.10.6/envs/fake-data-detector/lib/python3.10/site-packages/gensim/topic_coherence/probability_estimation.py:156\u001b[0m, in \u001b[0;36mp_boolean_sliding_window\u001b[0;34m(texts, segmented_topics, dictionary, window_size, processes)\u001b[0m\n\u001b[1;32m    154\u001b[0m     accumulator \u001b[38;5;241m=\u001b[39m ParallelWordOccurrenceAccumulator(processes, top_ids, dictionary)\n\u001b[1;32m    155\u001b[0m logger\u001b[38;5;241m.\u001b[39minfo(\u001b[38;5;124m\"\u001b[39m\u001b[38;5;124musing \u001b[39m\u001b[38;5;132;01m%s\u001b[39;00m\u001b[38;5;124m to estimate probabilities from sliding windows\u001b[39m\u001b[38;5;124m\"\u001b[39m, accumulator)\n\u001b[0;32m--> 156\u001b[0m \u001b[38;5;28;01mreturn\u001b[39;00m \u001b[43maccumulator\u001b[49m\u001b[38;5;241;43m.\u001b[39;49m\u001b[43maccumulate\u001b[49m\u001b[43m(\u001b[49m\u001b[43mtexts\u001b[49m\u001b[43m,\u001b[49m\u001b[43m \u001b[49m\u001b[43mwindow_size\u001b[49m\u001b[43m)\u001b[49m\n",
      "File \u001b[0;32m~/.pyenv/versions/3.10.6/envs/fake-data-detector/lib/python3.10/site-packages/gensim/topic_coherence/text_analysis.py:445\u001b[0m, in \u001b[0;36mParallelWordOccurrenceAccumulator.accumulate\u001b[0;34m(self, texts, window_size)\u001b[0m\n\u001b[1;32m    442\u001b[0m     logger\u001b[38;5;241m.\u001b[39mwarn(\u001b[38;5;124m\"\u001b[39m\u001b[38;5;124mstats accumulation interrupted; <= \u001b[39m\u001b[38;5;132;01m%d\u001b[39;00m\u001b[38;5;124m documents processed\u001b[39m\u001b[38;5;124m\"\u001b[39m, \u001b[38;5;28mself\u001b[39m\u001b[38;5;241m.\u001b[39m_num_docs)\n\u001b[1;32m    443\u001b[0m     interrupted \u001b[38;5;241m=\u001b[39m \u001b[38;5;28;01mTrue\u001b[39;00m\n\u001b[0;32m--> 445\u001b[0m accumulators \u001b[38;5;241m=\u001b[39m \u001b[38;5;28;43mself\u001b[39;49m\u001b[38;5;241;43m.\u001b[39;49m\u001b[43mterminate_workers\u001b[49m\u001b[43m(\u001b[49m\u001b[43minput_q\u001b[49m\u001b[43m,\u001b[49m\u001b[43m \u001b[49m\u001b[43moutput_q\u001b[49m\u001b[43m,\u001b[49m\u001b[43m \u001b[49m\u001b[43mworkers\u001b[49m\u001b[43m,\u001b[49m\u001b[43m \u001b[49m\u001b[43minterrupted\u001b[49m\u001b[43m)\u001b[49m\n\u001b[1;32m    446\u001b[0m \u001b[38;5;28;01mreturn\u001b[39;00m \u001b[38;5;28mself\u001b[39m\u001b[38;5;241m.\u001b[39mmerge_accumulators(accumulators)\n",
      "File \u001b[0;32m~/.pyenv/versions/3.10.6/envs/fake-data-detector/lib/python3.10/site-packages/gensim/topic_coherence/text_analysis.py:518\u001b[0m, in \u001b[0;36mParallelWordOccurrenceAccumulator.terminate_workers\u001b[0;34m(self, input_q, output_q, workers, interrupted)\u001b[0m\n\u001b[1;32m    516\u001b[0m \u001b[38;5;28;01mif\u001b[39;00m \u001b[38;5;129;01mnot\u001b[39;00m interrupted:\n\u001b[1;32m    517\u001b[0m     \u001b[38;5;28;01mfor\u001b[39;00m _ \u001b[38;5;129;01min\u001b[39;00m workers:\n\u001b[0;32m--> 518\u001b[0m         \u001b[43minput_q\u001b[49m\u001b[38;5;241;43m.\u001b[39;49m\u001b[43mput\u001b[49m\u001b[43m(\u001b[49m\u001b[38;5;28;43;01mNone\u001b[39;49;00m\u001b[43m,\u001b[49m\u001b[43m \u001b[49m\u001b[43mblock\u001b[49m\u001b[38;5;241;43m=\u001b[39;49m\u001b[38;5;28;43;01mTrue\u001b[39;49;00m\u001b[43m)\u001b[49m\n\u001b[1;32m    520\u001b[0m accumulators \u001b[38;5;241m=\u001b[39m []\n\u001b[1;32m    521\u001b[0m \u001b[38;5;28;01mwhile\u001b[39;00m \u001b[38;5;28mlen\u001b[39m(accumulators) \u001b[38;5;241m!=\u001b[39m \u001b[38;5;28mlen\u001b[39m(workers):\n",
      "File \u001b[0;32m~/.pyenv/versions/3.10.6/lib/python3.10/multiprocessing/queues.py:89\u001b[0m, in \u001b[0;36mQueue.put\u001b[0;34m(self, obj, block, timeout)\u001b[0m\n\u001b[1;32m     87\u001b[0m \u001b[38;5;28;01mif\u001b[39;00m \u001b[38;5;28mself\u001b[39m\u001b[38;5;241m.\u001b[39m_closed:\n\u001b[1;32m     88\u001b[0m     \u001b[38;5;28;01mraise\u001b[39;00m \u001b[38;5;167;01mValueError\u001b[39;00m(\u001b[38;5;124mf\u001b[39m\u001b[38;5;124m\"\u001b[39m\u001b[38;5;124mQueue \u001b[39m\u001b[38;5;132;01m{\u001b[39;00m\u001b[38;5;28mself\u001b[39m\u001b[38;5;132;01m!r}\u001b[39;00m\u001b[38;5;124m is closed\u001b[39m\u001b[38;5;124m\"\u001b[39m)\n\u001b[0;32m---> 89\u001b[0m \u001b[38;5;28;01mif\u001b[39;00m \u001b[38;5;129;01mnot\u001b[39;00m \u001b[38;5;28;43mself\u001b[39;49m\u001b[38;5;241;43m.\u001b[39;49m\u001b[43m_sem\u001b[49m\u001b[38;5;241;43m.\u001b[39;49m\u001b[43macquire\u001b[49m\u001b[43m(\u001b[49m\u001b[43mblock\u001b[49m\u001b[43m,\u001b[49m\u001b[43m \u001b[49m\u001b[43mtimeout\u001b[49m\u001b[43m)\u001b[49m:\n\u001b[1;32m     90\u001b[0m     \u001b[38;5;28;01mraise\u001b[39;00m Full\n\u001b[1;32m     92\u001b[0m \u001b[38;5;28;01mwith\u001b[39;00m \u001b[38;5;28mself\u001b[39m\u001b[38;5;241m.\u001b[39m_notempty:\n",
      "\u001b[0;31mKeyboardInterrupt\u001b[0m: "
     ]
    }
   ],
   "source": [
    "df_features = extract_features(df_features)\n",
    "\n",
    "df_features.head(2)"
   ]
  },
  {
   "cell_type": "code",
   "execution_count": null,
   "metadata": {},
   "outputs": [
    {
     "data": {
      "text/html": [
       "<div>\n",
       "<style scoped>\n",
       "    .dataframe tbody tr th:only-of-type {\n",
       "        vertical-align: middle;\n",
       "    }\n",
       "\n",
       "    .dataframe tbody tr th {\n",
       "        vertical-align: top;\n",
       "    }\n",
       "\n",
       "    .dataframe thead th {\n",
       "        text-align: right;\n",
       "    }\n",
       "</style>\n",
       "<table border=\"1\" class=\"dataframe\">\n",
       "  <thead>\n",
       "    <tr style=\"text-align: right;\">\n",
       "      <th></th>\n",
       "      <th>cons_density</th>\n",
       "      <th>stress_value</th>\n",
       "      <th>token_redundance</th>\n",
       "      <th>sentiment_score</th>\n",
       "      <th>unusual_word_count</th>\n",
       "      <th>coherence_score</th>\n",
       "      <th>reading_ease</th>\n",
       "      <th>readability_score</th>\n",
       "    </tr>\n",
       "  </thead>\n",
       "  <tbody>\n",
       "    <tr>\n",
       "      <th>0</th>\n",
       "      <td>0.590</td>\n",
       "      <td>0.154613</td>\n",
       "      <td>2</td>\n",
       "      <td>0.000</td>\n",
       "      <td>2</td>\n",
       "      <td>0.253499</td>\n",
       "      <td>-345.36</td>\n",
       "      <td>162.78</td>\n",
       "    </tr>\n",
       "    <tr>\n",
       "      <th>1</th>\n",
       "      <td>0.606</td>\n",
       "      <td>0.164345</td>\n",
       "      <td>2</td>\n",
       "      <td>0.167</td>\n",
       "      <td>0</td>\n",
       "      <td>1.000000</td>\n",
       "      <td>8.55</td>\n",
       "      <td>27.38</td>\n",
       "    </tr>\n",
       "  </tbody>\n",
       "</table>\n",
       "</div>"
      ],
      "text/plain": [
       "   cons_density  stress_value  token_redundance  sentiment_score  \\\n",
       "0         0.590      0.154613                 2            0.000   \n",
       "1         0.606      0.164345                 2            0.167   \n",
       "\n",
       "   unusual_word_count  coherence_score  reading_ease  readability_score  \n",
       "0                   2         0.253499       -345.36             162.78  \n",
       "1                   0         1.000000          8.55              27.38  "
      ]
     },
     "execution_count": 28,
     "metadata": {},
     "output_type": "execute_result"
    }
   ],
   "source": [
    "df_features = df_features.drop(columns=[\"clean_text\", \"label\"])\n",
    "\n",
    "df_features.head(2)"
   ]
  },
  {
   "cell_type": "markdown",
   "metadata": {},
   "source": [
    "# Preprocessing"
   ]
  },
  {
   "cell_type": "code",
   "execution_count": null,
   "metadata": {},
   "outputs": [],
   "source": [
    "# Scale features\n",
    "\n",
    "scaler = StandardScaler()\n",
    "df_scaled = scaler.fit_transform(df_features)"
   ]
  },
  {
   "cell_type": "code",
   "execution_count": null,
   "metadata": {},
   "outputs": [],
   "source": [
    "# Text vectorization using TF-IDF\n",
    "\n",
    "X_text = df_clean[\"clean_text\"]\n",
    "\n",
    "vectorizer = TfidfVectorizer(max_features=10000, stop_words='english')\n",
    "\n",
    "X_vec = vectorizer.fit_transform(X_text)"
   ]
  },
  {
   "cell_type": "code",
   "execution_count": null,
   "metadata": {},
   "outputs": [
    {
     "data": {
      "text/plain": [
       "(1000, 10000)"
      ]
     },
     "execution_count": 31,
     "metadata": {},
     "output_type": "execute_result"
    }
   ],
   "source": [
    "X_vec.shape"
   ]
  },
  {
   "cell_type": "code",
   "execution_count": null,
   "metadata": {},
   "outputs": [
    {
     "data": {
      "text/plain": [
       "(1000, 10008)"
      ]
     },
     "execution_count": 32,
     "metadata": {},
     "output_type": "execute_result"
    }
   ],
   "source": [
    "# Join the dateset\n",
    "\n",
    "X_final = hstack([X_vec, df_scaled])\n",
    "\n",
    "X_final.shape"
   ]
  },
  {
   "cell_type": "markdown",
   "metadata": {},
   "source": [
    "# Model Training & Evaluation"
   ]
  },
  {
   "cell_type": "code",
   "execution_count": null,
   "metadata": {},
   "outputs": [],
   "source": [
    "# Exclude warnings from printing out\n",
    "\n",
    "import warnings\n",
    "from sklearn.exceptions import ConvergenceWarning\n",
    "\n",
    "warnings.filterwarnings(\"ignore\", category=ConvergenceWarning)"
   ]
  },
  {
   "cell_type": "code",
   "execution_count": null,
   "metadata": {},
   "outputs": [
    {
     "name": "stdout",
     "output_type": "stream",
     "text": [
      "Training set shape: (720, 10008) (720,)\n",
      "Validation set shape: (80, 10008) (80,)\n",
      "Test set shape: (200, 10008) (200,)\n"
     ]
    }
   ],
   "source": [
    "# Train, test, split\n",
    "\n",
    "y = df_clean[\"label\"]\n",
    "\n",
    "X_train, X_test, y_train, y_test = train_test_split(X_final, y, test_size=0.2, random_state=42)\n",
    "\n",
    "# Split for validation data\n",
    "\n",
    "X_train, X_val, y_train, y_val = train_test_split(X_train, y_train, test_size=0.1, random_state=42)\n",
    "\n",
    "print(\"Training set shape:\", X_train.shape, y_train.shape)\n",
    "print(\"Validation set shape:\", X_val.shape, y_val.shape)\n",
    "print(\"Test set shape:\", X_test.shape, y_test.shape)"
   ]
  },
  {
   "cell_type": "code",
   "execution_count": null,
   "metadata": {},
   "outputs": [],
   "source": [
    "# Evaluate model\n",
    "\n",
    "def evaluate_model(model_name, y_true, y_pred, y_prob):\n",
    "    loss = log_loss(y_true, y_prob)\n",
    "    acc = accuracy_score(y_true, y_pred)\n",
    "    prec = precision_score(y_true, y_pred)\n",
    "    rec = recall_score(y_true, y_pred)\n",
    "    auc = roc_auc_score(y_true, y_prob)\n",
    "\n",
    "    print(f\"{model_name}\")\n",
    "    print(f\"Loss: {loss:.4f}\")\n",
    "    print(f\"Accuracy: {acc:.4f}\")\n",
    "    print(f\"Precision: {prec:.4f}\")\n",
    "    print(f\"Recall: {rec:.4f}\")\n",
    "    print(f\"ROC-AUC: {auc:.4f}\")"
   ]
  },
  {
   "cell_type": "code",
   "execution_count": null,
   "metadata": {},
   "outputs": [],
   "source": [
    "# Confusion Matrix\n",
    "\n",
    "def conf_matrix(model_name, y_true, y_pred):\n",
    "    cm = confusion_matrix(y_true, y_pred)\n",
    "    plt.figure(figsize=(5,4))\n",
    "    sns.heatmap(cm, annot=True, fmt='d', cmap='Blues', xticklabels=['Human (0)', 'AI (1)'], yticklabels=['Human (0)', 'AI (1)'])\n",
    "    plt.xlabel(\"Predicted\")\n",
    "    plt.ylabel(\"Actual\")\n",
    "    plt.title(f\"{model_name} - Confusion Matrix\");"
   ]
  },
  {
   "cell_type": "markdown",
   "metadata": {},
   "source": [
    "### GRADIENT BOOSTING"
   ]
  },
  {
   "cell_type": "code",
   "execution_count": null,
   "metadata": {},
   "outputs": [
    {
     "name": "stdout",
     "output_type": "stream",
     "text": [
      "Epoch 1/200 - Train Acc: 0.5764, Val Acc: 0.5125\n",
      "Epoch 2/200 - Train Acc: 0.5861, Val Acc: 0.5125\n",
      "Epoch 3/200 - Train Acc: 0.7139, Val Acc: 0.7375\n",
      "Epoch 4/200 - Train Acc: 0.8458, Val Acc: 0.8125\n",
      "Epoch 5/200 - Train Acc: 0.8528, Val Acc: 0.8250\n",
      "Epoch 6/200 - Train Acc: 0.8528, Val Acc: 0.8250\n",
      "Epoch 7/200 - Train Acc: 0.8458, Val Acc: 0.8500\n",
      "Epoch 8/200 - Train Acc: 0.8611, Val Acc: 0.8375\n",
      "Epoch 9/200 - Train Acc: 0.8639, Val Acc: 0.8500\n",
      "Epoch 10/200 - Train Acc: 0.8639, Val Acc: 0.8375\n",
      "Epoch 11/200 - Train Acc: 0.8667, Val Acc: 0.8375\n",
      "Epoch 12/200 - Train Acc: 0.8722, Val Acc: 0.8375\n",
      "Epoch 13/200 - Train Acc: 0.8764, Val Acc: 0.8250\n",
      "Epoch 14/200 - Train Acc: 0.8764, Val Acc: 0.8250\n",
      "Epoch 15/200 - Train Acc: 0.8847, Val Acc: 0.8375\n",
      "Epoch 16/200 - Train Acc: 0.8931, Val Acc: 0.8375\n",
      "Epoch 17/200 - Train Acc: 0.8972, Val Acc: 0.8250\n",
      "Epoch 18/200 - Train Acc: 0.8986, Val Acc: 0.8250\n",
      "Epoch 19/200 - Train Acc: 0.9069, Val Acc: 0.8250\n",
      "Epoch 20/200 - Train Acc: 0.9111, Val Acc: 0.8250\n",
      "Epoch 21/200 - Train Acc: 0.8972, Val Acc: 0.8250\n",
      "Epoch 22/200 - Train Acc: 0.9028, Val Acc: 0.8375\n",
      "Epoch 23/200 - Train Acc: 0.9083, Val Acc: 0.8500\n",
      "Epoch 24/200 - Train Acc: 0.9083, Val Acc: 0.8500\n",
      "Epoch 25/200 - Train Acc: 0.9139, Val Acc: 0.8500\n",
      "Epoch 26/200 - Train Acc: 0.9153, Val Acc: 0.8375\n",
      "Epoch 27/200 - Train Acc: 0.9153, Val Acc: 0.8500\n",
      "Epoch 28/200 - Train Acc: 0.9181, Val Acc: 0.8500\n",
      "Epoch 29/200 - Train Acc: 0.9208, Val Acc: 0.8500\n",
      "Epoch 30/200 - Train Acc: 0.9319, Val Acc: 0.8500\n",
      "Epoch 31/200 - Train Acc: 0.9333, Val Acc: 0.8500\n",
      "Epoch 32/200 - Train Acc: 0.9361, Val Acc: 0.8500\n",
      "Epoch 33/200 - Train Acc: 0.9375, Val Acc: 0.8500\n",
      "Epoch 34/200 - Train Acc: 0.9431, Val Acc: 0.8500\n",
      "Epoch 35/200 - Train Acc: 0.9431, Val Acc: 0.8375\n",
      "Epoch 36/200 - Train Acc: 0.9431, Val Acc: 0.8375\n",
      "Epoch 37/200 - Train Acc: 0.9444, Val Acc: 0.8375\n",
      "Epoch 38/200 - Train Acc: 0.9486, Val Acc: 0.8375\n",
      "Epoch 39/200 - Train Acc: 0.9458, Val Acc: 0.8375\n",
      "Epoch 40/200 - Train Acc: 0.9486, Val Acc: 0.8500\n",
      "Epoch 41/200 - Train Acc: 0.9528, Val Acc: 0.8500\n",
      "Epoch 42/200 - Train Acc: 0.9542, Val Acc: 0.8500\n",
      "Epoch 43/200 - Train Acc: 0.9569, Val Acc: 0.8500\n",
      "Epoch 44/200 - Train Acc: 0.9597, Val Acc: 0.8500\n",
      "Epoch 45/200 - Train Acc: 0.9625, Val Acc: 0.8500\n",
      "Epoch 46/200 - Train Acc: 0.9639, Val Acc: 0.8500\n",
      "Epoch 47/200 - Train Acc: 0.9639, Val Acc: 0.8500\n",
      "Epoch 48/200 - Train Acc: 0.9639, Val Acc: 0.8625\n",
      "Epoch 49/200 - Train Acc: 0.9667, Val Acc: 0.8500\n",
      "Epoch 50/200 - Train Acc: 0.9667, Val Acc: 0.8625\n",
      "Epoch 51/200 - Train Acc: 0.9681, Val Acc: 0.8500\n",
      "Epoch 52/200 - Train Acc: 0.9653, Val Acc: 0.8500\n",
      "Epoch 53/200 - Train Acc: 0.9667, Val Acc: 0.8375\n",
      "Epoch 54/200 - Train Acc: 0.9708, Val Acc: 0.8375\n",
      "Epoch 55/200 - Train Acc: 0.9708, Val Acc: 0.8375\n",
      "Epoch 56/200 - Train Acc: 0.9722, Val Acc: 0.8375\n",
      "Epoch 57/200 - Train Acc: 0.9736, Val Acc: 0.8375\n",
      "Epoch 58/200 - Train Acc: 0.9736, Val Acc: 0.8375\n",
      "Epoch 59/200 - Train Acc: 0.9736, Val Acc: 0.8625\n",
      "Epoch 60/200 - Train Acc: 0.9764, Val Acc: 0.8500\n",
      "Epoch 61/200 - Train Acc: 0.9764, Val Acc: 0.8500\n",
      "Epoch 62/200 - Train Acc: 0.9778, Val Acc: 0.8500\n",
      "Epoch 63/200 - Train Acc: 0.9778, Val Acc: 0.8500\n",
      "Epoch 64/200 - Train Acc: 0.9792, Val Acc: 0.8500\n",
      "Epoch 65/200 - Train Acc: 0.9806, Val Acc: 0.8500\n",
      "Epoch 66/200 - Train Acc: 0.9806, Val Acc: 0.8500\n",
      "Epoch 67/200 - Train Acc: 0.9833, Val Acc: 0.8375\n",
      "Epoch 68/200 - Train Acc: 0.9819, Val Acc: 0.8500\n",
      "Epoch 69/200 - Train Acc: 0.9819, Val Acc: 0.8500\n",
      "Epoch 70/200 - Train Acc: 0.9819, Val Acc: 0.8500\n",
      "Epoch 71/200 - Train Acc: 0.9819, Val Acc: 0.8500\n",
      "Epoch 72/200 - Train Acc: 0.9819, Val Acc: 0.8500\n",
      "Epoch 73/200 - Train Acc: 0.9806, Val Acc: 0.8375\n",
      "Epoch 74/200 - Train Acc: 0.9806, Val Acc: 0.8500\n",
      "Epoch 75/200 - Train Acc: 0.9833, Val Acc: 0.8500\n",
      "Epoch 76/200 - Train Acc: 0.9847, Val Acc: 0.8500\n",
      "Epoch 77/200 - Train Acc: 0.9847, Val Acc: 0.8500\n",
      "Epoch 78/200 - Train Acc: 0.9861, Val Acc: 0.8625\n",
      "Epoch 79/200 - Train Acc: 0.9875, Val Acc: 0.8500\n",
      "Epoch 80/200 - Train Acc: 0.9875, Val Acc: 0.8500\n",
      "Epoch 81/200 - Train Acc: 0.9861, Val Acc: 0.8500\n",
      "Epoch 82/200 - Train Acc: 0.9861, Val Acc: 0.8500\n",
      "Epoch 83/200 - Train Acc: 0.9875, Val Acc: 0.8375\n",
      "Epoch 84/200 - Train Acc: 0.9889, Val Acc: 0.8375\n",
      "Epoch 85/200 - Train Acc: 0.9861, Val Acc: 0.8500\n",
      "Epoch 86/200 - Train Acc: 0.9875, Val Acc: 0.8375\n",
      "Epoch 87/200 - Train Acc: 0.9903, Val Acc: 0.8375\n",
      "Epoch 88/200 - Train Acc: 0.9889, Val Acc: 0.8375\n",
      "Epoch 89/200 - Train Acc: 0.9903, Val Acc: 0.8375\n",
      "Epoch 90/200 - Train Acc: 0.9903, Val Acc: 0.8375\n",
      "Epoch 91/200 - Train Acc: 0.9889, Val Acc: 0.8375\n",
      "Epoch 92/200 - Train Acc: 0.9889, Val Acc: 0.8375\n",
      "Epoch 93/200 - Train Acc: 0.9889, Val Acc: 0.8500\n",
      "Epoch 94/200 - Train Acc: 0.9889, Val Acc: 0.8500\n",
      "Epoch 95/200 - Train Acc: 0.9889, Val Acc: 0.8500\n",
      "Epoch 96/200 - Train Acc: 0.9889, Val Acc: 0.8500\n",
      "Epoch 97/200 - Train Acc: 0.9903, Val Acc: 0.8375\n",
      "Epoch 98/200 - Train Acc: 0.9903, Val Acc: 0.8375\n",
      "Epoch 99/200 - Train Acc: 0.9917, Val Acc: 0.8375\n",
      "Epoch 100/200 - Train Acc: 0.9917, Val Acc: 0.8375\n",
      "Epoch 101/200 - Train Acc: 0.9917, Val Acc: 0.8375\n",
      "Epoch 102/200 - Train Acc: 0.9917, Val Acc: 0.8375\n",
      "Epoch 103/200 - Train Acc: 0.9931, Val Acc: 0.8375\n",
      "Epoch 104/200 - Train Acc: 0.9931, Val Acc: 0.8375\n",
      "Epoch 105/200 - Train Acc: 0.9931, Val Acc: 0.8375\n",
      "Epoch 106/200 - Train Acc: 0.9944, Val Acc: 0.8375\n",
      "Epoch 107/200 - Train Acc: 0.9944, Val Acc: 0.8375\n",
      "Epoch 108/200 - Train Acc: 0.9944, Val Acc: 0.8375\n",
      "Epoch 109/200 - Train Acc: 0.9944, Val Acc: 0.8375\n",
      "Epoch 110/200 - Train Acc: 0.9958, Val Acc: 0.8375\n",
      "Epoch 111/200 - Train Acc: 0.9944, Val Acc: 0.8375\n",
      "Epoch 112/200 - Train Acc: 0.9958, Val Acc: 0.8375\n",
      "Epoch 113/200 - Train Acc: 0.9972, Val Acc: 0.8375\n",
      "Epoch 114/200 - Train Acc: 0.9972, Val Acc: 0.8500\n",
      "Epoch 115/200 - Train Acc: 0.9986, Val Acc: 0.8500\n",
      "Epoch 116/200 - Train Acc: 0.9986, Val Acc: 0.8500\n",
      "Epoch 117/200 - Train Acc: 0.9986, Val Acc: 0.8500\n",
      "Epoch 118/200 - Train Acc: 1.0000, Val Acc: 0.8500\n",
      "Epoch 119/200 - Train Acc: 0.9986, Val Acc: 0.8500\n",
      "Epoch 120/200 - Train Acc: 0.9986, Val Acc: 0.8500\n",
      "Epoch 121/200 - Train Acc: 0.9986, Val Acc: 0.8500\n",
      "Epoch 122/200 - Train Acc: 1.0000, Val Acc: 0.8500\n",
      "Epoch 123/200 - Train Acc: 1.0000, Val Acc: 0.8500\n",
      "Epoch 124/200 - Train Acc: 1.0000, Val Acc: 0.8500\n",
      "Epoch 125/200 - Train Acc: 1.0000, Val Acc: 0.8500\n",
      "Epoch 126/200 - Train Acc: 1.0000, Val Acc: 0.8500\n",
      "Epoch 127/200 - Train Acc: 1.0000, Val Acc: 0.8500\n",
      "Epoch 128/200 - Train Acc: 1.0000, Val Acc: 0.8500\n",
      "Epoch 129/200 - Train Acc: 1.0000, Val Acc: 0.8500\n",
      "Epoch 130/200 - Train Acc: 1.0000, Val Acc: 0.8500\n",
      "Epoch 131/200 - Train Acc: 1.0000, Val Acc: 0.8500\n",
      "Epoch 132/200 - Train Acc: 1.0000, Val Acc: 0.8375\n",
      "Epoch 133/200 - Train Acc: 1.0000, Val Acc: 0.8375\n",
      "Epoch 134/200 - Train Acc: 1.0000, Val Acc: 0.8375\n",
      "Epoch 135/200 - Train Acc: 1.0000, Val Acc: 0.8500\n",
      "Epoch 136/200 - Train Acc: 1.0000, Val Acc: 0.8500\n",
      "Epoch 137/200 - Train Acc: 1.0000, Val Acc: 0.8500\n",
      "Epoch 138/200 - Train Acc: 1.0000, Val Acc: 0.8500\n",
      "Epoch 139/200 - Train Acc: 1.0000, Val Acc: 0.8375\n",
      "Epoch 140/200 - Train Acc: 1.0000, Val Acc: 0.8375\n",
      "Epoch 141/200 - Train Acc: 1.0000, Val Acc: 0.8375\n",
      "Epoch 142/200 - Train Acc: 1.0000, Val Acc: 0.8375\n",
      "Epoch 143/200 - Train Acc: 1.0000, Val Acc: 0.8500\n",
      "Epoch 144/200 - Train Acc: 1.0000, Val Acc: 0.8500\n",
      "Epoch 145/200 - Train Acc: 1.0000, Val Acc: 0.8500\n",
      "Epoch 146/200 - Train Acc: 1.0000, Val Acc: 0.8500\n",
      "Epoch 147/200 - Train Acc: 1.0000, Val Acc: 0.8500\n",
      "Epoch 148/200 - Train Acc: 1.0000, Val Acc: 0.8500\n",
      "Epoch 149/200 - Train Acc: 1.0000, Val Acc: 0.8500\n",
      "Epoch 150/200 - Train Acc: 1.0000, Val Acc: 0.8500\n",
      "Epoch 151/200 - Train Acc: 1.0000, Val Acc: 0.8500\n",
      "Epoch 152/200 - Train Acc: 1.0000, Val Acc: 0.8500\n",
      "Epoch 153/200 - Train Acc: 1.0000, Val Acc: 0.8500\n",
      "Epoch 154/200 - Train Acc: 1.0000, Val Acc: 0.8500\n",
      "Epoch 155/200 - Train Acc: 1.0000, Val Acc: 0.8500\n",
      "Epoch 156/200 - Train Acc: 1.0000, Val Acc: 0.8500\n",
      "Epoch 157/200 - Train Acc: 1.0000, Val Acc: 0.8500\n",
      "Epoch 158/200 - Train Acc: 1.0000, Val Acc: 0.8500\n",
      "Epoch 159/200 - Train Acc: 1.0000, Val Acc: 0.8500\n",
      "Epoch 160/200 - Train Acc: 1.0000, Val Acc: 0.8500\n",
      "Epoch 161/200 - Train Acc: 1.0000, Val Acc: 0.8500\n",
      "Epoch 162/200 - Train Acc: 1.0000, Val Acc: 0.8500\n",
      "Epoch 163/200 - Train Acc: 1.0000, Val Acc: 0.8500\n",
      "Epoch 164/200 - Train Acc: 1.0000, Val Acc: 0.8500\n",
      "Epoch 165/200 - Train Acc: 1.0000, Val Acc: 0.8500\n",
      "Epoch 166/200 - Train Acc: 1.0000, Val Acc: 0.8500\n",
      "Epoch 167/200 - Train Acc: 1.0000, Val Acc: 0.8500\n",
      "Epoch 168/200 - Train Acc: 1.0000, Val Acc: 0.8500\n",
      "Epoch 169/200 - Train Acc: 1.0000, Val Acc: 0.8500\n",
      "Epoch 170/200 - Train Acc: 1.0000, Val Acc: 0.8500\n",
      "Epoch 171/200 - Train Acc: 1.0000, Val Acc: 0.8500\n",
      "Epoch 172/200 - Train Acc: 1.0000, Val Acc: 0.8500\n",
      "Epoch 173/200 - Train Acc: 1.0000, Val Acc: 0.8500\n",
      "Epoch 174/200 - Train Acc: 1.0000, Val Acc: 0.8500\n",
      "Epoch 175/200 - Train Acc: 1.0000, Val Acc: 0.8500\n",
      "Epoch 176/200 - Train Acc: 1.0000, Val Acc: 0.8500\n",
      "Epoch 177/200 - Train Acc: 1.0000, Val Acc: 0.8500\n",
      "Epoch 178/200 - Train Acc: 1.0000, Val Acc: 0.8500\n",
      "Epoch 179/200 - Train Acc: 1.0000, Val Acc: 0.8500\n",
      "Epoch 180/200 - Train Acc: 1.0000, Val Acc: 0.8500\n",
      "Epoch 181/200 - Train Acc: 1.0000, Val Acc: 0.8500\n",
      "Epoch 182/200 - Train Acc: 1.0000, Val Acc: 0.8500\n",
      "Epoch 183/200 - Train Acc: 1.0000, Val Acc: 0.8500\n",
      "Epoch 184/200 - Train Acc: 1.0000, Val Acc: 0.8500\n",
      "Epoch 185/200 - Train Acc: 1.0000, Val Acc: 0.8500\n",
      "Epoch 186/200 - Train Acc: 1.0000, Val Acc: 0.8500\n",
      "Epoch 187/200 - Train Acc: 1.0000, Val Acc: 0.8500\n",
      "Epoch 188/200 - Train Acc: 1.0000, Val Acc: 0.8500\n",
      "Epoch 189/200 - Train Acc: 1.0000, Val Acc: 0.8500\n",
      "Epoch 190/200 - Train Acc: 1.0000, Val Acc: 0.8500\n",
      "Epoch 191/200 - Train Acc: 1.0000, Val Acc: 0.8500\n",
      "Epoch 192/200 - Train Acc: 1.0000, Val Acc: 0.8500\n",
      "Epoch 193/200 - Train Acc: 1.0000, Val Acc: 0.8500\n",
      "Epoch 194/200 - Train Acc: 1.0000, Val Acc: 0.8500\n",
      "Epoch 195/200 - Train Acc: 1.0000, Val Acc: 0.8500\n",
      "Epoch 196/200 - Train Acc: 1.0000, Val Acc: 0.8500\n",
      "Epoch 197/200 - Train Acc: 1.0000, Val Acc: 0.8500\n",
      "Epoch 198/200 - Train Acc: 1.0000, Val Acc: 0.8500\n",
      "Epoch 199/200 - Train Acc: 1.0000, Val Acc: 0.8500\n",
      "Epoch 200/200 - Train Acc: 1.0000, Val Acc: 0.8500\n",
      "\n",
      "Best Validation Accuracy: 0.8625 at epoch 48\n"
     ]
    }
   ],
   "source": [
    "epochs = 200\n",
    "\n",
    "grad_boost = GradientBoostingClassifier(\n",
    "    max_depth=3,\n",
    "    n_estimators=epochs,\n",
    "    learning_rate=0.1)\n",
    "\n",
    "grad_boost.fit(X_train, y_train)\n",
    "\n",
    "train_acc_history = []\n",
    "val_acc_history = []\n",
    "\n",
    "best_val_acc = 0.0\n",
    "best_epoch = 0\n",
    "\n",
    "train_stages = grad_boost.staged_predict(X_train)\n",
    "val_stages = grad_boost.staged_predict(X_val)\n",
    "\n",
    "for epoch, (train_pred, val_pred) in enumerate(zip(train_stages, val_stages), start=1):\n",
    "    # Calculate accuracies\n",
    "    train_acc = accuracy_score(y_train, train_pred)\n",
    "    val_acc = accuracy_score(y_val, val_pred)\n",
    "\n",
    "    train_acc_history.append(train_acc)\n",
    "    val_acc_history.append(val_acc)\n",
    "\n",
    "    # Track the best validation accuracy\n",
    "    if val_acc > best_val_acc:\n",
    "        best_val_acc = val_acc\n",
    "        best_epoch = epoch\n",
    "\n",
    "    print(f\"Epoch {epoch}/{epochs} - Train Acc: {train_acc:.4f}, Val Acc: {val_acc:.4f}\")\n",
    "\n",
    "print(f\"\\nBest Validation Accuracy: {best_val_acc:.4f} at epoch {best_epoch}\")"
   ]
  },
  {
   "cell_type": "code",
   "execution_count": null,
   "metadata": {},
   "outputs": [
    {
     "data": {
      "image/png": "[encoded data removed]",
      "text/plain": [
       "<Figure size 500x400 with 1 Axes>"
      ]
     },
     "metadata": {},
     "output_type": "display_data"
    }
   ],
   "source": [
    "plt.figure(figsize=(5, 4))\n",
    "plt.plot(range(1, epochs+1), train_acc_history, label=\"Training Accuracy\")\n",
    "plt.plot(range(1, epochs+1), val_acc_history, label=\"Validation Accuracy\")\n",
    "plt.xlabel(\"Epoch\")\n",
    "plt.ylabel(\"Accuracy\")\n",
    "plt.title(\"Learning Curve per Epoch - Gradient Boosting\")\n",
    "plt.legend()\n",
    "plt.grid(True);"
   ]
  },
  {
   "cell_type": "code",
   "execution_count": null,
   "metadata": {},
   "outputs": [
    {
     "name": "stdout",
     "output_type": "stream",
     "text": [
      "\n",
      "Validation Set Evaluation - Gradient Boosting\n",
      "Loss: 0.2802\n",
      "Accuracy: 0.8500\n",
      "Precision: 0.8462\n",
      "Recall: 0.8462\n",
      "ROC-AUC: 0.9543\n"
     ]
    }
   ],
   "source": [
    "# Gradient Boosting evaluation\n",
    "\n",
    "grad_y_val_pred = grad_boost.predict(X_val)\n",
    "grad_y_val_prob = grad_boost.predict_proba(X_val)[:, 1]\n",
    "\n",
    "grad_loss = log_loss(y_val, grad_y_val_prob)\n",
    "grad_acc = accuracy_score(y_val, grad_y_val_pred)\n",
    "grad_prec = precision_score(y_val, grad_y_val_pred)\n",
    "grad_rec = recall_score(y_val, grad_y_val_pred)\n",
    "grad_auc = roc_auc_score(y_val, grad_y_val_prob)\n",
    "\n",
    "print(\"\\nValidation Set Evaluation - Gradient Boosting\")\n",
    "print(f\"Loss: {grad_loss:.4f}\")\n",
    "print(f\"Accuracy: {grad_acc:.4f}\")\n",
    "print(f\"Precision: {grad_prec:.4f}\")\n",
    "print(f\"Recall: {grad_rec:.4f}\")\n",
    "print(f\"ROC-AUC: {grad_auc:.4f}\")"
   ]
  },
  {
   "cell_type": "code",
   "execution_count": null,
   "metadata": {},
   "outputs": [],
   "source": [
    "# Saving score result to Halim_model_results.ipynb\n",
    "\n",
    "save_result = [{\n",
    "    \"Model\": \"Gradient Boost (Halim's cleaning) Full\",\n",
    "    \"Loss\": f\"{grad_loss:.4f}\",\n",
    "    \"Accuracy\": f\"{grad_acc:.4f}\"\n",
    "    }]\n",
    "\n",
    "df_result = pd.DataFrame(save_result)\n",
    "csv_file = \"10k_model_results.csv\"\n",
    "df_result.to_csv(csv_file, mode=\"a\", index=False, header=not os.path.exists(csv_file))"
   ]
  },
  {
   "cell_type": "code",
   "execution_count": null,
   "metadata": {},
   "outputs": [
    {
     "data": {
      "image/png": "[encoded data removed]",
      "text/plain": [
       "<Figure size 500x400 with 2 Axes>"
      ]
     },
     "metadata": {},
     "output_type": "display_data"
    }
   ],
   "source": [
    "conf_matrix(\"Gradient Boost\", y_val, grad_y_val_pred)"
   ]
  },
  {
   "cell_type": "markdown",
   "metadata": {},
   "source": [
    "# Prediction"
   ]
  },
  {
   "cell_type": "code",
   "execution_count": null,
   "metadata": {},
   "outputs": [],
   "source": [
    "def extract_features_single(sentence):\n",
    "    \"\"\"\n",
    "    Extracts features from a single text string (only used for prediction).\n",
    "    \"\"\"\n",
    "    return [\n",
    "        cons_density(sentence),\n",
    "        get_sentence_stress(sentence) / len(sentence) if len(sentence) > 0 else 0,  # Avoid division by zero\n",
    "        redundance(sentence),\n",
    "        sentiment_polarity(sentence),\n",
    "        word_choice(sentence),\n",
    "        coherence(sentence),\n",
    "        reading_ease(sentence),\n",
    "        gunning_fog(sentence)]"
   ]
  },
  {
   "cell_type": "code",
   "execution_count": null,
   "metadata": {},
   "outputs": [],
   "source": [
    "def preprocess_input(sentence, vectorizer, scaler):\n",
    "    \"\"\"Preprocess the raw input text\"\"\"\n",
    "\n",
    "    # Ensure input is a string\n",
    "    if not isinstance(sentence, str):\n",
    "        raise ValueError(\"Input sentence must be a string\")\n",
    "\n",
    "    cleaned_text = text_cleaning(sentence) # Clean the text\n",
    "    extracted_features = np.array(extract_features_single(cleaned_text)).reshape(1, -1) # Extract features\n",
    "    features_scaled = scaler.transform(extracted_features) # Scale features\n",
    "    text_vectorized = vectorizer.transform([cleaned_text]) # Vectorize clean text\n",
    "    final_input = hstack([text_vectorized, features_scaled])\n",
    "\n",
    "    return final_input"
   ]
  },
  {
   "cell_type": "code",
   "execution_count": null,
   "metadata": {},
   "outputs": [],
   "source": [
    "def predict_text(model, sentence, vectorizer, scaler):\n",
    "    preproc_input = preprocess_input(sentence, vectorizer, scaler)\n",
    "    prediction_prob = model.predict_proba(preproc_input)[:, 1][0] # Extracts probability of AI clas\n",
    "    prediction = \"AI\" if prediction_prob > 0.5 else \"Human\"\n",
    "    return prediction, round(prediction_prob, 2)"
   ]
  },
  {
   "cell_type": "code",
   "execution_count": null,
   "metadata": {},
   "outputs": [
    {
     "data": {
      "text/html": [
       "<div>\n",
       "<style scoped>\n",
       "    .dataframe tbody tr th:only-of-type {\n",
       "        vertical-align: middle;\n",
       "    }\n",
       "\n",
       "    .dataframe tbody tr th {\n",
       "        vertical-align: top;\n",
       "    }\n",
       "\n",
       "    .dataframe thead th {\n",
       "        text-align: right;\n",
       "    }\n",
       "</style>\n",
       "<table border=\"1\" class=\"dataframe\">\n",
       "  <thead>\n",
       "    <tr style=\"text-align: right;\">\n",
       "      <th></th>\n",
       "      <th>text</th>\n",
       "      <th>source</th>\n",
       "      <th>text_length</th>\n",
       "      <th>word_count</th>\n",
       "      <th>contains_numbers</th>\n",
       "      <th>contains_special_chars</th>\n",
       "    </tr>\n",
       "  </thead>\n",
       "  <tbody>\n",
       "    <tr>\n",
       "      <th>995</th>\n",
       "      <td>Please write a response to ONE of the prompts ...</td>\n",
       "      <td>Human</td>\n",
       "      <td>4259</td>\n",
       "      <td>790</td>\n",
       "      <td>True</td>\n",
       "      <td>True</td>\n",
       "    </tr>\n",
       "    <tr>\n",
       "      <th>996</th>\n",
       "      <td>Snap's next-gen Spectacles will be able to lay...</td>\n",
       "      <td>Human</td>\n",
       "      <td>437</td>\n",
       "      <td>68</td>\n",
       "      <td>True</td>\n",
       "      <td>True</td>\n",
       "    </tr>\n",
       "    <tr>\n",
       "      <th>997</th>\n",
       "      <td>Visual Place Recognition (VPR) is the ability ...</td>\n",
       "      <td>AI</td>\n",
       "      <td>382</td>\n",
       "      <td>58</td>\n",
       "      <td>False</td>\n",
       "      <td>True</td>\n",
       "    </tr>\n",
       "    <tr>\n",
       "      <th>998</th>\n",
       "      <td>Addressing Ex-Felon Disenfranchisement Essay\\n...</td>\n",
       "      <td>Human</td>\n",
       "      <td>32647</td>\n",
       "      <td>4997</td>\n",
       "      <td>True</td>\n",
       "      <td>True</td>\n",
       "    </tr>\n",
       "    <tr>\n",
       "      <th>999</th>\n",
       "      <td>The antiques, valued at between PS2,000 and PS...</td>\n",
       "      <td>AI</td>\n",
       "      <td>822</td>\n",
       "      <td>142</td>\n",
       "      <td>True</td>\n",
       "      <td>True</td>\n",
       "    </tr>\n",
       "  </tbody>\n",
       "</table>\n",
       "</div>"
      ],
      "text/plain": [
       "                                                  text source  text_length  \\\n",
       "995  Please write a response to ONE of the prompts ...  Human         4259   \n",
       "996  Snap's next-gen Spectacles will be able to lay...  Human          437   \n",
       "997  Visual Place Recognition (VPR) is the ability ...     AI          382   \n",
       "998  Addressing Ex-Felon Disenfranchisement Essay\\n...  Human        32647   \n",
       "999  The antiques, valued at between PS2,000 and PS...     AI          822   \n",
       "\n",
       "     word_count  contains_numbers  contains_special_chars  \n",
       "995         790              True                    True  \n",
       "996          68              True                    True  \n",
       "997          58             False                    True  \n",
       "998        4997              True                    True  \n",
       "999         142              True                    True  "
      ]
     },
     "execution_count": 46,
     "metadata": {},
     "output_type": "execute_result"
    }
   ],
   "source": [
    "df.tail()"
   ]
  },
  {
   "cell_type": "code",
   "execution_count": null,
   "metadata": {},
   "outputs": [
    {
     "name": "stdout",
     "output_type": "stream",
     "text": [
      "Please write a response to ONE of the prompts below in English. The answer should be between 500-700 words. 3) Describe a turning point in your life. Why is it so important to you, and what would your life have become without that that turning point? --------- When my sister turned to face and gave me a last smile before she entered the departure gate, I felt my heart sink. I did not see her at all for the 10 months that she has studied abroad. I only wished for her safety and hoped that she got a great experience. But there was one little voice in my mind that told me that I was afraid. I was afraid that she would not be my same sister who I knew so well, my sister who I had shared all my happiness and grief with. I knew that this was one of the significant moments in her life, but I never thought that it would be a turning point in mine as well. This is the first time my sister went abroad, so we always kept in touch with each other. However, every phone call, her clear happy voice made our worries disappear. Also, each e-mail, they filled with wonderful experience. I saw her rapid growth. I admired her effort to make her dream came true. Also, this made me saw my weakness that I always neglected. However, it's not strong enough to change me. One day we made a call again. My sister and I shared many things happening to each other. We talked, teased and laughed. I joked about her weight by caring about her health. Suddenly my turning point came. Before she hung up on the call the last sentences she talked to me \"Don't play too much computer, dear. There are load of wonderful things to do for life\" This statement pierced my heart. How could such a simple sentence make such an impact? It pointed out my reconsidering life. Time management would become a priority. It was time to take action. Leaving my fantasy land for the real world would make a difference in my life. Being a good student with good grades, being a team player and a responsible daughter were already in place. But I considered that was not enough to fulfill my expectation about myself. Although my sister didn't verbalize this, through her actions she illustrated this and the ways of the world for me. Looking back, it always appeared that she was a natural success because her efforts. My sister who is younger than me for five years woke me up and taught me about who I was and who I wanted to become. Now, I was not afraid my sister will be stranger. But it was turned to terrible fear that maybe I'm not good enough to be her sister anymore. At that point, I committed to being a better person for her, for myself, and for us. Releasing the fear, I take more chances. Taking responsibility for myself and my life, from now on, I welcome new opportunities. For example, I attended to pharmacy for society and camped out to North-Eastern of Thailand. I got experience that I never met before. I closed to local people and understand them so much better. Furthermore, I offered myself to professor to help her research project. Furthermore, I challenge so many new things every day and proud to tell myself this is first step of my enjoyable life. Furthermore, I feel everything is so much brighter in my eyes. Furthermore, I wondered I can do great many things in this time. Without her spark, I don't know how long I had growth and maturity. All of these good experiences I have got, have to appreciate her. She not only put me in deep consideration to discover my inner self but also to push me so hard forward to reach my goals. Not only visible growth but also in mental growth is invaluable. I believe turning point can come into everybody' lives, it's without fanfare or any announcement to express itself. But it is never true turning point without deep understanding. This is my important turning point because it came with my realization about who I am, what my mistakes were in the past, and what I want to do in the future. My sister and she experience give this wonderful gift which can make me realize because our love for each other. ------- Its over word limit. I think I should focus on my turning point more than write about my sister, but I don't know which sentences should cut off. Thank you very much, I will check it every time I can:)\n",
      "Prediction: AI (54.0%)\n",
      "Actual: Human\n"
     ]
    },
    {
     "name": "stderr",
     "output_type": "stream",
     "text": [
      "/Users/till/.pyenv/versions/3.10.6/envs/fake-data-detector/lib/python3.10/site-packages/sklearn/utils/validation.py:2739: UserWarning: X does not have valid feature names, but StandardScaler was fitted with feature names\n",
      "  warnings.warn(\n"
     ]
    }
   ],
   "source": [
    "model = grad_boost\n",
    "sentence = df[\"text\"][995]\n",
    "\n",
    "prediction, probability = predict_text(model, sentence, vectorizer, scaler)\n",
    "\n",
    "print(f\"{sentence}\")\n",
    "print(f\"Prediction: {prediction} ({probability * 100:.1f}%)\")\n",
    "print(f\"Actual: {df['source'][995]}\")"
   ]
  },
  {
   "cell_type": "code",
   "execution_count": null,
   "metadata": {},
   "outputs": [
    {
     "name": "stdout",
     "output_type": "stream",
     "text": [
      "              precision    recall  f1-score   support\n",
      "\n",
      "           0       0.88      0.79      0.83       103\n",
      "           1       0.80      0.89      0.84        97\n",
      "\n",
      "    accuracy                           0.83       200\n",
      "   macro avg       0.84      0.84      0.83       200\n",
      "weighted avg       0.84      0.83      0.83       200\n",
      "\n"
     ]
    }
   ],
   "source": [
    "gb_predict = grad_boost.predict(X_test)\n",
    "\n",
    "print(classification_report(y_test, gb_predict))"
   ]
  }
 ],
 "metadata": {
  "kernelspec": {
   "display_name": "fake-data-detector",
   "language": "python",
   "name": "python3"
  },
  "language_info": {
   "codemirror_mode": {
    "name": "ipython",
    "version": 3
   },
   "file_extension": ".py",
   "mimetype": "text/x-python",
   "name": "python",
   "nbconvert_exporter": "python",
   "pygments_lexer": "ipython3",
   "version": "3.10.6"
  }
 },
 "nbformat": 4,
 "nbformat_minor": 2
}
