{
 "cells": [
  {
   "cell_type": "code",
   "execution_count": 1,
   "metadata": {},
   "outputs": [],
   "source": [
    "import os\n",
    "\n",
    "import pandas as pd\n",
    "import numpy as np\n",
    "import seaborn as sns\n",
    "import matplotlib.pyplot as plt\n",
    "%matplotlib inline\n",
    "\n",
    "import re\n",
    "import string\n",
    "import nltk\n",
    "from nltk.corpus import wordnet, cmudict, stopwords\n",
    "from nltk.tokenize import word_tokenize\n",
    "from nltk.stem import WordNetLemmatizer\n",
    "#nltk.download('punkt')\n",
    "#nltk.download('punkt_tab')\n",
    "#nltk.download('stopwords')\n",
    "#nltk.download('wordnet')\n",
    "#nltk.download('averaged_perceptron_tagger_eng')\n",
    "\n",
    "from textblob import TextBlob\n",
    "from gensim.models import LsiModel\n",
    "from gensim import corpora\n",
    "from gensim.models.coherencemodel import CoherenceModel\n",
    "from collections import Counter\n",
    "import textstat\n",
    "\n",
    "from sklearn.model_selection import train_test_split\n",
    "from sklearn.preprocessing import StandardScaler\n",
    "from sklearn.metrics import confusion_matrix, classification_report, accuracy_score, roc_auc_score, precision_score, recall_score, log_loss\n",
    "from sklearn.feature_extraction.text import TfidfVectorizer\n",
    "from sklearn.ensemble import GradientBoostingClassifier\n",
    "\n",
    "from scipy.sparse import hstack"
   ]
  },
  {
   "cell_type": "code",
   "execution_count": 2,
   "metadata": {},
   "outputs": [
    {
     "data": {
      "text/html": [
       "<div>\n",
       "<style scoped>\n",
       "    .dataframe tbody tr th:only-of-type {\n",
       "        vertical-align: middle;\n",
       "    }\n",
       "\n",
       "    .dataframe tbody tr th {\n",
       "        vertical-align: top;\n",
       "    }\n",
       "\n",
       "    .dataframe thead th {\n",
       "        text-align: right;\n",
       "    }\n",
       "</style>\n",
       "<table border=\"1\" class=\"dataframe\">\n",
       "  <thead>\n",
       "    <tr style=\"text-align: right;\">\n",
       "      <th></th>\n",
       "      <th>text</th>\n",
       "      <th>source</th>\n",
       "      <th>prompt_id</th>\n",
       "      <th>text_length</th>\n",
       "      <th>word_count</th>\n",
       "    </tr>\n",
       "  </thead>\n",
       "  <tbody>\n",
       "    <tr>\n",
       "      <th>0</th>\n",
       "      <td>In 1466, perhaps 40,000 people died of the pla...</td>\n",
       "      <td>Flan-T5-XXL</td>\n",
       "      <td>0</td>\n",
       "      <td>336</td>\n",
       "      <td>63</td>\n",
       "    </tr>\n",
       "    <tr>\n",
       "      <th>1</th>\n",
       "      <td>Amazon's yet-unnamed Lord of the Rings origina...</td>\n",
       "      <td>GLM-130B</td>\n",
       "      <td>0</td>\n",
       "      <td>2251</td>\n",
       "      <td>393</td>\n",
       "    </tr>\n",
       "    <tr>\n",
       "      <th>2</th>\n",
       "      <td>@Holt  \\n***Hi. I've just rewritten the essay....</td>\n",
       "      <td>Human</td>\n",
       "      <td>0</td>\n",
       "      <td>1994</td>\n",
       "      <td>337</td>\n",
       "    </tr>\n",
       "    <tr>\n",
       "      <th>3</th>\n",
       "      <td>Pleasantly surprised! Had a few options for ve...</td>\n",
       "      <td>GLM-130B</td>\n",
       "      <td>0</td>\n",
       "      <td>4182</td>\n",
       "      <td>797</td>\n",
       "    </tr>\n",
       "    <tr>\n",
       "      <th>4</th>\n",
       "      <td>Shakespeare’s Othello: A Tragic Hero Research ...</td>\n",
       "      <td>Human</td>\n",
       "      <td>0</td>\n",
       "      <td>12845</td>\n",
       "      <td>2143</td>\n",
       "    </tr>\n",
       "  </tbody>\n",
       "</table>\n",
       "</div>"
      ],
      "text/plain": [
       "                                                text       source  prompt_id  \\\n",
       "0  In 1466, perhaps 40,000 people died of the pla...  Flan-T5-XXL          0   \n",
       "1  Amazon's yet-unnamed Lord of the Rings origina...     GLM-130B          0   \n",
       "2  @Holt  \\n***Hi. I've just rewritten the essay....        Human          0   \n",
       "3  Pleasantly surprised! Had a few options for ve...     GLM-130B          0   \n",
       "4  Shakespeare’s Othello: A Tragic Hero Research ...        Human          0   \n",
       "\n",
       "   text_length  word_count  \n",
       "0          336          63  \n",
       "1         2251         393  \n",
       "2         1994         337  \n",
       "3         4182         797  \n",
       "4        12845        2143  "
      ]
     },
     "execution_count": 2,
     "metadata": {},
     "output_type": "execute_result"
    }
   ],
   "source": [
    "data = pd.read_csv(\"../../data/10k_sampled_dataset.csv\", encoding=\"utf-8\")\n",
    "data.head()"
   ]
  },
  {
   "cell_type": "markdown",
   "metadata": {},
   "source": [
    "# Data Exploration"
   ]
  },
  {
   "cell_type": "code",
   "execution_count": 3,
   "metadata": {},
   "outputs": [
    {
     "data": {
      "text/html": [
       "<div>\n",
       "<style scoped>\n",
       "    .dataframe tbody tr th:only-of-type {\n",
       "        vertical-align: middle;\n",
       "    }\n",
       "\n",
       "    .dataframe tbody tr th {\n",
       "        vertical-align: top;\n",
       "    }\n",
       "\n",
       "    .dataframe thead th {\n",
       "        text-align: right;\n",
       "    }\n",
       "</style>\n",
       "<table border=\"1\" class=\"dataframe\">\n",
       "  <thead>\n",
       "    <tr style=\"text-align: right;\">\n",
       "      <th></th>\n",
       "      <th>text</th>\n",
       "      <th>source</th>\n",
       "      <th>text_length</th>\n",
       "      <th>word_count</th>\n",
       "    </tr>\n",
       "  </thead>\n",
       "  <tbody>\n",
       "    <tr>\n",
       "      <th>0</th>\n",
       "      <td>In 1466, perhaps 40,000 people died of the pla...</td>\n",
       "      <td>AI</td>\n",
       "      <td>336</td>\n",
       "      <td>63</td>\n",
       "    </tr>\n",
       "    <tr>\n",
       "      <th>1</th>\n",
       "      <td>Amazon's yet-unnamed Lord of the Rings origina...</td>\n",
       "      <td>AI</td>\n",
       "      <td>2251</td>\n",
       "      <td>393</td>\n",
       "    </tr>\n",
       "    <tr>\n",
       "      <th>2</th>\n",
       "      <td>@Holt  \\n***Hi. I've just rewritten the essay....</td>\n",
       "      <td>Human</td>\n",
       "      <td>1994</td>\n",
       "      <td>337</td>\n",
       "    </tr>\n",
       "  </tbody>\n",
       "</table>\n",
       "</div>"
      ],
      "text/plain": [
       "                                                text source  text_length  \\\n",
       "0  In 1466, perhaps 40,000 people died of the pla...     AI          336   \n",
       "1  Amazon's yet-unnamed Lord of the Rings origina...     AI         2251   \n",
       "2  @Holt  \\n***Hi. I've just rewritten the essay....  Human         1994   \n",
       "\n",
       "   word_count  \n",
       "0          63  \n",
       "1         393  \n",
       "2         337  "
      ]
     },
     "execution_count": 3,
     "metadata": {},
     "output_type": "execute_result"
    }
   ],
   "source": [
    "df = data.copy()\n",
    "df[\"source\"] = df[\"source\"].apply(lambda x: \"AI\" if x != \"Human\" else x)\n",
    "df.drop(columns=\"prompt_id\", inplace=True)\n",
    "df.head(3)"
   ]
  },
  {
   "cell_type": "code",
   "execution_count": 4,
   "metadata": {},
   "outputs": [
    {
     "data": {
      "text/plain": [
       "source\n",
       "Human    0.5577\n",
       "AI       0.4423\n",
       "Name: proportion, dtype: float64"
      ]
     },
     "execution_count": 4,
     "metadata": {},
     "output_type": "execute_result"
    }
   ],
   "source": [
    "df[\"source\"].value_counts(normalize=True)"
   ]
  },
  {
   "cell_type": "code",
   "execution_count": 5,
   "metadata": {},
   "outputs": [
    {
     "name": "stdout",
     "output_type": "stream",
     "text": [
      "<class 'pandas.core.frame.DataFrame'>\n",
      "RangeIndex: 10000 entries, 0 to 9999\n",
      "Data columns (total 4 columns):\n",
      " #   Column       Non-Null Count  Dtype \n",
      "---  ------       --------------  ----- \n",
      " 0   text         10000 non-null  object\n",
      " 1   source       10000 non-null  object\n",
      " 2   text_length  10000 non-null  int64 \n",
      " 3   word_count   10000 non-null  int64 \n",
      "dtypes: int64(2), object(2)\n",
      "memory usage: 312.6+ KB\n"
     ]
    }
   ],
   "source": [
    "df.info()"
   ]
  },
  {
   "cell_type": "code",
   "execution_count": 6,
   "metadata": {},
   "outputs": [
    {
     "data": {
      "image/png": "[encoded data removed]",
      "text/plain": [
       "<Figure size 1000x500 with 2 Axes>"
      ]
     },
     "metadata": {},
     "output_type": "display_data"
    }
   ],
   "source": [
    "fig, axes = plt.subplots(1, 2, figsize=(10, 5))\n",
    "\n",
    "axes[0].hist(df[\"text_length\"], bins=20, edgecolor=\"black\")\n",
    "axes[0].set_title(\"Text Length Distribution\")\n",
    "axes[0].set_xlabel(\"Text Length\")\n",
    "axes[0].set_ylabel(\"Frequency\")\n",
    "\n",
    "axes[1].hist(df[\"word_count\"], bins=20, edgecolor=\"black\")\n",
    "axes[1].set_title(\"Word Count Distribution\")\n",
    "axes[1].set_xlabel(\"Word Count\")\n",
    "axes[1].set_ylabel(\"Frequency\")\n",
    "\n",
    "plt.show()\n"
   ]
  },
  {
   "cell_type": "code",
   "execution_count": 7,
   "metadata": {},
   "outputs": [
    {
     "data": {
      "text/html": [
       "<div>\n",
       "<style scoped>\n",
       "    .dataframe tbody tr th:only-of-type {\n",
       "        vertical-align: middle;\n",
       "    }\n",
       "\n",
       "    .dataframe tbody tr th {\n",
       "        vertical-align: top;\n",
       "    }\n",
       "\n",
       "    .dataframe thead th {\n",
       "        text-align: right;\n",
       "    }\n",
       "</style>\n",
       "<table border=\"1\" class=\"dataframe\">\n",
       "  <thead>\n",
       "    <tr style=\"text-align: right;\">\n",
       "      <th></th>\n",
       "      <th>text</th>\n",
       "      <th>source</th>\n",
       "      <th>text_length</th>\n",
       "      <th>word_count</th>\n",
       "      <th>contains_numbers</th>\n",
       "      <th>contains_special_chars</th>\n",
       "    </tr>\n",
       "  </thead>\n",
       "  <tbody>\n",
       "    <tr>\n",
       "      <th>0</th>\n",
       "      <td>In 1466, perhaps 40,000 people died of the pla...</td>\n",
       "      <td>AI</td>\n",
       "      <td>336</td>\n",
       "      <td>63</td>\n",
       "      <td>True</td>\n",
       "      <td>True</td>\n",
       "    </tr>\n",
       "    <tr>\n",
       "      <th>1</th>\n",
       "      <td>Amazon's yet-unnamed Lord of the Rings origina...</td>\n",
       "      <td>AI</td>\n",
       "      <td>2251</td>\n",
       "      <td>393</td>\n",
       "      <td>True</td>\n",
       "      <td>True</td>\n",
       "    </tr>\n",
       "    <tr>\n",
       "      <th>2</th>\n",
       "      <td>@Holt  \\n***Hi. I've just rewritten the essay....</td>\n",
       "      <td>Human</td>\n",
       "      <td>1994</td>\n",
       "      <td>337</td>\n",
       "      <td>True</td>\n",
       "      <td>True</td>\n",
       "    </tr>\n",
       "    <tr>\n",
       "      <th>3</th>\n",
       "      <td>Pleasantly surprised! Had a few options for ve...</td>\n",
       "      <td>AI</td>\n",
       "      <td>4182</td>\n",
       "      <td>797</td>\n",
       "      <td>True</td>\n",
       "      <td>True</td>\n",
       "    </tr>\n",
       "    <tr>\n",
       "      <th>4</th>\n",
       "      <td>Shakespeare’s Othello: A Tragic Hero Research ...</td>\n",
       "      <td>Human</td>\n",
       "      <td>12845</td>\n",
       "      <td>2143</td>\n",
       "      <td>True</td>\n",
       "      <td>True</td>\n",
       "    </tr>\n",
       "  </tbody>\n",
       "</table>\n",
       "</div>"
      ],
      "text/plain": [
       "                                                text source  text_length  \\\n",
       "0  In 1466, perhaps 40,000 people died of the pla...     AI          336   \n",
       "1  Amazon's yet-unnamed Lord of the Rings origina...     AI         2251   \n",
       "2  @Holt  \\n***Hi. I've just rewritten the essay....  Human         1994   \n",
       "3  Pleasantly surprised! Had a few options for ve...     AI         4182   \n",
       "4  Shakespeare’s Othello: A Tragic Hero Research ...  Human        12845   \n",
       "\n",
       "   word_count  contains_numbers  contains_special_chars  \n",
       "0          63              True                    True  \n",
       "1         393              True                    True  \n",
       "2         337              True                    True  \n",
       "3         797              True                    True  \n",
       "4        2143              True                    True  "
      ]
     },
     "execution_count": 7,
     "metadata": {},
     "output_type": "execute_result"
    }
   ],
   "source": [
    "# Check if text column contains numbers and special characters\n",
    "\n",
    "df[\"contains_numbers\"] = df[\"text\"].str.contains(r\"\\d\", regex=True)\n",
    "df[\"contains_special_chars\"] = df[\"text\"].str.contains(r\"[^\\w\\s]\", regex=True)\n",
    "\n",
    "df.head()"
   ]
  },
  {
   "cell_type": "code",
   "execution_count": 8,
   "metadata": {},
   "outputs": [
    {
     "data": {
      "image/png": "[encoded data removed]",
      "text/plain": [
       "<Figure size 1000x400 with 2 Axes>"
      ]
     },
     "metadata": {},
     "output_type": "display_data"
    }
   ],
   "source": [
    "fig, axes = plt.subplots(1, 2, figsize=(10, 4))\n",
    "\n",
    "sns.barplot(x=df[\"source\"], y=df[\"contains_numbers\"], ax=axes[0])\n",
    "axes[0].set_title(\"Text Containing Number Proportion\")\n",
    "\n",
    "sns.barplot(x=df[\"source\"], y=df[\"contains_special_chars\"], ax=axes[1])\n",
    "axes[1].set_title(\"Text Containing Special Chars Proportion\")\n",
    "\n",
    "plt.tight_layout();"
   ]
  },
  {
   "cell_type": "code",
   "execution_count": 9,
   "metadata": {},
   "outputs": [
    {
     "data": {
      "text/plain": [
       "contains_numbers\n",
       "True     6262\n",
       "False    3738\n",
       "Name: count, dtype: int64"
      ]
     },
     "execution_count": 9,
     "metadata": {},
     "output_type": "execute_result"
    }
   ],
   "source": [
    "df[\"contains_numbers\"].value_counts()"
   ]
  },
  {
   "cell_type": "code",
   "execution_count": 10,
   "metadata": {},
   "outputs": [
    {
     "data": {
      "text/plain": [
       "contains_special_chars\n",
       "True     9999\n",
       "False       1\n",
       "Name: count, dtype: int64"
      ]
     },
     "execution_count": 10,
     "metadata": {},
     "output_type": "execute_result"
    }
   ],
   "source": [
    "df[\"contains_special_chars\"].value_counts()"
   ]
  },
  {
   "cell_type": "markdown",
   "metadata": {},
   "source": [
    "# Data Cleaning"
   ]
  },
  {
   "cell_type": "code",
   "execution_count": 11,
   "metadata": {},
   "outputs": [],
   "source": [
    "def text_cleaning(text):\n",
    "    # Remove punctuation\n",
    "    text = text.translate(str.maketrans('', '', string.punctuation))\n",
    "    # Remove numbers (optional)\n",
    "    text = re.sub(r'\\d+', '', text)\n",
    "    # Convert to lowercase\n",
    "    text = text.lower()\n",
    "    # Remove extra spaces\n",
    "    text = ' '.join(text.split())\n",
    "    return text"
   ]
  },
  {
   "cell_type": "code",
   "execution_count": 12,
   "metadata": {},
   "outputs": [
    {
     "data": {
      "text/plain": [
       "'shakespeare’s othello a tragic hero research paper although his name is associated with athens aristotle was a native of thrace where he was born in bc his father nicomathus who died while aristotle was young was physician at the court of macedon and the son’s fortunes were always tied to those of the macedonian rulers frost in when he was about seventeen aristotle came to athens to study with plato of the academy he stayed there for twenty years unfortunately little is known about the personal relationship between the two greatest thinkers of their time the one bringing to a close a long productive career the other in his formative years it is suggested that aristotle had broken off with plato and was ready to leave the academy before the latter’s death in frost “as a pupil of plato aristotle and his master stand among the world’s very greatest of philosophers” frost in philip of macedon attacked stagira nearly forty his master dead and his ancestral home destroyed aristotle left athens and the academy he was away for thirteen years he probably taught for three years at assos in asia minor where he lived under the protection of the ruler hermias there he married hermias’ niece pythias who bore him a daughter by another woman of stagira he had a son nicomachus for another three years he lived at mytilene on the island of lisbos at the invitation of king philip aristotle came to the macedonian court as tutor to the thirteenyearold heir to the throne alexander the great from this association which lasted about eight years aristotle gained the friendship and protection of the most powerful ruler of his time when alexander the great died aristotle fled to chalcis where he died the following year at the age of about kaplan william shakespeare was a strong adherent of aristotle in his writings shakespeare was the son of john shakespeare of stratford –upon avon a substantial citizen of that small but busy market town in the heart of the rich agricultural county of warwick john shakespeare kept a shop and dealt in wool and other produce gradually acquiring property as a youth he learned the trade of gloves and leather worker john married mary arden daughter of his father’s landlord the third of their eight children was william baptized on april and was probably born three days before john sent his son to free grammar school the grammar school provided basic education in latin learning and literature and a little knowledge of greek there is little documentation for shakespeare’s boyhood the most important record is a marriage license issued november to permit william shakespeare to marry anne hathaway eight years his senior the first reference to shakespeare as an actor and playwright was available documents indicate that in he was a “principal comedian” and in he was a “principal tragedian” shakespeare’s literary activity seems to have been almost entirely devoted to the theater in an anthology by francis meres many playwrights are mentioned but shakespeare is the only name whose plays are listed from his acting and playwrighting shakespeare seems to have made considerable money he put it to work making a lot of investments in stratford real estate on april he was buried within the chancel of the church at stratford wright “thirtyseven plays as well as some poems are held to constitute the shakespeare canon the dates of composition of most of his works are highly uncertain there is no real proof for example that othello is not as early as romeo and juliet but intelligent guessing leads us to believe that othello comes later” bryant othello is one of shakespeare’s outstanding tragedies thesis statement what is a tragedy “a tragedy is the imitation of an action that is serious and also having magnitude complete in itself in language with pleasurable accessories each kind brought separately in the parts of the work in a dramatic not in narrative form with incidents arousing pity and fear – wherewith to accomplish its catharsis of such emotions” kaplan “ othello is one of the darkest and most passionate of the plays of william shakespeare it tells about the nature of love friendship and betrayal set in venice and the exotic island of cyprus the play narrates the tale of othello the moor and desdemona who dares to love him against the backdrop of war and the quest for power then iago and his wife emilia enter their lives jealousy and the mad powers of the imagination together form an alliance of conflicting passions and cunning lies that destroy every one ad everything in their wake”studying othello the moor of venice the story of the play in a nutshell goes thus othello a noble moor in the military service of venice who marries desdemona daughter of a senator iago his ancient or standard bearer a man of mean mind and thwarted ambition makes othello think that desdemona has been unfaithful the moor smothers his wife and then confronted with proof of iago’s perfidy kills himself” grolier’s encyclopedia a tragic event is one in which an individual suffers greatly as othello did believing the infidelity of desdemona aware of his plight and learning from it he struggles against his suffering and its causes for aristotle tragedy is true because of its unity of plot the plot of tragedy must proceed according to the laws of probability the events of the plot must be related as cause to effect this is true of othello tragedy is therefore “truer” than history wherein things frequently happen by chance the truth of tragedy is that it imitates the true form of things rather than their accidental appearance for aristotle the true nature of things is the necessary or probable consequences of a given combination of people and circumstances one of the most difficult concepts introduced in aristotle poetics is “catharsis” catharsis is most often defined as the “purging” of the emotions of pity and fear that occurs when we watch a tragedy like othello what is actually involved in this purging is not clear but what is experienced in such an excess of tragic suffering is something common the spectator recognizes himselfherself and hisher finiteness in the face of the power of fate what happens for example to the character othello has exemplary significance to see that “this is how it is” is a kind of selfknowledge for the spectator who emerges with new insight from the illusions in which heshe like everyone else lives “othello” has perhaps the simplest plot of any of shakespeare’s plays there are no real subplots only very brief comic interludes and what happens from act to act takes place in a period of some thirty six hours in othello events happen in a shorter space of time than is usual with shakespeare the classical greek writer aristotle recommended that the plays should have what he called “unity of time place and action he argued that the action of a play should not take longer than twenty four hours excluding the first act which serves as a prologue othello comes closer than most shakesperean plays the effect on the audience is to make the tragedy more intense this brings the reader to an explanation of the term “hamartia” the greek word that describes what many people refer to as the “tragic flaw” of the hero of greek tragedy is ‘hamartia’ hamartia has a complex meaning which includes “sin” “error” and “missing the mark” the “mistake” of the hero plays a significant role in the plot o the tragedy the logic of the hero’s fall into misfortune is determined by the nature of hisher particular kind of hamartia in othello hamartia is evident in the unreasonable jealousy of the character othello othello’s belief in desdemona’s “adultery” is literally illogical since there is no occasion when it could have transpired desdemona and cassio traveled to cyprus on different ships from that moment on there is no time when the two were together this fact does not only make othello’s jealousy hard for the viewer to believe in it shows it to be more insane the villain iago makes him believe what is clearly impossible yet othello maddened by his jealousy cannot see it sometimes the viewer would think that he is stupid to be swayed by the evil of iago but iago is a villain and truly acts the part the reversal of the situation in the plot of a tragedy is the ‘peripeteia’ according to aristotle the change of fortune for the hero should be an event that occurs contrary to the audience’s expectations and that is therefore surprising but that nevertheless seems a necessary outcome of the preceding actions in the last three acts the plot moves almost with no interruption towards its tragic conclusion at the start of act othello is happily in love with desdemona yet his happiness is about to be ruined seeing cassio with desdemona iago hints at an adulterous relationship between them although he knows he has no hard evidence when othello demands that iago prove desdemona’s guilt iago speaks to bianca cassio’s mistress in such a way that othello thinks he is speaking about desdemona othello then asks iago to kill cassio while othello is to kill desdemona fully convinced of desdemona’s unfaithfulness othello verbally abuses his wife in front of others who are shocked at the changes in the noble and powerful personage at this point it is important to describe the nature of desdemona’s love for othello from beginning to end she was faithful and true to her husband reviving after othello’s attempt to finally kill her she declares herself guiltless but saying as she dies that othello is innocent of her death her relationships with cassio and emilia were that of friendship alone and it was emilia herself who defended desdemona’s innocence finding out that her evil husband iago was behind the tragedy anagnorisis according to aristotle is the recognition by the tragic hero of some truth about hisher identity or actions that accompany the reversal of the situation in the plot the peripateia when othello sees the truth in emilia’s statement he tries to kill iago but iago kills emilia and flees othello condemns himself and commits suicide after othello kills desdemona emilia discovering what he has done tells him he is wrong in his suspicions of desdemona emilia and the wounded cassio are able to persuade othello of the truth before they are killed despite his flaws and faulty decisions mostly due to the machinations of iago othello is almost fanatically loyal to the state he serves when he is sure he has been betrayed he makes a moving speech bidding farewell to his “occupation” in his final speech othello speaks of is great loyalty to the venetian state which he has disgraced by murdering his wife and of his terrible mistake before stabbing himself as iago is taken away to be tortured what a waste of lives that of our hero othello and those of the two virtuous women – desdemona and emilia despite the color of his skin othello was a very good soldier to make it to the top as a commander he had great beauty of speech which had an inspiring effect on his men and nobility of character this point is made clear by desdemona “i saw othello’s visage in his mind” they could have “lived happily ever after” and emilia – we can say that being such a moral person she did not deserve the devil iago as her husband “the practical and formal concerns that occupy aristotle in the poetics need to be understood in relation to a larger concern with the psychological and social purpose of literature criticism according to aristotle should not be the application of unexamined aesthetic principles but should pay careful attention to the overall function of any feature of a work of art in its context within the work and should never lose sight of the functions of the work of art in its social context” forster it is hoped that this analysis of othello might help the reader to review and clarify his understanding of the terms concepts categories and interrelationships that aristotle introduces sources bryant jr the tragedy of romeo and juliet forster em aspects of the novel new york harcourt bracejovanovich gadamer h truth and method new york weinsheimer and marshall kaplan jd ed the pocket aristotle simon and schuster studying othello the moor of venice web wright lb lamar va readers’ shakespeare simon schuster grolier’s encyclopedia vol xv grolier incorporated'"
      ]
     },
     "execution_count": 12,
     "metadata": {},
     "output_type": "execute_result"
    }
   ],
   "source": [
    "# Testing text cleaning function\n",
    "\n",
    "text_cleaning(df[\"text\"].iloc[4])"
   ]
  },
  {
   "cell_type": "code",
   "execution_count": 13,
   "metadata": {},
   "outputs": [
    {
     "data": {
      "text/html": [
       "<div>\n",
       "<style scoped>\n",
       "    .dataframe tbody tr th:only-of-type {\n",
       "        vertical-align: middle;\n",
       "    }\n",
       "\n",
       "    .dataframe tbody tr th {\n",
       "        vertical-align: top;\n",
       "    }\n",
       "\n",
       "    .dataframe thead th {\n",
       "        text-align: right;\n",
       "    }\n",
       "</style>\n",
       "<table border=\"1\" class=\"dataframe\">\n",
       "  <thead>\n",
       "    <tr style=\"text-align: right;\">\n",
       "      <th></th>\n",
       "      <th>text</th>\n",
       "      <th>source</th>\n",
       "      <th>text_length</th>\n",
       "      <th>word_count</th>\n",
       "    </tr>\n",
       "  </thead>\n",
       "  <tbody>\n",
       "    <tr>\n",
       "      <th>0</th>\n",
       "      <td>In 1466, perhaps 40,000 people died of the pla...</td>\n",
       "      <td>AI</td>\n",
       "      <td>336</td>\n",
       "      <td>63</td>\n",
       "    </tr>\n",
       "    <tr>\n",
       "      <th>1</th>\n",
       "      <td>Amazon's yet-unnamed Lord of the Rings origina...</td>\n",
       "      <td>AI</td>\n",
       "      <td>2251</td>\n",
       "      <td>393</td>\n",
       "    </tr>\n",
       "    <tr>\n",
       "      <th>2</th>\n",
       "      <td>@Holt  \\n***Hi. I've just rewritten the essay....</td>\n",
       "      <td>Human</td>\n",
       "      <td>1994</td>\n",
       "      <td>337</td>\n",
       "    </tr>\n",
       "    <tr>\n",
       "      <th>3</th>\n",
       "      <td>Pleasantly surprised! Had a few options for ve...</td>\n",
       "      <td>AI</td>\n",
       "      <td>4182</td>\n",
       "      <td>797</td>\n",
       "    </tr>\n",
       "    <tr>\n",
       "      <th>4</th>\n",
       "      <td>Shakespeare’s Othello: A Tragic Hero Research ...</td>\n",
       "      <td>Human</td>\n",
       "      <td>12845</td>\n",
       "      <td>2143</td>\n",
       "    </tr>\n",
       "  </tbody>\n",
       "</table>\n",
       "</div>"
      ],
      "text/plain": [
       "                                                text source  text_length  \\\n",
       "0  In 1466, perhaps 40,000 people died of the pla...     AI          336   \n",
       "1  Amazon's yet-unnamed Lord of the Rings origina...     AI         2251   \n",
       "2  @Holt  \\n***Hi. I've just rewritten the essay....  Human         1994   \n",
       "3  Pleasantly surprised! Had a few options for ve...     AI         4182   \n",
       "4  Shakespeare’s Othello: A Tragic Hero Research ...  Human        12845   \n",
       "\n",
       "   word_count  \n",
       "0          63  \n",
       "1         393  \n",
       "2         337  \n",
       "3         797  \n",
       "4        2143  "
      ]
     },
     "execution_count": 13,
     "metadata": {},
     "output_type": "execute_result"
    }
   ],
   "source": [
    "df_clean = df.drop(columns=[\"contains_numbers\", \"contains_special_chars\"])\n",
    "df_clean.head()"
   ]
  },
  {
   "cell_type": "code",
   "execution_count": 14,
   "metadata": {},
   "outputs": [],
   "source": [
    "df_clean[\"clean_text\"] = df_clean[\"text\"].apply(text_cleaning)\n",
    "\n",
    "# Add new columns to label, calculate char and words in the cleaned_text\n",
    "df_clean[\"label\"] = df_clean[\"source\"].apply(lambda x: 1 if x == \"AI\" else 0) #AI=1, Human=0"
   ]
  },
  {
   "cell_type": "code",
   "execution_count": 15,
   "metadata": {},
   "outputs": [
    {
     "data": {
      "text/html": [
       "<div>\n",
       "<style scoped>\n",
       "    .dataframe tbody tr th:only-of-type {\n",
       "        vertical-align: middle;\n",
       "    }\n",
       "\n",
       "    .dataframe tbody tr th {\n",
       "        vertical-align: top;\n",
       "    }\n",
       "\n",
       "    .dataframe thead th {\n",
       "        text-align: right;\n",
       "    }\n",
       "</style>\n",
       "<table border=\"1\" class=\"dataframe\">\n",
       "  <thead>\n",
       "    <tr style=\"text-align: right;\">\n",
       "      <th></th>\n",
       "      <th>clean_text</th>\n",
       "      <th>label</th>\n",
       "    </tr>\n",
       "  </thead>\n",
       "  <tbody>\n",
       "    <tr>\n",
       "      <th>0</th>\n",
       "      <td>in perhaps people died of the plague in paris ...</td>\n",
       "      <td>1</td>\n",
       "    </tr>\n",
       "    <tr>\n",
       "      <th>1</th>\n",
       "      <td>amazons yetunnamed lord of the rings original ...</td>\n",
       "      <td>1</td>\n",
       "    </tr>\n",
       "  </tbody>\n",
       "</table>\n",
       "</div>"
      ],
      "text/plain": [
       "                                          clean_text  label\n",
       "0  in perhaps people died of the plague in paris ...      1\n",
       "1  amazons yetunnamed lord of the rings original ...      1"
      ]
     },
     "execution_count": 15,
     "metadata": {},
     "output_type": "execute_result"
    }
   ],
   "source": [
    "df_clean = df_clean[[\"clean_text\", \"label\"]]\n",
    "df_clean.head(2)"
   ]
  },
  {
   "cell_type": "markdown",
   "metadata": {},
   "source": [
    "# Preprocessing"
   ]
  },
  {
   "cell_type": "code",
   "execution_count": 16,
   "metadata": {},
   "outputs": [
    {
     "data": {
      "text/plain": [
       "(10000, 10000)"
      ]
     },
     "execution_count": 16,
     "metadata": {},
     "output_type": "execute_result"
    }
   ],
   "source": [
    "# Text vectorization using TF-IDF\n",
    "\n",
    "X_text = df_clean[\"clean_text\"]\n",
    "\n",
    "vectorizer = TfidfVectorizer(max_features=10000, stop_words='english')\n",
    "\n",
    "X_vec = vectorizer.fit_transform(X_text)\n",
    "\n",
    "X_vec.shape"
   ]
  },
  {
   "cell_type": "markdown",
   "metadata": {},
   "source": [
    "# Model Training & Evaluation"
   ]
  },
  {
   "cell_type": "code",
   "execution_count": 17,
   "metadata": {},
   "outputs": [],
   "source": [
    "# Exclude warnings from printing out\n",
    "\n",
    "import warnings\n",
    "from sklearn.exceptions import ConvergenceWarning\n",
    "\n",
    "warnings.filterwarnings(\"ignore\", category=ConvergenceWarning)"
   ]
  },
  {
   "cell_type": "code",
   "execution_count": 18,
   "metadata": {},
   "outputs": [
    {
     "name": "stdout",
     "output_type": "stream",
     "text": [
      "Training set shape: (7200, 10000) (7200,)\n",
      "Validation set shape: (800, 10000) (800,)\n",
      "Test set shape: (2000, 10000) (2000,)\n"
     ]
    }
   ],
   "source": [
    "# Train, test, split\n",
    "X = X_vec\n",
    "y = df_clean[\"label\"]\n",
    "\n",
    "X_train, X_test, y_train, y_test = train_test_split(X, y, test_size=0.2, random_state=42)\n",
    "\n",
    "# Split for validation data\n",
    "\n",
    "X_train, X_val, y_train, y_val = train_test_split(X_train, y_train, test_size=0.1, random_state=42)\n",
    "\n",
    "print(\"Training set shape:\", X_train.shape, y_train.shape)\n",
    "print(\"Validation set shape:\", X_val.shape, y_val.shape)\n",
    "print(\"Test set shape:\", X_test.shape, y_test.shape)"
   ]
  },
  {
   "cell_type": "code",
   "execution_count": 19,
   "metadata": {},
   "outputs": [],
   "source": [
    "# Evaluate model\n",
    "\n",
    "def evaluate_model(model_name, y_true, y_pred, y_prob):\n",
    "    loss = log_loss(y_true, y_prob)\n",
    "    acc = accuracy_score(y_true, y_pred)\n",
    "    prec = precision_score(y_true, y_pred)\n",
    "    rec = recall_score(y_true, y_pred)\n",
    "    auc = roc_auc_score(y_true, y_prob)\n",
    "\n",
    "    print(f\"{model_name}\")\n",
    "    print(f\"Loss: {loss:.4f}\")\n",
    "    print(f\"Accuracy: {acc:.4f}\")\n",
    "    print(f\"Precision: {prec:.4f}\")\n",
    "    print(f\"Recall: {rec:.4f}\")\n",
    "    print(f\"ROC-AUC: {auc:.4f}\")"
   ]
  },
  {
   "cell_type": "code",
   "execution_count": 20,
   "metadata": {},
   "outputs": [],
   "source": [
    "# Confusion Matrix\n",
    "\n",
    "def conf_matrix(model_name, y_true, y_pred):\n",
    "    cm = confusion_matrix(y_true, y_pred)\n",
    "    plt.figure(figsize=(5,4))\n",
    "    sns.heatmap(cm, annot=True, fmt='d', cmap='Blues', xticklabels=['Human (0)', 'AI (1)'], yticklabels=['Human (0)', 'AI (1)'])\n",
    "    plt.xlabel(\"Predicted\")\n",
    "    plt.ylabel(\"Actual\")\n",
    "    plt.title(f\"{model_name} - Confusion Matrix\");"
   ]
  },
  {
   "cell_type": "markdown",
   "metadata": {},
   "source": [
    "### GRADIENT BOOSTING"
   ]
  },
  {
   "cell_type": "code",
   "execution_count": 21,
   "metadata": {},
   "outputs": [
    {
     "name": "stdout",
     "output_type": "stream",
     "text": [
      "Epoch 1/200 - Train Acc: 0.5583, Val Acc: 0.5513\n",
      "Epoch 2/200 - Train Acc: 0.5685, Val Acc: 0.5575\n",
      "Epoch 3/200 - Train Acc: 0.8224, Val Acc: 0.8263\n",
      "Epoch 4/200 - Train Acc: 0.8292, Val Acc: 0.8250\n",
      "Epoch 5/200 - Train Acc: 0.8283, Val Acc: 0.8275\n",
      "Epoch 6/200 - Train Acc: 0.8311, Val Acc: 0.8287\n",
      "Epoch 7/200 - Train Acc: 0.8297, Val Acc: 0.8313\n",
      "Epoch 8/200 - Train Acc: 0.8322, Val Acc: 0.8313\n",
      "Epoch 9/200 - Train Acc: 0.8379, Val Acc: 0.8350\n",
      "Epoch 10/200 - Train Acc: 0.8394, Val Acc: 0.8375\n",
      "Epoch 11/200 - Train Acc: 0.8411, Val Acc: 0.8462\n",
      "Epoch 12/200 - Train Acc: 0.8419, Val Acc: 0.8400\n",
      "Epoch 13/200 - Train Acc: 0.8489, Val Acc: 0.8588\n",
      "Epoch 14/200 - Train Acc: 0.8431, Val Acc: 0.8488\n",
      "Epoch 15/200 - Train Acc: 0.8510, Val Acc: 0.8662\n",
      "Epoch 16/200 - Train Acc: 0.8515, Val Acc: 0.8662\n",
      "Epoch 17/200 - Train Acc: 0.8531, Val Acc: 0.8638\n",
      "Epoch 18/200 - Train Acc: 0.8556, Val Acc: 0.8662\n",
      "Epoch 19/200 - Train Acc: 0.8576, Val Acc: 0.8638\n",
      "Epoch 20/200 - Train Acc: 0.8588, Val Acc: 0.8675\n",
      "Epoch 21/200 - Train Acc: 0.8604, Val Acc: 0.8700\n",
      "Epoch 22/200 - Train Acc: 0.8619, Val Acc: 0.8738\n",
      "Epoch 23/200 - Train Acc: 0.8619, Val Acc: 0.8725\n",
      "Epoch 24/200 - Train Acc: 0.8619, Val Acc: 0.8725\n",
      "Epoch 25/200 - Train Acc: 0.8638, Val Acc: 0.8700\n",
      "Epoch 26/200 - Train Acc: 0.8647, Val Acc: 0.8725\n",
      "Epoch 27/200 - Train Acc: 0.8668, Val Acc: 0.8750\n",
      "Epoch 28/200 - Train Acc: 0.8682, Val Acc: 0.8775\n",
      "Epoch 29/200 - Train Acc: 0.8689, Val Acc: 0.8750\n",
      "Epoch 30/200 - Train Acc: 0.8710, Val Acc: 0.8775\n",
      "Epoch 31/200 - Train Acc: 0.8725, Val Acc: 0.8825\n",
      "Epoch 32/200 - Train Acc: 0.8738, Val Acc: 0.8812\n",
      "Epoch 33/200 - Train Acc: 0.8754, Val Acc: 0.8788\n",
      "Epoch 34/200 - Train Acc: 0.8771, Val Acc: 0.8838\n",
      "Epoch 35/200 - Train Acc: 0.8789, Val Acc: 0.8862\n",
      "Epoch 36/200 - Train Acc: 0.8808, Val Acc: 0.8862\n",
      "Epoch 37/200 - Train Acc: 0.8826, Val Acc: 0.8850\n",
      "Epoch 38/200 - Train Acc: 0.8833, Val Acc: 0.8850\n",
      "Epoch 39/200 - Train Acc: 0.8842, Val Acc: 0.8875\n",
      "Epoch 40/200 - Train Acc: 0.8854, Val Acc: 0.8862\n",
      "Epoch 41/200 - Train Acc: 0.8846, Val Acc: 0.8825\n",
      "Epoch 42/200 - Train Acc: 0.8858, Val Acc: 0.8838\n",
      "Epoch 43/200 - Train Acc: 0.8864, Val Acc: 0.8850\n",
      "Epoch 44/200 - Train Acc: 0.8882, Val Acc: 0.8862\n",
      "Epoch 45/200 - Train Acc: 0.8900, Val Acc: 0.8875\n",
      "Epoch 46/200 - Train Acc: 0.8910, Val Acc: 0.8875\n",
      "Epoch 47/200 - Train Acc: 0.8914, Val Acc: 0.8888\n",
      "Epoch 48/200 - Train Acc: 0.8929, Val Acc: 0.8888\n",
      "Epoch 49/200 - Train Acc: 0.8940, Val Acc: 0.8862\n",
      "Epoch 50/200 - Train Acc: 0.8939, Val Acc: 0.8912\n",
      "Epoch 51/200 - Train Acc: 0.8939, Val Acc: 0.8925\n",
      "Epoch 52/200 - Train Acc: 0.8936, Val Acc: 0.8900\n",
      "Epoch 53/200 - Train Acc: 0.8950, Val Acc: 0.8912\n",
      "Epoch 54/200 - Train Acc: 0.8960, Val Acc: 0.8912\n",
      "Epoch 55/200 - Train Acc: 0.8978, Val Acc: 0.8900\n",
      "Epoch 56/200 - Train Acc: 0.8992, Val Acc: 0.8912\n",
      "Epoch 57/200 - Train Acc: 0.8997, Val Acc: 0.8900\n",
      "Epoch 58/200 - Train Acc: 0.9008, Val Acc: 0.8950\n",
      "Epoch 59/200 - Train Acc: 0.9024, Val Acc: 0.8962\n",
      "Epoch 60/200 - Train Acc: 0.9028, Val Acc: 0.8962\n",
      "Epoch 61/200 - Train Acc: 0.9033, Val Acc: 0.8975\n",
      "Epoch 62/200 - Train Acc: 0.9043, Val Acc: 0.8950\n",
      "Epoch 63/200 - Train Acc: 0.9050, Val Acc: 0.8950\n",
      "Epoch 64/200 - Train Acc: 0.9056, Val Acc: 0.8938\n",
      "Epoch 65/200 - Train Acc: 0.9054, Val Acc: 0.8938\n",
      "Epoch 66/200 - Train Acc: 0.9065, Val Acc: 0.8962\n",
      "Epoch 67/200 - Train Acc: 0.9069, Val Acc: 0.8962\n",
      "Epoch 68/200 - Train Acc: 0.9068, Val Acc: 0.8975\n",
      "Epoch 69/200 - Train Acc: 0.9076, Val Acc: 0.9000\n",
      "Epoch 70/200 - Train Acc: 0.9087, Val Acc: 0.8988\n",
      "Epoch 71/200 - Train Acc: 0.9085, Val Acc: 0.8988\n",
      "Epoch 72/200 - Train Acc: 0.9087, Val Acc: 0.9000\n",
      "Epoch 73/200 - Train Acc: 0.9090, Val Acc: 0.9000\n",
      "Epoch 74/200 - Train Acc: 0.9096, Val Acc: 0.9000\n",
      "Epoch 75/200 - Train Acc: 0.9099, Val Acc: 0.9000\n",
      "Epoch 76/200 - Train Acc: 0.9103, Val Acc: 0.9012\n",
      "Epoch 77/200 - Train Acc: 0.9100, Val Acc: 0.9038\n",
      "Epoch 78/200 - Train Acc: 0.9101, Val Acc: 0.9025\n",
      "Epoch 79/200 - Train Acc: 0.9106, Val Acc: 0.9012\n",
      "Epoch 80/200 - Train Acc: 0.9110, Val Acc: 0.9012\n",
      "Epoch 81/200 - Train Acc: 0.9111, Val Acc: 0.9000\n",
      "Epoch 82/200 - Train Acc: 0.9114, Val Acc: 0.9000\n",
      "Epoch 83/200 - Train Acc: 0.9115, Val Acc: 0.9000\n",
      "Epoch 84/200 - Train Acc: 0.9121, Val Acc: 0.9000\n",
      "Epoch 85/200 - Train Acc: 0.9126, Val Acc: 0.9000\n",
      "Epoch 86/200 - Train Acc: 0.9133, Val Acc: 0.9012\n",
      "Epoch 87/200 - Train Acc: 0.9133, Val Acc: 0.9012\n",
      "Epoch 88/200 - Train Acc: 0.9137, Val Acc: 0.9025\n",
      "Epoch 89/200 - Train Acc: 0.9146, Val Acc: 0.9038\n",
      "Epoch 90/200 - Train Acc: 0.9147, Val Acc: 0.9038\n",
      "Epoch 91/200 - Train Acc: 0.9153, Val Acc: 0.9025\n",
      "Epoch 92/200 - Train Acc: 0.9156, Val Acc: 0.9025\n",
      "Epoch 93/200 - Train Acc: 0.9154, Val Acc: 0.9012\n",
      "Epoch 94/200 - Train Acc: 0.9158, Val Acc: 0.9038\n",
      "Epoch 95/200 - Train Acc: 0.9164, Val Acc: 0.9038\n",
      "Epoch 96/200 - Train Acc: 0.9161, Val Acc: 0.9050\n",
      "Epoch 97/200 - Train Acc: 0.9163, Val Acc: 0.9050\n",
      "Epoch 98/200 - Train Acc: 0.9169, Val Acc: 0.9062\n",
      "Epoch 99/200 - Train Acc: 0.9171, Val Acc: 0.9062\n",
      "Epoch 100/200 - Train Acc: 0.9171, Val Acc: 0.9062\n",
      "Epoch 101/200 - Train Acc: 0.9175, Val Acc: 0.9050\n",
      "Epoch 102/200 - Train Acc: 0.9172, Val Acc: 0.9050\n",
      "Epoch 103/200 - Train Acc: 0.9175, Val Acc: 0.9050\n",
      "Epoch 104/200 - Train Acc: 0.9178, Val Acc: 0.9038\n",
      "Epoch 105/200 - Train Acc: 0.9185, Val Acc: 0.9038\n",
      "Epoch 106/200 - Train Acc: 0.9192, Val Acc: 0.9038\n",
      "Epoch 107/200 - Train Acc: 0.9193, Val Acc: 0.9038\n",
      "Epoch 108/200 - Train Acc: 0.9197, Val Acc: 0.9050\n",
      "Epoch 109/200 - Train Acc: 0.9203, Val Acc: 0.9062\n",
      "Epoch 110/200 - Train Acc: 0.9210, Val Acc: 0.9062\n",
      "Epoch 111/200 - Train Acc: 0.9217, Val Acc: 0.9062\n",
      "Epoch 112/200 - Train Acc: 0.9218, Val Acc: 0.9075\n",
      "Epoch 113/200 - Train Acc: 0.9221, Val Acc: 0.9087\n",
      "Epoch 114/200 - Train Acc: 0.9222, Val Acc: 0.9087\n",
      "Epoch 115/200 - Train Acc: 0.9226, Val Acc: 0.9087\n",
      "Epoch 116/200 - Train Acc: 0.9228, Val Acc: 0.9087\n",
      "Epoch 117/200 - Train Acc: 0.9229, Val Acc: 0.9087\n",
      "Epoch 118/200 - Train Acc: 0.9233, Val Acc: 0.9087\n",
      "Epoch 119/200 - Train Acc: 0.9235, Val Acc: 0.9087\n",
      "Epoch 120/200 - Train Acc: 0.9232, Val Acc: 0.9075\n",
      "Epoch 121/200 - Train Acc: 0.9231, Val Acc: 0.9062\n",
      "Epoch 122/200 - Train Acc: 0.9229, Val Acc: 0.9062\n",
      "Epoch 123/200 - Train Acc: 0.9229, Val Acc: 0.9075\n",
      "Epoch 124/200 - Train Acc: 0.9232, Val Acc: 0.9062\n",
      "Epoch 125/200 - Train Acc: 0.9235, Val Acc: 0.9062\n",
      "Epoch 126/200 - Train Acc: 0.9236, Val Acc: 0.9050\n",
      "Epoch 127/200 - Train Acc: 0.9239, Val Acc: 0.9050\n",
      "Epoch 128/200 - Train Acc: 0.9243, Val Acc: 0.9062\n",
      "Epoch 129/200 - Train Acc: 0.9244, Val Acc: 0.9062\n",
      "Epoch 130/200 - Train Acc: 0.9249, Val Acc: 0.9050\n",
      "Epoch 131/200 - Train Acc: 0.9253, Val Acc: 0.9062\n",
      "Epoch 132/200 - Train Acc: 0.9257, Val Acc: 0.9062\n",
      "Epoch 133/200 - Train Acc: 0.9261, Val Acc: 0.9062\n",
      "Epoch 134/200 - Train Acc: 0.9261, Val Acc: 0.9050\n",
      "Epoch 135/200 - Train Acc: 0.9264, Val Acc: 0.9062\n",
      "Epoch 136/200 - Train Acc: 0.9271, Val Acc: 0.9075\n",
      "Epoch 137/200 - Train Acc: 0.9272, Val Acc: 0.9075\n",
      "Epoch 138/200 - Train Acc: 0.9275, Val Acc: 0.9087\n",
      "Epoch 139/200 - Train Acc: 0.9276, Val Acc: 0.9087\n",
      "Epoch 140/200 - Train Acc: 0.9278, Val Acc: 0.9100\n",
      "Epoch 141/200 - Train Acc: 0.9279, Val Acc: 0.9100\n",
      "Epoch 142/200 - Train Acc: 0.9286, Val Acc: 0.9100\n",
      "Epoch 143/200 - Train Acc: 0.9286, Val Acc: 0.9100\n",
      "Epoch 144/200 - Train Acc: 0.9285, Val Acc: 0.9100\n",
      "Epoch 145/200 - Train Acc: 0.9290, Val Acc: 0.9100\n",
      "Epoch 146/200 - Train Acc: 0.9293, Val Acc: 0.9100\n",
      "Epoch 147/200 - Train Acc: 0.9296, Val Acc: 0.9100\n",
      "Epoch 148/200 - Train Acc: 0.9293, Val Acc: 0.9100\n",
      "Epoch 149/200 - Train Acc: 0.9292, Val Acc: 0.9100\n",
      "Epoch 150/200 - Train Acc: 0.9293, Val Acc: 0.9100\n",
      "Epoch 151/200 - Train Acc: 0.9293, Val Acc: 0.9087\n",
      "Epoch 152/200 - Train Acc: 0.9296, Val Acc: 0.9087\n",
      "Epoch 153/200 - Train Acc: 0.9301, Val Acc: 0.9100\n",
      "Epoch 154/200 - Train Acc: 0.9303, Val Acc: 0.9100\n",
      "Epoch 155/200 - Train Acc: 0.9303, Val Acc: 0.9113\n",
      "Epoch 156/200 - Train Acc: 0.9303, Val Acc: 0.9125\n",
      "Epoch 157/200 - Train Acc: 0.9303, Val Acc: 0.9125\n",
      "Epoch 158/200 - Train Acc: 0.9303, Val Acc: 0.9125\n",
      "Epoch 159/200 - Train Acc: 0.9303, Val Acc: 0.9137\n",
      "Epoch 160/200 - Train Acc: 0.9306, Val Acc: 0.9150\n",
      "Epoch 161/200 - Train Acc: 0.9310, Val Acc: 0.9150\n",
      "Epoch 162/200 - Train Acc: 0.9319, Val Acc: 0.9150\n",
      "Epoch 163/200 - Train Acc: 0.9322, Val Acc: 0.9137\n",
      "Epoch 164/200 - Train Acc: 0.9322, Val Acc: 0.9137\n",
      "Epoch 165/200 - Train Acc: 0.9325, Val Acc: 0.9137\n",
      "Epoch 166/200 - Train Acc: 0.9331, Val Acc: 0.9137\n",
      "Epoch 167/200 - Train Acc: 0.9336, Val Acc: 0.9137\n",
      "Epoch 168/200 - Train Acc: 0.9337, Val Acc: 0.9137\n",
      "Epoch 169/200 - Train Acc: 0.9336, Val Acc: 0.9137\n",
      "Epoch 170/200 - Train Acc: 0.9337, Val Acc: 0.9137\n",
      "Epoch 171/200 - Train Acc: 0.9339, Val Acc: 0.9137\n",
      "Epoch 172/200 - Train Acc: 0.9337, Val Acc: 0.9137\n",
      "Epoch 173/200 - Train Acc: 0.9336, Val Acc: 0.9137\n",
      "Epoch 174/200 - Train Acc: 0.9347, Val Acc: 0.9137\n",
      "Epoch 175/200 - Train Acc: 0.9349, Val Acc: 0.9137\n",
      "Epoch 176/200 - Train Acc: 0.9347, Val Acc: 0.9137\n",
      "Epoch 177/200 - Train Acc: 0.9350, Val Acc: 0.9137\n",
      "Epoch 178/200 - Train Acc: 0.9353, Val Acc: 0.9137\n",
      "Epoch 179/200 - Train Acc: 0.9358, Val Acc: 0.9150\n",
      "Epoch 180/200 - Train Acc: 0.9354, Val Acc: 0.9137\n",
      "Epoch 181/200 - Train Acc: 0.9356, Val Acc: 0.9137\n",
      "Epoch 182/200 - Train Acc: 0.9357, Val Acc: 0.9137\n",
      "Epoch 183/200 - Train Acc: 0.9358, Val Acc: 0.9163\n",
      "Epoch 184/200 - Train Acc: 0.9360, Val Acc: 0.9163\n",
      "Epoch 185/200 - Train Acc: 0.9367, Val Acc: 0.9150\n",
      "Epoch 186/200 - Train Acc: 0.9368, Val Acc: 0.9150\n",
      "Epoch 187/200 - Train Acc: 0.9367, Val Acc: 0.9150\n",
      "Epoch 188/200 - Train Acc: 0.9367, Val Acc: 0.9137\n",
      "Epoch 189/200 - Train Acc: 0.9367, Val Acc: 0.9150\n",
      "Epoch 190/200 - Train Acc: 0.9368, Val Acc: 0.9150\n",
      "Epoch 191/200 - Train Acc: 0.9372, Val Acc: 0.9150\n",
      "Epoch 192/200 - Train Acc: 0.9375, Val Acc: 0.9150\n",
      "Epoch 193/200 - Train Acc: 0.9376, Val Acc: 0.9150\n",
      "Epoch 194/200 - Train Acc: 0.9378, Val Acc: 0.9150\n",
      "Epoch 195/200 - Train Acc: 0.9378, Val Acc: 0.9137\n",
      "Epoch 196/200 - Train Acc: 0.9382, Val Acc: 0.9137\n",
      "Epoch 197/200 - Train Acc: 0.9383, Val Acc: 0.9137\n",
      "Epoch 198/200 - Train Acc: 0.9387, Val Acc: 0.9150\n",
      "Epoch 199/200 - Train Acc: 0.9387, Val Acc: 0.9150\n",
      "Epoch 200/200 - Train Acc: 0.9390, Val Acc: 0.9150\n",
      "\n",
      "Best Validation Accuracy: 0.9163 at epoch 183\n"
     ]
    }
   ],
   "source": [
    "epochs = 200\n",
    "\n",
    "grad_boost = GradientBoostingClassifier(\n",
    "    max_depth=3,\n",
    "    n_estimators=epochs,\n",
    "    learning_rate=0.1)\n",
    "\n",
    "grad_boost.fit(X_train, y_train)\n",
    "\n",
    "train_acc_history = []\n",
    "val_acc_history = []\n",
    "\n",
    "best_val_acc = 0.0\n",
    "best_epoch = 0\n",
    "\n",
    "train_stages = grad_boost.staged_predict(X_train)\n",
    "val_stages = grad_boost.staged_predict(X_val)\n",
    "\n",
    "for epoch, (train_pred, val_pred) in enumerate(zip(train_stages, val_stages), start=1):\n",
    "    # Calculate accuracies\n",
    "    train_acc = accuracy_score(y_train, train_pred)\n",
    "    val_acc = accuracy_score(y_val, val_pred)\n",
    "\n",
    "    train_acc_history.append(train_acc)\n",
    "    val_acc_history.append(val_acc)\n",
    "\n",
    "    # Track the best validation accuracy\n",
    "    if val_acc > best_val_acc:\n",
    "        best_val_acc = val_acc\n",
    "        best_epoch = epoch\n",
    "\n",
    "    print(f\"Epoch {epoch}/{epochs} - Train Acc: {train_acc:.4f}, Val Acc: {val_acc:.4f}\")\n",
    "\n",
    "print(f\"\\nBest Validation Accuracy: {best_val_acc:.4f} at epoch {best_epoch}\")"
   ]
  },
  {
   "cell_type": "code",
   "execution_count": 22,
   "metadata": {},
   "outputs": [
    {
     "data": {
      "image/png": "[encoded data removed]",
      "text/plain": [
       "<Figure size 500x400 with 1 Axes>"
      ]
     },
     "metadata": {},
     "output_type": "display_data"
    }
   ],
   "source": [
    "plt.figure(figsize=(5, 4))\n",
    "plt.plot(range(1, epochs+1), train_acc_history, label=\"Training Accuracy\")\n",
    "plt.plot(range(1, epochs+1), val_acc_history, label=\"Validation Accuracy\")\n",
    "plt.xlabel(\"Epoch\")\n",
    "plt.ylabel(\"Accuracy\")\n",
    "plt.title(\"Learning Curve per Epoch - Gradient Boosting\")\n",
    "plt.legend()\n",
    "plt.grid(True);"
   ]
  },
  {
   "cell_type": "code",
   "execution_count": 23,
   "metadata": {},
   "outputs": [
    {
     "name": "stdout",
     "output_type": "stream",
     "text": [
      "\n",
      "Validation Set Evaluation - Gradient Boosting\n",
      "Loss: 0.2440\n",
      "Accuracy: 0.9150\n",
      "Precision: 0.8740\n",
      "Recall: 0.9471\n",
      "ROC-AUC: 0.9659\n"
     ]
    }
   ],
   "source": [
    "# Gradient Boosting evaluation\n",
    "\n",
    "grad_y_val_pred = grad_boost.predict(X_val)\n",
    "grad_y_val_prob = grad_boost.predict_proba(X_val)[:, 1]\n",
    "\n",
    "grad_loss = log_loss(y_val, grad_y_val_prob)\n",
    "grad_acc = accuracy_score(y_val, grad_y_val_pred)\n",
    "grad_prec = precision_score(y_val, grad_y_val_pred)\n",
    "grad_rec = recall_score(y_val, grad_y_val_pred)\n",
    "grad_auc = roc_auc_score(y_val, grad_y_val_prob)\n",
    "\n",
    "print(\"\\nValidation Set Evaluation - Gradient Boosting\")\n",
    "print(f\"Loss: {grad_loss:.4f}\")\n",
    "print(f\"Accuracy: {grad_acc:.4f}\")\n",
    "print(f\"Precision: {grad_prec:.4f}\")\n",
    "print(f\"Recall: {grad_rec:.4f}\")\n",
    "print(f\"ROC-AUC: {grad_auc:.4f}\")"
   ]
  },
  {
   "cell_type": "code",
   "execution_count": 24,
   "metadata": {},
   "outputs": [],
   "source": [
    "# Saving score result to Halim_model_results.ipynb\n",
    "\n",
    "save_result = [{\n",
    "    \"Model\": \"Gradient Boost (Viviek's cleaning) No Feature\",\n",
    "    \"Loss\": f\"{grad_loss:.4f}\",\n",
    "    \"Accuracy\": f\"{grad_acc:.4f}\"\n",
    "    }]\n",
    "\n",
    "df_result = pd.DataFrame(save_result)\n",
    "csv_file = \"10k_model_results.csv\"\n",
    "df_result.to_csv(csv_file, mode=\"a\", index=False, header=not os.path.exists(csv_file))"
   ]
  },
  {
   "cell_type": "code",
   "execution_count": 25,
   "metadata": {},
   "outputs": [
    {
     "data": {
      "image/png": "[encoded data removed]",
      "text/plain": [
       "<Figure size 500x400 with 2 Axes>"
      ]
     },
     "metadata": {},
     "output_type": "display_data"
    }
   ],
   "source": [
    "conf_matrix(\"Gradient Boost\", y_val, grad_y_val_pred)"
   ]
  },
  {
   "cell_type": "markdown",
   "metadata": {},
   "source": [
    "# Prediction"
   ]
  },
  {
   "cell_type": "code",
   "execution_count": 26,
   "metadata": {},
   "outputs": [],
   "source": [
    "def preprocess_input(sentence, vectorizer):\n",
    "    \"\"\"Preprocess the raw input text\"\"\"\n",
    "\n",
    "    # Ensure input is a string\n",
    "    if not isinstance(sentence, str):\n",
    "        raise ValueError(\"Input sentence must be a string\")\n",
    "\n",
    "    cleaned_text = text_cleaning(sentence) # Clean the text\n",
    "    text_vectorized = vectorizer.transform([cleaned_text]) # Vectorize clean text\n",
    "\n",
    "    return text_vectorized"
   ]
  },
  {
   "cell_type": "code",
   "execution_count": 27,
   "metadata": {},
   "outputs": [],
   "source": [
    "def predict_text(model, sentence, vectorizer):\n",
    "    preproc_input = preprocess_input(sentence, vectorizer)\n",
    "    prediction_prob = model.predict_proba(preproc_input)[:, 1][0] # Extracts probability of AI clas\n",
    "    prediction = \"AI\" if prediction_prob > 0.5 else \"Human\"\n",
    "    return prediction, round(prediction_prob, 2)"
   ]
  },
  {
   "cell_type": "code",
   "execution_count": 28,
   "metadata": {},
   "outputs": [
    {
     "data": {
      "text/html": [
       "<div>\n",
       "<style scoped>\n",
       "    .dataframe tbody tr th:only-of-type {\n",
       "        vertical-align: middle;\n",
       "    }\n",
       "\n",
       "    .dataframe tbody tr th {\n",
       "        vertical-align: top;\n",
       "    }\n",
       "\n",
       "    .dataframe thead th {\n",
       "        text-align: right;\n",
       "    }\n",
       "</style>\n",
       "<table border=\"1\" class=\"dataframe\">\n",
       "  <thead>\n",
       "    <tr style=\"text-align: right;\">\n",
       "      <th></th>\n",
       "      <th>text</th>\n",
       "      <th>source</th>\n",
       "      <th>text_length</th>\n",
       "      <th>word_count</th>\n",
       "      <th>contains_numbers</th>\n",
       "      <th>contains_special_chars</th>\n",
       "    </tr>\n",
       "  </thead>\n",
       "  <tbody>\n",
       "    <tr>\n",
       "      <th>9995</th>\n",
       "      <td>The Meaning of Civilization According to Willi...</td>\n",
       "      <td>Human</td>\n",
       "      <td>11346</td>\n",
       "      <td>1793</td>\n",
       "      <td>True</td>\n",
       "      <td>True</td>\n",
       "    </tr>\n",
       "    <tr>\n",
       "      <th>9996</th>\n",
       "      <td>Alicia was outside watering flowers. Alicia ac...</td>\n",
       "      <td>AI</td>\n",
       "      <td>191</td>\n",
       "      <td>34</td>\n",
       "      <td>False</td>\n",
       "      <td>True</td>\n",
       "    </tr>\n",
       "    <tr>\n",
       "      <th>9997</th>\n",
       "      <td>Sandy was decided to take a hike in the mounta...</td>\n",
       "      <td>AI</td>\n",
       "      <td>181</td>\n",
       "      <td>35</td>\n",
       "      <td>False</td>\n",
       "      <td>True</td>\n",
       "    </tr>\n",
       "    <tr>\n",
       "      <th>9998</th>\n",
       "      <td>Tommy wanted to buy a new computer. After some...</td>\n",
       "      <td>AI</td>\n",
       "      <td>478</td>\n",
       "      <td>87</td>\n",
       "      <td>True</td>\n",
       "      <td>True</td>\n",
       "    </tr>\n",
       "    <tr>\n",
       "      <th>9999</th>\n",
       "      <td>We investigate the problem of cost-optimal pla...</td>\n",
       "      <td>AI</td>\n",
       "      <td>4299</td>\n",
       "      <td>661</td>\n",
       "      <td>True</td>\n",
       "      <td>True</td>\n",
       "    </tr>\n",
       "  </tbody>\n",
       "</table>\n",
       "</div>"
      ],
      "text/plain": [
       "                                                   text source  text_length  \\\n",
       "9995  The Meaning of Civilization According to Willi...  Human        11346   \n",
       "9996  Alicia was outside watering flowers. Alicia ac...     AI          191   \n",
       "9997  Sandy was decided to take a hike in the mounta...     AI          181   \n",
       "9998  Tommy wanted to buy a new computer. After some...     AI          478   \n",
       "9999  We investigate the problem of cost-optimal pla...     AI         4299   \n",
       "\n",
       "      word_count  contains_numbers  contains_special_chars  \n",
       "9995        1793              True                    True  \n",
       "9996          34             False                    True  \n",
       "9997          35             False                    True  \n",
       "9998          87              True                    True  \n",
       "9999         661              True                    True  "
      ]
     },
     "execution_count": 28,
     "metadata": {},
     "output_type": "execute_result"
    }
   ],
   "source": [
    "df.tail()"
   ]
  },
  {
   "cell_type": "code",
   "execution_count": 29,
   "metadata": {},
   "outputs": [
    {
     "name": "stdout",
     "output_type": "stream",
     "text": [
      "Justice in the Old and New Testament Essay\n",
      "\n",
      "The Old and New Testaments are significantly different in many aspects, likely as a consequence of the time difference between their time of writing. Both consider it essential, but they assign it, and the qualities associated with it, different roles. The Old Testament gives righteousness a clear definition and makes it a critical attribute of God, ruler, and individual. By comparison, the New Testament depicts it as coming from God and only possible through following His will. As such, it is prudent to compare the two definitions in detail to understand the overt and underlying differences between the two halves of the Christian canon better.\n",
      "\n",
      "Justice in the Old Testament should be considered in terms of the meaning attributed to the term there rather than its current definition. Haacker claims that “it is about restoration, redistribution, and providing the right. […] The one who is stronger gives; the weaker receives.” Yahweh is supposed to be the ultimate representation of justice and righteousness, who cannot be questioned, and any misfortune, however long-lasting, is the result of his warranted wrath (Mic 7:9). As representatives of God and rulers, monarchs are supposed to deliver God’s justice to the people through their governance. In turn, individuals are supposed to follow the path of righteousness as best they can to maintain Yahweh’s favor.\n",
      "\n",
      "The New Testament was written in times of the Roman Empire, after the development of classical Western philosophy and ethics. According to Haacker, this development has led to the sometimes-confusing usage of the abstract Greek word ‘righteousness’ alongside its more clearly defined Hebrew equivalent. However, the distinction is mostly meaningless, as God is always trusted to make the right choice, and righteousness comes from him alone.\n",
      "\n",
      "His commandments and decision are law, yet following that law is not enough for righteousness, and one has to follow God’s will directly to achieve it (Rom 2:1–29). As such, the New Testament makes no distinction between rulers and individuals, as they are all the same before God.\n",
      "\n",
      "Both the Old and the New Testaments consider justice and righteousness to be of the utmost importance. However, the first half of the Bible considers it to be well-defined and achievable through following a specific set of rules. These laws do not necessarily correspond to modern definitions of justice, being explicitly biased against the stronger party. The New Testament, on the other hand, considers justice to be divine and, thus, incomprehensible to any person. It is possible to debate righteousness of an act according to the Old Testament, even if the topic is complicated, but the New Testament terms, calling someone just is merely an indication of approval (Haacker). As such, while the word has similar positive connotations, the specific meaning is entirely different.\n",
      "\n",
      "When debating the meaning of justice in the Bible, it is easy to make one or both of two mistakes. One is assuming that it is defined the same way as in the law, while the other is thinking that the definition is consistent in both parts. The Old Testament makes justice a critical trait that God possesses and that humans can achieve by following specific principles. Meanwhile, the New Testament claims that justice is following God’s will, which others cannot determine from the side. As such, to avoid misunderstanding references to justice and righteousness when discussing theology and the Bible, in particular, one should be careful to make sure which term is being discussed.\n",
      "\n",
      "Work Cited\n",
      "\n",
      "Haacker, Klaus B. “Justice, Justification, and Righteousness.” Oxford Reference, 2015. Web.\n",
      "\n",
      "Prediction: Human (2.0%)\n",
      "Actual: Human\n"
     ]
    }
   ],
   "source": [
    "model = grad_boost\n",
    "sentence = df[\"text\"][995]\n",
    "\n",
    "prediction, probability = predict_text(model, sentence, vectorizer)\n",
    "\n",
    "print(f\"{sentence}\")\n",
    "print(f\"Prediction: {prediction} ({probability * 100:.1f}%)\")\n",
    "print(f\"Actual: {df['source'][995]}\")"
   ]
  },
  {
   "cell_type": "code",
   "execution_count": 30,
   "metadata": {},
   "outputs": [
    {
     "name": "stdout",
     "output_type": "stream",
     "text": [
      "              precision    recall  f1-score   support\n",
      "\n",
      "           0       0.95      0.87      0.91      1116\n",
      "           1       0.85      0.94      0.89       884\n",
      "\n",
      "    accuracy                           0.90      2000\n",
      "   macro avg       0.90      0.91      0.90      2000\n",
      "weighted avg       0.91      0.90      0.90      2000\n",
      "\n"
     ]
    }
   ],
   "source": [
    "gb_predict = grad_boost.predict(X_test)\n",
    "\n",
    "print(classification_report(y_test, gb_predict))"
   ]
  }
 ],
 "metadata": {
  "kernelspec": {
   "display_name": "fake-data-detector",
   "language": "python",
   "name": "python3"
  },
  "language_info": {
   "codemirror_mode": {
    "name": "ipython",
    "version": 3
   },
   "file_extension": ".py",
   "mimetype": "text/x-python",
   "name": "python",
   "nbconvert_exporter": "python",
   "pygments_lexer": "ipython3",
   "version": "3.10.6"
  }
 },
 "nbformat": 4,
 "nbformat_minor": 2
}
