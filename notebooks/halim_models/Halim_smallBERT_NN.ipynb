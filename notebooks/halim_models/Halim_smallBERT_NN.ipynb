{
 "cells": [
  {
   "cell_type": "code",
   "execution_count": 3,
   "metadata": {},
   "outputs": [],
   "source": [
    "import os\n",
    "import time\n",
    "import pandas as pd\n",
    "import numpy as np\n",
    "import seaborn as sns\n",
    "import matplotlib.pyplot as plt\n",
    "%matplotlib inline\n",
    "\n",
    "import string\n",
    "import nltk\n",
    "from nltk.corpus import wordnet, cmudict, stopwords\n",
    "from nltk.tokenize import word_tokenize\n",
    "from nltk.stem import WordNetLemmatizer\n",
    "#nltk.download('punkt')\n",
    "#nltk.download('punkt_tab')\n",
    "#nltk.download('stopwords')\n",
    "#nltk.download('wordnet')\n",
    "\n",
    "from textblob import TextBlob\n",
    "from gensim.models import LsiModel\n",
    "from gensim import corpora\n",
    "from gensim.models.coherencemodel import CoherenceModel\n",
    "from collections import Counter\n",
    "import textstat\n",
    "\n",
    "from sklearn.model_selection import train_test_split\n",
    "from sklearn.preprocessing import StandardScaler\n",
    "from sklearn.metrics import confusion_matrix, classification_report, accuracy_score\n",
    "from tensorflow.keras.callbacks import EarlyStopping"
   ]
  },
  {
   "cell_type": "code",
   "execution_count": 4,
   "metadata": {},
   "outputs": [
    {
     "data": {
      "text/html": [
       "<div>\n",
       "<style scoped>\n",
       "    .dataframe tbody tr th:only-of-type {\n",
       "        vertical-align: middle;\n",
       "    }\n",
       "\n",
       "    .dataframe tbody tr th {\n",
       "        vertical-align: top;\n",
       "    }\n",
       "\n",
       "    .dataframe thead th {\n",
       "        text-align: right;\n",
       "    }\n",
       "</style>\n",
       "<table border=\"1\" class=\"dataframe\">\n",
       "  <thead>\n",
       "    <tr style=\"text-align: right;\">\n",
       "      <th></th>\n",
       "      <th>text</th>\n",
       "      <th>source</th>\n",
       "      <th>prompt_id</th>\n",
       "      <th>text_length</th>\n",
       "      <th>word_count</th>\n",
       "    </tr>\n",
       "  </thead>\n",
       "  <tbody>\n",
       "    <tr>\n",
       "      <th>0</th>\n",
       "      <td>The Philosophy and Ethics of Transhumanism\\n\\n...</td>\n",
       "      <td>GPT-3.5</td>\n",
       "      <td>1920</td>\n",
       "      <td>2558</td>\n",
       "      <td>394</td>\n",
       "    </tr>\n",
       "    <tr>\n",
       "      <th>1</th>\n",
       "      <td>Crime-tracking app Citizen is launching its ow...</td>\n",
       "      <td>Flan-T5-XXL</td>\n",
       "      <td>0</td>\n",
       "      <td>378</td>\n",
       "      <td>62</td>\n",
       "    </tr>\n",
       "    <tr>\n",
       "      <th>2</th>\n",
       "      <td>The court in Novorossiysk gave two of the danc...</td>\n",
       "      <td>GLM-130B</td>\n",
       "      <td>0</td>\n",
       "      <td>621</td>\n",
       "      <td>109</td>\n",
       "    </tr>\n",
       "    <tr>\n",
       "      <th>3</th>\n",
       "      <td>then drops the drumsticks, poses, then walks o...</td>\n",
       "      <td>GPT-J</td>\n",
       "      <td>0</td>\n",
       "      <td>513</td>\n",
       "      <td>90</td>\n",
       "    </tr>\n",
       "    <tr>\n",
       "      <th>4</th>\n",
       "      <td>On tally went to the beach. She found a sand d...</td>\n",
       "      <td>GPT-J</td>\n",
       "      <td>0</td>\n",
       "      <td>4984</td>\n",
       "      <td>846</td>\n",
       "    </tr>\n",
       "  </tbody>\n",
       "</table>\n",
       "</div>"
      ],
      "text/plain": [
       "                                                text       source  prompt_id  \\\n",
       "0  The Philosophy and Ethics of Transhumanism\\n\\n...      GPT-3.5       1920   \n",
       "1  Crime-tracking app Citizen is launching its ow...  Flan-T5-XXL          0   \n",
       "2  The court in Novorossiysk gave two of the danc...     GLM-130B          0   \n",
       "3  then drops the drumsticks, poses, then walks o...        GPT-J          0   \n",
       "4  On tally went to the beach. She found a sand d...        GPT-J          0   \n",
       "\n",
       "   text_length  word_count  \n",
       "0         2558         394  \n",
       "1          378          62  \n",
       "2          621         109  \n",
       "3          513          90  \n",
       "4         4984         846  "
      ]
     },
     "execution_count": 4,
     "metadata": {},
     "output_type": "execute_result"
    }
   ],
   "source": [
    "data = pd.read_csv(\"/home/eetil1818/code/nghia95/fake-data-detector/raw_data/1k_sampled_dataset.csv\")\n",
    "data.head()"
   ]
  },
  {
   "cell_type": "markdown",
   "metadata": {},
   "source": [
    "# Data Exploration"
   ]
  },
  {
   "cell_type": "code",
   "execution_count": 5,
   "metadata": {},
   "outputs": [
    {
     "data": {
      "text/html": [
       "<div>\n",
       "<style scoped>\n",
       "    .dataframe tbody tr th:only-of-type {\n",
       "        vertical-align: middle;\n",
       "    }\n",
       "\n",
       "    .dataframe tbody tr th {\n",
       "        vertical-align: top;\n",
       "    }\n",
       "\n",
       "    .dataframe thead th {\n",
       "        text-align: right;\n",
       "    }\n",
       "</style>\n",
       "<table border=\"1\" class=\"dataframe\">\n",
       "  <thead>\n",
       "    <tr style=\"text-align: right;\">\n",
       "      <th></th>\n",
       "      <th>text</th>\n",
       "      <th>source</th>\n",
       "      <th>text_length</th>\n",
       "      <th>word_count</th>\n",
       "    </tr>\n",
       "  </thead>\n",
       "  <tbody>\n",
       "    <tr>\n",
       "      <th>0</th>\n",
       "      <td>The Philosophy and Ethics of Transhumanism\\n\\n...</td>\n",
       "      <td>AI</td>\n",
       "      <td>2558</td>\n",
       "      <td>394</td>\n",
       "    </tr>\n",
       "    <tr>\n",
       "      <th>1</th>\n",
       "      <td>Crime-tracking app Citizen is launching its ow...</td>\n",
       "      <td>AI</td>\n",
       "      <td>378</td>\n",
       "      <td>62</td>\n",
       "    </tr>\n",
       "    <tr>\n",
       "      <th>2</th>\n",
       "      <td>The court in Novorossiysk gave two of the danc...</td>\n",
       "      <td>AI</td>\n",
       "      <td>621</td>\n",
       "      <td>109</td>\n",
       "    </tr>\n",
       "  </tbody>\n",
       "</table>\n",
       "</div>"
      ],
      "text/plain": [
       "                                                text source  text_length  \\\n",
       "0  The Philosophy and Ethics of Transhumanism\\n\\n...     AI         2558   \n",
       "1  Crime-tracking app Citizen is launching its ow...     AI          378   \n",
       "2  The court in Novorossiysk gave two of the danc...     AI          621   \n",
       "\n",
       "   word_count  \n",
       "0         394  \n",
       "1          62  \n",
       "2         109  "
      ]
     },
     "execution_count": 5,
     "metadata": {},
     "output_type": "execute_result"
    }
   ],
   "source": [
    "df = data.copy()\n",
    "df[\"source\"] = df[\"source\"].apply(lambda x: \"AI\" if x != \"Human\" else x)\n",
    "df.drop(columns=\"prompt_id\", inplace=True)\n",
    "df.head(3)"
   ]
  },
  {
   "cell_type": "code",
   "execution_count": 6,
   "metadata": {},
   "outputs": [
    {
     "data": {
      "text/plain": [
       "source\n",
       "Human    0.559\n",
       "AI       0.441\n",
       "Name: proportion, dtype: float64"
      ]
     },
     "execution_count": 6,
     "metadata": {},
     "output_type": "execute_result"
    }
   ],
   "source": [
    "df[\"source\"].value_counts(normalize=True)"
   ]
  },
  {
   "cell_type": "code",
   "execution_count": 7,
   "metadata": {},
   "outputs": [
    {
     "name": "stdout",
     "output_type": "stream",
     "text": [
      "<class 'pandas.core.frame.DataFrame'>\n",
      "RangeIndex: 1000 entries, 0 to 999\n",
      "Data columns (total 4 columns):\n",
      " #   Column       Non-Null Count  Dtype \n",
      "---  ------       --------------  ----- \n",
      " 0   text         1000 non-null   object\n",
      " 1   source       1000 non-null   object\n",
      " 2   text_length  1000 non-null   int64 \n",
      " 3   word_count   1000 non-null   int64 \n",
      "dtypes: int64(2), object(2)\n",
      "memory usage: 31.4+ KB\n"
     ]
    }
   ],
   "source": [
    "df.info()"
   ]
  },
  {
   "cell_type": "code",
   "execution_count": 8,
   "metadata": {},
   "outputs": [
    {
     "data": {
      "image/png": "[encoded data removed]",
      "text/plain": [
       "<Figure size 1000x500 with 2 Axes>"
      ]
     },
     "metadata": {},
     "output_type": "display_data"
    }
   ],
   "source": [
    "fig, axes = plt.subplots(1, 2, figsize=(10, 5))\n",
    "\n",
    "axes[0].hist(df[\"text_length\"], bins=20, edgecolor=\"black\")\n",
    "axes[0].set_title(\"Text Length Distribution\")\n",
    "axes[0].set_xlabel(\"Text Length\")\n",
    "axes[0].set_ylabel(\"Frequency\")\n",
    "\n",
    "axes[1].hist(df[\"word_count\"], bins=20, edgecolor=\"black\")\n",
    "axes[1].set_title(\"Word Count Distribution\")\n",
    "axes[1].set_xlabel(\"Word Count\")\n",
    "axes[1].set_ylabel(\"Frequency\")\n",
    "\n",
    "plt.show()\n"
   ]
  },
  {
   "cell_type": "code",
   "execution_count": 9,
   "metadata": {},
   "outputs": [
    {
     "data": {
      "text/html": [
       "<div>\n",
       "<style scoped>\n",
       "    .dataframe tbody tr th:only-of-type {\n",
       "        vertical-align: middle;\n",
       "    }\n",
       "\n",
       "    .dataframe tbody tr th {\n",
       "        vertical-align: top;\n",
       "    }\n",
       "\n",
       "    .dataframe thead th {\n",
       "        text-align: right;\n",
       "    }\n",
       "</style>\n",
       "<table border=\"1\" class=\"dataframe\">\n",
       "  <thead>\n",
       "    <tr style=\"text-align: right;\">\n",
       "      <th></th>\n",
       "      <th>text</th>\n",
       "      <th>source</th>\n",
       "      <th>text_length</th>\n",
       "      <th>word_count</th>\n",
       "      <th>contains_numbers</th>\n",
       "      <th>contains_special_chars</th>\n",
       "    </tr>\n",
       "  </thead>\n",
       "  <tbody>\n",
       "    <tr>\n",
       "      <th>0</th>\n",
       "      <td>The Philosophy and Ethics of Transhumanism\\n\\n...</td>\n",
       "      <td>AI</td>\n",
       "      <td>2558</td>\n",
       "      <td>394</td>\n",
       "      <td>False</td>\n",
       "      <td>True</td>\n",
       "    </tr>\n",
       "    <tr>\n",
       "      <th>1</th>\n",
       "      <td>Crime-tracking app Citizen is launching its ow...</td>\n",
       "      <td>AI</td>\n",
       "      <td>378</td>\n",
       "      <td>62</td>\n",
       "      <td>True</td>\n",
       "      <td>True</td>\n",
       "    </tr>\n",
       "    <tr>\n",
       "      <th>2</th>\n",
       "      <td>The court in Novorossiysk gave two of the danc...</td>\n",
       "      <td>AI</td>\n",
       "      <td>621</td>\n",
       "      <td>109</td>\n",
       "      <td>True</td>\n",
       "      <td>True</td>\n",
       "    </tr>\n",
       "    <tr>\n",
       "      <th>3</th>\n",
       "      <td>then drops the drumsticks, poses, then walks o...</td>\n",
       "      <td>AI</td>\n",
       "      <td>513</td>\n",
       "      <td>90</td>\n",
       "      <td>True</td>\n",
       "      <td>True</td>\n",
       "    </tr>\n",
       "    <tr>\n",
       "      <th>4</th>\n",
       "      <td>On tally went to the beach. She found a sand d...</td>\n",
       "      <td>AI</td>\n",
       "      <td>4984</td>\n",
       "      <td>846</td>\n",
       "      <td>False</td>\n",
       "      <td>True</td>\n",
       "    </tr>\n",
       "  </tbody>\n",
       "</table>\n",
       "</div>"
      ],
      "text/plain": [
       "                                                text source  text_length  \\\n",
       "0  The Philosophy and Ethics of Transhumanism\\n\\n...     AI         2558   \n",
       "1  Crime-tracking app Citizen is launching its ow...     AI          378   \n",
       "2  The court in Novorossiysk gave two of the danc...     AI          621   \n",
       "3  then drops the drumsticks, poses, then walks o...     AI          513   \n",
       "4  On tally went to the beach. She found a sand d...     AI         4984   \n",
       "\n",
       "   word_count  contains_numbers  contains_special_chars  \n",
       "0         394             False                    True  \n",
       "1          62              True                    True  \n",
       "2         109              True                    True  \n",
       "3          90              True                    True  \n",
       "4         846             False                    True  "
      ]
     },
     "execution_count": 9,
     "metadata": {},
     "output_type": "execute_result"
    }
   ],
   "source": [
    "# Check if text column contains numbers and special characters\n",
    "\n",
    "df[\"contains_numbers\"] = df[\"text\"].str.contains(r\"\\d\", regex=True)\n",
    "df[\"contains_special_chars\"] = df[\"text\"].str.contains(r\"[^\\w\\s]\", regex=True)\n",
    "\n",
    "df.head()"
   ]
  },
  {
   "cell_type": "code",
   "execution_count": 10,
   "metadata": {},
   "outputs": [
    {
     "data": {
      "image/png": "[encoded data removed]",
      "text/plain": [
       "<Figure size 1000x400 with 2 Axes>"
      ]
     },
     "metadata": {},
     "output_type": "display_data"
    }
   ],
   "source": [
    "fig, axes = plt.subplots(1, 2, figsize=(10, 4))\n",
    "\n",
    "sns.barplot(x=df[\"source\"], y=df[\"contains_numbers\"], ax=axes[0])\n",
    "axes[0].set_title(\"Text Containing Number Proportion\")\n",
    "\n",
    "sns.barplot(x=df[\"source\"], y=df[\"contains_special_chars\"], ax=axes[1])\n",
    "axes[1].set_title(\"Text Containing Special Chars Proportion\")\n",
    "\n",
    "plt.tight_layout();"
   ]
  },
  {
   "cell_type": "code",
   "execution_count": 11,
   "metadata": {},
   "outputs": [
    {
     "data": {
      "text/plain": [
       "contains_numbers\n",
       "True     634\n",
       "False    366\n",
       "Name: count, dtype: int64"
      ]
     },
     "execution_count": 11,
     "metadata": {},
     "output_type": "execute_result"
    }
   ],
   "source": [
    "df[\"contains_numbers\"].value_counts()"
   ]
  },
  {
   "cell_type": "code",
   "execution_count": 12,
   "metadata": {},
   "outputs": [
    {
     "data": {
      "text/plain": [
       "contains_special_chars\n",
       "True     999\n",
       "False      1\n",
       "Name: count, dtype: int64"
      ]
     },
     "execution_count": 12,
     "metadata": {},
     "output_type": "execute_result"
    }
   ],
   "source": [
    "df[\"contains_special_chars\"].value_counts()"
   ]
  },
  {
   "cell_type": "markdown",
   "metadata": {},
   "source": [
    "# Data Cleaning"
   ]
  },
  {
   "cell_type": "code",
   "execution_count": 13,
   "metadata": {},
   "outputs": [],
   "source": [
    "# Mapping POS tags to WordNet POS tags for better lemmatization\n",
    "\n",
    "#nltk.download('averaged_perceptron_tagger_eng')\n",
    "\n",
    "def get_wordnet_pos(text):\n",
    "    \"\"\"Convert NLTK POS tag to a format suitable for WordNet Lemmatizer.\"\"\"\n",
    "    tag_dict = {\"J\": wordnet.ADJ, \"N\": wordnet.NOUN, \"V\": wordnet.VERB, \"R\": wordnet.ADV}\n",
    "    tag = nltk.pos_tag([text])[0][1][0].upper()  # Get the first letter of the POS tag\n",
    "    return tag_dict.get(tag, wordnet.NOUN)  # Default to NOUN if no match\n",
    "\n",
    "def text_cleaning(text):\n",
    "    \"\"\"Clean text but preserve some symbols and numbers.\"\"\"\n",
    "    text = text.lower() # Turn to all lowercase\n",
    "    text = text.strip() # Remove whitespace\n",
    "    text = \" \".join(text.split()) # Remove multiple spaces\n",
    "\n",
    "    symbols_to_keep = {\"$\", \"-\", \"%\"} # Keep these symbols\n",
    "    text_clean = []\n",
    "\n",
    "    for char in text:\n",
    "        if char not in string.punctuation or char in symbols_to_keep:\n",
    "            text_clean.append(char)  # Keep numbers and allowed symbols\n",
    "        else:\n",
    "            text_clean.append(\"\")  # Replace other punctuation with space/nothing\n",
    "\n",
    "    text_clean = \"\".join(text_clean)\n",
    "\n",
    "    tokenized = word_tokenize(text_clean)\n",
    "    tagged_words = nltk.pos_tag(tokenized)\n",
    "    lemmatizer = WordNetLemmatizer()\n",
    "    lemmatized = [lemmatizer.lemmatize(word, get_wordnet_pos(word)) for word, tag in tagged_words]\n",
    "    cleaned_text = \" \".join(lemmatized)\n",
    "\n",
    "    return cleaned_text\n"
   ]
  },
  {
   "cell_type": "code",
   "execution_count": 14,
   "metadata": {},
   "outputs": [
    {
     "data": {
      "text/plain": [
       "'on tally go to the beach she found a sand dollar along the shore she didnt know what to do with it she ask people along the beach if they knew how she could get rid of her pain but everyone have an idea except for one man who stood onshore and say that he knew nothing about such thing she be worried because every day her mother remain in bed longer than usual the day be hot now so long a her mother remain indoors her friend father take her home just before noon when his shift end at two oclock at nightfall while wait for him to return from work anna fell asleep across doorsill where cook walk up and down bring food or go out look for something else to eat her mother moan all through their walk back to mijas until they reach the house this time nobody come and no-one open the door silence reign inside too im get cold her mother kept repeat youll have to keep me warm in vain do she try to lift herself off the mattress in vain do she call out to someone somebody would appear only to tell her there be no doctor come to see her today tomorrow perhaps anna felt alone now alone without a soul around them nobody ate anything there wasnt even any bread left for themselves anymore after the last loaf disappear into the mouth of those who live inside no water either since neither chus nor rita drank enough and besides rita get so upset whenever anyone mention drinking anything that none dare ask her whether she want some tea or coffee or lemonade to ward off illness or why not lemonade might make you feel well anyway - rita always put this thought forward but soon afterwards shed become angry again and shout angrily at whoever suggest take her cup away why take my mierda shit away from me what be you do here anyway i dont want your fuck shit in this place mijas become like a town under siege not everybody stayed at home some of the men begin work elsewhere include chus others die early morning death and others continued living only the woman refuse to move or leave their house a for the child they played outside whatever the weather they werent bother by hunger which hadnt yet enter their little body it wouldnt be until later that theyd learn how much courage it take to survive on very little even then they wouldnt understand for now boy like oriol care more about building sandcastles than try to save a drown cat lie motionless near the sea wall that separate the beach from the park girl and girl alike whiled away the hour play hide and seek amongst rock among bush in cork tree where once the previous summer theyd caught lizard skid over dry leaf sometimes they climbed onto piece of luggage that stuck up against wall or roof tile or perch on empty beer keg empty for drain purpose that afternoon after school let out the boy arrive at the apartment wear short instead of trouser though it have come dark by then he told sirena that on his way back he stop at don eduardos flat next to the cathedral and saw first chloe passing in front of the window then the lady appear at the balcony opening follow shortly by olivier he also related to sirena that both of them spoke together hold hand briefly before part way by chance sirena happen to overhear bit of conversation between them first olivier invite chloe down say come on my darling be leave right away second later she reply yes yes go ahead well follow you finally and unexpectedly olivier say goodbye walk slowly towards the exit lean heavily on the rail his eye focus squarely straight ahead but barely register the few car screech past on avenida de la paz no sooner have he close the heavy metal gate behind him than he slump backward on top of the thick stone archway parapet edge clutch it iron bar tightly round his body banging himself hard against these sturdy support several time before slide silently to the ground below a moment earlier the woman sound loud most urgent especially when chloe answer almost immediately yes yesgo aheadfollow u sirena couldnt help wonder what exactly have be happen on the other side of the glass window have she see him talk money to chloe or simply hand over cash bill to the girl maybe olivier have offer her a share of the winning hadnt domingo say chloe sometimes accompany the couple on trip to casino be the girl use this opportunity to rob them if so maybe that explains everything sirena conclude blondie mustve kill olivier in order to steal the loot so when chloe announce surprisingly calmly let go the blonde take over half a carousel consider serious business if indeed another real estate matterrattensay viable policymakers of have take republittense'"
      ]
     },
     "execution_count": 14,
     "metadata": {},
     "output_type": "execute_result"
    }
   ],
   "source": [
    "# Testing text cleaning function\n",
    "\n",
    "text_cleaning(df[\"text\"].iloc[4])"
   ]
  },
  {
   "cell_type": "code",
   "execution_count": 15,
   "metadata": {},
   "outputs": [
    {
     "data": {
      "text/html": [
       "<div>\n",
       "<style scoped>\n",
       "    .dataframe tbody tr th:only-of-type {\n",
       "        vertical-align: middle;\n",
       "    }\n",
       "\n",
       "    .dataframe tbody tr th {\n",
       "        vertical-align: top;\n",
       "    }\n",
       "\n",
       "    .dataframe thead th {\n",
       "        text-align: right;\n",
       "    }\n",
       "</style>\n",
       "<table border=\"1\" class=\"dataframe\">\n",
       "  <thead>\n",
       "    <tr style=\"text-align: right;\">\n",
       "      <th></th>\n",
       "      <th>text</th>\n",
       "      <th>source</th>\n",
       "      <th>text_length</th>\n",
       "      <th>word_count</th>\n",
       "    </tr>\n",
       "  </thead>\n",
       "  <tbody>\n",
       "    <tr>\n",
       "      <th>0</th>\n",
       "      <td>The Philosophy and Ethics of Transhumanism\\n\\n...</td>\n",
       "      <td>AI</td>\n",
       "      <td>2558</td>\n",
       "      <td>394</td>\n",
       "    </tr>\n",
       "    <tr>\n",
       "      <th>1</th>\n",
       "      <td>Crime-tracking app Citizen is launching its ow...</td>\n",
       "      <td>AI</td>\n",
       "      <td>378</td>\n",
       "      <td>62</td>\n",
       "    </tr>\n",
       "    <tr>\n",
       "      <th>2</th>\n",
       "      <td>The court in Novorossiysk gave two of the danc...</td>\n",
       "      <td>AI</td>\n",
       "      <td>621</td>\n",
       "      <td>109</td>\n",
       "    </tr>\n",
       "    <tr>\n",
       "      <th>3</th>\n",
       "      <td>then drops the drumsticks, poses, then walks o...</td>\n",
       "      <td>AI</td>\n",
       "      <td>513</td>\n",
       "      <td>90</td>\n",
       "    </tr>\n",
       "    <tr>\n",
       "      <th>4</th>\n",
       "      <td>On tally went to the beach. She found a sand d...</td>\n",
       "      <td>AI</td>\n",
       "      <td>4984</td>\n",
       "      <td>846</td>\n",
       "    </tr>\n",
       "  </tbody>\n",
       "</table>\n",
       "</div>"
      ],
      "text/plain": [
       "                                                text source  text_length  \\\n",
       "0  The Philosophy and Ethics of Transhumanism\\n\\n...     AI         2558   \n",
       "1  Crime-tracking app Citizen is launching its ow...     AI          378   \n",
       "2  The court in Novorossiysk gave two of the danc...     AI          621   \n",
       "3  then drops the drumsticks, poses, then walks o...     AI          513   \n",
       "4  On tally went to the beach. She found a sand d...     AI         4984   \n",
       "\n",
       "   word_count  \n",
       "0         394  \n",
       "1          62  \n",
       "2         109  \n",
       "3          90  \n",
       "4         846  "
      ]
     },
     "execution_count": 15,
     "metadata": {},
     "output_type": "execute_result"
    }
   ],
   "source": [
    "df_clean = df.drop(columns=[\"contains_numbers\", \"contains_special_chars\"])\n",
    "df_clean.head()"
   ]
  },
  {
   "cell_type": "code",
   "execution_count": 16,
   "metadata": {},
   "outputs": [],
   "source": [
    "df_clean[\"clean_text\"] = df_clean[\"text\"].apply(text_cleaning)\n",
    "\n",
    "# Add new columns to label, calculate char and words in the cleaned_text\n",
    "df_clean[\"label\"] = df_clean[\"source\"].apply(lambda x: 1 if x == \"AI\" else 0) #AI=1, Human=0"
   ]
  },
  {
   "cell_type": "code",
   "execution_count": 17,
   "metadata": {},
   "outputs": [
    {
     "data": {
      "text/html": [
       "<div>\n",
       "<style scoped>\n",
       "    .dataframe tbody tr th:only-of-type {\n",
       "        vertical-align: middle;\n",
       "    }\n",
       "\n",
       "    .dataframe tbody tr th {\n",
       "        vertical-align: top;\n",
       "    }\n",
       "\n",
       "    .dataframe thead th {\n",
       "        text-align: right;\n",
       "    }\n",
       "</style>\n",
       "<table border=\"1\" class=\"dataframe\">\n",
       "  <thead>\n",
       "    <tr style=\"text-align: right;\">\n",
       "      <th></th>\n",
       "      <th>text</th>\n",
       "      <th>source</th>\n",
       "      <th>text_length</th>\n",
       "      <th>word_count</th>\n",
       "      <th>clean_text</th>\n",
       "      <th>label</th>\n",
       "    </tr>\n",
       "  </thead>\n",
       "  <tbody>\n",
       "    <tr>\n",
       "      <th>0</th>\n",
       "      <td>The Philosophy and Ethics of Transhumanism\\n\\n...</td>\n",
       "      <td>AI</td>\n",
       "      <td>2558</td>\n",
       "      <td>394</td>\n",
       "      <td>the philosophy and ethic of transhumanism tran...</td>\n",
       "      <td>1</td>\n",
       "    </tr>\n",
       "    <tr>\n",
       "      <th>1</th>\n",
       "      <td>Crime-tracking app Citizen is launching its ow...</td>\n",
       "      <td>AI</td>\n",
       "      <td>378</td>\n",
       "      <td>62</td>\n",
       "      <td>crime-tracking app citizen be launch it own em...</td>\n",
       "      <td>1</td>\n",
       "    </tr>\n",
       "  </tbody>\n",
       "</table>\n",
       "</div>"
      ],
      "text/plain": [
       "                                                text source  text_length  \\\n",
       "0  The Philosophy and Ethics of Transhumanism\\n\\n...     AI         2558   \n",
       "1  Crime-tracking app Citizen is launching its ow...     AI          378   \n",
       "\n",
       "   word_count                                         clean_text  label  \n",
       "0         394  the philosophy and ethic of transhumanism tran...      1  \n",
       "1          62  crime-tracking app citizen be launch it own em...      1  "
      ]
     },
     "execution_count": 17,
     "metadata": {},
     "output_type": "execute_result"
    }
   ],
   "source": [
    "df_clean.head(2)"
   ]
  },
  {
   "cell_type": "markdown",
   "metadata": {},
   "source": [
    "# Feature Extraction - Copying Romaric's features"
   ]
  },
  {
   "cell_type": "code",
   "execution_count": 18,
   "metadata": {},
   "outputs": [],
   "source": [
    "# Consonnant Density\n",
    "def cons_density(text):\n",
    "    consonant = sum(1 for char in text if char.isalpha() and char not in \"aeiouAEIOU\")\n",
    "    vowel = sum(1 for char in text if char.isalpha() and char in \"aeiouAEIOU\")\n",
    "    return round((consonant/(vowel + consonant)),3)\n"
   ]
  },
  {
   "cell_type": "code",
   "execution_count": 19,
   "metadata": {},
   "outputs": [],
   "source": [
    "# Stress Pattern\n",
    "#nltk.download(\"cmudict\")\n",
    "cmu_dict = cmudict.dict()\n",
    "\n",
    "def get_word_stress(word):\n",
    "    if word in cmu_dict:\n",
    "        return sum(int(char) for syllable in cmu_dict[word][0] for char in syllable if char.isdigit())\n",
    "    return 0\n",
    "\n",
    "def get_sentence_stress(sentence):\n",
    "    words = sentence.split()\n",
    "    stress_values = [get_word_stress(word) for word in words]\n",
    "    return sum(stress_values)"
   ]
  },
  {
   "cell_type": "code",
   "execution_count": 20,
   "metadata": {},
   "outputs": [],
   "source": [
    "# Repetition and Redundancy\n",
    "\n",
    "def redundance(text):\n",
    "    # give a redundance score, considering the lenght of each text, if a lemmatized words appears more than three times the mean, it is considered redundant.\n",
    "\n",
    "    tokens = word_tokenize(text)\n",
    "    stop_words = set(stopwords.words('english'))\n",
    "    clean_tokens = [w for w in tokens if w not in stop_words]\n",
    "\n",
    "    lemmatizer = WordNetLemmatizer()\n",
    "    verb_lemmas = {word: lemmatizer.lemmatize(word, pos='v') for word in clean_tokens}\n",
    "\n",
    "    final_lemmas = [lemmatizer.lemmatize(lemma, pos='n') if lemma == word else lemma\n",
    "                    for word, lemma in verb_lemmas.items()]\n",
    "\n",
    "    word_counts = Counter(final_lemmas)\n",
    "    mean_freq = sum(word_counts.values()) / len(word_counts)\n",
    "\n",
    "    score = sum(1 for word, count in word_counts.items() if count > 3 * mean_freq)\n",
    "\n",
    "    return score"
   ]
  },
  {
   "cell_type": "code",
   "execution_count": 21,
   "metadata": {},
   "outputs": [],
   "source": [
    "# Emotion and personality\n",
    "\n",
    "def sentiment_polarity(text):\n",
    "    sent_pol = TextBlob(text).sentiment.polarity\n",
    "    return abs(round(sent_pol,3))"
   ]
  },
  {
   "cell_type": "code",
   "execution_count": 22,
   "metadata": {},
   "outputs": [],
   "source": [
    "# Unusual word choice\n",
    "\n",
    "def word_choice(text):\n",
    "    common_ai_words =[\"commendable\",'transhumanist', 'meticulous', 'elevate','hello', 'tapestry' 'leverage',\n",
    "                  'journey', 'headache','resonate','testament','explore', 'binary','delve',\n",
    "                  'enrich', 'seamless','multifaceted', 'sorry','foster', 'convey', 'beacon',\n",
    "                  'interplay', 'oh', 'navigate','form','adhere','cannot', 'landscape','remember',\n",
    "                  'paramount', 'comprehensive', 'placeholder','grammar','real','summary','symphony',\n",
    "                  'furthermore','relationship','ultimately','profound','art','supercharge','evolve',\n",
    "                  'beyoud','reimagine','vibrant', 'robust','pivotal','certainly','quinoa','orchestrate','align',\n",
    "                  'diverse','recommend','annals','note','employ','bustling','indeed','digital','enigma', 'outfit',\n",
    "                  'indelible','refrain','culture','treat','emerge','meticulous','esteemed','weight','whimsical','bespoke',\n",
    "                  'highlight','antagonist','unlock','key','breakdown','tailor','misinformation','treasure','paradigm','captivate',\n",
    "                  'song','underscore','calculate','especially','climate','hedging','inclusive','exercise','ai','embrace',\n",
    "                  'level','nuance','career','dynamic','accent','ethos','cheap','firstly','online','goodbye'\n",
    "                  ]\n",
    "    word_count = 0\n",
    "    for word in text.split():\n",
    "        if word in common_ai_words:\n",
    "            word_count += 1\n",
    "        else: pass\n",
    "\n",
    "    return word_count"
   ]
  },
  {
   "cell_type": "code",
   "execution_count": 23,
   "metadata": {},
   "outputs": [],
   "source": [
    "# Context and coherence\n",
    "\n",
    "def coherence(text):\n",
    "    # uses gensim to measure coherence, use the lsi model(latent semantic indexing, coherence c_v because we provide the text and n_topic = 5)\n",
    "    tokens = word_tokenize(text)\n",
    "    dictionary = corpora.Dictionary([tokens])\n",
    "    corpus_gensim = [dictionary.doc2bow(tokens)]\n",
    "    lsa_model = LsiModel(corpus_gensim, id2word=dictionary)\n",
    "\n",
    "    coherence_model = CoherenceModel(\n",
    "        model=lsa_model,\n",
    "        texts=[tokens],\n",
    "        dictionary=dictionary,\n",
    "        coherence='c_v'\n",
    "    )\n",
    "    coherence_score = coherence_model.get_coherence()\n",
    "    return coherence_score"
   ]
  },
  {
   "cell_type": "code",
   "execution_count": 24,
   "metadata": {},
   "outputs": [],
   "source": [
    "# Readability\n",
    "\n",
    "def reading_ease(text):\n",
    "    reading_ease= textstat.flesch_reading_ease(text)\n",
    "    return reading_ease\n",
    "\n",
    "\n",
    "def gunning_fog(text):\n",
    "    gunning_fog = textstat.gunning_fog(text)\n",
    "    return gunning_fog"
   ]
  },
  {
   "cell_type": "code",
   "execution_count": 25,
   "metadata": {},
   "outputs": [
    {
     "data": {
      "text/html": [
       "<div>\n",
       "<style scoped>\n",
       "    .dataframe tbody tr th:only-of-type {\n",
       "        vertical-align: middle;\n",
       "    }\n",
       "\n",
       "    .dataframe tbody tr th {\n",
       "        vertical-align: top;\n",
       "    }\n",
       "\n",
       "    .dataframe thead th {\n",
       "        text-align: right;\n",
       "    }\n",
       "</style>\n",
       "<table border=\"1\" class=\"dataframe\">\n",
       "  <thead>\n",
       "    <tr style=\"text-align: right;\">\n",
       "      <th></th>\n",
       "      <th>clean_text</th>\n",
       "      <th>label</th>\n",
       "    </tr>\n",
       "  </thead>\n",
       "  <tbody>\n",
       "    <tr>\n",
       "      <th>0</th>\n",
       "      <td>the philosophy and ethic of transhumanism tran...</td>\n",
       "      <td>1</td>\n",
       "    </tr>\n",
       "    <tr>\n",
       "      <th>1</th>\n",
       "      <td>crime-tracking app citizen be launch it own em...</td>\n",
       "      <td>1</td>\n",
       "    </tr>\n",
       "  </tbody>\n",
       "</table>\n",
       "</div>"
      ],
      "text/plain": [
       "                                          clean_text  label\n",
       "0  the philosophy and ethic of transhumanism tran...      1\n",
       "1  crime-tracking app citizen be launch it own em...      1"
      ]
     },
     "execution_count": 25,
     "metadata": {},
     "output_type": "execute_result"
    }
   ],
   "source": [
    "df_features = df_clean.copy()\n",
    "df_features.drop(columns=[\"text\", \"source\", \"text_length\", \"word_count\"], inplace=True)\n",
    "\n",
    "df_features.head(2)"
   ]
  },
  {
   "cell_type": "code",
   "execution_count": 26,
   "metadata": {},
   "outputs": [
    {
     "data": {
      "text/plain": [
       "label\n",
       "0    0.559\n",
       "1    0.441\n",
       "Name: proportion, dtype: float64"
      ]
     },
     "execution_count": 26,
     "metadata": {},
     "output_type": "execute_result"
    }
   ],
   "source": [
    "df_features[\"label\"].value_counts(normalize=True)"
   ]
  },
  {
   "cell_type": "code",
   "execution_count": 27,
   "metadata": {},
   "outputs": [],
   "source": [
    "def extract_features(df):\n",
    "\n",
    "    df[\"cons_density\"] = df[\"clean_text\"].apply(cons_density)\n",
    "    df[\"stress_value\"] = df[\"clean_text\"].apply(get_sentence_stress) / len(df[\"clean_text\"])\n",
    "    df[\"token_redundance\"] = df[\"clean_text\"].apply(redundance)\n",
    "    df[\"sentiment_score\"] = df[\"clean_text\"].apply(sentiment_polarity)\n",
    "    df[\"unusual_word_count\"] = df[\"clean_text\"].apply(word_choice)\n",
    "    df[\"coherence_score\"] = df[\"clean_text\"].apply(coherence)\n",
    "    df[\"reading_ease\"] = df[\"clean_text\"].apply(reading_ease)\n",
    "    df[\"readability_score\"] = df[\"clean_text\"].apply(gunning_fog)\n",
    "\n",
    "    return df"
   ]
  },
  {
   "cell_type": "code",
   "execution_count": 28,
   "metadata": {},
   "outputs": [
    {
     "data": {
      "text/html": [
       "<div>\n",
       "<style scoped>\n",
       "    .dataframe tbody tr th:only-of-type {\n",
       "        vertical-align: middle;\n",
       "    }\n",
       "\n",
       "    .dataframe tbody tr th {\n",
       "        vertical-align: top;\n",
       "    }\n",
       "\n",
       "    .dataframe thead th {\n",
       "        text-align: right;\n",
       "    }\n",
       "</style>\n",
       "<table border=\"1\" class=\"dataframe\">\n",
       "  <thead>\n",
       "    <tr style=\"text-align: right;\">\n",
       "      <th></th>\n",
       "      <th>clean_text</th>\n",
       "      <th>label</th>\n",
       "      <th>cons_density</th>\n",
       "      <th>stress_value</th>\n",
       "      <th>token_redundance</th>\n",
       "      <th>sentiment_score</th>\n",
       "      <th>unusual_word_count</th>\n",
       "      <th>coherence_score</th>\n",
       "      <th>reading_ease</th>\n",
       "      <th>readability_score</th>\n",
       "    </tr>\n",
       "  </thead>\n",
       "  <tbody>\n",
       "    <tr>\n",
       "      <th>0</th>\n",
       "      <td>the philosophy and ethic of transhumanism tran...</td>\n",
       "      <td>1</td>\n",
       "      <td>0.590</td>\n",
       "      <td>0.372</td>\n",
       "      <td>0</td>\n",
       "      <td>0.057</td>\n",
       "      <td>2</td>\n",
       "      <td>0.280764</td>\n",
       "      <td>-345.36</td>\n",
       "      <td>162.78</td>\n",
       "    </tr>\n",
       "    <tr>\n",
       "      <th>1</th>\n",
       "      <td>crime-tracking app citizen be launch it own em...</td>\n",
       "      <td>1</td>\n",
       "      <td>0.606</td>\n",
       "      <td>0.059</td>\n",
       "      <td>0</td>\n",
       "      <td>0.167</td>\n",
       "      <td>0</td>\n",
       "      <td>1.000000</td>\n",
       "      <td>8.55</td>\n",
       "      <td>27.38</td>\n",
       "    </tr>\n",
       "  </tbody>\n",
       "</table>\n",
       "</div>"
      ],
      "text/plain": [
       "                                          clean_text  label  cons_density  \\\n",
       "0  the philosophy and ethic of transhumanism tran...      1         0.590   \n",
       "1  crime-tracking app citizen be launch it own em...      1         0.606   \n",
       "\n",
       "   stress_value  token_redundance  sentiment_score  unusual_word_count  \\\n",
       "0         0.372                 0            0.057                   2   \n",
       "1         0.059                 0            0.167                   0   \n",
       "\n",
       "   coherence_score  reading_ease  readability_score  \n",
       "0         0.280764       -345.36             162.78  \n",
       "1         1.000000          8.55              27.38  "
      ]
     },
     "execution_count": 28,
     "metadata": {},
     "output_type": "execute_result"
    }
   ],
   "source": [
    "df_features = extract_features(df_features)\n",
    "\n",
    "df_features.head(2)"
   ]
  },
  {
   "cell_type": "markdown",
   "metadata": {},
   "source": [
    "# Preprocessing Pre-Trained Models: ✅ BERT-small (TF Hub)\n",
    "\n",
    "### Input requirements:\n",
    "\n",
    "input_word_ids → Tokenized words\n",
    "\n",
    "input_mask → Indicates which tokens are real vs. padding\n",
    "\n",
    "#input_type_ids → Used for sentence pairs in BERT"
   ]
  },
  {
   "cell_type": "code",
   "execution_count": 29,
   "metadata": {},
   "outputs": [],
   "source": [
    "#!pip install tensorflow==2.15 keras tensorflow-hub tensorflow-text"
   ]
  },
  {
   "cell_type": "code",
   "execution_count": 30,
   "metadata": {},
   "outputs": [],
   "source": [
    "import tensorflow as tf\n",
    "import tensorflow_hub as hub\n",
    "import tensorflow_text"
   ]
  },
  {
   "cell_type": "code",
   "execution_count": 31,
   "metadata": {},
   "outputs": [],
   "source": [
    "# Load BERT-Small Model & Preprocessing\n",
    "bert_small_model = hub.load(\"https://tfhub.dev/tensorflow/small_bert/bert_en_uncased_L-4_H-512_A-8/2\")\n",
    "bert_small_preprocess = hub.load(\"https://tfhub.dev/tensorflow/bert_en_uncased_preprocess/3\")"
   ]
  },
  {
   "cell_type": "code",
   "execution_count": 32,
   "metadata": {},
   "outputs": [],
   "source": [
    "# Embedding function\n",
    "\n",
    "def get_embeddings(texts, model, preprocess_model, batch_size=32):\n",
    "    \"\"\"Generate embeddings after preprocessing\"\"\"\n",
    "    preprocessed_text = preprocess_model(texts)\n",
    "    inputs = {\n",
    "        \"input_word_ids\": preprocessed_text[\"input_word_ids\"],\n",
    "        \"input_mask\": preprocessed_text[\"input_mask\"],\n",
    "        \"input_type_ids\": preprocessed_text[\"input_type_ids\"],  # Needed even if all zeros\n",
    "    }\n",
    "\n",
    "    return np.array(model(inputs)[\"pooled_output\"])"
   ]
  },
  {
   "cell_type": "code",
   "execution_count": 33,
   "metadata": {},
   "outputs": [],
   "source": [
    "texts = df_features[\"clean_text\"].tolist()"
   ]
  },
  {
   "cell_type": "code",
   "execution_count": 34,
   "metadata": {},
   "outputs": [
    {
     "name": "stderr",
     "output_type": "stream",
     "text": [
      "2025-02-22 10:23:10.213183: W external/local_tsl/tsl/framework/cpu_allocator_impl.cc:83] Allocation of 524288000 exceeds 10% of free system memory.\n",
      "2025-02-22 10:23:11.546886: W external/local_tsl/tsl/framework/cpu_allocator_impl.cc:83] Allocation of 524288000 exceeds 10% of free system memory.\n",
      "2025-02-22 10:23:19.859176: W external/local_tsl/tsl/framework/cpu_allocator_impl.cc:83] Allocation of 1048576000 exceeds 10% of free system memory.\n",
      "2025-02-22 10:23:44.944743: W external/local_tsl/tsl/framework/cpu_allocator_impl.cc:83] Allocation of 1048576000 exceeds 10% of free system memory.\n",
      "2025-02-22 10:24:29.411982: W external/local_tsl/tsl/framework/cpu_allocator_impl.cc:83] Allocation of 524288000 exceeds 10% of free system memory.\n"
     ]
    },
    {
     "data": {
      "text/plain": [
       "(1000, 512)"
      ]
     },
     "execution_count": 34,
     "metadata": {},
     "output_type": "execute_result"
    }
   ],
   "source": [
    "# Get BERT-small embeddings on a 500 samples of the 1k data\n",
    "\n",
    "bert_small_embeddings = get_embeddings(texts, bert_small_model, bert_small_preprocess)\n",
    "\n",
    "bert_small_embeddings.shape"
   ]
  },
  {
   "cell_type": "code",
   "execution_count": 35,
   "metadata": {},
   "outputs": [],
   "source": [
    "# Scaling\n",
    "\n",
    "df_features_num = df_features.drop(columns=[\"clean_text\", \"label\"])\n",
    "\n",
    "scaler = StandardScaler()\n",
    "df_features_num_scaled = pd.DataFrame(scaler.fit_transform(df_features_num),\n",
    "                                     columns=df_features_num.columns).reset_index(drop=True)"
   ]
  },
  {
   "cell_type": "code",
   "execution_count": 36,
   "metadata": {},
   "outputs": [
    {
     "data": {
      "text/html": [
       "<div>\n",
       "<style scoped>\n",
       "    .dataframe tbody tr th:only-of-type {\n",
       "        vertical-align: middle;\n",
       "    }\n",
       "\n",
       "    .dataframe tbody tr th {\n",
       "        vertical-align: top;\n",
       "    }\n",
       "\n",
       "    .dataframe thead th {\n",
       "        text-align: right;\n",
       "    }\n",
       "</style>\n",
       "<table border=\"1\" class=\"dataframe\">\n",
       "  <thead>\n",
       "    <tr style=\"text-align: right;\">\n",
       "      <th></th>\n",
       "      <th>cons_density</th>\n",
       "      <th>stress_value</th>\n",
       "      <th>token_redundance</th>\n",
       "      <th>sentiment_score</th>\n",
       "      <th>unusual_word_count</th>\n",
       "      <th>coherence_score</th>\n",
       "      <th>reading_ease</th>\n",
       "      <th>readability_score</th>\n",
       "    </tr>\n",
       "  </thead>\n",
       "  <tbody>\n",
       "    <tr>\n",
       "      <th>0</th>\n",
       "      <td>0.590</td>\n",
       "      <td>0.372</td>\n",
       "      <td>0</td>\n",
       "      <td>0.057</td>\n",
       "      <td>2</td>\n",
       "      <td>0.280764</td>\n",
       "      <td>-345.36</td>\n",
       "      <td>162.78</td>\n",
       "    </tr>\n",
       "    <tr>\n",
       "      <th>1</th>\n",
       "      <td>0.606</td>\n",
       "      <td>0.059</td>\n",
       "      <td>0</td>\n",
       "      <td>0.167</td>\n",
       "      <td>0</td>\n",
       "      <td>1.000000</td>\n",
       "      <td>8.55</td>\n",
       "      <td>27.38</td>\n",
       "    </tr>\n",
       "  </tbody>\n",
       "</table>\n",
       "</div>"
      ],
      "text/plain": [
       "   cons_density  stress_value  token_redundance  sentiment_score  \\\n",
       "0         0.590         0.372                 0            0.057   \n",
       "1         0.606         0.059                 0            0.167   \n",
       "\n",
       "   unusual_word_count  coherence_score  reading_ease  readability_score  \n",
       "0                   2         0.280764       -345.36             162.78  \n",
       "1                   0         1.000000          8.55              27.38  "
      ]
     },
     "execution_count": 36,
     "metadata": {},
     "output_type": "execute_result"
    }
   ],
   "source": [
    "df_features_num.head(2)"
   ]
  },
  {
   "cell_type": "code",
   "execution_count": 37,
   "metadata": {},
   "outputs": [
    {
     "data": {
      "text/html": [
       "<div>\n",
       "<style scoped>\n",
       "    .dataframe tbody tr th:only-of-type {\n",
       "        vertical-align: middle;\n",
       "    }\n",
       "\n",
       "    .dataframe tbody tr th {\n",
       "        vertical-align: top;\n",
       "    }\n",
       "\n",
       "    .dataframe thead th {\n",
       "        text-align: right;\n",
       "    }\n",
       "</style>\n",
       "<table border=\"1\" class=\"dataframe\">\n",
       "  <thead>\n",
       "    <tr style=\"text-align: right;\">\n",
       "      <th></th>\n",
       "      <th>cons_density</th>\n",
       "      <th>stress_value</th>\n",
       "      <th>token_redundance</th>\n",
       "      <th>sentiment_score</th>\n",
       "      <th>unusual_word_count</th>\n",
       "      <th>coherence_score</th>\n",
       "      <th>reading_ease</th>\n",
       "      <th>readability_score</th>\n",
       "    </tr>\n",
       "  </thead>\n",
       "  <tbody>\n",
       "    <tr>\n",
       "      <th>0</th>\n",
       "      <td>-1.233765</td>\n",
       "      <td>-0.329036</td>\n",
       "      <td>-0.031639</td>\n",
       "      <td>-0.678909</td>\n",
       "      <td>-0.418062</td>\n",
       "      <td>-0.473184</td>\n",
       "      <td>0.301524</td>\n",
       "      <td>-0.313428</td>\n",
       "    </tr>\n",
       "    <tr>\n",
       "      <th>1</th>\n",
       "      <td>-0.057140</td>\n",
       "      <td>-0.633328</td>\n",
       "      <td>-0.031639</td>\n",
       "      <td>0.479549</td>\n",
       "      <td>-0.595470</td>\n",
       "      <td>1.953661</td>\n",
       "      <td>0.611637</td>\n",
       "      <td>-0.615514</td>\n",
       "    </tr>\n",
       "  </tbody>\n",
       "</table>\n",
       "</div>"
      ],
      "text/plain": [
       "   cons_density  stress_value  token_redundance  sentiment_score  \\\n",
       "0     -1.233765     -0.329036         -0.031639        -0.678909   \n",
       "1     -0.057140     -0.633328         -0.031639         0.479549   \n",
       "\n",
       "   unusual_word_count  coherence_score  reading_ease  readability_score  \n",
       "0           -0.418062        -0.473184      0.301524          -0.313428  \n",
       "1           -0.595470         1.953661      0.611637          -0.615514  "
      ]
     },
     "execution_count": 37,
     "metadata": {},
     "output_type": "execute_result"
    }
   ],
   "source": [
    "df_features_num_scaled.head(2)"
   ]
  },
  {
   "cell_type": "code",
   "execution_count": 38,
   "metadata": {},
   "outputs": [
    {
     "data": {
      "text/html": [
       "<div>\n",
       "<style scoped>\n",
       "    .dataframe tbody tr th:only-of-type {\n",
       "        vertical-align: middle;\n",
       "    }\n",
       "\n",
       "    .dataframe tbody tr th {\n",
       "        vertical-align: top;\n",
       "    }\n",
       "\n",
       "    .dataframe thead th {\n",
       "        text-align: right;\n",
       "    }\n",
       "</style>\n",
       "<table border=\"1\" class=\"dataframe\">\n",
       "  <thead>\n",
       "    <tr style=\"text-align: right;\">\n",
       "      <th></th>\n",
       "      <th>cons_density</th>\n",
       "      <th>stress_value</th>\n",
       "      <th>token_redundance</th>\n",
       "      <th>sentiment_score</th>\n",
       "      <th>unusual_word_count</th>\n",
       "      <th>coherence_score</th>\n",
       "      <th>reading_ease</th>\n",
       "      <th>readability_score</th>\n",
       "      <th>0</th>\n",
       "      <th>1</th>\n",
       "      <th>...</th>\n",
       "      <th>502</th>\n",
       "      <th>503</th>\n",
       "      <th>504</th>\n",
       "      <th>505</th>\n",
       "      <th>506</th>\n",
       "      <th>507</th>\n",
       "      <th>508</th>\n",
       "      <th>509</th>\n",
       "      <th>510</th>\n",
       "      <th>511</th>\n",
       "    </tr>\n",
       "  </thead>\n",
       "  <tbody>\n",
       "    <tr>\n",
       "      <th>0</th>\n",
       "      <td>-1.233765</td>\n",
       "      <td>-0.329036</td>\n",
       "      <td>-0.031639</td>\n",
       "      <td>-0.678909</td>\n",
       "      <td>-0.418062</td>\n",
       "      <td>-0.473184</td>\n",
       "      <td>0.301524</td>\n",
       "      <td>-0.313428</td>\n",
       "      <td>0.673815</td>\n",
       "      <td>0.152193</td>\n",
       "      <td>...</td>\n",
       "      <td>0.330580</td>\n",
       "      <td>0.173772</td>\n",
       "      <td>0.661736</td>\n",
       "      <td>-0.989501</td>\n",
       "      <td>0.569629</td>\n",
       "      <td>0.997729</td>\n",
       "      <td>0.502222</td>\n",
       "      <td>-0.227318</td>\n",
       "      <td>-0.604873</td>\n",
       "      <td>-0.651260</td>\n",
       "    </tr>\n",
       "    <tr>\n",
       "      <th>1</th>\n",
       "      <td>-0.057140</td>\n",
       "      <td>-0.633328</td>\n",
       "      <td>-0.031639</td>\n",
       "      <td>0.479549</td>\n",
       "      <td>-0.595470</td>\n",
       "      <td>1.953661</td>\n",
       "      <td>0.611637</td>\n",
       "      <td>-0.615514</td>\n",
       "      <td>0.998736</td>\n",
       "      <td>0.925435</td>\n",
       "      <td>...</td>\n",
       "      <td>0.152673</td>\n",
       "      <td>-0.177772</td>\n",
       "      <td>0.449338</td>\n",
       "      <td>-0.250680</td>\n",
       "      <td>0.626772</td>\n",
       "      <td>0.371680</td>\n",
       "      <td>0.122930</td>\n",
       "      <td>0.225661</td>\n",
       "      <td>-0.330870</td>\n",
       "      <td>-0.477548</td>\n",
       "    </tr>\n",
       "  </tbody>\n",
       "</table>\n",
       "<p>2 rows × 520 columns</p>\n",
       "</div>"
      ],
      "text/plain": [
       "   cons_density  stress_value  token_redundance  sentiment_score  \\\n",
       "0     -1.233765     -0.329036         -0.031639        -0.678909   \n",
       "1     -0.057140     -0.633328         -0.031639         0.479549   \n",
       "\n",
       "   unusual_word_count  coherence_score  reading_ease  readability_score  \\\n",
       "0           -0.418062        -0.473184      0.301524          -0.313428   \n",
       "1           -0.595470         1.953661      0.611637          -0.615514   \n",
       "\n",
       "          0         1  ...       502       503       504       505       506  \\\n",
       "0  0.673815  0.152193  ...  0.330580  0.173772  0.661736 -0.989501  0.569629   \n",
       "1  0.998736  0.925435  ...  0.152673 -0.177772  0.449338 -0.250680  0.626772   \n",
       "\n",
       "        507       508       509       510       511  \n",
       "0  0.997729  0.502222 -0.227318 -0.604873 -0.651260  \n",
       "1  0.371680  0.122930  0.225661 -0.330870 -0.477548  \n",
       "\n",
       "[2 rows x 520 columns]"
      ]
     },
     "execution_count": 38,
     "metadata": {},
     "output_type": "execute_result"
    }
   ],
   "source": [
    "# Merge embedding into df for training\n",
    "\n",
    "bert_small_df = pd.DataFrame(bert_small_embeddings).reset_index(drop=True)\n",
    "bert_small_final_df = pd.concat([df_features_num_scaled, bert_small_df], axis=1)\n",
    "\n",
    "bert_small_final_df.head(2)"
   ]
  },
  {
   "cell_type": "code",
   "execution_count": 39,
   "metadata": {},
   "outputs": [],
   "source": [
    "# Added label back to df\n",
    "\n",
    "bert_small_final_df[\"label\"] = df_features[\"label\"].reset_index(drop=True)"
   ]
  },
  {
   "cell_type": "markdown",
   "metadata": {},
   "source": [
    "# Model Training & Evaluation"
   ]
  },
  {
   "cell_type": "code",
   "execution_count": 40,
   "metadata": {},
   "outputs": [],
   "source": [
    "# Split data for training\n",
    "\n",
    "# BERT-small\n",
    "X_bert_small = bert_small_final_df.drop(columns=[\"label\"]) # Keep only features & embeddings\n",
    "y_bert_small = bert_small_final_df[\"label\"] # Target column (AI vs. Human)\n",
    "\n",
    "X_train_bert_small, X_test_bert_small, y_train_bert_small, y_test_bert_small = train_test_split(\n",
    "  X_bert_small, y_bert_small, test_size=0.2, random_state=42)"
   ]
  },
  {
   "cell_type": "code",
   "execution_count": 41,
   "metadata": {},
   "outputs": [],
   "source": [
    "# Ensure input features (X) and y are float32\n",
    "\n",
    "X_train_bert_small = np.array(X_train_bert_small, dtype=np.float32)\n",
    "X_test_bert_small = np.array(X_test_bert_small, dtype=np.float32)\n",
    "\n",
    "y_train_bert_small = np.array(y_train_bert_small, dtype=np.float32).reshape(-1, 1)\n",
    "y_test_bert_small = np.array(y_test_bert_small, dtype=np.float32).reshape(-1, 1)"
   ]
  },
  {
   "cell_type": "code",
   "execution_count": 42,
   "metadata": {},
   "outputs": [
    {
     "data": {
      "text/plain": [
       "((800, 520), (200, 520), (800, 1), (200, 1))"
      ]
     },
     "execution_count": 42,
     "metadata": {},
     "output_type": "execute_result"
    }
   ],
   "source": [
    "X_train_bert_small.shape, X_test_bert_small.shape, y_train_bert_small.shape, y_test_bert_small.shape"
   ]
  },
  {
   "cell_type": "code",
   "execution_count": 43,
   "metadata": {},
   "outputs": [],
   "source": [
    "# Model training\n",
    "\n",
    "from tensorflow import keras\n",
    "from tensorflow.keras import layers, models, metrics\n",
    "\n",
    "def nn_model(input_shape):\n",
    "    \"\"\"Create a simple neural network model.\"\"\"\n",
    "    model = models.Sequential()\n",
    "    model.add(layers.Dense(256, activation=\"relu\", input_shape=(input_shape,)))\n",
    "    model.add(layers.Dense(128, activation=\"relu\"))\n",
    "    model.add(layers.Dense(1, activation=\"sigmoid\"))  # Binary classification (AI vs. Human)\n",
    "\n",
    "    model.compile(\n",
    "        optimizer=\"adam\",\n",
    "        loss=\"binary_crossentropy\",\n",
    "        metrics=[\n",
    "            \"accuracy\",\n",
    "            metrics.Precision(name=\"precision\"), # Out of all texts predicted as AI, how many are actually AI?\n",
    "            metrics.Recall(name=\"recall\"), # Out of all AI texts, how many were correctly identified?\n",
    "            metrics.AUC(name=\"roc_auc\")  # How well the model separates AI vs. Human?\n",
    "        ])\n",
    "\n",
    "    return model\n"
   ]
  },
  {
   "cell_type": "code",
   "execution_count": 44,
   "metadata": {},
   "outputs": [],
   "source": [
    "# Plot\n",
    "\n",
    "def plot_training_history(history):\n",
    "    \"\"\"Plot training & validation accuracy and loss curves.\"\"\"\n",
    "\n",
    "    # Extract metrics from history\n",
    "    acc = history.history['accuracy']\n",
    "    val_acc = history.history['val_accuracy']\n",
    "    loss = history.history['loss']\n",
    "    val_loss = history.history['val_loss']\n",
    "\n",
    "    epochs = range(1, len(acc) + 1)\n",
    "\n",
    "    plt.figure(figsize=(8, 4))\n",
    "    # Plot loss\n",
    "    plt.subplot(1, 2, 1)\n",
    "    plt.plot(epochs, loss, 'b-', label='Training Loss')\n",
    "    plt.plot(epochs, val_loss, 'r-', label='Validation Loss')\n",
    "    plt.title('Training and Validation Loss')\n",
    "    plt.xlabel('Epochs')\n",
    "    plt.ylabel('Loss')\n",
    "    plt.legend()\n",
    "    # Plot accuracy\n",
    "    plt.subplot(1, 2, 2)\n",
    "    plt.plot(epochs, acc, 'b-', label='Training Accuracy')\n",
    "    plt.plot(epochs, val_acc, 'r-', label='Validation Accuracy')\n",
    "    plt.title('Training and Validation Accuracy')\n",
    "    plt.xlabel('Epochs')\n",
    "    plt.ylabel('Accuracy')\n",
    "    plt.legend()\n",
    "    plt.show()\n"
   ]
  },
  {
   "cell_type": "code",
   "execution_count": 45,
   "metadata": {},
   "outputs": [
    {
     "name": "stdout",
     "output_type": "stream",
     "text": [
      "7/7 [==============================] - 0s 9ms/step - loss: 0.3623 - accuracy: 0.8550 - precision: 0.8208 - recall: 0.8969 - roc_auc: 0.9219\n",
      "Test Loss: 0.3622724115848541\n",
      "Test Accuracy: 0.8550000190734863\n",
      "Test Precision: 0.8207547068595886\n",
      "Test Recall: 0.8969072103500366\n",
      "Test ROC AUC: 0.9218797087669373\n"
     ]
    }
   ],
   "source": [
    "# Train model on BERT-small embeddings\n",
    "\n",
    "es = EarlyStopping(monitor='val_loss', patience=10, restore_best_weights=True)\n",
    "\n",
    "model_bert_small = nn_model(X_train_bert_small.shape[1])\n",
    "\n",
    "history_bert_small = model_bert_small.fit(\n",
    "    X_train_bert_small, y_train_bert_small,\n",
    "    epochs=200, batch_size=32,\n",
    "    validation_data=(X_test_bert_small, y_test_bert_small),\n",
    "    callbacks=[es],\n",
    "    verbose=0)\n",
    "\n",
    "bert_small_results = model_bert_small.evaluate(X_test_bert_small, y_test_bert_small)\n",
    "\n",
    "print(\"Test Loss:\", bert_small_results[0])\n",
    "print(\"Test Accuracy:\", bert_small_results[1])\n",
    "print(\"Test Precision:\", bert_small_results[2])\n",
    "print(\"Test Recall:\", bert_small_results[3])\n",
    "print(\"Test ROC AUC:\", bert_small_results[4])\n"
   ]
  },
  {
   "cell_type": "code",
   "execution_count": 46,
   "metadata": {},
   "outputs": [
    {
     "data": {
      "image/png": "[encoded data removed]",
      "text/plain": [
       "<Figure size 800x400 with 2 Axes>"
      ]
     },
     "metadata": {},
     "output_type": "display_data"
    }
   ],
   "source": [
    "plot_training_history(history_bert_small)"
   ]
  },
  {
   "cell_type": "code",
   "execution_count": 47,
   "metadata": {},
   "outputs": [
    {
     "name": "stdout",
     "output_type": "stream",
     "text": [
      "7/7 [==============================] - 0s 5ms/step\n",
      "              precision    recall  f1-score   support\n",
      "\n",
      "         0.0       0.89      0.82      0.85       103\n",
      "         1.0       0.82      0.90      0.86        97\n",
      "\n",
      "    accuracy                           0.85       200\n",
      "   macro avg       0.86      0.86      0.85       200\n",
      "weighted avg       0.86      0.85      0.85       200\n",
      "\n"
     ]
    }
   ],
   "source": [
    "# BERT-small Test performance\n",
    "\n",
    "y_pred_bert_small = model_bert_small.predict(X_test_bert_small).round()\n",
    "\n",
    "print(classification_report(y_test_bert_small, y_pred_bert_small))"
   ]
  },
  {
   "cell_type": "code",
   "execution_count": 48,
   "metadata": {},
   "outputs": [
    {
     "data": {
      "image/png": "[encoded data removed]",
      "text/plain": [
       "<Figure size 500x400 with 2 Axes>"
      ]
     },
     "metadata": {},
     "output_type": "display_data"
    }
   ],
   "source": [
    "# Confusion Matrix - BERTsmall\n",
    "\n",
    "bert_small_cm = confusion_matrix(y_test_bert_small, y_pred_bert_small)\n",
    "plt.figure(figsize=(5,4))\n",
    "sns.heatmap(bert_small_cm, annot=True, fmt='d', cmap='Blues', xticklabels=['Human (0)', 'AI (1)'], yticklabels=['Human (0)', 'AI (1)'])\n",
    "plt.xlabel(\"Predicted\")\n",
    "plt.ylabel(\"Actual\")\n",
    "plt.title(\"BERT-small Confusion Matrix\");"
   ]
  },
  {
   "cell_type": "markdown",
   "metadata": {},
   "source": [
    "# Prediction"
   ]
  },
  {
   "cell_type": "code",
   "execution_count": 49,
   "metadata": {},
   "outputs": [],
   "source": [
    "def extract_features_single(sentence):\n",
    "    \"\"\"\n",
    "    Extracts features from a single text string (only used for prediction).\n",
    "    \"\"\"\n",
    "    return [\n",
    "        cons_density(sentence),\n",
    "        get_sentence_stress(sentence) / len(sentence) if len(sentence) > 0 else 0,  # Avoid division by zero\n",
    "        redundance(sentence),\n",
    "        sentiment_polarity(sentence),\n",
    "        word_choice(sentence),\n",
    "        coherence(sentence),\n",
    "        reading_ease(sentence),\n",
    "        gunning_fog(sentence)]\n"
   ]
  },
  {
   "cell_type": "code",
   "execution_count": 50,
   "metadata": {},
   "outputs": [],
   "source": [
    "def preprocess_input(sentence):\n",
    "    \"\"\"\n",
    "    Processes a raw input sentence by applying the same cleaning, feature extraction,\n",
    "    and embedding steps used during training.\n",
    "    \"\"\"\n",
    "    cleaned_text = text_cleaning(sentence)  # Clean the text\n",
    "    extracted_features = extract_features_single(cleaned_text)  # Feature extraction for single sentence\n",
    "    embedding = get_embeddings([cleaned_text], bert_small_model, bert_small_preprocess).flatten()  # Extract embeddings\n",
    "    extracted_features_scaled = scaler.transform([extracted_features]) # Scale extracted features\n",
    "    final_input = np.concatenate([extracted_features_scaled.flatten(), embedding]) # Merge embeddings with scaled features\n",
    "\n",
    "    return final_input.reshape(1, -1)  # Ensure correct shape for model"
   ]
  },
  {
   "cell_type": "code",
   "execution_count": 51,
   "metadata": {},
   "outputs": [],
   "source": [
    "def predict_text(sentence):\n",
    "    \"\"\"\n",
    "    Predict whether an input sentence is AI or Human-generated.\n",
    "    \"\"\"\n",
    "    # Process the input sentence (apply same transformations as training)\n",
    "    preproc_input = preprocess_input(sentence)\n",
    "\n",
    "    # Predict using the trained model\n",
    "    prediction_prob = model_bert_small.predict(preproc_input)[0][0]\n",
    "    prediction = \"AI\" if prediction_prob > 0.5 else \"Human\"\n",
    "\n",
    "    return prediction, round(prediction_prob, 2)"
   ]
  },
  {
   "cell_type": "code",
   "execution_count": 52,
   "metadata": {},
   "outputs": [
    {
     "data": {
      "text/html": [
       "<div>\n",
       "<style scoped>\n",
       "    .dataframe tbody tr th:only-of-type {\n",
       "        vertical-align: middle;\n",
       "    }\n",
       "\n",
       "    .dataframe tbody tr th {\n",
       "        vertical-align: top;\n",
       "    }\n",
       "\n",
       "    .dataframe thead th {\n",
       "        text-align: right;\n",
       "    }\n",
       "</style>\n",
       "<table border=\"1\" class=\"dataframe\">\n",
       "  <thead>\n",
       "    <tr style=\"text-align: right;\">\n",
       "      <th></th>\n",
       "      <th>text</th>\n",
       "      <th>source</th>\n",
       "      <th>text_length</th>\n",
       "      <th>word_count</th>\n",
       "      <th>contains_numbers</th>\n",
       "      <th>contains_special_chars</th>\n",
       "    </tr>\n",
       "  </thead>\n",
       "  <tbody>\n",
       "    <tr>\n",
       "      <th>995</th>\n",
       "      <td>Please write a response to ONE of the prompts ...</td>\n",
       "      <td>Human</td>\n",
       "      <td>4259</td>\n",
       "      <td>790</td>\n",
       "      <td>True</td>\n",
       "      <td>True</td>\n",
       "    </tr>\n",
       "    <tr>\n",
       "      <th>996</th>\n",
       "      <td>Snap's next-gen Spectacles will be able to lay...</td>\n",
       "      <td>Human</td>\n",
       "      <td>437</td>\n",
       "      <td>68</td>\n",
       "      <td>True</td>\n",
       "      <td>True</td>\n",
       "    </tr>\n",
       "    <tr>\n",
       "      <th>997</th>\n",
       "      <td>Visual Place Recognition (VPR) is the ability ...</td>\n",
       "      <td>AI</td>\n",
       "      <td>382</td>\n",
       "      <td>58</td>\n",
       "      <td>False</td>\n",
       "      <td>True</td>\n",
       "    </tr>\n",
       "    <tr>\n",
       "      <th>998</th>\n",
       "      <td>Addressing Ex-Felon Disenfranchisement Essay\\n...</td>\n",
       "      <td>Human</td>\n",
       "      <td>32647</td>\n",
       "      <td>4997</td>\n",
       "      <td>True</td>\n",
       "      <td>True</td>\n",
       "    </tr>\n",
       "    <tr>\n",
       "      <th>999</th>\n",
       "      <td>The antiques, valued at between PS2,000 and PS...</td>\n",
       "      <td>AI</td>\n",
       "      <td>822</td>\n",
       "      <td>142</td>\n",
       "      <td>True</td>\n",
       "      <td>True</td>\n",
       "    </tr>\n",
       "  </tbody>\n",
       "</table>\n",
       "</div>"
      ],
      "text/plain": [
       "                                                  text source  text_length  \\\n",
       "995  Please write a response to ONE of the prompts ...  Human         4259   \n",
       "996  Snap's next-gen Spectacles will be able to lay...  Human          437   \n",
       "997  Visual Place Recognition (VPR) is the ability ...     AI          382   \n",
       "998  Addressing Ex-Felon Disenfranchisement Essay\\n...  Human        32647   \n",
       "999  The antiques, valued at between PS2,000 and PS...     AI          822   \n",
       "\n",
       "     word_count  contains_numbers  contains_special_chars  \n",
       "995         790              True                    True  \n",
       "996          68              True                    True  \n",
       "997          58             False                    True  \n",
       "998        4997              True                    True  \n",
       "999         142              True                    True  "
      ]
     },
     "execution_count": 52,
     "metadata": {},
     "output_type": "execute_result"
    }
   ],
   "source": [
    "df.tail()"
   ]
  },
  {
   "cell_type": "code",
   "execution_count": 53,
   "metadata": {},
   "outputs": [
    {
     "name": "stdout",
     "output_type": "stream",
     "text": [
      "1/1 [==============================] - 0s 56ms/step\n",
      "Prediction: ('Human', 0.42)\n",
      "Actual: Human\n"
     ]
    },
    {
     "name": "stderr",
     "output_type": "stream",
     "text": [
      "/home/eetil1818/.pyenv/versions/3.10.6/envs/fake-data-detector/lib/python3.10/site-packages/sklearn/utils/validation.py:2739: UserWarning: X does not have valid feature names, but StandardScaler was fitted with feature names\n",
      "  warnings.warn(\n"
     ]
    }
   ],
   "source": [
    "sentence = df[\"text\"][5]\n",
    "result = predict_text(sentence)\n",
    "\n",
    "print(f\"Prediction: {result}\")\n",
    "print(f\"Actual: {df['source'][5]}\")"
   ]
  }
 ],
 "metadata": {
  "kernelspec": {
   "display_name": "fake-data-detector",
   "language": "python",
   "name": "python3"
  },
  "language_info": {
   "codemirror_mode": {
    "name": "ipython",
    "version": 3
   },
   "file_extension": ".py",
   "mimetype": "text/x-python",
   "name": "python",
   "nbconvert_exporter": "python",
   "pygments_lexer": "ipython3",
   "version": "3.10.6"
  }
 },
 "nbformat": 4,
 "nbformat_minor": 2
}
