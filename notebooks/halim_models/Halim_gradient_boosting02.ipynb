{
 "cells": [
  {
   "cell_type": "code",
   "execution_count": null,
   "metadata": {},
   "outputs": [],
   "source": [
    "import os\n",
    "\n",
    "import pandas as pd\n",
    "import numpy as np\n",
    "import seaborn as sns\n",
    "import matplotlib.pyplot as plt\n",
    "%matplotlib inline\n",
    "\n",
    "import re\n",
    "import string\n",
    "import nltk\n",
    "from nltk.corpus import wordnet, cmudict, stopwords\n",
    "from nltk.tokenize import word_tokenize\n",
    "from nltk.stem import WordNetLemmatizer\n",
    "#nltk.download('punkt')\n",
    "#nltk.download('punkt_tab')\n",
    "#nltk.download('stopwords')\n",
    "#nltk.download('wordnet')\n",
    "#nltk.download('averaged_perceptron_tagger_eng')\n",
    "\n",
    "from textblob import TextBlob\n",
    "from gensim.models import LsiModel\n",
    "from gensim import corpora\n",
    "from gensim.models.coherencemodel import CoherenceModel\n",
    "from collections import Counter\n",
    "import textstat\n",
    "\n",
    "from sklearn.model_selection import train_test_split\n",
    "from sklearn.preprocessing import StandardScaler\n",
    "from sklearn.metrics import confusion_matrix, classification_report, accuracy_score, roc_auc_score, precision_score, recall_score, log_loss\n",
    "from sklearn.feature_extraction.text import TfidfVectorizer\n",
    "from sklearn.ensemble import GradientBoostingClassifier\n",
    "\n",
    "from scipy.sparse import hstack"
   ]
  },
  {
   "cell_type": "code",
   "execution_count": null,
   "metadata": {},
   "outputs": [
    {
     "data": {
      "text/html": [
       "<div>\n",
       "<style scoped>\n",
       "    .dataframe tbody tr th:only-of-type {\n",
       "        vertical-align: middle;\n",
       "    }\n",
       "\n",
       "    .dataframe tbody tr th {\n",
       "        vertical-align: top;\n",
       "    }\n",
       "\n",
       "    .dataframe thead th {\n",
       "        text-align: right;\n",
       "    }\n",
       "</style>\n",
       "<table border=\"1\" class=\"dataframe\">\n",
       "  <thead>\n",
       "    <tr style=\"text-align: right;\">\n",
       "      <th></th>\n",
       "      <th>text</th>\n",
       "      <th>source</th>\n",
       "      <th>prompt_id</th>\n",
       "      <th>text_length</th>\n",
       "      <th>word_count</th>\n",
       "    </tr>\n",
       "  </thead>\n",
       "  <tbody>\n",
       "    <tr>\n",
       "      <th>0</th>\n",
       "      <td>The Philosophy and Ethics of Transhumanism\\n\\n...</td>\n",
       "      <td>GPT-3.5</td>\n",
       "      <td>1920</td>\n",
       "      <td>2558</td>\n",
       "      <td>394</td>\n",
       "    </tr>\n",
       "    <tr>\n",
       "      <th>1</th>\n",
       "      <td>Crime-tracking app Citizen is launching its ow...</td>\n",
       "      <td>Flan-T5-XXL</td>\n",
       "      <td>0</td>\n",
       "      <td>378</td>\n",
       "      <td>62</td>\n",
       "    </tr>\n",
       "    <tr>\n",
       "      <th>2</th>\n",
       "      <td>The court in Novorossiysk gave two of the danc...</td>\n",
       "      <td>GLM-130B</td>\n",
       "      <td>0</td>\n",
       "      <td>621</td>\n",
       "      <td>109</td>\n",
       "    </tr>\n",
       "    <tr>\n",
       "      <th>3</th>\n",
       "      <td>then drops the drumsticks, poses, then walks o...</td>\n",
       "      <td>GPT-J</td>\n",
       "      <td>0</td>\n",
       "      <td>513</td>\n",
       "      <td>90</td>\n",
       "    </tr>\n",
       "    <tr>\n",
       "      <th>4</th>\n",
       "      <td>On tally went to the beach. She found a sand d...</td>\n",
       "      <td>GPT-J</td>\n",
       "      <td>0</td>\n",
       "      <td>4984</td>\n",
       "      <td>846</td>\n",
       "    </tr>\n",
       "  </tbody>\n",
       "</table>\n",
       "</div>"
      ],
      "text/plain": [
       "                                                text       source  prompt_id  \\\n",
       "0  The Philosophy and Ethics of Transhumanism\\n\\n...      GPT-3.5       1920   \n",
       "1  Crime-tracking app Citizen is launching its ow...  Flan-T5-XXL          0   \n",
       "2  The court in Novorossiysk gave two of the danc...     GLM-130B          0   \n",
       "3  then drops the drumsticks, poses, then walks o...        GPT-J          0   \n",
       "4  On tally went to the beach. She found a sand d...        GPT-J          0   \n",
       "\n",
       "   text_length  word_count  \n",
       "0         2558         394  \n",
       "1          378          62  \n",
       "2          621         109  \n",
       "3          513          90  \n",
       "4         4984         846  "
      ]
     },
     "execution_count": 48,
     "metadata": {},
     "output_type": "execute_result"
    }
   ],
   "source": [
    "data = pd.read_csv(\"../../data/1k_sampled_dataset.csv\", encoding=\"utf-8\")\n",
    "data.head()"
   ]
  },
  {
   "cell_type": "markdown",
   "metadata": {},
   "source": [
    "# Data Exploration"
   ]
  },
  {
   "cell_type": "code",
   "execution_count": 49,
   "metadata": {},
   "outputs": [
    {
     "data": {
      "text/html": [
       "<div>\n",
       "<style scoped>\n",
       "    .dataframe tbody tr th:only-of-type {\n",
       "        vertical-align: middle;\n",
       "    }\n",
       "\n",
       "    .dataframe tbody tr th {\n",
       "        vertical-align: top;\n",
       "    }\n",
       "\n",
       "    .dataframe thead th {\n",
       "        text-align: right;\n",
       "    }\n",
       "</style>\n",
       "<table border=\"1\" class=\"dataframe\">\n",
       "  <thead>\n",
       "    <tr style=\"text-align: right;\">\n",
       "      <th></th>\n",
       "      <th>text</th>\n",
       "      <th>source</th>\n",
       "      <th>text_length</th>\n",
       "      <th>word_count</th>\n",
       "    </tr>\n",
       "  </thead>\n",
       "  <tbody>\n",
       "    <tr>\n",
       "      <th>0</th>\n",
       "      <td>The Philosophy and Ethics of Transhumanism\\n\\n...</td>\n",
       "      <td>AI</td>\n",
       "      <td>2558</td>\n",
       "      <td>394</td>\n",
       "    </tr>\n",
       "    <tr>\n",
       "      <th>1</th>\n",
       "      <td>Crime-tracking app Citizen is launching its ow...</td>\n",
       "      <td>AI</td>\n",
       "      <td>378</td>\n",
       "      <td>62</td>\n",
       "    </tr>\n",
       "    <tr>\n",
       "      <th>2</th>\n",
       "      <td>The court in Novorossiysk gave two of the danc...</td>\n",
       "      <td>AI</td>\n",
       "      <td>621</td>\n",
       "      <td>109</td>\n",
       "    </tr>\n",
       "  </tbody>\n",
       "</table>\n",
       "</div>"
      ],
      "text/plain": [
       "                                                text source  text_length  \\\n",
       "0  The Philosophy and Ethics of Transhumanism\\n\\n...     AI         2558   \n",
       "1  Crime-tracking app Citizen is launching its ow...     AI          378   \n",
       "2  The court in Novorossiysk gave two of the danc...     AI          621   \n",
       "\n",
       "   word_count  \n",
       "0         394  \n",
       "1          62  \n",
       "2         109  "
      ]
     },
     "execution_count": 49,
     "metadata": {},
     "output_type": "execute_result"
    }
   ],
   "source": [
    "df = data.copy()\n",
    "df[\"source\"] = df[\"source\"].apply(lambda x: \"AI\" if x != \"Human\" else x)\n",
    "df.drop(columns=\"prompt_id\", inplace=True)\n",
    "df.head(3)"
   ]
  },
  {
   "cell_type": "code",
   "execution_count": 50,
   "metadata": {},
   "outputs": [
    {
     "data": {
      "text/plain": [
       "source\n",
       "Human    0.559\n",
       "AI       0.441\n",
       "Name: proportion, dtype: float64"
      ]
     },
     "execution_count": 50,
     "metadata": {},
     "output_type": "execute_result"
    }
   ],
   "source": [
    "df[\"source\"].value_counts(normalize=True)"
   ]
  },
  {
   "cell_type": "code",
   "execution_count": 51,
   "metadata": {},
   "outputs": [
    {
     "name": "stdout",
     "output_type": "stream",
     "text": [
      "<class 'pandas.core.frame.DataFrame'>\n",
      "RangeIndex: 1000 entries, 0 to 999\n",
      "Data columns (total 4 columns):\n",
      " #   Column       Non-Null Count  Dtype \n",
      "---  ------       --------------  ----- \n",
      " 0   text         1000 non-null   object\n",
      " 1   source       1000 non-null   object\n",
      " 2   text_length  1000 non-null   int64 \n",
      " 3   word_count   1000 non-null   int64 \n",
      "dtypes: int64(2), object(2)\n",
      "memory usage: 31.4+ KB\n"
     ]
    }
   ],
   "source": [
    "df.info()"
   ]
  },
  {
   "cell_type": "code",
   "execution_count": 52,
   "metadata": {},
   "outputs": [
    {
     "data": {
      "image/png": "[encoded data removed]",
      "text/plain": [
       "<Figure size 1000x500 with 2 Axes>"
      ]
     },
     "metadata": {},
     "output_type": "display_data"
    }
   ],
   "source": [
    "fig, axes = plt.subplots(1, 2, figsize=(10, 5))\n",
    "\n",
    "axes[0].hist(df[\"text_length\"], bins=20, edgecolor=\"black\")\n",
    "axes[0].set_title(\"Text Length Distribution\")\n",
    "axes[0].set_xlabel(\"Text Length\")\n",
    "axes[0].set_ylabel(\"Frequency\")\n",
    "\n",
    "axes[1].hist(df[\"word_count\"], bins=20, edgecolor=\"black\")\n",
    "axes[1].set_title(\"Word Count Distribution\")\n",
    "axes[1].set_xlabel(\"Word Count\")\n",
    "axes[1].set_ylabel(\"Frequency\")\n",
    "\n",
    "plt.show()\n"
   ]
  },
  {
   "cell_type": "code",
   "execution_count": 53,
   "metadata": {},
   "outputs": [
    {
     "data": {
      "text/html": [
       "<div>\n",
       "<style scoped>\n",
       "    .dataframe tbody tr th:only-of-type {\n",
       "        vertical-align: middle;\n",
       "    }\n",
       "\n",
       "    .dataframe tbody tr th {\n",
       "        vertical-align: top;\n",
       "    }\n",
       "\n",
       "    .dataframe thead th {\n",
       "        text-align: right;\n",
       "    }\n",
       "</style>\n",
       "<table border=\"1\" class=\"dataframe\">\n",
       "  <thead>\n",
       "    <tr style=\"text-align: right;\">\n",
       "      <th></th>\n",
       "      <th>text</th>\n",
       "      <th>source</th>\n",
       "      <th>text_length</th>\n",
       "      <th>word_count</th>\n",
       "      <th>contains_numbers</th>\n",
       "      <th>contains_special_chars</th>\n",
       "    </tr>\n",
       "  </thead>\n",
       "  <tbody>\n",
       "    <tr>\n",
       "      <th>0</th>\n",
       "      <td>The Philosophy and Ethics of Transhumanism\\n\\n...</td>\n",
       "      <td>AI</td>\n",
       "      <td>2558</td>\n",
       "      <td>394</td>\n",
       "      <td>False</td>\n",
       "      <td>True</td>\n",
       "    </tr>\n",
       "    <tr>\n",
       "      <th>1</th>\n",
       "      <td>Crime-tracking app Citizen is launching its ow...</td>\n",
       "      <td>AI</td>\n",
       "      <td>378</td>\n",
       "      <td>62</td>\n",
       "      <td>True</td>\n",
       "      <td>True</td>\n",
       "    </tr>\n",
       "    <tr>\n",
       "      <th>2</th>\n",
       "      <td>The court in Novorossiysk gave two of the danc...</td>\n",
       "      <td>AI</td>\n",
       "      <td>621</td>\n",
       "      <td>109</td>\n",
       "      <td>True</td>\n",
       "      <td>True</td>\n",
       "    </tr>\n",
       "    <tr>\n",
       "      <th>3</th>\n",
       "      <td>then drops the drumsticks, poses, then walks o...</td>\n",
       "      <td>AI</td>\n",
       "      <td>513</td>\n",
       "      <td>90</td>\n",
       "      <td>True</td>\n",
       "      <td>True</td>\n",
       "    </tr>\n",
       "    <tr>\n",
       "      <th>4</th>\n",
       "      <td>On tally went to the beach. She found a sand d...</td>\n",
       "      <td>AI</td>\n",
       "      <td>4984</td>\n",
       "      <td>846</td>\n",
       "      <td>False</td>\n",
       "      <td>True</td>\n",
       "    </tr>\n",
       "  </tbody>\n",
       "</table>\n",
       "</div>"
      ],
      "text/plain": [
       "                                                text source  text_length  \\\n",
       "0  The Philosophy and Ethics of Transhumanism\\n\\n...     AI         2558   \n",
       "1  Crime-tracking app Citizen is launching its ow...     AI          378   \n",
       "2  The court in Novorossiysk gave two of the danc...     AI          621   \n",
       "3  then drops the drumsticks, poses, then walks o...     AI          513   \n",
       "4  On tally went to the beach. She found a sand d...     AI         4984   \n",
       "\n",
       "   word_count  contains_numbers  contains_special_chars  \n",
       "0         394             False                    True  \n",
       "1          62              True                    True  \n",
       "2         109              True                    True  \n",
       "3          90              True                    True  \n",
       "4         846             False                    True  "
      ]
     },
     "execution_count": 53,
     "metadata": {},
     "output_type": "execute_result"
    }
   ],
   "source": [
    "# Check if text column contains numbers and special characters\n",
    "\n",
    "df[\"contains_numbers\"] = df[\"text\"].str.contains(r\"\\d\", regex=True)\n",
    "df[\"contains_special_chars\"] = df[\"text\"].str.contains(r\"[^\\w\\s]\", regex=True)\n",
    "\n",
    "df.head()"
   ]
  },
  {
   "cell_type": "code",
   "execution_count": 54,
   "metadata": {},
   "outputs": [
    {
     "data": {
      "image/png": "[encoded data removed]",
      "text/plain": [
       "<Figure size 1000x400 with 2 Axes>"
      ]
     },
     "metadata": {},
     "output_type": "display_data"
    }
   ],
   "source": [
    "fig, axes = plt.subplots(1, 2, figsize=(10, 4))\n",
    "\n",
    "sns.barplot(x=df[\"source\"], y=df[\"contains_numbers\"], ax=axes[0])\n",
    "axes[0].set_title(\"Text Containing Number Proportion\")\n",
    "\n",
    "sns.barplot(x=df[\"source\"], y=df[\"contains_special_chars\"], ax=axes[1])\n",
    "axes[1].set_title(\"Text Containing Special Chars Proportion\")\n",
    "\n",
    "plt.tight_layout();"
   ]
  },
  {
   "cell_type": "code",
   "execution_count": 55,
   "metadata": {},
   "outputs": [
    {
     "data": {
      "text/plain": [
       "contains_numbers\n",
       "True     634\n",
       "False    366\n",
       "Name: count, dtype: int64"
      ]
     },
     "execution_count": 55,
     "metadata": {},
     "output_type": "execute_result"
    }
   ],
   "source": [
    "df[\"contains_numbers\"].value_counts()"
   ]
  },
  {
   "cell_type": "code",
   "execution_count": 56,
   "metadata": {},
   "outputs": [
    {
     "data": {
      "text/plain": [
       "contains_special_chars\n",
       "True     999\n",
       "False      1\n",
       "Name: count, dtype: int64"
      ]
     },
     "execution_count": 56,
     "metadata": {},
     "output_type": "execute_result"
    }
   ],
   "source": [
    "df[\"contains_special_chars\"].value_counts()"
   ]
  },
  {
   "cell_type": "markdown",
   "metadata": {},
   "source": [
    "# Data Cleaning"
   ]
  },
  {
   "cell_type": "code",
   "execution_count": 57,
   "metadata": {},
   "outputs": [],
   "source": [
    "def text_cleaning(text):\n",
    "    # Remove punctuation\n",
    "    text = text.translate(str.maketrans('', '', string.punctuation))\n",
    "    # Remove numbers (optional)\n",
    "    text = re.sub(r'\\d+', '', text)\n",
    "    # Convert to lowercase\n",
    "    text = text.lower()\n",
    "    # Remove extra spaces\n",
    "    text = ' '.join(text.split())\n",
    "    return text"
   ]
  },
  {
   "cell_type": "code",
   "execution_count": 58,
   "metadata": {},
   "outputs": [
    {
     "data": {
      "text/plain": [
       "'on tally went to the beach she found a sand dollar along the shore she didnt know what to do with it she asked people along the beach if they knew how she could get rid of her pain but everyone had an idea except for one man who stood onshore and said that he knew nothing about such things she was worried because every day her mother remained in bed longer than usual the days were hot now so long as her mother remained indoors her friends father took her home just before noon when his shift ended at two oclock at nightfall while waiting for him to return from work anna fell asleep across doorsills where cooks walked up and down bringing food or going out looking for something else to eat her mother moaned all through their walk back to mijas until they reached the house this time nobody came and noone opened the door silence reigned inside too im getting cold her mother kept repeating youll have to keep me warm in vain did she try to lift herself off the mattress in vain did she call out to someone somebody would appear only to tell her there was no doctor coming to see her today tomorrow perhaps anna felt alone now alone without a soul around them nobody ate anything there wasnt even any bread left for themselves anymore after the last loaf disappeared into the mouths of those who lived inside no water either since neither chus nor rita drank enough and besides rita got so upset whenever anyone mentioned drinking anything that none dared ask her whether she wanted some tea or coffee or lemonade to ward off illness or why not lemonade might make you feel better anyway rita always put this thought forward but soon afterwards shed become angry again and shout angrily at whoever suggested taking her cup away why take my mierda shit away from me what are you doing here anyway i dont want your fucking shit in this place mijas became like a town under siege not everybody stayed at home some of the men began working elsewhere including chus others died early morning deaths and others continued living only the women refused to move or leave their houses as for the children they played outside whatever the weather they werent bothered by hunger which hadnt yet entered their little bodies it wouldnt be until later that theyd learn how much courage it takes to survive on very little even then they wouldnt understand for now boys like oriol cared more about building sandcastles than trying to save a drowning cat lying motionless near the sea wall that separated the beach from the park girls and girls alike whiled away the hours playing hide and seek amongst rocks among bushes in cork trees where once the previous summer theyd caught lizards skidding over dry leaves sometimes they climbed onto pieces of luggage that stuck up against walls or roof tiles or perched on empty beer kegs emptied for draining purposes that afternoon after school let out the boy arrived at the apartment wearing shorts instead of trousers though it had come dark by then he told sirena that on his way back he stopped at don eduardos flat next to the cathedral and saw first chloe passing in front of the window then the lady appeared at the balcony opening followed shortly by olivier he also related to sirena that both of them spoke together holding hands briefly before parting ways by chance sirena happened to overhear bits of conversation between them first olivier invited chloe down saying come on my darling were leaving right away seconds later she replied yes yes go ahead well follow you finally and unexpectedly olivier said goodbye walking slowly towards the exit leaning heavily on the railing his eyes focused squarely straight ahead but barely registering the few cars screeching past on avenida de la paz no sooner had he closed the heavy metal gate behind him than he slumped backward on top of the thick stone archways parapet edge clutching its iron bars tightly round his body banging himself hard against these sturdy supports several times before sliding silently to the ground below a moment earlier the woman sounded loudest most urgent especially when chloe answered almost immediately yes yesgo aheadfollow us sirena couldnt help wondering what exactly had been happening on the other side of the glass window had she seen him talking money to chloe or simply handing over cash bills to the girl maybe olivier had offered her a share of the winnings hadnt domingo said chloe sometimes accompanied the couple on trips to casinos was the girl using this opportunity to rob them if so maybe that explains everything sirena concluded blondie mustve killed olivier in order to steal the loot so when chloe announced surprisingly calmly lets go the blonde took over half a carousel considered serious business if indeed another real estate matterrattensay viable policymakers of having taken republittense'"
      ]
     },
     "execution_count": 58,
     "metadata": {},
     "output_type": "execute_result"
    }
   ],
   "source": [
    "# Testing text cleaning function\n",
    "\n",
    "text_cleaning(df[\"text\"].iloc[4])"
   ]
  },
  {
   "cell_type": "code",
   "execution_count": 59,
   "metadata": {},
   "outputs": [
    {
     "data": {
      "text/html": [
       "<div>\n",
       "<style scoped>\n",
       "    .dataframe tbody tr th:only-of-type {\n",
       "        vertical-align: middle;\n",
       "    }\n",
       "\n",
       "    .dataframe tbody tr th {\n",
       "        vertical-align: top;\n",
       "    }\n",
       "\n",
       "    .dataframe thead th {\n",
       "        text-align: right;\n",
       "    }\n",
       "</style>\n",
       "<table border=\"1\" class=\"dataframe\">\n",
       "  <thead>\n",
       "    <tr style=\"text-align: right;\">\n",
       "      <th></th>\n",
       "      <th>text</th>\n",
       "      <th>source</th>\n",
       "      <th>text_length</th>\n",
       "      <th>word_count</th>\n",
       "    </tr>\n",
       "  </thead>\n",
       "  <tbody>\n",
       "    <tr>\n",
       "      <th>0</th>\n",
       "      <td>The Philosophy and Ethics of Transhumanism\\n\\n...</td>\n",
       "      <td>AI</td>\n",
       "      <td>2558</td>\n",
       "      <td>394</td>\n",
       "    </tr>\n",
       "    <tr>\n",
       "      <th>1</th>\n",
       "      <td>Crime-tracking app Citizen is launching its ow...</td>\n",
       "      <td>AI</td>\n",
       "      <td>378</td>\n",
       "      <td>62</td>\n",
       "    </tr>\n",
       "    <tr>\n",
       "      <th>2</th>\n",
       "      <td>The court in Novorossiysk gave two of the danc...</td>\n",
       "      <td>AI</td>\n",
       "      <td>621</td>\n",
       "      <td>109</td>\n",
       "    </tr>\n",
       "    <tr>\n",
       "      <th>3</th>\n",
       "      <td>then drops the drumsticks, poses, then walks o...</td>\n",
       "      <td>AI</td>\n",
       "      <td>513</td>\n",
       "      <td>90</td>\n",
       "    </tr>\n",
       "    <tr>\n",
       "      <th>4</th>\n",
       "      <td>On tally went to the beach. She found a sand d...</td>\n",
       "      <td>AI</td>\n",
       "      <td>4984</td>\n",
       "      <td>846</td>\n",
       "    </tr>\n",
       "  </tbody>\n",
       "</table>\n",
       "</div>"
      ],
      "text/plain": [
       "                                                text source  text_length  \\\n",
       "0  The Philosophy and Ethics of Transhumanism\\n\\n...     AI         2558   \n",
       "1  Crime-tracking app Citizen is launching its ow...     AI          378   \n",
       "2  The court in Novorossiysk gave two of the danc...     AI          621   \n",
       "3  then drops the drumsticks, poses, then walks o...     AI          513   \n",
       "4  On tally went to the beach. She found a sand d...     AI         4984   \n",
       "\n",
       "   word_count  \n",
       "0         394  \n",
       "1          62  \n",
       "2         109  \n",
       "3          90  \n",
       "4         846  "
      ]
     },
     "execution_count": 59,
     "metadata": {},
     "output_type": "execute_result"
    }
   ],
   "source": [
    "df_clean = df.drop(columns=[\"contains_numbers\", \"contains_special_chars\"])\n",
    "df_clean.head()"
   ]
  },
  {
   "cell_type": "code",
   "execution_count": 60,
   "metadata": {},
   "outputs": [],
   "source": [
    "df_clean[\"clean_text\"] = df_clean[\"text\"].apply(text_cleaning)\n",
    "\n",
    "# Add new columns to label, calculate char and words in the cleaned_text\n",
    "df_clean[\"label\"] = df_clean[\"source\"].apply(lambda x: 1 if x == \"AI\" else 0) #AI=1, Human=0"
   ]
  },
  {
   "cell_type": "code",
   "execution_count": 61,
   "metadata": {},
   "outputs": [
    {
     "data": {
      "text/html": [
       "<div>\n",
       "<style scoped>\n",
       "    .dataframe tbody tr th:only-of-type {\n",
       "        vertical-align: middle;\n",
       "    }\n",
       "\n",
       "    .dataframe tbody tr th {\n",
       "        vertical-align: top;\n",
       "    }\n",
       "\n",
       "    .dataframe thead th {\n",
       "        text-align: right;\n",
       "    }\n",
       "</style>\n",
       "<table border=\"1\" class=\"dataframe\">\n",
       "  <thead>\n",
       "    <tr style=\"text-align: right;\">\n",
       "      <th></th>\n",
       "      <th>clean_text</th>\n",
       "      <th>label</th>\n",
       "    </tr>\n",
       "  </thead>\n",
       "  <tbody>\n",
       "    <tr>\n",
       "      <th>0</th>\n",
       "      <td>the philosophy and ethics of transhumanism tra...</td>\n",
       "      <td>1</td>\n",
       "    </tr>\n",
       "    <tr>\n",
       "      <th>1</th>\n",
       "      <td>crimetracking app citizen is launching its own...</td>\n",
       "      <td>1</td>\n",
       "    </tr>\n",
       "  </tbody>\n",
       "</table>\n",
       "</div>"
      ],
      "text/plain": [
       "                                          clean_text  label\n",
       "0  the philosophy and ethics of transhumanism tra...      1\n",
       "1  crimetracking app citizen is launching its own...      1"
      ]
     },
     "execution_count": 61,
     "metadata": {},
     "output_type": "execute_result"
    }
   ],
   "source": [
    "df_clean = df_clean[[\"clean_text\", \"label\"]]\n",
    "df_clean.head(2)"
   ]
  },
  {
   "cell_type": "markdown",
   "metadata": {},
   "source": [
    "# Feature Extraction - Copying Romaric's features"
   ]
  },
  {
   "cell_type": "code",
   "execution_count": 62,
   "metadata": {},
   "outputs": [],
   "source": [
    "# Consonnant Density\n",
    "def cons_density(text):\n",
    "    if not isinstance(text, str) or not text.strip():  # Handle NaN or empty strings\n",
    "        return 0.0\n",
    "    consonant = sum(1 for char in text if char.isalpha() and char not in \"aeiouAEIOU\")\n",
    "    vowel = sum(1 for char in text if char.isalpha() and char in \"aeiouAEIOU\")\n",
    "    return round((consonant/(vowel + consonant)),3)"
   ]
  },
  {
   "cell_type": "code",
   "execution_count": 63,
   "metadata": {},
   "outputs": [],
   "source": [
    "# Stress Pattern\n",
    "\n",
    "#nltk.download(\"cmudict\")\n",
    "cmu_dict = cmudict.dict()\n",
    "\n",
    "def get_word_stress(word):\n",
    "    if word in cmu_dict:\n",
    "        return sum(int(char) for syllable in cmu_dict[word][0] for char in syllable if char.isdigit())\n",
    "    return 0\n",
    "\n",
    "def get_sentence_stress(sentence):\n",
    "    if not isinstance(sentence, str) or not sentence.strip():\n",
    "        return 0  # Return 0 for empty input\n",
    "    words = sentence.split()\n",
    "    stress_values = [get_word_stress(word) for word in words]\n",
    "    return sum(stress_values)"
   ]
  },
  {
   "cell_type": "code",
   "execution_count": 64,
   "metadata": {},
   "outputs": [],
   "source": [
    "# Repetition and Redundancy\n",
    "\n",
    "def redundance(text):\n",
    "    # give a redundance score, considering the lenght of each text, if a lemmatized words appears more than three times the mean, it is considered redundant.\n",
    "    if not isinstance(text, str) or not text.strip():\n",
    "        return 0  # Handle empty or None inputs safely\n",
    "\n",
    "    tokens = word_tokenize(text)\n",
    "    stop_words = set(stopwords.words('english'))\n",
    "    clean_tokens = [w for w in tokens if w not in stop_words]\n",
    "\n",
    "    lemmatizer = WordNetLemmatizer()\n",
    "    final_lemmas = [lemmatizer.lemmatize(lemmatizer.lemmatize(word, 'v'), 'n') for word in clean_tokens]\n",
    "\n",
    "    word_counts = Counter(final_lemmas)\n",
    "    if len(word_counts) == 0:\n",
    "        return 0  # Prevent division by zero if no tokens remain\n",
    "\n",
    "    mean_freq = sum(word_counts.values()) / len(word_counts)\n",
    "\n",
    "    score = sum(1 for word, count in word_counts.items() if count > 3 * mean_freq)\n",
    "\n",
    "    return score"
   ]
  },
  {
   "cell_type": "code",
   "execution_count": 65,
   "metadata": {},
   "outputs": [],
   "source": [
    "# Emotion and personality with smoothing\n",
    "\n",
    "def sentiment_polarity(text):\n",
    "    \"\"\"Returns the absolute sentiment polarity (0 to 1), with adjustments for better balance.\"\"\"\n",
    "    if not isinstance(text, str) or not text.strip():\n",
    "        return 0.0  # Handle empty or None inputs safely\n",
    "\n",
    "    sent_pol = TextBlob(text).sentiment.polarity\n",
    "    abs_pol = abs(round(sent_pol, 3))\n",
    "\n",
    "    # Smoothing\n",
    "    if abs_pol < 0.1:  # Treat weak sentiment as neutral\n",
    "        return 0.0\n",
    "    if abs_pol > 0.8:  # Cap very strong sentiment to avoid over-amplification\n",
    "        return 0.8\n",
    "\n",
    "    return abs_pol"
   ]
  },
  {
   "cell_type": "code",
   "execution_count": 66,
   "metadata": {},
   "outputs": [],
   "source": [
    "# Unusual word choice\n",
    "\n",
    "def word_choice(text):\n",
    "    \"\"\"Counts occurrences of AI-associated words in the text.\"\"\"\n",
    "    if not isinstance(text, str) or not text.strip():\n",
    "        return 0  # Handle empty or None inputs safely\n",
    "\n",
    "    common_ai_words =[\"commendable\",'transhumanist', 'meticulous', 'elevate','hello', 'tapestry' 'leverage',\n",
    "                  'journey', 'headache','resonate','testament','explore', 'binary','delve',\n",
    "                  'enrich', 'seamless','multifaceted', 'sorry','foster', 'convey', 'beacon',\n",
    "                  'interplay', 'oh', 'navigate','form','adhere','cannot', 'landscape','remember',\n",
    "                  'paramount', 'comprehensive', 'placeholder','grammar','real','summary','symphony',\n",
    "                  'furthermore','relationship','ultimately','profound','art','supercharge','evolve',\n",
    "                  'beyoud','reimagine','vibrant', 'robust','pivotal','certainly','quinoa','orchestrate','align',\n",
    "                  'diverse','recommend','annals','note','employ','bustling','indeed','digital','enigma', 'outfit',\n",
    "                  'indelible','refrain','culture','treat','emerge','meticulous','esteemed','weight','whimsical','bespoke',\n",
    "                  'highlight','antagonist','unlock','key','breakdown','tailor','misinformation','treasure','paradigm','captivate',\n",
    "                  'song','underscore','calculate','especially','climate','hedging','inclusive','exercise','ai','embrace',\n",
    "                  'level','nuance','career','dynamic','accent','ethos','cheap','firstly','online','goodbye'\n",
    "                  ]\n",
    "    word_count = 0\n",
    "    for word in text.split():\n",
    "        if word in common_ai_words:\n",
    "            word_count += 1\n",
    "        else: pass\n",
    "\n",
    "    return word_count"
   ]
  },
  {
   "cell_type": "code",
   "execution_count": 67,
   "metadata": {},
   "outputs": [],
   "source": [
    "def coherence(text):\n",
    "    # uses gensim to measure coherence, use the lsi model(latent semantic indexing, coherence c_v because we provide the text)\n",
    "    if not isinstance(text, str) or not text.strip():\n",
    "        return 0.0  # Handle empty or None inputs safely\n",
    "\n",
    "    tokens = word_tokenize(text)\n",
    "    if not tokens:\n",
    "        coherence_score = 0\n",
    "    else:\n",
    "        dictionary = corpora.Dictionary([tokens])\n",
    "        corpus_gensim = [dictionary.doc2bow(tokens)]\n",
    "        lsa_model = LsiModel(corpus_gensim, id2word=dictionary, num_topics=5)\n",
    "\n",
    "        coherence_model = CoherenceModel(\n",
    "            model=lsa_model,\n",
    "            texts=[tokens],\n",
    "            dictionary=dictionary,\n",
    "            coherence='c_v'\n",
    "        )\n",
    "        coherence_score = coherence_model.get_coherence()\n",
    "    return coherence_score"
   ]
  },
  {
   "cell_type": "code",
   "execution_count": 68,
   "metadata": {},
   "outputs": [],
   "source": [
    "# Readability\n",
    "\n",
    "def reading_ease(text):\n",
    "    \"\"\"Returns Flesch Reading Ease score (higher = easier to read).\"\"\"\n",
    "    if not isinstance(text, str) or not text.strip():\n",
    "        return 0.0  # Handle empty or None input safely\n",
    "    return textstat.flesch_reading_ease(text)\n",
    "\n",
    "\n",
    "def gunning_fog(text):\n",
    "    \"\"\"Returns Gunning Fog Index (higher = more difficult to read).\"\"\"\n",
    "    if not isinstance(text, str) or not text.strip():\n",
    "        return 0.0  # Handle empty or None input safely\n",
    "    return textstat.gunning_fog(text)"
   ]
  },
  {
   "cell_type": "code",
   "execution_count": 69,
   "metadata": {},
   "outputs": [
    {
     "data": {
      "text/html": [
       "<div>\n",
       "<style scoped>\n",
       "    .dataframe tbody tr th:only-of-type {\n",
       "        vertical-align: middle;\n",
       "    }\n",
       "\n",
       "    .dataframe tbody tr th {\n",
       "        vertical-align: top;\n",
       "    }\n",
       "\n",
       "    .dataframe thead th {\n",
       "        text-align: right;\n",
       "    }\n",
       "</style>\n",
       "<table border=\"1\" class=\"dataframe\">\n",
       "  <thead>\n",
       "    <tr style=\"text-align: right;\">\n",
       "      <th></th>\n",
       "      <th>clean_text</th>\n",
       "      <th>label</th>\n",
       "    </tr>\n",
       "  </thead>\n",
       "  <tbody>\n",
       "    <tr>\n",
       "      <th>0</th>\n",
       "      <td>the philosophy and ethics of transhumanism tra...</td>\n",
       "      <td>1</td>\n",
       "    </tr>\n",
       "    <tr>\n",
       "      <th>1</th>\n",
       "      <td>crimetracking app citizen is launching its own...</td>\n",
       "      <td>1</td>\n",
       "    </tr>\n",
       "  </tbody>\n",
       "</table>\n",
       "</div>"
      ],
      "text/plain": [
       "                                          clean_text  label\n",
       "0  the philosophy and ethics of transhumanism tra...      1\n",
       "1  crimetracking app citizen is launching its own...      1"
      ]
     },
     "execution_count": 69,
     "metadata": {},
     "output_type": "execute_result"
    }
   ],
   "source": [
    "df_features = df_clean.copy()\n",
    "df_features.head(2)"
   ]
  },
  {
   "cell_type": "code",
   "execution_count": 70,
   "metadata": {},
   "outputs": [
    {
     "data": {
      "text/plain": [
       "label\n",
       "0    0.559\n",
       "1    0.441\n",
       "Name: proportion, dtype: float64"
      ]
     },
     "execution_count": 70,
     "metadata": {},
     "output_type": "execute_result"
    }
   ],
   "source": [
    "df_features[\"label\"].value_counts(normalize=True)"
   ]
  },
  {
   "cell_type": "code",
   "execution_count": 71,
   "metadata": {},
   "outputs": [],
   "source": [
    "import swifter\n",
    "import time\n",
    "\n",
    "def extract_features(df):\n",
    "\n",
    "    # Fill missing values (if any)\n",
    "    df[\"clean_text\"].fillna(\"\", inplace=True)\n",
    "\n",
    "    return df.assign(\n",
    "        cons_density = df[\"clean_text\"].swifter.apply(cons_density),\n",
    "        stress_value = df[\"clean_text\"].swifter.apply(lambda x: get_sentence_stress(x) / len(x) if isinstance(x, str) and x else 0),\n",
    "        token_redundance = df[\"clean_text\"].swifter.apply(redundance),\n",
    "        sentiment_score = df[\"clean_text\"].swifter.apply(sentiment_polarity),\n",
    "        unusual_word_count = df[\"clean_text\"].swifter.apply(word_choice),\n",
    "        coherence_score = df[\"clean_text\"].swifter.apply(coherence),\n",
    "        reading_ease = df[\"clean_text\"].apply(textstat.flesch_reading_ease),\n",
    "        readability_score = df[\"clean_text\"].apply(textstat.gunning_fog)\n",
    "    )"
   ]
  },
  {
   "cell_type": "code",
   "execution_count": 72,
   "metadata": {},
   "outputs": [
    {
     "name": "stderr",
     "output_type": "stream",
     "text": [
      "Pandas Apply: 100%|██████████| 1000/1000 [00:00<00:00, 3403.80it/s]\n",
      "Pandas Apply: 100%|██████████| 1000/1000 [00:00<00:00, 2409.92it/s]\n",
      "Pandas Apply: 100%|██████████| 1000/1000 [00:02<00:00, 468.06it/s]\n",
      "Pandas Apply: 100%|██████████| 1000/1000 [00:01<00:00, 908.93it/s]\n",
      "Pandas Apply: 100%|██████████| 1000/1000 [00:00<00:00, 2656.31it/s]\n",
      "Pandas Apply: 100%|██████████| 1000/1000 [17:44<00:00,  1.06s/it]\n"
     ]
    },
    {
     "data": {
      "text/html": [
       "<div>\n",
       "<style scoped>\n",
       "    .dataframe tbody tr th:only-of-type {\n",
       "        vertical-align: middle;\n",
       "    }\n",
       "\n",
       "    .dataframe tbody tr th {\n",
       "        vertical-align: top;\n",
       "    }\n",
       "\n",
       "    .dataframe thead th {\n",
       "        text-align: right;\n",
       "    }\n",
       "</style>\n",
       "<table border=\"1\" class=\"dataframe\">\n",
       "  <thead>\n",
       "    <tr style=\"text-align: right;\">\n",
       "      <th></th>\n",
       "      <th>clean_text</th>\n",
       "      <th>label</th>\n",
       "      <th>cons_density</th>\n",
       "      <th>stress_value</th>\n",
       "      <th>token_redundance</th>\n",
       "      <th>sentiment_score</th>\n",
       "      <th>unusual_word_count</th>\n",
       "      <th>coherence_score</th>\n",
       "      <th>reading_ease</th>\n",
       "      <th>readability_score</th>\n",
       "    </tr>\n",
       "  </thead>\n",
       "  <tbody>\n",
       "    <tr>\n",
       "      <th>0</th>\n",
       "      <td>the philosophy and ethics of transhumanism tra...</td>\n",
       "      <td>1</td>\n",
       "      <td>0.599</td>\n",
       "      <td>0.151793</td>\n",
       "      <td>2</td>\n",
       "      <td>0.000</td>\n",
       "      <td>1</td>\n",
       "      <td>0.190663</td>\n",
       "      <td>-353.82</td>\n",
       "      <td>164.00</td>\n",
       "    </tr>\n",
       "    <tr>\n",
       "      <th>1</th>\n",
       "      <td>crimetracking app citizen is launching its own...</td>\n",
       "      <td>1</td>\n",
       "      <td>0.613</td>\n",
       "      <td>0.162983</td>\n",
       "      <td>2</td>\n",
       "      <td>0.167</td>\n",
       "      <td>0</td>\n",
       "      <td>1.000000</td>\n",
       "      <td>1.10</td>\n",
       "      <td>27.68</td>\n",
       "    </tr>\n",
       "  </tbody>\n",
       "</table>\n",
       "</div>"
      ],
      "text/plain": [
       "                                          clean_text  label  cons_density  \\\n",
       "0  the philosophy and ethics of transhumanism tra...      1         0.599   \n",
       "1  crimetracking app citizen is launching its own...      1         0.613   \n",
       "\n",
       "   stress_value  token_redundance  sentiment_score  unusual_word_count  \\\n",
       "0      0.151793                 2            0.000                   1   \n",
       "1      0.162983                 2            0.167                   0   \n",
       "\n",
       "   coherence_score  reading_ease  readability_score  \n",
       "0         0.190663       -353.82             164.00  \n",
       "1         1.000000          1.10              27.68  "
      ]
     },
     "execution_count": 72,
     "metadata": {},
     "output_type": "execute_result"
    }
   ],
   "source": [
    "df_features = extract_features(df_features)\n",
    "\n",
    "df_features.head(2)"
   ]
  },
  {
   "cell_type": "code",
   "execution_count": 73,
   "metadata": {},
   "outputs": [
    {
     "data": {
      "text/html": [
       "<div>\n",
       "<style scoped>\n",
       "    .dataframe tbody tr th:only-of-type {\n",
       "        vertical-align: middle;\n",
       "    }\n",
       "\n",
       "    .dataframe tbody tr th {\n",
       "        vertical-align: top;\n",
       "    }\n",
       "\n",
       "    .dataframe thead th {\n",
       "        text-align: right;\n",
       "    }\n",
       "</style>\n",
       "<table border=\"1\" class=\"dataframe\">\n",
       "  <thead>\n",
       "    <tr style=\"text-align: right;\">\n",
       "      <th></th>\n",
       "      <th>cons_density</th>\n",
       "      <th>stress_value</th>\n",
       "      <th>token_redundance</th>\n",
       "      <th>sentiment_score</th>\n",
       "      <th>unusual_word_count</th>\n",
       "      <th>coherence_score</th>\n",
       "      <th>reading_ease</th>\n",
       "      <th>readability_score</th>\n",
       "    </tr>\n",
       "  </thead>\n",
       "  <tbody>\n",
       "    <tr>\n",
       "      <th>0</th>\n",
       "      <td>0.599</td>\n",
       "      <td>0.151793</td>\n",
       "      <td>2</td>\n",
       "      <td>0.000</td>\n",
       "      <td>1</td>\n",
       "      <td>0.190663</td>\n",
       "      <td>-353.82</td>\n",
       "      <td>164.00</td>\n",
       "    </tr>\n",
       "    <tr>\n",
       "      <th>1</th>\n",
       "      <td>0.613</td>\n",
       "      <td>0.162983</td>\n",
       "      <td>2</td>\n",
       "      <td>0.167</td>\n",
       "      <td>0</td>\n",
       "      <td>1.000000</td>\n",
       "      <td>1.10</td>\n",
       "      <td>27.68</td>\n",
       "    </tr>\n",
       "  </tbody>\n",
       "</table>\n",
       "</div>"
      ],
      "text/plain": [
       "   cons_density  stress_value  token_redundance  sentiment_score  \\\n",
       "0         0.599      0.151793                 2            0.000   \n",
       "1         0.613      0.162983                 2            0.167   \n",
       "\n",
       "   unusual_word_count  coherence_score  reading_ease  readability_score  \n",
       "0                   1         0.190663       -353.82             164.00  \n",
       "1                   0         1.000000          1.10              27.68  "
      ]
     },
     "execution_count": 73,
     "metadata": {},
     "output_type": "execute_result"
    }
   ],
   "source": [
    "df_features = df_features.drop(columns=[\"clean_text\", \"label\"])\n",
    "\n",
    "df_features.head(2)"
   ]
  },
  {
   "cell_type": "markdown",
   "metadata": {},
   "source": [
    "# Preprocessing"
   ]
  },
  {
   "cell_type": "code",
   "execution_count": 74,
   "metadata": {},
   "outputs": [],
   "source": [
    "# Scale features\n",
    "\n",
    "scaler = StandardScaler()\n",
    "df_scaled = scaler.fit_transform(df_features)"
   ]
  },
  {
   "cell_type": "code",
   "execution_count": 75,
   "metadata": {},
   "outputs": [],
   "source": [
    "# Text vectorization using TF-IDF\n",
    "\n",
    "X_text = df_clean[\"clean_text\"]\n",
    "\n",
    "vectorizer = TfidfVectorizer(max_features=10000, stop_words='english')\n",
    "\n",
    "X_vec = vectorizer.fit_transform(X_text)"
   ]
  },
  {
   "cell_type": "code",
   "execution_count": 76,
   "metadata": {},
   "outputs": [
    {
     "data": {
      "text/plain": [
       "(1000, 10000)"
      ]
     },
     "execution_count": 76,
     "metadata": {},
     "output_type": "execute_result"
    }
   ],
   "source": [
    "X_vec.shape"
   ]
  },
  {
   "cell_type": "code",
   "execution_count": 77,
   "metadata": {},
   "outputs": [
    {
     "data": {
      "text/plain": [
       "(1000, 10008)"
      ]
     },
     "execution_count": 77,
     "metadata": {},
     "output_type": "execute_result"
    }
   ],
   "source": [
    "# Join the dateset\n",
    "\n",
    "X_final = hstack([X_vec, df_scaled])\n",
    "\n",
    "X_final.shape"
   ]
  },
  {
   "cell_type": "markdown",
   "metadata": {},
   "source": [
    "# Model Training & Evaluation"
   ]
  },
  {
   "cell_type": "code",
   "execution_count": 78,
   "metadata": {},
   "outputs": [],
   "source": [
    "# Exclude warnings from printing out\n",
    "\n",
    "import warnings\n",
    "from sklearn.exceptions import ConvergenceWarning\n",
    "\n",
    "warnings.filterwarnings(\"ignore\", category=ConvergenceWarning)"
   ]
  },
  {
   "cell_type": "code",
   "execution_count": 79,
   "metadata": {},
   "outputs": [
    {
     "name": "stdout",
     "output_type": "stream",
     "text": [
      "Training set shape: (720, 10008) (720,)\n",
      "Validation set shape: (80, 10008) (80,)\n",
      "Test set shape: (200, 10008) (200,)\n"
     ]
    }
   ],
   "source": [
    "# Train, test, split\n",
    "\n",
    "y = df_clean[\"label\"]\n",
    "\n",
    "X_train, X_test, y_train, y_test = train_test_split(X_final, y, test_size=0.2, random_state=42)\n",
    "\n",
    "# Split for validation data\n",
    "\n",
    "X_train, X_val, y_train, y_val = train_test_split(X_train, y_train, test_size=0.1, random_state=42)\n",
    "\n",
    "print(\"Training set shape:\", X_train.shape, y_train.shape)\n",
    "print(\"Validation set shape:\", X_val.shape, y_val.shape)\n",
    "print(\"Test set shape:\", X_test.shape, y_test.shape)"
   ]
  },
  {
   "cell_type": "code",
   "execution_count": 80,
   "metadata": {},
   "outputs": [],
   "source": [
    "# Evaluate model\n",
    "\n",
    "def evaluate_model(model_name, y_true, y_pred, y_prob):\n",
    "    loss = log_loss(y_true, y_prob)\n",
    "    acc = accuracy_score(y_true, y_pred)\n",
    "    prec = precision_score(y_true, y_pred)\n",
    "    rec = recall_score(y_true, y_pred)\n",
    "    auc = roc_auc_score(y_true, y_prob)\n",
    "\n",
    "    print(f\"{model_name}\")\n",
    "    print(f\"Loss: {loss:.4f}\")\n",
    "    print(f\"Accuracy: {acc:.4f}\")\n",
    "    print(f\"Precision: {prec:.4f}\")\n",
    "    print(f\"Recall: {rec:.4f}\")\n",
    "    print(f\"ROC-AUC: {auc:.4f}\")"
   ]
  },
  {
   "cell_type": "code",
   "execution_count": 81,
   "metadata": {},
   "outputs": [],
   "source": [
    "# Confusion Matrix\n",
    "\n",
    "def conf_matrix(model_name, y_true, y_pred):\n",
    "    cm = confusion_matrix(y_true, y_pred)\n",
    "    plt.figure(figsize=(5,4))\n",
    "    sns.heatmap(cm, annot=True, fmt='d', cmap='Blues', xticklabels=['Human (0)', 'AI (1)'], yticklabels=['Human (0)', 'AI (1)'])\n",
    "    plt.xlabel(\"Predicted\")\n",
    "    plt.ylabel(\"Actual\")\n",
    "    plt.title(f\"{model_name} - Confusion Matrix\");"
   ]
  },
  {
   "cell_type": "markdown",
   "metadata": {},
   "source": [
    "### GRADIENT BOOSTING"
   ]
  },
  {
   "cell_type": "code",
   "execution_count": 82,
   "metadata": {},
   "outputs": [
    {
     "name": "stdout",
     "output_type": "stream",
     "text": [
      "Epoch 1/200 - Train Acc: 0.5764, Val Acc: 0.5125\n",
      "Epoch 2/200 - Train Acc: 0.7111, Val Acc: 0.7375\n",
      "Epoch 3/200 - Train Acc: 0.7153, Val Acc: 0.7250\n",
      "Epoch 4/200 - Train Acc: 0.7250, Val Acc: 0.7375\n",
      "Epoch 5/200 - Train Acc: 0.8319, Val Acc: 0.8500\n",
      "Epoch 6/200 - Train Acc: 0.8514, Val Acc: 0.8125\n",
      "Epoch 7/200 - Train Acc: 0.8736, Val Acc: 0.8125\n",
      "Epoch 8/200 - Train Acc: 0.8764, Val Acc: 0.8125\n",
      "Epoch 9/200 - Train Acc: 0.8736, Val Acc: 0.8125\n",
      "Epoch 10/200 - Train Acc: 0.8542, Val Acc: 0.8250\n",
      "Epoch 11/200 - Train Acc: 0.8722, Val Acc: 0.8250\n",
      "Epoch 12/200 - Train Acc: 0.8611, Val Acc: 0.8500\n",
      "Epoch 13/200 - Train Acc: 0.8736, Val Acc: 0.8375\n",
      "Epoch 14/200 - Train Acc: 0.8694, Val Acc: 0.8250\n",
      "Epoch 15/200 - Train Acc: 0.8764, Val Acc: 0.8250\n",
      "Epoch 16/200 - Train Acc: 0.8833, Val Acc: 0.8375\n",
      "Epoch 17/200 - Train Acc: 0.8931, Val Acc: 0.8125\n",
      "Epoch 18/200 - Train Acc: 0.8972, Val Acc: 0.8250\n",
      "Epoch 19/200 - Train Acc: 0.9000, Val Acc: 0.8250\n",
      "Epoch 20/200 - Train Acc: 0.9028, Val Acc: 0.8500\n",
      "Epoch 21/200 - Train Acc: 0.9042, Val Acc: 0.8375\n",
      "Epoch 22/200 - Train Acc: 0.9083, Val Acc: 0.8500\n",
      "Epoch 23/200 - Train Acc: 0.9167, Val Acc: 0.8500\n",
      "Epoch 24/200 - Train Acc: 0.9167, Val Acc: 0.8375\n",
      "Epoch 25/200 - Train Acc: 0.9208, Val Acc: 0.8375\n",
      "Epoch 26/200 - Train Acc: 0.9181, Val Acc: 0.8375\n",
      "Epoch 27/200 - Train Acc: 0.9194, Val Acc: 0.8375\n",
      "Epoch 28/200 - Train Acc: 0.9236, Val Acc: 0.8375\n",
      "Epoch 29/200 - Train Acc: 0.9306, Val Acc: 0.8375\n",
      "Epoch 30/200 - Train Acc: 0.9306, Val Acc: 0.8125\n",
      "Epoch 31/200 - Train Acc: 0.9264, Val Acc: 0.8000\n",
      "Epoch 32/200 - Train Acc: 0.9333, Val Acc: 0.8000\n",
      "Epoch 33/200 - Train Acc: 0.9347, Val Acc: 0.8250\n",
      "Epoch 34/200 - Train Acc: 0.9375, Val Acc: 0.8250\n",
      "Epoch 35/200 - Train Acc: 0.9403, Val Acc: 0.8250\n",
      "Epoch 36/200 - Train Acc: 0.9417, Val Acc: 0.8250\n",
      "Epoch 37/200 - Train Acc: 0.9444, Val Acc: 0.8250\n",
      "Epoch 38/200 - Train Acc: 0.9486, Val Acc: 0.8250\n",
      "Epoch 39/200 - Train Acc: 0.9514, Val Acc: 0.8250\n",
      "Epoch 40/200 - Train Acc: 0.9542, Val Acc: 0.8250\n",
      "Epoch 41/200 - Train Acc: 0.9542, Val Acc: 0.8250\n",
      "Epoch 42/200 - Train Acc: 0.9569, Val Acc: 0.8250\n",
      "Epoch 43/200 - Train Acc: 0.9597, Val Acc: 0.8375\n",
      "Epoch 44/200 - Train Acc: 0.9597, Val Acc: 0.8375\n",
      "Epoch 45/200 - Train Acc: 0.9639, Val Acc: 0.8375\n",
      "Epoch 46/200 - Train Acc: 0.9625, Val Acc: 0.8375\n",
      "Epoch 47/200 - Train Acc: 0.9639, Val Acc: 0.8250\n",
      "Epoch 48/200 - Train Acc: 0.9653, Val Acc: 0.8250\n",
      "Epoch 49/200 - Train Acc: 0.9653, Val Acc: 0.8250\n",
      "Epoch 50/200 - Train Acc: 0.9667, Val Acc: 0.8125\n",
      "Epoch 51/200 - Train Acc: 0.9667, Val Acc: 0.8125\n",
      "Epoch 52/200 - Train Acc: 0.9667, Val Acc: 0.8125\n",
      "Epoch 53/200 - Train Acc: 0.9681, Val Acc: 0.8125\n",
      "Epoch 54/200 - Train Acc: 0.9681, Val Acc: 0.8125\n",
      "Epoch 55/200 - Train Acc: 0.9681, Val Acc: 0.8250\n",
      "Epoch 56/200 - Train Acc: 0.9681, Val Acc: 0.8250\n",
      "Epoch 57/200 - Train Acc: 0.9694, Val Acc: 0.8125\n",
      "Epoch 58/200 - Train Acc: 0.9708, Val Acc: 0.8125\n",
      "Epoch 59/200 - Train Acc: 0.9708, Val Acc: 0.8125\n",
      "Epoch 60/200 - Train Acc: 0.9708, Val Acc: 0.8125\n",
      "Epoch 61/200 - Train Acc: 0.9722, Val Acc: 0.8125\n",
      "Epoch 62/200 - Train Acc: 0.9750, Val Acc: 0.8125\n",
      "Epoch 63/200 - Train Acc: 0.9736, Val Acc: 0.8125\n",
      "Epoch 64/200 - Train Acc: 0.9750, Val Acc: 0.8125\n",
      "Epoch 65/200 - Train Acc: 0.9764, Val Acc: 0.8125\n",
      "Epoch 66/200 - Train Acc: 0.9750, Val Acc: 0.8125\n",
      "Epoch 67/200 - Train Acc: 0.9750, Val Acc: 0.8125\n",
      "Epoch 68/200 - Train Acc: 0.9764, Val Acc: 0.8125\n",
      "Epoch 69/200 - Train Acc: 0.9778, Val Acc: 0.8125\n",
      "Epoch 70/200 - Train Acc: 0.9778, Val Acc: 0.8000\n",
      "Epoch 71/200 - Train Acc: 0.9806, Val Acc: 0.8000\n",
      "Epoch 72/200 - Train Acc: 0.9819, Val Acc: 0.7875\n",
      "Epoch 73/200 - Train Acc: 0.9847, Val Acc: 0.7875\n",
      "Epoch 74/200 - Train Acc: 0.9847, Val Acc: 0.7875\n",
      "Epoch 75/200 - Train Acc: 0.9847, Val Acc: 0.7875\n",
      "Epoch 76/200 - Train Acc: 0.9847, Val Acc: 0.7875\n",
      "Epoch 77/200 - Train Acc: 0.9861, Val Acc: 0.7875\n",
      "Epoch 78/200 - Train Acc: 0.9861, Val Acc: 0.7875\n",
      "Epoch 79/200 - Train Acc: 0.9847, Val Acc: 0.7875\n",
      "Epoch 80/200 - Train Acc: 0.9861, Val Acc: 0.7875\n",
      "Epoch 81/200 - Train Acc: 0.9875, Val Acc: 0.7875\n",
      "Epoch 82/200 - Train Acc: 0.9889, Val Acc: 0.7875\n",
      "Epoch 83/200 - Train Acc: 0.9889, Val Acc: 0.7875\n",
      "Epoch 84/200 - Train Acc: 0.9903, Val Acc: 0.7875\n",
      "Epoch 85/200 - Train Acc: 0.9903, Val Acc: 0.7875\n",
      "Epoch 86/200 - Train Acc: 0.9931, Val Acc: 0.7875\n",
      "Epoch 87/200 - Train Acc: 0.9931, Val Acc: 0.7875\n",
      "Epoch 88/200 - Train Acc: 0.9931, Val Acc: 0.7875\n",
      "Epoch 89/200 - Train Acc: 0.9931, Val Acc: 0.7875\n",
      "Epoch 90/200 - Train Acc: 0.9917, Val Acc: 0.7875\n",
      "Epoch 91/200 - Train Acc: 0.9889, Val Acc: 0.7875\n",
      "Epoch 92/200 - Train Acc: 0.9889, Val Acc: 0.7875\n",
      "Epoch 93/200 - Train Acc: 0.9917, Val Acc: 0.7875\n",
      "Epoch 94/200 - Train Acc: 0.9917, Val Acc: 0.8000\n",
      "Epoch 95/200 - Train Acc: 0.9931, Val Acc: 0.8000\n",
      "Epoch 96/200 - Train Acc: 0.9931, Val Acc: 0.8125\n",
      "Epoch 97/200 - Train Acc: 0.9931, Val Acc: 0.8125\n",
      "Epoch 98/200 - Train Acc: 0.9931, Val Acc: 0.8125\n",
      "Epoch 99/200 - Train Acc: 0.9917, Val Acc: 0.8125\n",
      "Epoch 100/200 - Train Acc: 0.9931, Val Acc: 0.8125\n",
      "Epoch 101/200 - Train Acc: 0.9931, Val Acc: 0.8125\n",
      "Epoch 102/200 - Train Acc: 0.9931, Val Acc: 0.8125\n",
      "Epoch 103/200 - Train Acc: 0.9944, Val Acc: 0.8125\n",
      "Epoch 104/200 - Train Acc: 0.9944, Val Acc: 0.8000\n",
      "Epoch 105/200 - Train Acc: 0.9944, Val Acc: 0.8000\n",
      "Epoch 106/200 - Train Acc: 0.9958, Val Acc: 0.8000\n",
      "Epoch 107/200 - Train Acc: 0.9958, Val Acc: 0.8000\n",
      "Epoch 108/200 - Train Acc: 0.9972, Val Acc: 0.8000\n",
      "Epoch 109/200 - Train Acc: 0.9972, Val Acc: 0.8000\n",
      "Epoch 110/200 - Train Acc: 0.9972, Val Acc: 0.8000\n",
      "Epoch 111/200 - Train Acc: 0.9972, Val Acc: 0.8000\n",
      "Epoch 112/200 - Train Acc: 0.9944, Val Acc: 0.8000\n",
      "Epoch 113/200 - Train Acc: 0.9944, Val Acc: 0.8000\n",
      "Epoch 114/200 - Train Acc: 0.9944, Val Acc: 0.8000\n",
      "Epoch 115/200 - Train Acc: 0.9958, Val Acc: 0.8000\n",
      "Epoch 116/200 - Train Acc: 0.9972, Val Acc: 0.8000\n",
      "Epoch 117/200 - Train Acc: 0.9972, Val Acc: 0.8000\n",
      "Epoch 118/200 - Train Acc: 0.9986, Val Acc: 0.8000\n",
      "Epoch 119/200 - Train Acc: 0.9986, Val Acc: 0.8000\n",
      "Epoch 120/200 - Train Acc: 0.9986, Val Acc: 0.8000\n",
      "Epoch 121/200 - Train Acc: 1.0000, Val Acc: 0.8125\n",
      "Epoch 122/200 - Train Acc: 1.0000, Val Acc: 0.8125\n",
      "Epoch 123/200 - Train Acc: 1.0000, Val Acc: 0.8125\n",
      "Epoch 124/200 - Train Acc: 1.0000, Val Acc: 0.8250\n",
      "Epoch 125/200 - Train Acc: 1.0000, Val Acc: 0.8000\n",
      "Epoch 126/200 - Train Acc: 1.0000, Val Acc: 0.8000\n",
      "Epoch 127/200 - Train Acc: 1.0000, Val Acc: 0.8000\n",
      "Epoch 128/200 - Train Acc: 1.0000, Val Acc: 0.8125\n",
      "Epoch 129/200 - Train Acc: 1.0000, Val Acc: 0.8125\n",
      "Epoch 130/200 - Train Acc: 1.0000, Val Acc: 0.8125\n",
      "Epoch 131/200 - Train Acc: 1.0000, Val Acc: 0.8125\n",
      "Epoch 132/200 - Train Acc: 1.0000, Val Acc: 0.8125\n",
      "Epoch 133/200 - Train Acc: 1.0000, Val Acc: 0.8125\n",
      "Epoch 134/200 - Train Acc: 1.0000, Val Acc: 0.8125\n",
      "Epoch 135/200 - Train Acc: 1.0000, Val Acc: 0.8125\n",
      "Epoch 136/200 - Train Acc: 1.0000, Val Acc: 0.8125\n",
      "Epoch 137/200 - Train Acc: 1.0000, Val Acc: 0.8125\n",
      "Epoch 138/200 - Train Acc: 1.0000, Val Acc: 0.8125\n",
      "Epoch 139/200 - Train Acc: 1.0000, Val Acc: 0.8125\n",
      "Epoch 140/200 - Train Acc: 1.0000, Val Acc: 0.8125\n",
      "Epoch 141/200 - Train Acc: 1.0000, Val Acc: 0.8125\n",
      "Epoch 142/200 - Train Acc: 1.0000, Val Acc: 0.8125\n",
      "Epoch 143/200 - Train Acc: 1.0000, Val Acc: 0.8125\n",
      "Epoch 144/200 - Train Acc: 1.0000, Val Acc: 0.8125\n",
      "Epoch 145/200 - Train Acc: 1.0000, Val Acc: 0.8125\n",
      "Epoch 146/200 - Train Acc: 1.0000, Val Acc: 0.8125\n",
      "Epoch 147/200 - Train Acc: 1.0000, Val Acc: 0.8125\n",
      "Epoch 148/200 - Train Acc: 1.0000, Val Acc: 0.8125\n",
      "Epoch 149/200 - Train Acc: 1.0000, Val Acc: 0.8125\n",
      "Epoch 150/200 - Train Acc: 1.0000, Val Acc: 0.8125\n",
      "Epoch 151/200 - Train Acc: 1.0000, Val Acc: 0.8125\n",
      "Epoch 152/200 - Train Acc: 1.0000, Val Acc: 0.8125\n",
      "Epoch 153/200 - Train Acc: 1.0000, Val Acc: 0.8125\n",
      "Epoch 154/200 - Train Acc: 1.0000, Val Acc: 0.8125\n",
      "Epoch 155/200 - Train Acc: 1.0000, Val Acc: 0.8125\n",
      "Epoch 156/200 - Train Acc: 1.0000, Val Acc: 0.8125\n",
      "Epoch 157/200 - Train Acc: 1.0000, Val Acc: 0.8125\n",
      "Epoch 158/200 - Train Acc: 1.0000, Val Acc: 0.8125\n",
      "Epoch 159/200 - Train Acc: 1.0000, Val Acc: 0.8125\n",
      "Epoch 160/200 - Train Acc: 1.0000, Val Acc: 0.8125\n",
      "Epoch 161/200 - Train Acc: 1.0000, Val Acc: 0.8125\n",
      "Epoch 162/200 - Train Acc: 1.0000, Val Acc: 0.8125\n",
      "Epoch 163/200 - Train Acc: 1.0000, Val Acc: 0.8125\n",
      "Epoch 164/200 - Train Acc: 1.0000, Val Acc: 0.8125\n",
      "Epoch 165/200 - Train Acc: 1.0000, Val Acc: 0.8125\n",
      "Epoch 166/200 - Train Acc: 1.0000, Val Acc: 0.8125\n",
      "Epoch 167/200 - Train Acc: 1.0000, Val Acc: 0.8125\n",
      "Epoch 168/200 - Train Acc: 1.0000, Val Acc: 0.8125\n",
      "Epoch 169/200 - Train Acc: 1.0000, Val Acc: 0.8125\n",
      "Epoch 170/200 - Train Acc: 1.0000, Val Acc: 0.8125\n",
      "Epoch 171/200 - Train Acc: 1.0000, Val Acc: 0.8125\n",
      "Epoch 172/200 - Train Acc: 1.0000, Val Acc: 0.8125\n",
      "Epoch 173/200 - Train Acc: 1.0000, Val Acc: 0.8125\n",
      "Epoch 174/200 - Train Acc: 1.0000, Val Acc: 0.8125\n",
      "Epoch 175/200 - Train Acc: 1.0000, Val Acc: 0.8125\n",
      "Epoch 176/200 - Train Acc: 1.0000, Val Acc: 0.8125\n",
      "Epoch 177/200 - Train Acc: 1.0000, Val Acc: 0.8125\n",
      "Epoch 178/200 - Train Acc: 1.0000, Val Acc: 0.8125\n",
      "Epoch 179/200 - Train Acc: 1.0000, Val Acc: 0.8125\n",
      "Epoch 180/200 - Train Acc: 1.0000, Val Acc: 0.8125\n",
      "Epoch 181/200 - Train Acc: 1.0000, Val Acc: 0.8125\n",
      "Epoch 182/200 - Train Acc: 1.0000, Val Acc: 0.8125\n",
      "Epoch 183/200 - Train Acc: 1.0000, Val Acc: 0.8125\n",
      "Epoch 184/200 - Train Acc: 1.0000, Val Acc: 0.8000\n",
      "Epoch 185/200 - Train Acc: 1.0000, Val Acc: 0.8000\n",
      "Epoch 186/200 - Train Acc: 1.0000, Val Acc: 0.8000\n",
      "Epoch 187/200 - Train Acc: 1.0000, Val Acc: 0.8000\n",
      "Epoch 188/200 - Train Acc: 1.0000, Val Acc: 0.8000\n",
      "Epoch 189/200 - Train Acc: 1.0000, Val Acc: 0.8000\n",
      "Epoch 190/200 - Train Acc: 1.0000, Val Acc: 0.8000\n",
      "Epoch 191/200 - Train Acc: 1.0000, Val Acc: 0.8000\n",
      "Epoch 192/200 - Train Acc: 1.0000, Val Acc: 0.8000\n",
      "Epoch 193/200 - Train Acc: 1.0000, Val Acc: 0.8000\n",
      "Epoch 194/200 - Train Acc: 1.0000, Val Acc: 0.8000\n",
      "Epoch 195/200 - Train Acc: 1.0000, Val Acc: 0.8000\n",
      "Epoch 196/200 - Train Acc: 1.0000, Val Acc: 0.8000\n",
      "Epoch 197/200 - Train Acc: 1.0000, Val Acc: 0.8125\n",
      "Epoch 198/200 - Train Acc: 1.0000, Val Acc: 0.8125\n",
      "Epoch 199/200 - Train Acc: 1.0000, Val Acc: 0.8125\n",
      "Epoch 200/200 - Train Acc: 1.0000, Val Acc: 0.8125\n",
      "\n",
      "Best Validation Accuracy: 0.8500 at epoch 5\n"
     ]
    }
   ],
   "source": [
    "epochs = 200\n",
    "\n",
    "grad_boost = GradientBoostingClassifier(\n",
    "    max_depth=3,\n",
    "    n_estimators=epochs,\n",
    "    learning_rate=0.1)\n",
    "\n",
    "grad_boost.fit(X_train, y_train)\n",
    "\n",
    "train_acc_history = []\n",
    "val_acc_history = []\n",
    "\n",
    "best_val_acc = 0.0\n",
    "best_epoch = 0\n",
    "\n",
    "train_stages = grad_boost.staged_predict(X_train)\n",
    "val_stages = grad_boost.staged_predict(X_val)\n",
    "\n",
    "for epoch, (train_pred, val_pred) in enumerate(zip(train_stages, val_stages), start=1):\n",
    "    # Calculate accuracies\n",
    "    train_acc = accuracy_score(y_train, train_pred)\n",
    "    val_acc = accuracy_score(y_val, val_pred)\n",
    "\n",
    "    train_acc_history.append(train_acc)\n",
    "    val_acc_history.append(val_acc)\n",
    "\n",
    "    # Track the best validation accuracy\n",
    "    if val_acc > best_val_acc:\n",
    "        best_val_acc = val_acc\n",
    "        best_epoch = epoch\n",
    "\n",
    "    print(f\"Epoch {epoch}/{epochs} - Train Acc: {train_acc:.4f}, Val Acc: {val_acc:.4f}\")\n",
    "\n",
    "print(f\"\\nBest Validation Accuracy: {best_val_acc:.4f} at epoch {best_epoch}\")"
   ]
  },
  {
   "cell_type": "code",
   "execution_count": 83,
   "metadata": {},
   "outputs": [
    {
     "data": {
      "image/png": "[encoded data removed]",
      "text/plain": [
       "<Figure size 500x400 with 1 Axes>"
      ]
     },
     "metadata": {},
     "output_type": "display_data"
    }
   ],
   "source": [
    "plt.figure(figsize=(5, 4))\n",
    "plt.plot(range(1, epochs+1), train_acc_history, label=\"Training Accuracy\")\n",
    "plt.plot(range(1, epochs+1), val_acc_history, label=\"Validation Accuracy\")\n",
    "plt.xlabel(\"Epoch\")\n",
    "plt.ylabel(\"Accuracy\")\n",
    "plt.title(\"Learning Curve per Epoch - Gradient Boosting\")\n",
    "plt.legend()\n",
    "plt.grid(True);"
   ]
  },
  {
   "cell_type": "code",
   "execution_count": 84,
   "metadata": {},
   "outputs": [
    {
     "name": "stdout",
     "output_type": "stream",
     "text": [
      "\n",
      "Validation Set Evaluation - Gradient Boosting\n",
      "Loss: 0.3056\n",
      "Accuracy: 0.8125\n",
      "Precision: 0.8158\n",
      "Recall: 0.7949\n",
      "ROC-AUC: 0.9475\n"
     ]
    }
   ],
   "source": [
    "# Gradient Boosting evaluation\n",
    "\n",
    "grad_y_val_pred = grad_boost.predict(X_val)\n",
    "grad_y_val_prob = grad_boost.predict_proba(X_val)[:, 1]\n",
    "\n",
    "grad_loss = log_loss(y_val, grad_y_val_prob)\n",
    "grad_acc = accuracy_score(y_val, grad_y_val_pred)\n",
    "grad_prec = precision_score(y_val, grad_y_val_pred)\n",
    "grad_rec = recall_score(y_val, grad_y_val_pred)\n",
    "grad_auc = roc_auc_score(y_val, grad_y_val_prob)\n",
    "\n",
    "print(\"\\nValidation Set Evaluation - Gradient Boosting\")\n",
    "print(f\"Loss: {grad_loss:.4f}\")\n",
    "print(f\"Accuracy: {grad_acc:.4f}\")\n",
    "print(f\"Precision: {grad_prec:.4f}\")\n",
    "print(f\"Recall: {grad_rec:.4f}\")\n",
    "print(f\"ROC-AUC: {grad_auc:.4f}\")"
   ]
  },
  {
   "cell_type": "code",
   "execution_count": 85,
   "metadata": {},
   "outputs": [],
   "source": [
    "# Saving score result to Halim_model_results.ipynb\n",
    "\n",
    "save_result = [{\n",
    "    \"Model\": \"Gradient Boost (Viviek's cleaning) Full\",\n",
    "    \"Loss\": f\"{grad_loss:.4f}\",\n",
    "    \"Accuracy\": f\"{grad_acc:.4f}\"\n",
    "    }]\n",
    "\n",
    "df_result = pd.DataFrame(save_result)\n",
    "csv_file = \"1k_model_results.csv\"\n",
    "df_result.to_csv(csv_file, mode=\"a\", index=False, header=not os.path.exists(csv_file))"
   ]
  },
  {
   "cell_type": "code",
   "execution_count": 86,
   "metadata": {},
   "outputs": [
    {
     "data": {
      "image/png": "[encoded data removed]",
      "text/plain": [
       "<Figure size 500x400 with 2 Axes>"
      ]
     },
     "metadata": {},
     "output_type": "display_data"
    }
   ],
   "source": [
    "conf_matrix(\"Gradient Boost\", y_val, grad_y_val_pred)"
   ]
  },
  {
   "cell_type": "markdown",
   "metadata": {},
   "source": [
    "# Prediction"
   ]
  },
  {
   "cell_type": "code",
   "execution_count": 87,
   "metadata": {},
   "outputs": [],
   "source": [
    "def extract_features_single(sentence):\n",
    "    \"\"\"\n",
    "    Extracts features from a single text string (only used for prediction).\n",
    "    \"\"\"\n",
    "    return [\n",
    "        cons_density(sentence),\n",
    "        get_sentence_stress(sentence) / len(sentence) if len(sentence) > 0 else 0,  # Avoid division by zero\n",
    "        redundance(sentence),\n",
    "        sentiment_polarity(sentence),\n",
    "        word_choice(sentence),\n",
    "        coherence(sentence),\n",
    "        reading_ease(sentence),\n",
    "        gunning_fog(sentence)]"
   ]
  },
  {
   "cell_type": "code",
   "execution_count": 88,
   "metadata": {},
   "outputs": [],
   "source": [
    "def preprocess_input(sentence, vectorizer, scaler):\n",
    "    \"\"\"Preprocess the raw input text\"\"\"\n",
    "\n",
    "    # Ensure input is a string\n",
    "    if not isinstance(sentence, str):\n",
    "        raise ValueError(\"Input sentence must be a string\")\n",
    "\n",
    "    cleaned_text = text_cleaning(sentence) # Clean the text\n",
    "    extracted_features = np.array(extract_features_single(cleaned_text)).reshape(1, -1) # Extract features\n",
    "    features_scaled = scaler.transform(extracted_features) # Scale features\n",
    "    text_vectorized = vectorizer.transform([cleaned_text]) # Vectorize clean text\n",
    "    final_input = hstack([text_vectorized, features_scaled])\n",
    "\n",
    "    return final_input"
   ]
  },
  {
   "cell_type": "code",
   "execution_count": 89,
   "metadata": {},
   "outputs": [],
   "source": [
    "def predict_text(model, sentence, vectorizer, scaler):\n",
    "    preproc_input = preprocess_input(sentence, vectorizer, scaler)\n",
    "    prediction_prob = model.predict_proba(preproc_input)[:, 1][0] # Extracts probability of AI clas\n",
    "    prediction = \"AI\" if prediction_prob > 0.5 else \"Human\"\n",
    "    return prediction, round(prediction_prob, 2)"
   ]
  },
  {
   "cell_type": "code",
   "execution_count": 90,
   "metadata": {},
   "outputs": [
    {
     "data": {
      "text/html": [
       "<div>\n",
       "<style scoped>\n",
       "    .dataframe tbody tr th:only-of-type {\n",
       "        vertical-align: middle;\n",
       "    }\n",
       "\n",
       "    .dataframe tbody tr th {\n",
       "        vertical-align: top;\n",
       "    }\n",
       "\n",
       "    .dataframe thead th {\n",
       "        text-align: right;\n",
       "    }\n",
       "</style>\n",
       "<table border=\"1\" class=\"dataframe\">\n",
       "  <thead>\n",
       "    <tr style=\"text-align: right;\">\n",
       "      <th></th>\n",
       "      <th>text</th>\n",
       "      <th>source</th>\n",
       "      <th>text_length</th>\n",
       "      <th>word_count</th>\n",
       "      <th>contains_numbers</th>\n",
       "      <th>contains_special_chars</th>\n",
       "    </tr>\n",
       "  </thead>\n",
       "  <tbody>\n",
       "    <tr>\n",
       "      <th>995</th>\n",
       "      <td>Please write a response to ONE of the prompts ...</td>\n",
       "      <td>Human</td>\n",
       "      <td>4259</td>\n",
       "      <td>790</td>\n",
       "      <td>True</td>\n",
       "      <td>True</td>\n",
       "    </tr>\n",
       "    <tr>\n",
       "      <th>996</th>\n",
       "      <td>Snap's next-gen Spectacles will be able to lay...</td>\n",
       "      <td>Human</td>\n",
       "      <td>437</td>\n",
       "      <td>68</td>\n",
       "      <td>True</td>\n",
       "      <td>True</td>\n",
       "    </tr>\n",
       "    <tr>\n",
       "      <th>997</th>\n",
       "      <td>Visual Place Recognition (VPR) is the ability ...</td>\n",
       "      <td>AI</td>\n",
       "      <td>382</td>\n",
       "      <td>58</td>\n",
       "      <td>False</td>\n",
       "      <td>True</td>\n",
       "    </tr>\n",
       "    <tr>\n",
       "      <th>998</th>\n",
       "      <td>Addressing Ex-Felon Disenfranchisement Essay\\n...</td>\n",
       "      <td>Human</td>\n",
       "      <td>32647</td>\n",
       "      <td>4997</td>\n",
       "      <td>True</td>\n",
       "      <td>True</td>\n",
       "    </tr>\n",
       "    <tr>\n",
       "      <th>999</th>\n",
       "      <td>The antiques, valued at between PS2,000 and PS...</td>\n",
       "      <td>AI</td>\n",
       "      <td>822</td>\n",
       "      <td>142</td>\n",
       "      <td>True</td>\n",
       "      <td>True</td>\n",
       "    </tr>\n",
       "  </tbody>\n",
       "</table>\n",
       "</div>"
      ],
      "text/plain": [
       "                                                  text source  text_length  \\\n",
       "995  Please write a response to ONE of the prompts ...  Human         4259   \n",
       "996  Snap's next-gen Spectacles will be able to lay...  Human          437   \n",
       "997  Visual Place Recognition (VPR) is the ability ...     AI          382   \n",
       "998  Addressing Ex-Felon Disenfranchisement Essay\\n...  Human        32647   \n",
       "999  The antiques, valued at between PS2,000 and PS...     AI          822   \n",
       "\n",
       "     word_count  contains_numbers  contains_special_chars  \n",
       "995         790              True                    True  \n",
       "996          68              True                    True  \n",
       "997          58             False                    True  \n",
       "998        4997              True                    True  \n",
       "999         142              True                    True  "
      ]
     },
     "execution_count": 90,
     "metadata": {},
     "output_type": "execute_result"
    }
   ],
   "source": [
    "df.tail()"
   ]
  },
  {
   "cell_type": "code",
   "execution_count": 91,
   "metadata": {},
   "outputs": [
    {
     "name": "stdout",
     "output_type": "stream",
     "text": [
      "Please write a response to ONE of the prompts below in English. The answer should be between 500-700 words. 3) Describe a turning point in your life. Why is it so important to you, and what would your life have become without that that turning point? --------- When my sister turned to face and gave me a last smile before she entered the departure gate, I felt my heart sink. I did not see her at all for the 10 months that she has studied abroad. I only wished for her safety and hoped that she got a great experience. But there was one little voice in my mind that told me that I was afraid. I was afraid that she would not be my same sister who I knew so well, my sister who I had shared all my happiness and grief with. I knew that this was one of the significant moments in her life, but I never thought that it would be a turning point in mine as well. This is the first time my sister went abroad, so we always kept in touch with each other. However, every phone call, her clear happy voice made our worries disappear. Also, each e-mail, they filled with wonderful experience. I saw her rapid growth. I admired her effort to make her dream came true. Also, this made me saw my weakness that I always neglected. However, it's not strong enough to change me. One day we made a call again. My sister and I shared many things happening to each other. We talked, teased and laughed. I joked about her weight by caring about her health. Suddenly my turning point came. Before she hung up on the call the last sentences she talked to me \"Don't play too much computer, dear. There are load of wonderful things to do for life\" This statement pierced my heart. How could such a simple sentence make such an impact? It pointed out my reconsidering life. Time management would become a priority. It was time to take action. Leaving my fantasy land for the real world would make a difference in my life. Being a good student with good grades, being a team player and a responsible daughter were already in place. But I considered that was not enough to fulfill my expectation about myself. Although my sister didn't verbalize this, through her actions she illustrated this and the ways of the world for me. Looking back, it always appeared that she was a natural success because her efforts. My sister who is younger than me for five years woke me up and taught me about who I was and who I wanted to become. Now, I was not afraid my sister will be stranger. But it was turned to terrible fear that maybe I'm not good enough to be her sister anymore. At that point, I committed to being a better person for her, for myself, and for us. Releasing the fear, I take more chances. Taking responsibility for myself and my life, from now on, I welcome new opportunities. For example, I attended to pharmacy for society and camped out to North-Eastern of Thailand. I got experience that I never met before. I closed to local people and understand them so much better. Furthermore, I offered myself to professor to help her research project. Furthermore, I challenge so many new things every day and proud to tell myself this is first step of my enjoyable life. Furthermore, I feel everything is so much brighter in my eyes. Furthermore, I wondered I can do great many things in this time. Without her spark, I don't know how long I had growth and maturity. All of these good experiences I have got, have to appreciate her. She not only put me in deep consideration to discover my inner self but also to push me so hard forward to reach my goals. Not only visible growth but also in mental growth is invaluable. I believe turning point can come into everybody' lives, it's without fanfare or any announcement to express itself. But it is never true turning point without deep understanding. This is my important turning point because it came with my realization about who I am, what my mistakes were in the past, and what I want to do in the future. My sister and she experience give this wonderful gift which can make me realize because our love for each other. ------- Its over word limit. I think I should focus on my turning point more than write about my sister, but I don't know which sentences should cut off. Thank you very much, I will check it every time I can:)\n",
      "Prediction: Human (28.0%)\n",
      "Actual: Human\n"
     ]
    },
    {
     "name": "stderr",
     "output_type": "stream",
     "text": [
      "/Users/till/.pyenv/versions/3.10.6/envs/fake-data-detector/lib/python3.10/site-packages/sklearn/utils/validation.py:2739: UserWarning: X does not have valid feature names, but StandardScaler was fitted with feature names\n",
      "  warnings.warn(\n"
     ]
    }
   ],
   "source": [
    "model = grad_boost\n",
    "sentence = df[\"text\"][995]\n",
    "\n",
    "prediction, probability = predict_text(model, sentence, vectorizer, scaler)\n",
    "\n",
    "print(f\"{sentence}\")\n",
    "print(f\"Prediction: {prediction} ({probability * 100:.1f}%)\")\n",
    "print(f\"Actual: {df['source'][995]}\")"
   ]
  },
  {
   "cell_type": "code",
   "execution_count": 92,
   "metadata": {},
   "outputs": [
    {
     "name": "stdout",
     "output_type": "stream",
     "text": [
      "              precision    recall  f1-score   support\n",
      "\n",
      "           0       0.85      0.82      0.83       103\n",
      "           1       0.81      0.85      0.83        97\n",
      "\n",
      "    accuracy                           0.83       200\n",
      "   macro avg       0.83      0.83      0.83       200\n",
      "weighted avg       0.83      0.83      0.83       200\n",
      "\n"
     ]
    }
   ],
   "source": [
    "gb_predict = grad_boost.predict(X_test)\n",
    "\n",
    "print(classification_report(y_test, gb_predict))"
   ]
  }
 ],
 "metadata": {
  "kernelspec": {
   "display_name": "fake-data-detector",
   "language": "python",
   "name": "python3"
  },
  "language_info": {
   "codemirror_mode": {
    "name": "ipython",
    "version": 3
   },
   "file_extension": ".py",
   "mimetype": "text/x-python",
   "name": "python",
   "nbconvert_exporter": "python",
   "pygments_lexer": "ipython3",
   "version": "3.10.6"
  }
 },
 "nbformat": 4,
 "nbformat_minor": 2
}
