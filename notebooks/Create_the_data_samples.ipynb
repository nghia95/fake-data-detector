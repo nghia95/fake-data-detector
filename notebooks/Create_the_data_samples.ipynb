{
 "cells": [
  {
   "cell_type": "code",
   "execution_count": 1,
   "id": "ef5fd97c",
   "metadata": {
    "ExecuteTime": {
     "end_time": "2025-02-05T01:49:40.687737Z",
     "start_time": "2025-02-05T01:49:39.703384Z"
    }
   },
   "outputs": [],
   "source": [
    "import pandas as pd"
   ]
  },
  {
   "cell_type": "code",
   "execution_count": 2,
   "id": "04c847a6",
   "metadata": {
    "ExecuteTime": {
     "end_time": "2025-02-05T01:49:40.816581Z",
     "start_time": "2025-02-05T01:49:40.690269Z"
    }
   },
   "outputs": [],
   "source": [
    "data = pd.read_csv(\"data.csv\",nrows = 5000)"
   ]
  },
  {
   "cell_type": "code",
   "execution_count": 3,
   "id": "25495ae6",
   "metadata": {
    "ExecuteTime": {
     "end_time": "2025-02-05T01:50:17.954970Z",
     "start_time": "2025-02-05T01:49:40.820691Z"
    }
   },
   "outputs": [
    {
     "name": "stdout",
     "output_type": "stream",
     "text": [
      "Human                       0.55260\n",
      "GPT-3.5                     0.15275\n",
      "Flan-T5-XXL                 0.02745\n",
      "Flan-T5-Large               0.02725\n",
      "Flan-T5-Base                0.02580\n",
      "Flan-T5-XL                  0.02555\n",
      "GPT-4                       0.02510\n",
      "Bloom-7B                    0.02450\n",
      "Flan-T5-Small               0.02440\n",
      "GLM-130B                    0.02335\n",
      "GPT-J                       0.02245\n",
      "Claude-Instant-v1           0.02135\n",
      "GPT-NeoX                    0.01885\n",
      "Falcon-180B                 0.01290\n",
      "Claude-v1                   0.00905\n",
      "Goliath-120B                0.00200\n",
      "Gemini-Pro                  0.00190\n",
      "Dolphin-Mixtral-8x7B        0.00120\n",
      "Cohere-Command              0.00105\n",
      "Dolphin-2.5-Mixtral-8x7B    0.00050\n",
      "Name: source, dtype: float64\n"
     ]
    }
   ],
   "source": [
    "import pandas as pd\n",
    "\n",
    "file_path = \"data.csv\"\n",
    "sample_size = 20000  # Total rows needed\n",
    "chunk_size = 350000  # Adjust based on your memory capacity\n",
    "\n",
    "# Read the first chunk to determine the \"sources\" distribution\n",
    "df_preview = pd.read_csv(file_path, nrows=10000)  # Read a subset\n",
    "unique_sources = df_preview['source'].value_counts(normalize=True)  # Get class proportions\n",
    "\n",
    "# Initialize empty dataframe\n",
    "sampled_df = pd.DataFrame()\n",
    "\n",
    "# Read in chunks and stratify sampling from each chunk\n",
    "for chunk in pd.read_csv(file_path, chunksize=chunk_size):\n",
    "    sampled_chunk = chunk.groupby(\"source\", group_keys=False).apply(\n",
    "        lambda x: x.sample(frac=sample_size / len(df_preview), random_state=42, replace=True)\n",
    "    )\n",
    "\n",
    "    # Append to final dataset\n",
    "    sampled_df = pd.concat([sampled_df, sampled_chunk])\n",
    "\n",
    "    # Stop when we reach the desired sample size\n",
    "    if len(sampled_df) >= sample_size:\n",
    "        break\n",
    "\n",
    "# Ensure exact sample size\n",
    "sampled_df = sampled_df.sample(n=sample_size, random_state=42)\n",
    "\n",
    "# Save the sampled dataset (optional)\n",
    "sampled_df.to_csv(\"sampled_dataset.csv\", index=False)\n",
    "\n",
    "# Print final distribution\n",
    "print(sampled_df[\"source\"].value_counts(normalize=True))\n"
   ]
  },
  {
   "cell_type": "code",
   "execution_count": 4,
   "id": "c4f80dff",
   "metadata": {
    "ExecuteTime": {
     "end_time": "2025-02-05T01:50:18.396444Z",
     "start_time": "2025-02-05T01:50:18.042186Z"
    }
   },
   "outputs": [
    {
     "data": {
      "text/plain": [
       "(20000, 5)"
      ]
     },
     "execution_count": 4,
     "metadata": {},
     "output_type": "execute_result"
    }
   ],
   "source": [
    "sampled_df.shape"
   ]
  },
  {
   "cell_type": "code",
   "execution_count": null,
   "id": "954758e4",
   "metadata": {
    "ExecuteTime": {
     "start_time": "2025-02-05T01:49:39.702Z"
    }
   },
   "outputs": [],
   "source": [
    "sampled_df.to_csv()"
   ]
  },
  {
   "cell_type": "code",
   "execution_count": null,
   "id": "1cead54a",
   "metadata": {},
   "outputs": [],
   "source": []
  }
 ],
 "metadata": {
  "kernelspec": {
   "display_name": "Python 3 (ipykernel)",
   "language": "python",
   "name": "python3"
  },
  "language_info": {
   "codemirror_mode": {
    "name": "ipython",
    "version": 3
   },
   "file_extension": ".py",
   "mimetype": "text/x-python",
   "name": "python",
   "nbconvert_exporter": "python",
   "pygments_lexer": "ipython3",
   "version": "3.10.6"
  },
  "toc": {
   "base_numbering": 1,
   "nav_menu": {},
   "number_sections": true,
   "sideBar": true,
   "skip_h1_title": false,
   "title_cell": "Table of Contents",
   "title_sidebar": "Contents",
   "toc_cell": false,
   "toc_position": {},
   "toc_section_display": true,
   "toc_window_display": false
  }
 },
 "nbformat": 4,
 "nbformat_minor": 5
}
